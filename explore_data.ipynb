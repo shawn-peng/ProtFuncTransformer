{
 "cells": [
  {
   "cell_type": "code",
   "execution_count": 41,
   "id": "2d261513-1cd4-4a1a-a2f8-099b6ff67236",
   "metadata": {},
   "outputs": [],
   "source": [
    "import pandas as pd\n",
    "import numpy as np"
   ]
  },
  {
   "cell_type": "code",
   "execution_count": 42,
   "id": "17a4d11d-6d3f-4aa6-a586-5548c3ac02fa",
   "metadata": {},
   "outputs": [
    {
     "data": {
      "text/html": [
       "<div>\n",
       "<style scoped>\n",
       "    .dataframe tbody tr th:only-of-type {\n",
       "        vertical-align: middle;\n",
       "    }\n",
       "\n",
       "    .dataframe tbody tr th {\n",
       "        vertical-align: top;\n",
       "    }\n",
       "\n",
       "    .dataframe thead th {\n",
       "        text-align: right;\n",
       "    }\n",
       "</style>\n",
       "<table border=\"1\" class=\"dataframe\">\n",
       "  <thead>\n",
       "    <tr style=\"text-align: right;\">\n",
       "      <th></th>\n",
       "      <th>UniProt ID</th>\n",
       "      <th>Annotations</th>\n",
       "      <th>Aspect</th>\n",
       "    </tr>\n",
       "  </thead>\n",
       "  <tbody>\n",
       "    <tr>\n",
       "      <th>0</th>\n",
       "      <td>A0A009IHW8</td>\n",
       "      <td>GO:0006807;GO:0044238;GO:0009056;GO:0071704;GO...</td>\n",
       "      <td>BPO</td>\n",
       "    </tr>\n",
       "    <tr>\n",
       "      <th>1</th>\n",
       "      <td>A0A021WW32</td>\n",
       "      <td>GO:0065007;GO:0032502;GO:0009987;GO:0008150</td>\n",
       "      <td>BPO</td>\n",
       "    </tr>\n",
       "    <tr>\n",
       "      <th>2</th>\n",
       "      <td>A0A023FFD0</td>\n",
       "      <td>GO:0008150</td>\n",
       "      <td>BPO</td>\n",
       "    </tr>\n",
       "    <tr>\n",
       "      <th>3</th>\n",
       "      <td>A0A023GPJ3</td>\n",
       "      <td>GO:0008150</td>\n",
       "      <td>BPO</td>\n",
       "    </tr>\n",
       "    <tr>\n",
       "      <th>4</th>\n",
       "      <td>A0A023GPK8</td>\n",
       "      <td>GO:0065007;GO:0032502;GO:0008150</td>\n",
       "      <td>BPO</td>\n",
       "    </tr>\n",
       "    <tr>\n",
       "      <th>...</th>\n",
       "      <td>...</td>\n",
       "      <td>...</td>\n",
       "      <td>...</td>\n",
       "    </tr>\n",
       "    <tr>\n",
       "      <th>242391</th>\n",
       "      <td>X5KCU9</td>\n",
       "      <td>GO:0003824</td>\n",
       "      <td>MFO</td>\n",
       "    </tr>\n",
       "    <tr>\n",
       "      <th>242392</th>\n",
       "      <td>X5KJC0</td>\n",
       "      <td>GO:0003824</td>\n",
       "      <td>MFO</td>\n",
       "    </tr>\n",
       "    <tr>\n",
       "      <th>242393</th>\n",
       "      <td>X5L1L5</td>\n",
       "      <td>GO:0003824</td>\n",
       "      <td>MFO</td>\n",
       "    </tr>\n",
       "    <tr>\n",
       "      <th>242394</th>\n",
       "      <td>X5L565</td>\n",
       "      <td>GO:0003824</td>\n",
       "      <td>MFO</td>\n",
       "    </tr>\n",
       "    <tr>\n",
       "      <th>242395</th>\n",
       "      <td>X5M5N0</td>\n",
       "      <td>GO:0005488</td>\n",
       "      <td>MFO</td>\n",
       "    </tr>\n",
       "  </tbody>\n",
       "</table>\n",
       "<p>242396 rows × 3 columns</p>\n",
       "</div>"
      ],
      "text/plain": [
       "        UniProt ID                                        Annotations Aspect\n",
       "0       A0A009IHW8  GO:0006807;GO:0044238;GO:0009056;GO:0071704;GO...    BPO\n",
       "1       A0A021WW32        GO:0065007;GO:0032502;GO:0009987;GO:0008150    BPO\n",
       "2       A0A023FFD0                                         GO:0008150    BPO\n",
       "3       A0A023GPJ3                                         GO:0008150    BPO\n",
       "4       A0A023GPK8                   GO:0065007;GO:0032502;GO:0008150    BPO\n",
       "...            ...                                                ...    ...\n",
       "242391      X5KCU9                                         GO:0003824    MFO\n",
       "242392      X5KJC0                                         GO:0003824    MFO\n",
       "242393      X5L1L5                                         GO:0003824    MFO\n",
       "242394      X5L565                                         GO:0003824    MFO\n",
       "242395      X5M5N0                                         GO:0005488    MFO\n",
       "\n",
       "[242396 rows x 3 columns]"
      ]
     },
     "execution_count": 42,
     "metadata": {},
     "output_type": "execute_result"
    }
   ],
   "source": [
    "df = pd.read_csv('data/linear_annot.csv')\n",
    "df"
   ]
  },
  {
   "cell_type": "code",
   "execution_count": 43,
   "id": "36136836-2557-4abe-8e64-26954a63045f",
   "metadata": {},
   "outputs": [],
   "source": [
    "import Bio\n",
    "import Bio.SeqIO"
   ]
  },
  {
   "cell_type": "code",
   "execution_count": 44,
   "id": "30270360-e1e3-47b6-bc3b-829a173de8c2",
   "metadata": {},
   "outputs": [],
   "source": [
    "seqdb = {}"
   ]
  },
  {
   "cell_type": "code",
   "execution_count": 45,
   "id": "c18991da-ae3d-4d9d-8c4d-345538d096a5",
   "metadata": {},
   "outputs": [],
   "source": [
    "for record in Bio.SeqIO.parse(\"data/uniprot_sprot.fasta\", \"fasta\"):\n",
    "    _, acc, geneid = record.id.split('|')\n",
    "    seqdb[acc] = record\n"
   ]
  },
  {
   "cell_type": "code",
   "execution_count": 46,
   "id": "d53b2514-aef7-48f7-a6fe-de1e9de10092",
   "metadata": {},
   "outputs": [
    {
     "data": {
      "text/plain": [
       "'MAFSAEDVLKEYDRRRRMEALLLSLYYPNDRKLLDYKEWSPPRVQVECPKAPVEWNNPPSEKGLIVGHFSGIKYKGEKAQASEVDVNKMCCWVSKFKDAMRRYQGIQTCKIPGKVLSDLDAKIKAYNLTVEGVEGFVRYSRVTKQHVAAFLKELRHSKQYENVNLIHYILTDKRVDIQHLEKDLVKDFKALVESAHRMRQGHMINVKYILYQLLKKHGHGPDGPDILTVKTGSKGVLYDDSFRKIYTDLGWKFTPL'"
      ]
     },
     "execution_count": 46,
     "metadata": {},
     "output_type": "execute_result"
    }
   ],
   "source": [
    "str(seqdb['Q6GZX4'].seq)"
   ]
  },
  {
   "cell_type": "code",
   "execution_count": 47,
   "id": "f97d6481-ca69-49ad-8d3f-6e326ed58493",
   "metadata": {},
   "outputs": [],
   "source": [
    "swissprot_ann = []"
   ]
  },
  {
   "cell_type": "code",
   "execution_count": 48,
   "id": "357b3e24-f2b9-4f88-97c3-7d2f60215fbb",
   "metadata": {},
   "outputs": [
    {
     "data": {
      "text/html": [
       "<div>\n",
       "<style scoped>\n",
       "    .dataframe tbody tr th:only-of-type {\n",
       "        vertical-align: middle;\n",
       "    }\n",
       "\n",
       "    .dataframe tbody tr th {\n",
       "        vertical-align: top;\n",
       "    }\n",
       "\n",
       "    .dataframe thead th {\n",
       "        text-align: right;\n",
       "    }\n",
       "</style>\n",
       "<table border=\"1\" class=\"dataframe\">\n",
       "  <thead>\n",
       "    <tr style=\"text-align: right;\">\n",
       "      <th></th>\n",
       "      <th>UniProt ID</th>\n",
       "      <th>Seq</th>\n",
       "    </tr>\n",
       "  </thead>\n",
       "  <tbody>\n",
       "    <tr>\n",
       "      <th>0</th>\n",
       "      <td>Q6GZX4</td>\n",
       "      <td>MAFSAEDVLKEYDRRRRMEALLLSLYYPNDRKLLDYKEWSPPRVQV...</td>\n",
       "    </tr>\n",
       "    <tr>\n",
       "      <th>1</th>\n",
       "      <td>Q6GZX3</td>\n",
       "      <td>MSIIGATRLQNDKSDTYSAGPCYAGGCSAFTPRGTCGKDWDLGEQT...</td>\n",
       "    </tr>\n",
       "    <tr>\n",
       "      <th>2</th>\n",
       "      <td>Q197F8</td>\n",
       "      <td>MASNTVSAQGGSNRPVRDFSNIQDVAQFLLFDPIWNEQPGSIVPWK...</td>\n",
       "    </tr>\n",
       "    <tr>\n",
       "      <th>3</th>\n",
       "      <td>Q197F7</td>\n",
       "      <td>MYQAINPCPQSWYGSPQLEREIVCKMSGAPHYPNYYPVHPNALGGA...</td>\n",
       "    </tr>\n",
       "    <tr>\n",
       "      <th>4</th>\n",
       "      <td>Q6GZX2</td>\n",
       "      <td>MARPLLGKTSSVRRRLESLSACSIFFFLRKFCQKMASLVFLNSPVY...</td>\n",
       "    </tr>\n",
       "    <tr>\n",
       "      <th>...</th>\n",
       "      <td>...</td>\n",
       "      <td>...</td>\n",
       "    </tr>\n",
       "    <tr>\n",
       "      <th>571277</th>\n",
       "      <td>Q6UY62</td>\n",
       "      <td>MGNSKSKSKLSANQYEQQTVNSTKQVAILKRQAEPSLYGRHNCRCC...</td>\n",
       "    </tr>\n",
       "    <tr>\n",
       "      <th>571278</th>\n",
       "      <td>P08105</td>\n",
       "      <td>MSSSLEITSFYSFIWTPHIGPLLFGIGLWFSMFKEPSHFCPCQHPH...</td>\n",
       "    </tr>\n",
       "    <tr>\n",
       "      <th>571279</th>\n",
       "      <td>Q88470</td>\n",
       "      <td>MGNCNRTQKPSSSSNNLEKPPQAAEFRRTAEPSLYGRYNCKCCWFA...</td>\n",
       "    </tr>\n",
       "    <tr>\n",
       "      <th>571280</th>\n",
       "      <td>A9JR22</td>\n",
       "      <td>MGLRYSKEVRDRHGDKDPEGRIPITQTMPQTLYGRYNCKSCWFANK...</td>\n",
       "    </tr>\n",
       "    <tr>\n",
       "      <th>571281</th>\n",
       "      <td>B2ZDY1</td>\n",
       "      <td>MGLRYSKDVKDRYGDREPEGRIPITLNMPQSLYGRYNCKSCWFANK...</td>\n",
       "    </tr>\n",
       "  </tbody>\n",
       "</table>\n",
       "<p>571282 rows × 2 columns</p>\n",
       "</div>"
      ],
      "text/plain": [
       "       UniProt ID                                                Seq\n",
       "0          Q6GZX4  MAFSAEDVLKEYDRRRRMEALLLSLYYPNDRKLLDYKEWSPPRVQV...\n",
       "1          Q6GZX3  MSIIGATRLQNDKSDTYSAGPCYAGGCSAFTPRGTCGKDWDLGEQT...\n",
       "2          Q197F8  MASNTVSAQGGSNRPVRDFSNIQDVAQFLLFDPIWNEQPGSIVPWK...\n",
       "3          Q197F7  MYQAINPCPQSWYGSPQLEREIVCKMSGAPHYPNYYPVHPNALGGA...\n",
       "4          Q6GZX2  MARPLLGKTSSVRRRLESLSACSIFFFLRKFCQKMASLVFLNSPVY...\n",
       "...           ...                                                ...\n",
       "571277     Q6UY62  MGNSKSKSKLSANQYEQQTVNSTKQVAILKRQAEPSLYGRHNCRCC...\n",
       "571278     P08105  MSSSLEITSFYSFIWTPHIGPLLFGIGLWFSMFKEPSHFCPCQHPH...\n",
       "571279     Q88470  MGNCNRTQKPSSSSNNLEKPPQAAEFRRTAEPSLYGRYNCKCCWFA...\n",
       "571280     A9JR22  MGLRYSKEVRDRHGDKDPEGRIPITQTMPQTLYGRYNCKSCWFANK...\n",
       "571281     B2ZDY1  MGLRYSKDVKDRYGDREPEGRIPITLNMPQSLYGRYNCKSCWFANK...\n",
       "\n",
       "[571282 rows x 2 columns]"
      ]
     },
     "execution_count": 48,
     "metadata": {},
     "output_type": "execute_result"
    }
   ],
   "source": [
    "seqdf = []\n",
    "for acc, rec in seqdb.items():\n",
    "    seqdf.append({'UniProt ID': acc, 'Seq': str(rec.seq)})\n",
    "seqdf = pd.DataFrame(seqdf)\n",
    "seqdf\n"
   ]
  },
  {
   "cell_type": "code",
   "execution_count": 49,
   "id": "b9dadcac-bd15-4ee6-8125-2ed508457459",
   "metadata": {},
   "outputs": [
    {
     "data": {
      "text/html": [
       "<div>\n",
       "<style scoped>\n",
       "    .dataframe tbody tr th:only-of-type {\n",
       "        vertical-align: middle;\n",
       "    }\n",
       "\n",
       "    .dataframe tbody tr th {\n",
       "        vertical-align: top;\n",
       "    }\n",
       "\n",
       "    .dataframe thead th {\n",
       "        text-align: right;\n",
       "    }\n",
       "</style>\n",
       "<table border=\"1\" class=\"dataframe\">\n",
       "  <thead>\n",
       "    <tr style=\"text-align: right;\">\n",
       "      <th></th>\n",
       "      <th>UniProt ID</th>\n",
       "      <th>Annotations</th>\n",
       "      <th>Aspect</th>\n",
       "    </tr>\n",
       "  </thead>\n",
       "  <tbody>\n",
       "    <tr>\n",
       "      <th>0</th>\n",
       "      <td>A0A009IHW8</td>\n",
       "      <td>GO:0006807;GO:0044238;GO:0009056;GO:0071704;GO...</td>\n",
       "      <td>BPO</td>\n",
       "    </tr>\n",
       "    <tr>\n",
       "      <th>1</th>\n",
       "      <td>A0A021WW32</td>\n",
       "      <td>GO:0065007;GO:0032502;GO:0009987;GO:0008150</td>\n",
       "      <td>BPO</td>\n",
       "    </tr>\n",
       "    <tr>\n",
       "      <th>2</th>\n",
       "      <td>A0A023FFD0</td>\n",
       "      <td>GO:0008150</td>\n",
       "      <td>BPO</td>\n",
       "    </tr>\n",
       "    <tr>\n",
       "      <th>3</th>\n",
       "      <td>A0A023GPJ3</td>\n",
       "      <td>GO:0008150</td>\n",
       "      <td>BPO</td>\n",
       "    </tr>\n",
       "    <tr>\n",
       "      <th>4</th>\n",
       "      <td>A0A023GPK8</td>\n",
       "      <td>GO:0065007;GO:0032502;GO:0008150</td>\n",
       "      <td>BPO</td>\n",
       "    </tr>\n",
       "    <tr>\n",
       "      <th>...</th>\n",
       "      <td>...</td>\n",
       "      <td>...</td>\n",
       "      <td>...</td>\n",
       "    </tr>\n",
       "    <tr>\n",
       "      <th>242391</th>\n",
       "      <td>X5KCU9</td>\n",
       "      <td>GO:0003824</td>\n",
       "      <td>MFO</td>\n",
       "    </tr>\n",
       "    <tr>\n",
       "      <th>242392</th>\n",
       "      <td>X5KJC0</td>\n",
       "      <td>GO:0003824</td>\n",
       "      <td>MFO</td>\n",
       "    </tr>\n",
       "    <tr>\n",
       "      <th>242393</th>\n",
       "      <td>X5L1L5</td>\n",
       "      <td>GO:0003824</td>\n",
       "      <td>MFO</td>\n",
       "    </tr>\n",
       "    <tr>\n",
       "      <th>242394</th>\n",
       "      <td>X5L565</td>\n",
       "      <td>GO:0003824</td>\n",
       "      <td>MFO</td>\n",
       "    </tr>\n",
       "    <tr>\n",
       "      <th>242395</th>\n",
       "      <td>X5M5N0</td>\n",
       "      <td>GO:0005488</td>\n",
       "      <td>MFO</td>\n",
       "    </tr>\n",
       "  </tbody>\n",
       "</table>\n",
       "<p>242396 rows × 3 columns</p>\n",
       "</div>"
      ],
      "text/plain": [
       "        UniProt ID                                        Annotations Aspect\n",
       "0       A0A009IHW8  GO:0006807;GO:0044238;GO:0009056;GO:0071704;GO...    BPO\n",
       "1       A0A021WW32        GO:0065007;GO:0032502;GO:0009987;GO:0008150    BPO\n",
       "2       A0A023FFD0                                         GO:0008150    BPO\n",
       "3       A0A023GPJ3                                         GO:0008150    BPO\n",
       "4       A0A023GPK8                   GO:0065007;GO:0032502;GO:0008150    BPO\n",
       "...            ...                                                ...    ...\n",
       "242391      X5KCU9                                         GO:0003824    MFO\n",
       "242392      X5KJC0                                         GO:0003824    MFO\n",
       "242393      X5L1L5                                         GO:0003824    MFO\n",
       "242394      X5L565                                         GO:0003824    MFO\n",
       "242395      X5M5N0                                         GO:0005488    MFO\n",
       "\n",
       "[242396 rows x 3 columns]"
      ]
     },
     "execution_count": 49,
     "metadata": {},
     "output_type": "execute_result"
    }
   ],
   "source": [
    "df"
   ]
  },
  {
   "cell_type": "code",
   "execution_count": 50,
   "id": "d1758142-90b7-4202-9c57-b2f6e8b5a664",
   "metadata": {},
   "outputs": [],
   "source": [
    "df_wseq = df.merge(seqdf, on='UniProt ID', how='inner')"
   ]
  },
  {
   "cell_type": "code",
   "execution_count": 51,
   "id": "59651ddd-8f9c-4fa5-88c9-90805b029e06",
   "metadata": {},
   "outputs": [
    {
     "data": {
      "text/html": [
       "<div>\n",
       "<style scoped>\n",
       "    .dataframe tbody tr th:only-of-type {\n",
       "        vertical-align: middle;\n",
       "    }\n",
       "\n",
       "    .dataframe tbody tr th {\n",
       "        vertical-align: top;\n",
       "    }\n",
       "\n",
       "    .dataframe thead th {\n",
       "        text-align: right;\n",
       "    }\n",
       "</style>\n",
       "<table border=\"1\" class=\"dataframe\">\n",
       "  <thead>\n",
       "    <tr style=\"text-align: right;\">\n",
       "      <th></th>\n",
       "      <th>UniProt ID</th>\n",
       "      <th>Annotations</th>\n",
       "      <th>Aspect</th>\n",
       "      <th>Seq</th>\n",
       "    </tr>\n",
       "  </thead>\n",
       "  <tbody>\n",
       "    <tr>\n",
       "      <th>0</th>\n",
       "      <td>A0A009IHW8</td>\n",
       "      <td>GO:0006807;GO:0044238;GO:0009056;GO:0071704;GO...</td>\n",
       "      <td>BPO</td>\n",
       "      <td>MSLEQKKGADIISKILQIQNSIGKTTSPSTLKTKLSEISRKEQENA...</td>\n",
       "    </tr>\n",
       "    <tr>\n",
       "      <th>1</th>\n",
       "      <td>A0A023FFD0</td>\n",
       "      <td>GO:0008150</td>\n",
       "      <td>BPO</td>\n",
       "      <td>MHSTIVYACLLALAVFVALHGTPLAALAENGEGTTQPDYDNSTDYY...</td>\n",
       "    </tr>\n",
       "    <tr>\n",
       "      <th>2</th>\n",
       "      <td>A0A023I7E1</td>\n",
       "      <td>GO:0009056;GO:0044238;GO:0071704;GO:0008152</td>\n",
       "      <td>BPO</td>\n",
       "      <td>MRFQVIVAAATITMITSYIPGVASQSTSDGDDLFVPVSNFDPKSIF...</td>\n",
       "    </tr>\n",
       "    <tr>\n",
       "      <th>3</th>\n",
       "      <td>A0A024B7W1</td>\n",
       "      <td>GO:0016032;GO:0065007;GO:0008150</td>\n",
       "      <td>BPO</td>\n",
       "      <td>MKNPKKKSGGFRIVNMLKRGVARVSPFGGLKRLPAGLLLGHGPIRM...</td>\n",
       "    </tr>\n",
       "    <tr>\n",
       "      <th>4</th>\n",
       "      <td>A0A026W182</td>\n",
       "      <td>GO:0051703;GO:0050896;GO:0032502;GO:0008150</td>\n",
       "      <td>BPO</td>\n",
       "      <td>MMKMKQQGLVADLLPNIRVMKTFGHFVFNYYNDNSSKYLHKVYCCV...</td>\n",
       "    </tr>\n",
       "    <tr>\n",
       "      <th>...</th>\n",
       "      <td>...</td>\n",
       "      <td>...</td>\n",
       "      <td>...</td>\n",
       "      <td>...</td>\n",
       "    </tr>\n",
       "    <tr>\n",
       "      <th>170340</th>\n",
       "      <td>X4Y2L4</td>\n",
       "      <td>GO:0003824</td>\n",
       "      <td>MFO</td>\n",
       "      <td>MKEIAVTIDDKNVIASVSESFHGVAFDASLFSPKGLWSFVDITSPK...</td>\n",
       "    </tr>\n",
       "    <tr>\n",
       "      <th>170341</th>\n",
       "      <td>X5CY81</td>\n",
       "      <td>GO:0003824</td>\n",
       "      <td>MFO</td>\n",
       "      <td>MAQYDVLIVGAGHGGAQAAVALRQNKFEGTIAIVGDEPELPYERPP...</td>\n",
       "    </tr>\n",
       "    <tr>\n",
       "      <th>170342</th>\n",
       "      <td>X5JA13</td>\n",
       "      <td>GO:0005488</td>\n",
       "      <td>MFO</td>\n",
       "      <td>MTEGIRARGPRSSSVNSVPLILDIEDFKGDFSFDALFGNLVNDLLP...</td>\n",
       "    </tr>\n",
       "    <tr>\n",
       "      <th>170343</th>\n",
       "      <td>X5JB51</td>\n",
       "      <td>GO:0005488</td>\n",
       "      <td>MFO</td>\n",
       "      <td>MTERIRARGPRSSSVNSVPLILDIEDFKGDFSFDALFGNLVNDLLP...</td>\n",
       "    </tr>\n",
       "    <tr>\n",
       "      <th>170344</th>\n",
       "      <td>X5M5N0</td>\n",
       "      <td>GO:0005488</td>\n",
       "      <td>MFO</td>\n",
       "      <td>MPDSITNGGRPPAPPSSVSSTTASTTGNFGTRRRLVNRIKKVDELH...</td>\n",
       "    </tr>\n",
       "  </tbody>\n",
       "</table>\n",
       "<p>170345 rows × 4 columns</p>\n",
       "</div>"
      ],
      "text/plain": [
       "        UniProt ID                                        Annotations Aspect  \\\n",
       "0       A0A009IHW8  GO:0006807;GO:0044238;GO:0009056;GO:0071704;GO...    BPO   \n",
       "1       A0A023FFD0                                         GO:0008150    BPO   \n",
       "2       A0A023I7E1        GO:0009056;GO:0044238;GO:0071704;GO:0008152    BPO   \n",
       "3       A0A024B7W1                   GO:0016032;GO:0065007;GO:0008150    BPO   \n",
       "4       A0A026W182        GO:0051703;GO:0050896;GO:0032502;GO:0008150    BPO   \n",
       "...            ...                                                ...    ...   \n",
       "170340      X4Y2L4                                         GO:0003824    MFO   \n",
       "170341      X5CY81                                         GO:0003824    MFO   \n",
       "170342      X5JA13                                         GO:0005488    MFO   \n",
       "170343      X5JB51                                         GO:0005488    MFO   \n",
       "170344      X5M5N0                                         GO:0005488    MFO   \n",
       "\n",
       "                                                      Seq  \n",
       "0       MSLEQKKGADIISKILQIQNSIGKTTSPSTLKTKLSEISRKEQENA...  \n",
       "1       MHSTIVYACLLALAVFVALHGTPLAALAENGEGTTQPDYDNSTDYY...  \n",
       "2       MRFQVIVAAATITMITSYIPGVASQSTSDGDDLFVPVSNFDPKSIF...  \n",
       "3       MKNPKKKSGGFRIVNMLKRGVARVSPFGGLKRLPAGLLLGHGPIRM...  \n",
       "4       MMKMKQQGLVADLLPNIRVMKTFGHFVFNYYNDNSSKYLHKVYCCV...  \n",
       "...                                                   ...  \n",
       "170340  MKEIAVTIDDKNVIASVSESFHGVAFDASLFSPKGLWSFVDITSPK...  \n",
       "170341  MAQYDVLIVGAGHGGAQAAVALRQNKFEGTIAIVGDEPELPYERPP...  \n",
       "170342  MTEGIRARGPRSSSVNSVPLILDIEDFKGDFSFDALFGNLVNDLLP...  \n",
       "170343  MTERIRARGPRSSSVNSVPLILDIEDFKGDFSFDALFGNLVNDLLP...  \n",
       "170344  MPDSITNGGRPPAPPSSVSSTTASTTGNFGTRRRLVNRIKKVDELH...  \n",
       "\n",
       "[170345 rows x 4 columns]"
      ]
     },
     "execution_count": 51,
     "metadata": {},
     "output_type": "execute_result"
    }
   ],
   "source": [
    "df_wseq"
   ]
  },
  {
   "cell_type": "code",
   "execution_count": null,
   "id": "8a81d5ea-3f4b-4cb0-a9b6-a9b6ff5ccbb9",
   "metadata": {},
   "outputs": [],
   "source": [
    "\n",
    "\n",
    "                 "
   ]
  },
  {
   "cell_type": "code",
   "execution_count": 23,
   "id": "adaaa921-4624-4c65-b86c-187cf5153969",
   "metadata": {},
   "outputs": [
    {
     "name": "stdout",
     "output_type": "stream",
     "text": [
      "A0A009IHW8 ID: sp|A0A009IHW8|ABTIR_ACIB9\n",
      "Name: sp|A0A009IHW8|ABTIR_ACIB9\n",
      "Description: sp|A0A009IHW8|ABTIR_ACIB9 2' cyclic ADP-D-ribose synthase AbTIR OS=Acinetobacter baumannii (strain 1295743) OX=1310613 GN=J512_3302 PE=1 SV=1\n",
      "Number of features: 0\n",
      "Seq('MSLEQKKGADIISKILQIQNSIGKTTSPSTLKTKLSEISRKEQENARIQSKLSD...LNR')\n"
     ]
    }
   ],
   "source": [
    "for k in df['UniProt ID']:\n",
    "    if k not in seqdb:\n",
    "        continue\n",
    "    # print(k, seqdb[k])\n"
   ]
  },
  {
   "cell_type": "code",
   "execution_count": 12,
   "id": "a809143c-2757-424f-b758-8cc1fe7137b6",
   "metadata": {},
   "outputs": [],
   "source": [
    "seqdb = Bio.SeqIO.parse(\"data/uniprot_sprot.fasta\", \"swiss\")"
   ]
  },
  {
   "cell_type": "code",
   "execution_count": 7,
   "id": "26baf853-1d30-4986-9c85-8519a2010981",
   "metadata": {},
   "outputs": [],
   "source": [
    "seqdb = Bio.SeqIO.index(\"data/uniprot_sprot.fasta\", \"fasta\")"
   ]
  },
  {
   "cell_type": "code",
   "execution_count": 8,
   "id": "870f98d7-4b8b-4f23-8c61-918133f1d9cf",
   "metadata": {},
   "outputs": [
    {
     "data": {
      "text/plain": [
       "KeysView(SeqIO.index('data/uniprot_sprot.fasta', 'fasta', alphabet=None, key_function=None))"
      ]
     },
     "execution_count": 8,
     "metadata": {},
     "output_type": "execute_result"
    }
   ],
   "source": [
    "seqdb.keys()"
   ]
  },
  {
   "cell_type": "code",
   "execution_count": 11,
   "id": "2da2cec1-8df7-411c-81fe-30c6a50623a9",
   "metadata": {},
   "outputs": [
    {
     "data": {
      "text/plain": [
       "SeqRecord(seq=Seq('MAFSAEDVLKEYDRRRRMEALLLSLYYPNDRKLLDYKEWSPPRVQVECPKAPVE...TPL'), id='sp|Q6GZX4|001R_FRG3G', name='sp|Q6GZX4|001R_FRG3G', description='sp|Q6GZX4|001R_FRG3G Putative transcription factor 001R OS=Frog virus 3 (isolate Goorha) OX=654924 GN=FV3-001R PE=4 SV=1', dbxrefs=[])"
      ]
     },
     "execution_count": 11,
     "metadata": {},
     "output_type": "execute_result"
    }
   ],
   "source": [
    "seqdb['sp|Q6GZX4|001R_FRG3G']"
   ]
  },
  {
   "cell_type": "code",
   "execution_count": 59,
   "id": "8d2ea899-f63d-4f1d-b3c6-8d30fda920ab",
   "metadata": {},
   "outputs": [
    {
     "name": "stdout",
     "output_type": "stream",
     "text": [
      "Keys: A0A009IHW8 sp|A0A009IHW8|ABTIR_ACIB9 NAD(+) hydrolase AbTIR OS=Acinetobacter baumannii (strain 1295743) OX=1310613 GN=J512_3302 PE=1 SV=1\n"
     ]
    }
   ],
   "source": [
    "import h5py\n",
    "\n",
    "filename = \"data/output_embeddings.h5\"\n",
    "\n",
    "with h5py.File(filename, \"r\") as f:\n",
    "    # Print all root level object names (aka keys) \n",
    "    # these can be group or dataset names \n",
    "    print(\"Keys: %s\" % list(f.keys())[0])\n"
   ]
  },
  {
   "cell_type": "code",
   "execution_count": null,
   "id": "dd271097-7565-4123-b16e-5eb060292a03",
   "metadata": {},
   "outputs": [],
   "source": [
    "embeddings "
   ]
  },
  {
   "cell_type": "code",
   "execution_count": 67,
   "id": "62031352-708e-4584-a661-0542e471985b",
   "metadata": {},
   "outputs": [
    {
     "name": "stdout",
     "output_type": "stream",
     "text": [
      "['A0A009IHW8', 'sp|A0A009IHW8|ABTIR_ACIB9', 'NAD(+)', 'hydrolase', 'AbTIR', 'OS=Acinetobacter', 'baumannii', '(strain', '1295743)', 'OX=1310613', 'GN=J512_3302', 'PE=1', 'SV=1']\n",
      "(1024,)\n"
     ]
    }
   ],
   "source": [
    "f = h5py.File(filename, \"r\")\n",
    "for k in f:\n",
    "    print(k.split())\n",
    "    ds_arr = f[k][()]\n",
    "    print(ds_arr.shape)\n",
    "    break"
   ]
  },
  {
   "cell_type": "code",
   "execution_count": null,
   "id": "596dd61c-8388-494f-8847-d4148062f040",
   "metadata": {},
   "outputs": [],
   "source": [
    "df"
   ]
  },
  {
   "cell_type": "code",
   "execution_count": 55,
   "id": "478595e5-c1d7-4982-a772-84a016a51c55",
   "metadata": {},
   "outputs": [
    {
     "name": "stdout",
     "output_type": "stream",
     "text": [
      "Collecting tables\n",
      "  Downloading tables-3.10.1-cp310-cp310-manylinux_2_17_x86_64.manylinux2014_x86_64.whl.metadata (2.2 kB)\n",
      "Requirement already satisfied: numpy>=1.20.0 in /home/yisupeng/.conda/envs/py310/lib/python3.10/site-packages (from tables) (1.26.3)\n",
      "Collecting numexpr>=2.6.2 (from tables)\n",
      "  Downloading numexpr-2.10.1.tar.gz (101 kB)\n",
      "\u001b[2K     \u001b[90m━━━━━━━━━━━━━━━━━━━━━━━━━━━━━━━━━━━━━━━\u001b[0m \u001b[32m101.6/101.6 kB\u001b[0m \u001b[31m3.4 MB/s\u001b[0m eta \u001b[36m0:00:00\u001b[0m\n",
      "\u001b[?25h  Installing build dependencies ... \u001b[?25ldone\n",
      "\u001b[?25h  Getting requirements to build wheel ... \u001b[?25ldone\n",
      "\u001b[?25h  Preparing metadata (pyproject.toml) ... \u001b[?25ldone\n",
      "\u001b[?25hRequirement already satisfied: packaging in /home/yisupeng/.conda/envs/py310/lib/python3.10/site-packages (from tables) (23.2)\n",
      "Collecting py-cpuinfo (from tables)\n",
      "  Downloading py_cpuinfo-9.0.0-py3-none-any.whl.metadata (794 bytes)\n",
      "Collecting blosc2>=2.3.0 (from tables)\n",
      "  Downloading blosc2-2.7.1-cp310-cp310-manylinux_2_17_x86_64.manylinux2014_x86_64.whl.metadata (9.1 kB)\n",
      "Requirement already satisfied: typing-extensions>=4.4.0 in /home/yisupeng/.conda/envs/py310/lib/python3.10/site-packages (from tables) (4.9.0)\n",
      "Collecting ndindex>=1.4 (from blosc2>=2.3.0->tables)\n",
      "  Downloading ndindex-1.8-py3-none-any.whl.metadata (3.4 kB)\n",
      "Collecting msgpack (from blosc2>=2.3.0->tables)\n",
      "  Downloading msgpack-1.0.8-cp310-cp310-manylinux_2_17_x86_64.manylinux2014_x86_64.whl.metadata (9.1 kB)\n",
      "Downloading tables-3.10.1-cp310-cp310-manylinux_2_17_x86_64.manylinux2014_x86_64.whl (7.6 MB)\n",
      "\u001b[2K   \u001b[90m━━━━━━━━━━━━━━━━━━━━━━━━━━━━━━━━━━━━━━━━\u001b[0m \u001b[32m7.6/7.6 MB\u001b[0m \u001b[31m30.6 MB/s\u001b[0m eta \u001b[36m0:00:00\u001b[0ma \u001b[36m0:00:01\u001b[0m\n",
      "\u001b[?25hDownloading blosc2-2.7.1-cp310-cp310-manylinux_2_17_x86_64.manylinux2014_x86_64.whl (4.4 MB)\n",
      "\u001b[2K   \u001b[90m━━━━━━━━━━━━━━━━━━━━━━━━━━━━━━━━━━━━━━━━\u001b[0m \u001b[32m4.4/4.4 MB\u001b[0m \u001b[31m38.1 MB/s\u001b[0m eta \u001b[36m0:00:00\u001b[0m00:01\u001b[0m00:01\u001b[0m\n",
      "\u001b[?25hDownloading py_cpuinfo-9.0.0-py3-none-any.whl (22 kB)\n",
      "Downloading ndindex-1.8-py3-none-any.whl (91 kB)\n",
      "\u001b[2K   \u001b[90m━━━━━━━━━━━━━━━━━━━━━━━━━━━━━━━━━━━━━━━━\u001b[0m \u001b[32m91.2/91.2 kB\u001b[0m \u001b[31m20.1 MB/s\u001b[0m eta \u001b[36m0:00:00\u001b[0m\n",
      "\u001b[?25hDownloading msgpack-1.0.8-cp310-cp310-manylinux_2_17_x86_64.manylinux2014_x86_64.whl (385 kB)\n",
      "\u001b[2K   \u001b[90m━━━━━━━━━━━━━━━━━━━━━━━━━━━━━━━━━━━━━━━━\u001b[0m \u001b[32m385.1/385.1 kB\u001b[0m \u001b[31m59.8 MB/s\u001b[0m eta \u001b[36m0:00:00\u001b[0m\n",
      "\u001b[?25hBuilding wheels for collected packages: numexpr\n",
      "  Building wheel for numexpr (pyproject.toml) ... \u001b[?25ldone\n",
      "\u001b[?25h  Created wheel for numexpr: filename=numexpr-2.10.1-cp310-cp310-linux_x86_64.whl size=144836 sha256=062a4f0d6fb1d2621b9d0d9796bf3f8dba56e5f6d178b7de734ccfcec29cc1c1\n",
      "  Stored in directory: /home/yisupeng/.cache/pip/wheels/5a/e8/dc/14a709e5f2c70fbcdd33e1bd40d78a235260f5f73ed9093e7c\n",
      "Successfully built numexpr\n",
      "Installing collected packages: py-cpuinfo, numexpr, ndindex, msgpack, blosc2, tables\n",
      "Successfully installed blosc2-2.7.1 msgpack-1.0.8 ndindex-1.8 numexpr-2.10.1 py-cpuinfo-9.0.0 tables-3.10.1\n"
     ]
    }
   ],
   "source": [
    "!pip install tables"
   ]
  },
  {
   "cell_type": "code",
   "execution_count": null,
   "id": "4fde62e7-dece-42b4-80ea-dd3e47198639",
   "metadata": {},
   "outputs": [],
   "source": []
  }
 ],
 "metadata": {
  "kernelspec": {
   "display_name": "Python 3 (ipykernel)",
   "language": "python",
   "name": "python3"
  },
  "language_info": {
   "codemirror_mode": {
    "name": "ipython",
    "version": 3
   },
   "file_extension": ".py",
   "mimetype": "text/x-python",
   "name": "python",
   "nbconvert_exporter": "python",
   "pygments_lexer": "ipython3",
   "version": "3.10.13"
  }
 },
 "nbformat": 4,
 "nbformat_minor": 5
}
