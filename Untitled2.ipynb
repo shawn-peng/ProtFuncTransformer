{
 "cells": [
  {
   "cell_type": "code",
   "execution_count": 1,
   "id": "c56a49d8-9a0a-41d3-a9e1-b3807f783cc3",
   "metadata": {},
   "outputs": [
    {
     "data": {
      "text/plain": [
       "['/data/yisupeng/workspace/ProtTransformer',\n",
       " '/home/yisupeng/.conda/envs/py310/lib/python310.zip',\n",
       " '/home/yisupeng/.conda/envs/py310/lib/python3.10',\n",
       " '/home/yisupeng/.conda/envs/py310/lib/python3.10/lib-dynload',\n",
       " '',\n",
       " '/home/yisupeng/.conda/envs/py310/lib/python3.10/site-packages']"
      ]
     },
     "execution_count": 1,
     "metadata": {},
     "output_type": "execute_result"
    }
   ],
   "source": [
    "import sys\n",
    "sys.path"
   ]
  },
  {
   "cell_type": "code",
   "execution_count": 2,
   "id": "9fd0d342-e59e-4d2a-b7ab-62fb0bb344a5",
   "metadata": {},
   "outputs": [],
   "source": [
    "from transformers import BertForMaskedLM, BertTokenizer, pipeline"
   ]
  },
  {
   "cell_type": "code",
   "execution_count": 3,
   "id": "1d37e4b3-37ee-4d19-9ad7-2425f30832b6",
   "metadata": {},
   "outputs": [
    {
     "data": {
      "application/vnd.jupyter.widget-view+json": {
       "model_id": "c34e1c7f18964431a8863b82dd0495d3",
       "version_major": 2,
       "version_minor": 0
      },
      "text/plain": [
       "tokenizer_config.json:   0%|          | 0.00/86.0 [00:00<?, ?B/s]"
      ]
     },
     "metadata": {},
     "output_type": "display_data"
    },
    {
     "data": {
      "application/vnd.jupyter.widget-view+json": {
       "model_id": "5c57d99c9cdc4673a95511210a77e3ee",
       "version_major": 2,
       "version_minor": 0
      },
      "text/plain": [
       "vocab.txt:   0%|          | 0.00/81.0 [00:00<?, ?B/s]"
      ]
     },
     "metadata": {},
     "output_type": "display_data"
    },
    {
     "data": {
      "application/vnd.jupyter.widget-view+json": {
       "model_id": "1bc1f112c49c462da1c3cf655af16dcf",
       "version_major": 2,
       "version_minor": 0
      },
      "text/plain": [
       "special_tokens_map.json:   0%|          | 0.00/112 [00:00<?, ?B/s]"
      ]
     },
     "metadata": {},
     "output_type": "display_data"
    },
    {
     "data": {
      "application/vnd.jupyter.widget-view+json": {
       "model_id": "881b2c3197bb4aacae16dd91dbf617d7",
       "version_major": 2,
       "version_minor": 0
      },
      "text/plain": [
       "config.json:   0%|          | 0.00/361 [00:00<?, ?B/s]"
      ]
     },
     "metadata": {},
     "output_type": "display_data"
    },
    {
     "name": "stderr",
     "output_type": "stream",
     "text": [
      "/home/yisupeng/.conda/envs/py310/lib/python3.10/site-packages/transformers/tokenization_utils_base.py:1601: FutureWarning: `clean_up_tokenization_spaces` was not set. It will be set to `True` by default. This behavior will be depracted in transformers v4.45, and will be then set to `False` by default. For more details check this issue: https://github.com/huggingface/transformers/issues/31884\n",
      "  warnings.warn(\n"
     ]
    },
    {
     "data": {
      "application/vnd.jupyter.widget-view+json": {
       "model_id": "20f096b5c30749cbb09acf23f6a040da",
       "version_major": 2,
       "version_minor": 0
      },
      "text/plain": [
       "pytorch_model.bin:   0%|          | 0.00/1.68G [00:00<?, ?B/s]"
      ]
     },
     "metadata": {},
     "output_type": "display_data"
    },
    {
     "name": "stderr",
     "output_type": "stream",
     "text": [
      "Some weights of the model checkpoint at Rostlab/prot_bert were not used when initializing BertForMaskedLM: ['bert.pooler.dense.bias', 'bert.pooler.dense.weight', 'cls.seq_relationship.bias', 'cls.seq_relationship.weight']\n",
      "- This IS expected if you are initializing BertForMaskedLM from the checkpoint of a model trained on another task or with another architecture (e.g. initializing a BertForSequenceClassification model from a BertForPreTraining model).\n",
      "- This IS NOT expected if you are initializing BertForMaskedLM from the checkpoint of a model that you expect to be exactly identical (initializing a BertForSequenceClassification model from a BertForSequenceClassification model).\n",
      "Hardware accelerator e.g. GPU is available in the environment, but no `device` argument is passed to the `Pipeline` object. Model will be on CPU.\n"
     ]
    },
    {
     "data": {
      "text/plain": [
       "[{'score': 0.11088549345731735,\n",
       "  'token': 5,\n",
       "  'token_str': 'L',\n",
       "  'sequence': 'D L I P T S S K L V V L D T S L Q V K K A F F A L V T'},\n",
       " {'score': 0.08402477204799652,\n",
       "  'token': 10,\n",
       "  'token_str': 'S',\n",
       "  'sequence': 'D L I P T S S K L V V S D T S L Q V K K A F F A L V T'},\n",
       " {'score': 0.07328341156244278,\n",
       "  'token': 8,\n",
       "  'token_str': 'V',\n",
       "  'sequence': 'D L I P T S S K L V V V D T S L Q V K K A F F A L V T'},\n",
       " {'score': 0.06921906024217606,\n",
       "  'token': 12,\n",
       "  'token_str': 'K',\n",
       "  'sequence': 'D L I P T S S K L V V K D T S L Q V K K A F F A L V T'},\n",
       " {'score': 0.06382434815168381,\n",
       "  'token': 11,\n",
       "  'token_str': 'I',\n",
       "  'sequence': 'D L I P T S S K L V V I D T S L Q V K K A F F A L V T'}]"
      ]
     },
     "execution_count": 3,
     "metadata": {},
     "output_type": "execute_result"
    }
   ],
   "source": [
    "tokenizer = BertTokenizer.from_pretrained(\"Rostlab/prot_bert\", do_lower_case=False )\n",
    "model = BertForMaskedLM.from_pretrained(\"Rostlab/prot_bert\")\n",
    "unmasker = pipeline('fill-mask', model=model, tokenizer=tokenizer)\n",
    "unmasker('D L I P T S S K L V V [MASK] D T S L Q V K K A F F A L V T')"
   ]
  },
  {
   "cell_type": "code",
   "execution_count": 4,
   "id": "27d1969a-1752-4564-9c0b-a539b89d5197",
   "metadata": {},
   "outputs": [],
   "source": [
    "import re\n",
    "sequence_Example = \"A E T C Z A O\"\n",
    "sequence_Example = re.sub(r\"[UZOB]\", \"X\", sequence_Example)\n",
    "encoded_input = tokenizer(sequence_Example, return_tensors='pt')\n",
    "output = model(**encoded_input)\n",
    "\n"
   ]
  },
  {
   "cell_type": "code",
   "execution_count": null,
   "id": "4dc175cc-2608-4a30-8d59-82036cedf58c",
   "metadata": {},
   "outputs": [],
   "source": []
  }
 ],
 "metadata": {
  "kernelspec": {
   "display_name": "Python 3 (ipykernel)",
   "language": "python",
   "name": "python3"
  },
  "language_info": {
   "codemirror_mode": {
    "name": "ipython",
    "version": 3
   },
   "file_extension": ".py",
   "mimetype": "text/x-python",
   "name": "python",
   "nbconvert_exporter": "python",
   "pygments_lexer": "ipython3",
   "version": "3.10.13"
  }
 },
 "nbformat": 4,
 "nbformat_minor": 5
}
