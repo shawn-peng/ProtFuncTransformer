{
 "cells": [
  {
   "cell_type": "code",
   "execution_count": 1,
   "id": "b0f87a78-963c-4dc0-8750-97db00bce0f3",
   "metadata": {},
   "outputs": [],
   "source": [
    "%load_ext autoreload\n",
    "%autoreload 2"
   ]
  },
  {
   "cell_type": "code",
   "execution_count": 2,
   "id": "63bf3d4a-08ca-4652-9823-efcb83a5a5c3",
   "metadata": {},
   "outputs": [],
   "source": [
    "import pandas as pd\n",
    "import numpy as np\n",
    "import Bio\n",
    "import Bio.SeqIO\n",
    "import re\n",
    "import os\n",
    "import pickle\n",
    "\n",
    "from timeit import default_timer as timer\n",
    "import matplotlib.pyplot as plt\n",
    "from IPython.display import display, clear_output\n",
    "\n",
    "os.environ[\"KMP_DUPLICATE_LIB_OK\"]=\"TRUE\"\n",
    "\n",
    "from timeit import default_timer as timer\n"
   ]
  },
  {
   "cell_type": "code",
   "execution_count": 3,
   "id": "2e74f0f6-1732-4b6b-ba2c-987a3054663e",
   "metadata": {},
   "outputs": [],
   "source": [
    "os.environ[\"CUDA_VISIBLE_DEVICES\"]='2,3'"
   ]
  },
  {
   "cell_type": "code",
   "execution_count": 4,
   "id": "e7c44491-66b1-482f-badc-30fc1929828d",
   "metadata": {},
   "outputs": [],
   "source": [
    "from torchtext.data.utils import get_tokenizer\n",
    "from torchtext.vocab import build_vocab_from_iterator\n",
    "from typing import Iterable, List\n",
    "from torch.nn.utils.rnn import pad_sequence\n",
    "from torch.utils.data import DataLoader\n",
    "import torch"
   ]
  },
  {
   "cell_type": "code",
   "execution_count": 5,
   "id": "ee17933d-5317-413b-8b33-d41645c40d84",
   "metadata": {},
   "outputs": [
    {
     "data": {
      "text/plain": [
       "device(type='cuda')"
      ]
     },
     "execution_count": 5,
     "metadata": {},
     "output_type": "execute_result"
    }
   ],
   "source": [
    "DEVICE = torch.device('cuda' if torch.cuda.is_available() else 'cpu')\n",
    "# DEVICE = 'cpu'\n",
    "DEVICE"
   ]
  },
  {
   "cell_type": "code",
   "execution_count": 6,
   "id": "7a69f991-de61-4db8-affd-e549df86cf03",
   "metadata": {},
   "outputs": [],
   "source": [
    "os.sys.path.append('/home/yisupeng/workspace/CAFA_CODE/python/')"
   ]
  },
  {
   "cell_type": "code",
   "execution_count": 7,
   "id": "748f0979-ab0d-4572-9d1b-9ec707aeef01",
   "metadata": {},
   "outputs": [],
   "source": [
    "from ontology import *"
   ]
  },
  {
   "cell_type": "code",
   "execution_count": 8,
   "id": "f9d32750-6e0c-4059-a7b9-630aef7083b6",
   "metadata": {},
   "outputs": [],
   "source": [
    "from gene_ontology import *"
   ]
  },
  {
   "cell_type": "markdown",
   "id": "85ea46af-2a73-469f-b53b-0714fe1f785c",
   "metadata": {},
   "source": [
    "## Dataset"
   ]
  },
  {
   "cell_type": "markdown",
   "id": "a140db2a-f6fc-4479-aaf6-9d51f15ea27e",
   "metadata": {},
   "source": [
    "### Target vocab"
   ]
  },
  {
   "cell_type": "code",
   "execution_count": 9,
   "id": "2c308a27-27f9-444d-bbc8-50cfeaeaaddc",
   "metadata": {
    "scrolled": true
   },
   "outputs": [],
   "source": [
    "ont_pickle = 'states/ont.pickle'\n",
    "if os.path.exists(ont_pickle):\n",
    "    ont = pickle.load(open(ont_pickle, 'rb'))\n",
    "else:\n",
    "    ont = Ontology(parse_ont('data/go-basic.obo'))\n",
    "    pickle.dump(ont, open(ont_pickle, 'wb'))"
   ]
  },
  {
   "cell_type": "code",
   "execution_count": 10,
   "id": "29b36fb7-b580-46d8-a424-df316ba565a1",
   "metadata": {},
   "outputs": [
    {
     "data": {
      "text/plain": [
       "{'GO:0003674', 'GO:0005575', 'GO:0008150'}"
      ]
     },
     "execution_count": 10,
     "metadata": {},
     "output_type": "execute_result"
    }
   ],
   "source": [
    "ont.roots"
   ]
  },
  {
   "cell_type": "code",
   "execution_count": 11,
   "id": "f4eb8456-6a18-41db-8da5-f48fcba91481",
   "metadata": {
    "scrolled": true
   },
   "outputs": [
    {
     "data": {
      "text/plain": [
       "['GO:0008150',\n",
       " 'GO:0003674',\n",
       " 'GO:0005575',\n",
       " 'GO:0032502',\n",
       " 'GO:0002376',\n",
       " 'GO:0050896',\n",
       " 'GO:0065007',\n",
       " 'GO:0044419',\n",
       " 'GO:0048511',\n",
       " 'GO:0042592',\n",
       " 'GO:0040011',\n",
       " 'GO:0008152',\n",
       " 'GO:0051179',\n",
       " 'GO:0043473',\n",
       " 'GO:0032501',\n",
       " 'GO:0009987',\n",
       " 'GO:0044848',\n",
       " 'GO:0051703',\n",
       " 'GO:0016032',\n",
       " 'GO:0040007',\n",
       " 'GO:0000003',\n",
       " 'GO:0140691',\n",
       " 'GO:0098772',\n",
       " 'GO:0140489',\n",
       " 'GO:0140110',\n",
       " 'GO:0005198',\n",
       " 'GO:0016209',\n",
       " 'GO:0038024',\n",
       " 'GO:0045735',\n",
       " 'GO:0140522',\n",
       " 'GO:0140912',\n",
       " 'GO:0140223',\n",
       " 'GO:0060089',\n",
       " 'GO:0005215',\n",
       " 'GO:0031386',\n",
       " 'GO:0140104',\n",
       " 'GO:0060090',\n",
       " 'GO:0090729',\n",
       " 'GO:0045182',\n",
       " 'GO:0140776',\n",
       " 'GO:0140911',\n",
       " 'GO:0140657',\n",
       " 'GO:0044183',\n",
       " 'GO:0003774',\n",
       " 'GO:0140299',\n",
       " 'GO:0140777',\n",
       " 'GO:0140313',\n",
       " 'GO:0003824',\n",
       " 'GO:0005488',\n",
       " 'GO:0032991',\n",
       " 'GO:0044423',\n",
       " 'GO:0110165',\n",
       " 'GO:0021700',\n",
       " 'GO:0097737',\n",
       " 'GO:0043934',\n",
       " 'GO:0098727',\n",
       " 'GO:0048856',\n",
       " 'GO:0043696',\n",
       " 'GO:0022611',\n",
       " 'GO:0031128',\n",
       " 'GO:0002252',\n",
       " 'GO:0019882',\n",
       " 'GO:0009605',\n",
       " 'GO:0051606',\n",
       " 'GO:0014823',\n",
       " 'GO:0014854',\n",
       " 'GO:0009607',\n",
       " 'GO:0051775',\n",
       " 'GO:0006950',\n",
       " 'GO:0009628',\n",
       " 'GO:0006955',\n",
       " 'GO:0042221',\n",
       " 'GO:0009719',\n",
       " 'GO:0065008',\n",
       " 'GO:0031413',\n",
       " 'GO:0050789',\n",
       " 'GO:0065009',\n",
       " 'GO:0044111',\n",
       " 'GO:0035821',\n",
       " 'GO:0044403',\n",
       " 'GO:0140975',\n",
       " 'GO:0007624',\n",
       " 'GO:0007623',\n",
       " 'GO:0019725',\n",
       " 'GO:0048878',\n",
       " 'GO:0060361',\n",
       " 'GO:0033058',\n",
       " 'GO:0036268',\n",
       " 'GO:0044281',\n",
       " 'GO:0009058',\n",
       " 'GO:0018933',\n",
       " 'GO:0070988',\n",
       " 'GO:0006735',\n",
       " 'GO:0042440',\n",
       " 'GO:1901286',\n",
       " 'GO:1901764',\n",
       " 'GO:1901275',\n",
       " 'GO:0006807',\n",
       " 'GO:0045730',\n",
       " 'GO:0032963',\n",
       " 'GO:1901902',\n",
       " 'GO:1902421',\n",
       " 'GO:1990845',\n",
       " 'GO:0009056',\n",
       " 'GO:0006116',\n",
       " 'GO:0016999',\n",
       " 'GO:0019748',\n",
       " 'GO:0071704',\n",
       " 'GO:0044238',\n",
       " 'GO:0032259',\n",
       " 'GO:0070085',\n",
       " 'GO:0051235',\n",
       " 'GO:0051640',\n",
       " 'GO:0051234',\n",
       " 'GO:0033036',\n",
       " 'GO:0031503',\n",
       " 'GO:0048066',\n",
       " 'GO:0033060',\n",
       " 'GO:0050879',\n",
       " 'GO:0090130',\n",
       " 'GO:0048771',\n",
       " 'GO:0050817',\n",
       " 'GO:0008340',\n",
       " 'GO:0030431',\n",
       " 'GO:0097242',\n",
       " 'GO:0044706',\n",
       " 'GO:0048871',\n",
       " 'GO:0022608',\n",
       " 'GO:0042303',\n",
       " 'GO:0071684',\n",
       " 'GO:0032898',\n",
       " 'GO:0007610',\n",
       " 'GO:0007586',\n",
       " 'GO:0003008',\n",
       " 'GO:0001503',\n",
       " 'GO:0007585',\n",
       " 'GO:0043335',\n",
       " 'GO:0061919',\n",
       " 'GO:0036166',\n",
       " 'GO:0006457',\n",
       " 'GO:0061842',\n",
       " 'GO:0033059',\n",
       " 'GO:0008219',\n",
       " 'GO:0030029',\n",
       " 'GO:0007017',\n",
       " 'GO:0008283',\n",
       " 'GO:0060352',\n",
       " 'GO:0051301',\n",
       " 'GO:0010118',\n",
       " 'GO:0001906',\n",
       " 'GO:0022406',\n",
       " 'GO:0034337',\n",
       " 'GO:0051674',\n",
       " 'GO:0120312',\n",
       " 'GO:0001775',\n",
       " 'GO:0098743',\n",
       " 'GO:0048870',\n",
       " 'GO:0044237',\n",
       " 'GO:0007163',\n",
       " 'GO:0019835',\n",
       " 'GO:0045103',\n",
       " 'GO:0032196',\n",
       " 'GO:0051716',\n",
       " 'GO:0071840',\n",
       " 'GO:0090618',\n",
       " 'GO:0048869',\n",
       " 'GO:0006276',\n",
       " 'GO:0140253',\n",
       " 'GO:0051641',\n",
       " 'GO:0007155',\n",
       " 'GO:0009292',\n",
       " 'GO:0007154',\n",
       " 'GO:0007049',\n",
       " 'GO:0008037',\n",
       " 'GO:0071554',\n",
       " 'GO:1990636',\n",
       " 'GO:0022601',\n",
       " 'GO:0060206',\n",
       " 'GO:0072690',\n",
       " 'GO:0044851',\n",
       " 'GO:0022403',\n",
       " 'GO:0046794',\n",
       " 'GO:0099009',\n",
       " 'GO:0019061',\n",
       " 'GO:0046745',\n",
       " 'GO:0098678',\n",
       " 'GO:0019080',\n",
       " 'GO:0039663',\n",
       " 'GO:0098689',\n",
       " 'GO:0019042',\n",
       " 'GO:0019058',\n",
       " 'GO:0098669',\n",
       " 'GO:0030447',\n",
       " 'GO:0080189',\n",
       " 'GO:0080190',\n",
       " 'GO:0048589',\n",
       " 'GO:0016049',\n",
       " 'GO:0019954',\n",
       " 'GO:1990277',\n",
       " 'GO:0032504',\n",
       " 'GO:0019953',\n",
       " 'GO:0075325',\n",
       " 'GO:0032505',\n",
       " 'GO:0022414',\n",
       " 'GO:0140871',\n",
       " 'GO:0140677',\n",
       " 'GO:0016247',\n",
       " 'GO:0140416',\n",
       " 'GO:0097690',\n",
       " 'GO:0140659',\n",
       " 'GO:0140678',\n",
       " 'GO:0140537',\n",
       " 'GO:0030545',\n",
       " 'GO:0060590',\n",
       " 'GO:0030234',\n",
       " 'GO:0140490',\n",
       " 'GO:0001073',\n",
       " 'GO:0003700',\n",
       " 'GO:0001072',\n",
       " 'GO:0003712',\n",
       " 'GO:0043856',\n",
       " 'GO:0034246',\n",
       " 'GO:0001070',\n",
       " 'GO:0003711',\n",
       " 'GO:0097099',\n",
       " 'GO:0005199',\n",
       " 'GO:0039660',\n",
       " 'GO:0030527',\n",
       " 'GO:0003735',\n",
       " 'GO:0016490',\n",
       " 'GO:0030281',\n",
       " 'GO:0008316',\n",
       " 'GO:0005201',\n",
       " 'GO:0043886',\n",
       " 'GO:0042302',\n",
       " 'GO:0017056',\n",
       " 'GO:0005212',\n",
       " 'GO:0140756',\n",
       " 'GO:0030280',\n",
       " 'GO:0097493',\n",
       " 'GO:0005213',\n",
       " 'GO:0005200',\n",
       " 'GO:0019911',\n",
       " 'GO:0008147',\n",
       " 'GO:0008307',\n",
       " 'GO:0098918',\n",
       " 'GO:0008196',\n",
       " 'GO:0070287',\n",
       " 'GO:0097020',\n",
       " 'GO:0030228',\n",
       " 'GO:0030226',\n",
       " 'GO:0061714',\n",
       " 'GO:0004998',\n",
       " 'GO:0140488',\n",
       " 'GO:0004873',\n",
       " 'GO:0016964',\n",
       " 'GO:0005044',\n",
       " 'GO:0033568',\n",
       " 'GO:0140523',\n",
       " 'GO:0001181',\n",
       " 'GO:0016251',\n",
       " 'GO:0000995',\n",
       " 'GO:0000156',\n",
       " 'GO:0038023',\n",
       " 'GO:0031992',\n",
       " 'GO:0005319',\n",
       " 'GO:0140318',\n",
       " 'GO:0022857',\n",
       " 'GO:0016530',\n",
       " 'GO:0140142',\n",
       " 'GO:0140414',\n",
       " 'GO:0140597',\n",
       " 'GO:0140132',\n",
       " 'GO:0005344',\n",
       " 'GO:0097163',\n",
       " 'GO:0030674',\n",
       " 'GO:0030371',\n",
       " 'GO:0045183',\n",
       " 'GO:0140775',\n",
       " 'GO:0003789',\n",
       " 'GO:0030899',\n",
       " 'GO:1990833',\n",
       " 'GO:0036402',\n",
       " 'GO:0070463',\n",
       " 'GO:0008186',\n",
       " 'GO:0140545',\n",
       " 'GO:0140662',\n",
       " 'GO:0003777',\n",
       " 'GO:0000146',\n",
       " 'GO:0140605',\n",
       " 'GO:0140612',\n",
       " 'GO:0140784',\n",
       " 'GO:0106254',\n",
       " 'GO:0140442',\n",
       " 'GO:0140785',\n",
       " 'GO:0140778',\n",
       " 'GO:0140319',\n",
       " 'GO:0097351',\n",
       " 'GO:0140311',\n",
       " 'GO:0140610',\n",
       " 'GO:0140487',\n",
       " 'GO:0016853',\n",
       " 'GO:0016491',\n",
       " 'GO:0009975',\n",
       " 'GO:0016740',\n",
       " 'GO:0061783',\n",
       " 'GO:0016787',\n",
       " 'GO:0032451',\n",
       " 'GO:1904091',\n",
       " 'GO:0140096',\n",
       " 'GO:0016218',\n",
       " 'GO:0016874',\n",
       " 'GO:0004133',\n",
       " 'GO:0016829',\n",
       " 'GO:0140640',\n",
       " 'GO:0019808',\n",
       " 'GO:0140272',\n",
       " 'GO:0097159',\n",
       " 'GO:0050840',\n",
       " 'GO:0031409',\n",
       " 'GO:0046812',\n",
       " 'GO:0042165',\n",
       " 'GO:0008430',\n",
       " 'GO:0046848',\n",
       " 'GO:0050436',\n",
       " 'GO:0015643',\n",
       " 'GO:0005515',\n",
       " 'GO:0051540',\n",
       " 'GO:0035731',\n",
       " 'GO:1901363',\n",
       " 'GO:1902670',\n",
       " 'GO:0042562',\n",
       " 'GO:0097243',\n",
       " 'GO:0044590',\n",
       " 'GO:0097367',\n",
       " 'GO:0030246',\n",
       " 'GO:0072328',\n",
       " 'GO:0046790',\n",
       " 'GO:1904483',\n",
       " 'GO:0043167',\n",
       " 'GO:1990300',\n",
       " 'GO:0048038',\n",
       " 'GO:1904493',\n",
       " 'GO:0043515',\n",
       " 'GO:0000035',\n",
       " 'GO:0043176',\n",
       " 'GO:0070026',\n",
       " 'GO:0033226',\n",
       " 'GO:0050825',\n",
       " 'GO:0008289',\n",
       " 'GO:0050997',\n",
       " 'GO:0033218',\n",
       " 'GO:0140355',\n",
       " 'GO:0036094',\n",
       " 'GO:0051192',\n",
       " 'GO:1901681',\n",
       " 'GO:0044877',\n",
       " 'GO:0043287',\n",
       " 'GO:0072341',\n",
       " 'GO:0005549',\n",
       " 'GO:0003823',\n",
       " 'GO:0070025',\n",
       " 'GO:0042555',\n",
       " 'GO:1990065',\n",
       " 'GO:1990811',\n",
       " 'GO:0005581',\n",
       " 'GO:1990630',\n",
       " 'GO:0019814',\n",
       " 'GO:0036398',\n",
       " 'GO:0097057',\n",
       " 'GO:0032993',\n",
       " 'GO:0098561',\n",
       " 'GO:0061703',\n",
       " 'GO:1902494',\n",
       " 'GO:1990249',\n",
       " 'GO:0070288',\n",
       " 'GO:0033061',\n",
       " 'GO:1990665',\n",
       " 'GO:1990062',\n",
       " 'GO:0000974',\n",
       " 'GO:0005667',\n",
       " 'GO:0061957',\n",
       " 'GO:0002193',\n",
       " 'GO:1990904',\n",
       " 'GO:1990351',\n",
       " 'GO:1990706',\n",
       " 'GO:0035693',\n",
       " 'GO:0044697',\n",
       " 'GO:1990528',\n",
       " 'GO:0140451',\n",
       " 'GO:0140910',\n",
       " 'GO:0032766',\n",
       " 'GO:1990861',\n",
       " 'GO:0097071',\n",
       " 'GO:1990667',\n",
       " 'GO:0160055',\n",
       " 'GO:0019036',\n",
       " 'GO:1990597',\n",
       " 'GO:0120114',\n",
       " 'GO:1990509',\n",
       " 'GO:0033186',\n",
       " 'GO:0039658',\n",
       " 'GO:0140007',\n",
       " 'GO:0097344',\n",
       " 'GO:0035649',\n",
       " 'GO:1990871',\n",
       " 'GO:0150005',\n",
       " 'GO:1990660',\n",
       " 'GO:1990104',\n",
       " 'GO:0106333',\n",
       " 'GO:0120171',\n",
       " 'GO:1990393',\n",
       " 'GO:0016272',\n",
       " 'GO:0038059',\n",
       " 'GO:0015627',\n",
       " 'GO:0036454',\n",
       " 'GO:0033104',\n",
       " 'GO:0032994',\n",
       " 'GO:0097196',\n",
       " 'GO:1990696',\n",
       " 'GO:0031074',\n",
       " 'GO:0106249',\n",
       " 'GO:0110078',\n",
       " 'GO:0002167',\n",
       " 'GO:1990964',\n",
       " 'GO:0062048',\n",
       " 'GO:0090665',\n",
       " 'GO:0099023',\n",
       " 'GO:0098636',\n",
       " 'GO:0097452',\n",
       " 'GO:0098820',\n",
       " 'GO:1990615',\n",
       " 'GO:0070864',\n",
       " 'GO:1990682',\n",
       " 'GO:1990298',\n",
       " 'GO:1990923',\n",
       " 'GO:0140535',\n",
       " 'GO:0031838',\n",
       " 'GO:1990112',\n",
       " 'GO:1990526',\n",
       " 'GO:1903503',\n",
       " 'GO:0038045',\n",
       " 'GO:0002199',\n",
       " 'GO:0098733',\n",
       " 'GO:1990533',\n",
       " 'GO:0043684',\n",
       " 'GO:1990661',\n",
       " 'GO:0106093',\n",
       " 'GO:1904090',\n",
       " 'GO:0140225',\n",
       " 'GO:0097136',\n",
       " 'GO:1990909',\n",
       " 'GO:1902695',\n",
       " 'GO:1905742',\n",
       " 'GO:0034518',\n",
       " 'GO:0000408',\n",
       " 'GO:0002929',\n",
       " 'GO:0032992',\n",
       " 'GO:1990315',\n",
       " 'GO:0110142',\n",
       " 'GO:0140224',\n",
       " 'GO:0001114',\n",
       " 'GO:0097078',\n",
       " 'GO:0120124',\n",
       " 'GO:0044816',\n",
       " 'GO:0036284',\n",
       " 'GO:0000417',\n",
       " 'GO:0090443',\n",
       " 'GO:0071141',\n",
       " 'GO:0030257',\n",
       " 'GO:0002133',\n",
       " 'GO:0030256',\n",
       " 'GO:0097347',\n",
       " 'GO:1990684',\n",
       " 'GO:1990527',\n",
       " 'GO:1990666',\n",
       " 'GO:0043493',\n",
       " 'GO:0061574',\n",
       " 'GO:0097255',\n",
       " 'GO:0106003',\n",
       " 'GO:0097373',\n",
       " 'GO:1903502',\n",
       " 'GO:1990727',\n",
       " 'GO:1990125',\n",
       " 'GO:0098046',\n",
       " 'GO:0043235',\n",
       " 'GO:0035859',\n",
       " 'GO:0062049',\n",
       " 'GO:1990346',\n",
       " 'GO:0030990',\n",
       " 'GO:0036338',\n",
       " 'GO:0019028',\n",
       " 'GO:0046729',\n",
       " 'GO:0098015',\n",
       " 'GO:0019033',\n",
       " 'GO:0098061',\n",
       " 'GO:0055036',\n",
       " 'GO:0039642',\n",
       " 'GO:0018995',\n",
       " 'GO:0032153',\n",
       " 'GO:0005622',\n",
       " 'GO:0097614',\n",
       " 'GO:0009295',\n",
       " 'GO:1990018',\n",
       " 'GO:0020039',\n",
       " 'GO:1990016',\n",
       " 'GO:0071944',\n",
       " 'GO:0097574',\n",
       " 'GO:0120212',\n",
       " 'GO:0070938',\n",
       " 'GO:0036477',\n",
       " 'GO:0120219',\n",
       " 'GO:0097653',\n",
       " 'GO:0045171',\n",
       " 'GO:0030427',\n",
       " 'GO:0016020',\n",
       " 'GO:0001917',\n",
       " 'GO:0009986',\n",
       " 'GO:0031912',\n",
       " 'GO:0005933',\n",
       " 'GO:0045178',\n",
       " 'GO:0030054',\n",
       " 'GO:0042763',\n",
       " 'GO:0005576',\n",
       " 'GO:0043209',\n",
       " 'GO:0097613',\n",
       " 'GO:0030428',\n",
       " 'GO:0061827',\n",
       " 'GO:0045177',\n",
       " 'GO:0097423',\n",
       " 'GO:0043226',\n",
       " 'GO:0042995',\n",
       " 'GO:0031975',\n",
       " 'GO:0097448',\n",
       " 'GO:0031254',\n",
       " 'GO:0030496',\n",
       " 'GO:0099080',\n",
       " 'GO:0044217',\n",
       " 'GO:0044099',\n",
       " 'GO:0044297',\n",
       " 'GO:0012505',\n",
       " 'GO:0120307',\n",
       " 'GO:0072324',\n",
       " 'GO:0060187',\n",
       " 'GO:0098862',\n",
       " 'GO:0140022',\n",
       " 'GO:0032179',\n",
       " 'GO:1990015',\n",
       " 'GO:0031252',\n",
       " 'GO:0055044',\n",
       " 'GO:0042597',\n",
       " 'GO:0120280',\n",
       " 'GO:0032126',\n",
       " 'GO:0031974']"
      ]
     },
     "execution_count": 11,
     "metadata": {},
     "output_type": "execute_result"
    }
   ],
   "source": [
    "class OntVocab:\n",
    "    def __init__(self, ont):\n",
    "        self.terms = []\n",
    "        term_ind = {}\n",
    "        for i, k in enumerate(ont.topological_order()):\n",
    "            v = ont[k]\n",
    "            if v.depth > 3:\n",
    "                break\n",
    "            term_ind[k] = i\n",
    "            self.terms.append(k)\n",
    "        self.term_ind = term_ind\n",
    "\n",
    "    def __getitem__(self, i):\n",
    "        return self.terms[i]\n",
    "\n",
    "    def __call__(self, token):\n",
    "        return self.term_ind[token]\n",
    "\n",
    "\n",
    "target_vocab = OntVocab(ont)\n",
    "list(target_vocab)"
   ]
  },
  {
   "cell_type": "code",
   "execution_count": 12,
   "id": "e464c06e-56a1-4490-a221-e3e3c1409c45",
   "metadata": {},
   "outputs": [
    {
     "data": {
      "text/plain": [
       "554"
      ]
     },
     "execution_count": 12,
     "metadata": {},
     "output_type": "execute_result"
    }
   ],
   "source": [
    "len(list(target_vocab))"
   ]
  },
  {
   "cell_type": "code",
   "execution_count": null,
   "id": "6d231e9e-6f49-4f11-80b4-07077f66de70",
   "metadata": {},
   "outputs": [],
   "source": []
  },
  {
   "cell_type": "markdown",
   "id": "42ccc0b8-5242-4461-b317-481fce1995ba",
   "metadata": {},
   "source": [
    "### Source vocab"
   ]
  },
  {
   "cell_type": "code",
   "execution_count": 13,
   "id": "39751d24-f568-4868-a587-50b0fea6371a",
   "metadata": {},
   "outputs": [],
   "source": [
    "hyper_aa_regex = re.compile('[BXZJUO]')"
   ]
  },
  {
   "cell_type": "code",
   "execution_count": 14,
   "id": "ea89d174-fba4-4513-8fe5-f65fbe6613bc",
   "metadata": {},
   "outputs": [],
   "source": [
    "MAX_LEN = 2000"
   ]
  },
  {
   "cell_type": "code",
   "execution_count": 15,
   "id": "d3fc285c-9bab-44ad-93c8-b0f42eab5441",
   "metadata": {},
   "outputs": [],
   "source": [
    "import torch"
   ]
  },
  {
   "cell_type": "code",
   "execution_count": 16,
   "id": "720dbea2-8793-4475-ad07-21bf41dd9449",
   "metadata": {},
   "outputs": [],
   "source": [
    "modelname = 'seq_ann_depth3_protbert_llm2vec'"
   ]
  },
  {
   "cell_type": "code",
   "execution_count": 17,
   "id": "9e0062c6-2db4-491f-990a-2ffde89610d8",
   "metadata": {},
   "outputs": [],
   "source": [
    "states_dir = f'states/{modelname}/'\n",
    "if not os.path.exists(states_dir):\n",
    "    os.makedirs(states_dir)"
   ]
  },
  {
   "cell_type": "code",
   "execution_count": 18,
   "id": "7d6cc791-b794-4d0c-b1d8-ece18965c937",
   "metadata": {},
   "outputs": [],
   "source": [
    "seq_file = \"data/uniprot_sprot.fasta\"\n",
    "# seq_file = \"data/debugging_sequence.fasta\"\n",
    "\n",
    "def load_seqdb():\n",
    "    seqdb_pickle = f'{states_dir}/seqdb.pickle'\n",
    "    if os.path.exists(seqdb_pickle):\n",
    "        seqdb = pickle.load(open(seqdb_pickle, 'rb'))\n",
    "    else:\n",
    "        seqdb = {}\n",
    "        irregs = 0\n",
    "        for record in Bio.SeqIO.parse(seq_file, \"fasta\"):\n",
    "            if '|' in record.id:\n",
    "                _, acc, geneid = record.id.split('|')\n",
    "            else:\n",
    "                acc = record.id\n",
    "            if hyper_aa_regex.findall(str(record.seq)):\n",
    "                irregs += 1\n",
    "                continue\n",
    "            # if len(record.seq) > MAX_LEN:\n",
    "            #     irregs += 1\n",
    "            #     continue\n",
    "            seqdb[acc] = record\n",
    "        print('irregs', irregs)\n",
    "        pickle.dump(seqdb, open(seqdb_pickle, 'wb'))\n",
    "        seqdb = pickle.load(open(seqdb_pickle, 'rb'))\n",
    "    return seqdb\n"
   ]
  },
  {
   "cell_type": "code",
   "execution_count": null,
   "id": "0cdfef41-3443-4e7c-b8fd-d8f980df3a90",
   "metadata": {},
   "outputs": [],
   "source": []
  },
  {
   "cell_type": "markdown",
   "id": "9c198bcd-4f30-4a4c-9adf-5ce590517840",
   "metadata": {},
   "source": [
    "### build dataset"
   ]
  },
  {
   "cell_type": "code",
   "execution_count": 19,
   "id": "9e1487af-2143-49b0-995d-3428888a91fe",
   "metadata": {},
   "outputs": [
    {
     "data": {
      "text/html": [
       "<div>\n",
       "<style scoped>\n",
       "    .dataframe tbody tr th:only-of-type {\n",
       "        vertical-align: middle;\n",
       "    }\n",
       "\n",
       "    .dataframe tbody tr th {\n",
       "        vertical-align: top;\n",
       "    }\n",
       "\n",
       "    .dataframe thead th {\n",
       "        text-align: right;\n",
       "    }\n",
       "</style>\n",
       "<table border=\"1\" class=\"dataframe\">\n",
       "  <thead>\n",
       "    <tr style=\"text-align: right;\">\n",
       "      <th></th>\n",
       "      <th>UniProt ID</th>\n",
       "      <th>Annotations</th>\n",
       "      <th>Aspect</th>\n",
       "    </tr>\n",
       "  </thead>\n",
       "  <tbody>\n",
       "    <tr>\n",
       "      <th>0</th>\n",
       "      <td>A0A009IHW8</td>\n",
       "      <td>GO:0006807;GO:0044238;GO:0009056;GO:0071704;GO...</td>\n",
       "      <td>BPO</td>\n",
       "    </tr>\n",
       "    <tr>\n",
       "      <th>1</th>\n",
       "      <td>A0A021WW32</td>\n",
       "      <td>GO:0065007;GO:0032502;GO:0009987;GO:0008150</td>\n",
       "      <td>BPO</td>\n",
       "    </tr>\n",
       "    <tr>\n",
       "      <th>2</th>\n",
       "      <td>A0A023FFD0</td>\n",
       "      <td>GO:0008150</td>\n",
       "      <td>BPO</td>\n",
       "    </tr>\n",
       "    <tr>\n",
       "      <th>3</th>\n",
       "      <td>A0A023GPJ3</td>\n",
       "      <td>GO:0008150</td>\n",
       "      <td>BPO</td>\n",
       "    </tr>\n",
       "    <tr>\n",
       "      <th>4</th>\n",
       "      <td>A0A023GPK8</td>\n",
       "      <td>GO:0065007;GO:0032502;GO:0008150</td>\n",
       "      <td>BPO</td>\n",
       "    </tr>\n",
       "    <tr>\n",
       "      <th>...</th>\n",
       "      <td>...</td>\n",
       "      <td>...</td>\n",
       "      <td>...</td>\n",
       "    </tr>\n",
       "    <tr>\n",
       "      <th>242391</th>\n",
       "      <td>X5KCU9</td>\n",
       "      <td>GO:0003824</td>\n",
       "      <td>MFO</td>\n",
       "    </tr>\n",
       "    <tr>\n",
       "      <th>242392</th>\n",
       "      <td>X5KJC0</td>\n",
       "      <td>GO:0003824</td>\n",
       "      <td>MFO</td>\n",
       "    </tr>\n",
       "    <tr>\n",
       "      <th>242393</th>\n",
       "      <td>X5L1L5</td>\n",
       "      <td>GO:0003824</td>\n",
       "      <td>MFO</td>\n",
       "    </tr>\n",
       "    <tr>\n",
       "      <th>242394</th>\n",
       "      <td>X5L565</td>\n",
       "      <td>GO:0003824</td>\n",
       "      <td>MFO</td>\n",
       "    </tr>\n",
       "    <tr>\n",
       "      <th>242395</th>\n",
       "      <td>X5M5N0</td>\n",
       "      <td>GO:0005488</td>\n",
       "      <td>MFO</td>\n",
       "    </tr>\n",
       "  </tbody>\n",
       "</table>\n",
       "<p>242396 rows × 3 columns</p>\n",
       "</div>"
      ],
      "text/plain": [
       "        UniProt ID                                        Annotations Aspect\n",
       "0       A0A009IHW8  GO:0006807;GO:0044238;GO:0009056;GO:0071704;GO...    BPO\n",
       "1       A0A021WW32        GO:0065007;GO:0032502;GO:0009987;GO:0008150    BPO\n",
       "2       A0A023FFD0                                         GO:0008150    BPO\n",
       "3       A0A023GPJ3                                         GO:0008150    BPO\n",
       "4       A0A023GPK8                   GO:0065007;GO:0032502;GO:0008150    BPO\n",
       "...            ...                                                ...    ...\n",
       "242391      X5KCU9                                         GO:0003824    MFO\n",
       "242392      X5KJC0                                         GO:0003824    MFO\n",
       "242393      X5L1L5                                         GO:0003824    MFO\n",
       "242394      X5L565                                         GO:0003824    MFO\n",
       "242395      X5M5N0                                         GO:0005488    MFO\n",
       "\n",
       "[242396 rows x 3 columns]"
      ]
     },
     "execution_count": 19,
     "metadata": {},
     "output_type": "execute_result"
    }
   ],
   "source": [
    "# load data\n",
    "# datatab = pd.read_csv('data/sample_annot.csv')\n",
    "datatab = pd.read_csv('data/linear_annot.csv')\n",
    "datatab"
   ]
  },
  {
   "cell_type": "code",
   "execution_count": 20,
   "id": "3a48199a-a5d7-43af-b625-141f3e02eb32",
   "metadata": {},
   "outputs": [],
   "source": [
    "def normalize_ann(ann):\n",
    "    anns = ann.split(';')\n",
    "    return list(sorted(anns, key=target_vocab))"
   ]
  },
  {
   "cell_type": "code",
   "execution_count": 21,
   "id": "2594b47e-5ae3-4cbd-8eb2-895890a6acfb",
   "metadata": {},
   "outputs": [
    {
     "data": {
      "text/plain": [
       "['GO:0008150', 'GO:0050896', 'GO:0009987']"
      ]
     },
     "execution_count": 21,
     "metadata": {},
     "output_type": "execute_result"
    }
   ],
   "source": [
    "normalize_ann('GO:0050896;GO:0009987;GO:0008150')"
   ]
  },
  {
   "cell_type": "code",
   "execution_count": 22,
   "id": "88192448-6411-427f-afc7-acf3dc3729ca",
   "metadata": {},
   "outputs": [],
   "source": [
    "def build_dataset(datatab, seqdb):\n",
    "    res = []\n",
    "    for i, row in datatab.iterrows():\n",
    "        pid = row['UniProt ID']\n",
    "        if pid not in seqdb:\n",
    "            continue\n",
    "        ann = normalize_ann(row['Annotations'])\n",
    "        if len(ann) < 3:\n",
    "            continue\n",
    "        res.append({'seq': ' '.join(seqdb[pid]), 'ann': ' '.join(ann)})\n",
    "        # break\n",
    "    res = pd.DataFrame(res)\n",
    "    return res\n"
   ]
  },
  {
   "cell_type": "code",
   "execution_count": 23,
   "id": "f6b660b1-cad0-488e-9729-c60711bddbee",
   "metadata": {},
   "outputs": [
    {
     "data": {
      "text/html": [
       "<div>\n",
       "<style scoped>\n",
       "    .dataframe tbody tr th:only-of-type {\n",
       "        vertical-align: middle;\n",
       "    }\n",
       "\n",
       "    .dataframe tbody tr th {\n",
       "        vertical-align: top;\n",
       "    }\n",
       "\n",
       "    .dataframe thead th {\n",
       "        text-align: right;\n",
       "    }\n",
       "</style>\n",
       "<table border=\"1\" class=\"dataframe\">\n",
       "  <thead>\n",
       "    <tr style=\"text-align: right;\">\n",
       "      <th></th>\n",
       "      <th>seq</th>\n",
       "      <th>ann</th>\n",
       "    </tr>\n",
       "  </thead>\n",
       "  <tbody>\n",
       "    <tr>\n",
       "      <th>0</th>\n",
       "      <td>M S L E Q K K G A D I I S K I L Q I Q N S I G ...</td>\n",
       "      <td>GO:0008150 GO:0009987 GO:0008152 GO:0044238 GO...</td>\n",
       "    </tr>\n",
       "    <tr>\n",
       "      <th>1</th>\n",
       "      <td>M R F Q V I V A A A T I T M I T S Y I P G V A ...</td>\n",
       "      <td>GO:0008152 GO:0044238 GO:0009056 GO:0071704</td>\n",
       "    </tr>\n",
       "    <tr>\n",
       "      <th>2</th>\n",
       "      <td>M K N P K K K S G G F R I V N M L K R G V A R ...</td>\n",
       "      <td>GO:0008150 GO:0016032 GO:0065007</td>\n",
       "    </tr>\n",
       "    <tr>\n",
       "      <th>3</th>\n",
       "      <td>M M K M K Q Q G L V A D L L P N I R V M K T F ...</td>\n",
       "      <td>GO:0008150 GO:0051703 GO:0050896 GO:0032502</td>\n",
       "    </tr>\n",
       "    <tr>\n",
       "      <th>4</th>\n",
       "      <td>M A R G T F E R T K K L R E E S I N A E P H I ...</td>\n",
       "      <td>GO:0008150 GO:0009987 GO:0008152 GO:0044238 GO...</td>\n",
       "    </tr>\n",
       "    <tr>\n",
       "      <th>...</th>\n",
       "      <td>...</td>\n",
       "      <td>...</td>\n",
       "    </tr>\n",
       "    <tr>\n",
       "      <th>53281</th>\n",
       "      <td>M N S Q N P D D H E D T T V V G F E V P V S P ...</td>\n",
       "      <td>GO:0098772 GO:0005488 GO:0030234</td>\n",
       "    </tr>\n",
       "    <tr>\n",
       "      <th>53282</th>\n",
       "      <td>M R V H R F C V I V I F L T E L L C F F Y S S ...</td>\n",
       "      <td>GO:0003824 GO:0060089 GO:0005488 GO:0038023</td>\n",
       "    </tr>\n",
       "    <tr>\n",
       "      <th>53283</th>\n",
       "      <td>M R A A I N R A N S L G G L F S F R F I R N I ...</td>\n",
       "      <td>GO:0098772 GO:0005488 GO:0030234</td>\n",
       "    </tr>\n",
       "    <tr>\n",
       "      <th>53284</th>\n",
       "      <td>M A K D G G V S C L R R S E M I G I G I G E L ...</td>\n",
       "      <td>GO:0060089 GO:0005488 GO:0000156</td>\n",
       "    </tr>\n",
       "    <tr>\n",
       "      <th>53285</th>\n",
       "      <td>M G G G K N V R R G L E P L E F E E C I V D S ...</td>\n",
       "      <td>GO:0098772 GO:0005488 GO:0030234</td>\n",
       "    </tr>\n",
       "  </tbody>\n",
       "</table>\n",
       "<p>53286 rows × 2 columns</p>\n",
       "</div>"
      ],
      "text/plain": [
       "                                                     seq  \\\n",
       "0      M S L E Q K K G A D I I S K I L Q I Q N S I G ...   \n",
       "1      M R F Q V I V A A A T I T M I T S Y I P G V A ...   \n",
       "2      M K N P K K K S G G F R I V N M L K R G V A R ...   \n",
       "3      M M K M K Q Q G L V A D L L P N I R V M K T F ...   \n",
       "4      M A R G T F E R T K K L R E E S I N A E P H I ...   \n",
       "...                                                  ...   \n",
       "53281  M N S Q N P D D H E D T T V V G F E V P V S P ...   \n",
       "53282  M R V H R F C V I V I F L T E L L C F F Y S S ...   \n",
       "53283  M R A A I N R A N S L G G L F S F R F I R N I ...   \n",
       "53284  M A K D G G V S C L R R S E M I G I G I G E L ...   \n",
       "53285  M G G G K N V R R G L E P L E F E E C I V D S ...   \n",
       "\n",
       "                                                     ann  \n",
       "0      GO:0008150 GO:0009987 GO:0008152 GO:0044238 GO...  \n",
       "1            GO:0008152 GO:0044238 GO:0009056 GO:0071704  \n",
       "2                       GO:0008150 GO:0016032 GO:0065007  \n",
       "3            GO:0008150 GO:0051703 GO:0050896 GO:0032502  \n",
       "4      GO:0008150 GO:0009987 GO:0008152 GO:0044238 GO...  \n",
       "...                                                  ...  \n",
       "53281                   GO:0098772 GO:0005488 GO:0030234  \n",
       "53282        GO:0003824 GO:0060089 GO:0005488 GO:0038023  \n",
       "53283                   GO:0098772 GO:0005488 GO:0030234  \n",
       "53284                   GO:0060089 GO:0005488 GO:0000156  \n",
       "53285                   GO:0098772 GO:0005488 GO:0030234  \n",
       "\n",
       "[53286 rows x 2 columns]"
      ]
     },
     "execution_count": 23,
     "metadata": {},
     "output_type": "execute_result"
    }
   ],
   "source": [
    "ann_dataset_pickle = 'states/ann_dataset.pickle'\n",
    "\n",
    "if os.path.exists(ann_dataset_pickle):\n",
    "    ann_dataset = pickle.load(open(ann_dataset_pickle, 'rb'))\n",
    "else:\n",
    "    seqdb = load_seqdb()\n",
    "    ann_dataset = build_dataset(datatab, seqdb)\n",
    "    pickle.dump(ann_dataset, open(ann_dataset_pickle, 'wb'))\n",
    "ann_dataset"
   ]
  },
  {
   "cell_type": "code",
   "execution_count": 24,
   "id": "98db5bf5-d7a0-4cdf-8a0f-2801bd5a036f",
   "metadata": {},
   "outputs": [],
   "source": [
    "ann_dataset = ann_dataset[ann_dataset['seq'].apply(lambda x: len(x.split()) < 500)]"
   ]
  },
  {
   "cell_type": "code",
   "execution_count": 25,
   "id": "bce3e090-e666-4121-8c94-ab44cf9bc209",
   "metadata": {},
   "outputs": [
    {
     "data": {
      "text/html": [
       "<div>\n",
       "<style scoped>\n",
       "    .dataframe tbody tr th:only-of-type {\n",
       "        vertical-align: middle;\n",
       "    }\n",
       "\n",
       "    .dataframe tbody tr th {\n",
       "        vertical-align: top;\n",
       "    }\n",
       "\n",
       "    .dataframe thead th {\n",
       "        text-align: right;\n",
       "    }\n",
       "</style>\n",
       "<table border=\"1\" class=\"dataframe\">\n",
       "  <thead>\n",
       "    <tr style=\"text-align: right;\">\n",
       "      <th></th>\n",
       "      <th>seq</th>\n",
       "      <th>ann</th>\n",
       "    </tr>\n",
       "  </thead>\n",
       "  <tbody>\n",
       "    <tr>\n",
       "      <th>0</th>\n",
       "      <td>M S L E Q K K G A D I I S K I L Q I Q N S I G ...</td>\n",
       "      <td>GO:0008150 GO:0009987 GO:0008152 GO:0044238 GO...</td>\n",
       "    </tr>\n",
       "    <tr>\n",
       "      <th>3</th>\n",
       "      <td>M M K M K Q Q G L V A D L L P N I R V M K T F ...</td>\n",
       "      <td>GO:0008150 GO:0051703 GO:0050896 GO:0032502</td>\n",
       "    </tr>\n",
       "    <tr>\n",
       "      <th>6</th>\n",
       "      <td>M R S V S G Q V V C V T G A G G F I A S W L V ...</td>\n",
       "      <td>GO:0008150 GO:0048511 GO:0009987 GO:0008152 GO...</td>\n",
       "    </tr>\n",
       "    <tr>\n",
       "      <th>8</th>\n",
       "      <td>M A M P Y A S L S P A G A A D H R S S T A T A ...</td>\n",
       "      <td>GO:0008150 GO:0065007 GO:0032502</td>\n",
       "    </tr>\n",
       "    <tr>\n",
       "      <th>11</th>\n",
       "      <td>M P M A S V I A V A E P K W I S V W G R F L W ...</td>\n",
       "      <td>GO:0008150 GO:0065007 GO:0008152 GO:0071704 GO...</td>\n",
       "    </tr>\n",
       "    <tr>\n",
       "      <th>...</th>\n",
       "      <td>...</td>\n",
       "      <td>...</td>\n",
       "    </tr>\n",
       "    <tr>\n",
       "      <th>53278</th>\n",
       "      <td>M D L V Q K Q K S L Q D Y T K S L F L E G I L ...</td>\n",
       "      <td>GO:0003824 GO:0060089 GO:0005488</td>\n",
       "    </tr>\n",
       "    <tr>\n",
       "      <th>53280</th>\n",
       "      <td>M A A S M T K P I S I T S L G F Y S D R K N I ...</td>\n",
       "      <td>GO:0098772 GO:0005488 GO:0030234</td>\n",
       "    </tr>\n",
       "    <tr>\n",
       "      <th>53281</th>\n",
       "      <td>M N S Q N P D D H E D T T V V G F E V P V S P ...</td>\n",
       "      <td>GO:0098772 GO:0005488 GO:0030234</td>\n",
       "    </tr>\n",
       "    <tr>\n",
       "      <th>53283</th>\n",
       "      <td>M R A A I N R A N S L G G L F S F R F I R N I ...</td>\n",
       "      <td>GO:0098772 GO:0005488 GO:0030234</td>\n",
       "    </tr>\n",
       "    <tr>\n",
       "      <th>53284</th>\n",
       "      <td>M A K D G G V S C L R R S E M I G I G I G E L ...</td>\n",
       "      <td>GO:0060089 GO:0005488 GO:0000156</td>\n",
       "    </tr>\n",
       "  </tbody>\n",
       "</table>\n",
       "<p>30751 rows × 2 columns</p>\n",
       "</div>"
      ],
      "text/plain": [
       "                                                     seq  \\\n",
       "0      M S L E Q K K G A D I I S K I L Q I Q N S I G ...   \n",
       "3      M M K M K Q Q G L V A D L L P N I R V M K T F ...   \n",
       "6      M R S V S G Q V V C V T G A G G F I A S W L V ...   \n",
       "8      M A M P Y A S L S P A G A A D H R S S T A T A ...   \n",
       "11     M P M A S V I A V A E P K W I S V W G R F L W ...   \n",
       "...                                                  ...   \n",
       "53278  M D L V Q K Q K S L Q D Y T K S L F L E G I L ...   \n",
       "53280  M A A S M T K P I S I T S L G F Y S D R K N I ...   \n",
       "53281  M N S Q N P D D H E D T T V V G F E V P V S P ...   \n",
       "53283  M R A A I N R A N S L G G L F S F R F I R N I ...   \n",
       "53284  M A K D G G V S C L R R S E M I G I G I G E L ...   \n",
       "\n",
       "                                                     ann  \n",
       "0      GO:0008150 GO:0009987 GO:0008152 GO:0044238 GO...  \n",
       "3            GO:0008150 GO:0051703 GO:0050896 GO:0032502  \n",
       "6      GO:0008150 GO:0048511 GO:0009987 GO:0008152 GO...  \n",
       "8                       GO:0008150 GO:0065007 GO:0032502  \n",
       "11     GO:0008150 GO:0065007 GO:0008152 GO:0071704 GO...  \n",
       "...                                                  ...  \n",
       "53278                   GO:0003824 GO:0060089 GO:0005488  \n",
       "53280                   GO:0098772 GO:0005488 GO:0030234  \n",
       "53281                   GO:0098772 GO:0005488 GO:0030234  \n",
       "53283                   GO:0098772 GO:0005488 GO:0030234  \n",
       "53284                   GO:0060089 GO:0005488 GO:0000156  \n",
       "\n",
       "[30751 rows x 2 columns]"
      ]
     },
     "execution_count": 25,
     "metadata": {},
     "output_type": "execute_result"
    }
   ],
   "source": [
    "ann_dataset"
   ]
  },
  {
   "cell_type": "code",
   "execution_count": 26,
   "id": "5da8b6e1-eecb-47d8-b8b6-2ad1bfa6d25e",
   "metadata": {},
   "outputs": [],
   "source": [
    "ann_comb_counts = dict(ann_dataset['ann'].value_counts())"
   ]
  },
  {
   "cell_type": "code",
   "execution_count": 27,
   "id": "1526eedf-572c-45de-82c2-dc4a98ce145a",
   "metadata": {},
   "outputs": [],
   "source": [
    "# ann_dataset = ann_dataset[ann_dataset['ann'].apply(lambda x: ann_comb_counts[x] < 500)]\n",
    "# ann_dataset"
   ]
  },
  {
   "cell_type": "code",
   "execution_count": 28,
   "id": "0d0c2b37-88aa-47f2-98a0-306c9a9d246e",
   "metadata": {},
   "outputs": [
    {
     "data": {
      "text/plain": [
       "ann\n",
       "GO:0008150 GO:0050896 GO:0009987                                                                                                                  1374\n",
       "GO:0005575 GO:0110165 GO:0032991                                                                                                                  1193\n",
       "GO:0008150 GO:0009987 GO:0008152 GO:0009058 GO:0071704 GO:0006807                                                                                  980\n",
       "GO:0005575 GO:0032991 GO:1902494                                                                                                                   730\n",
       "GO:0008150 GO:0009987 GO:0008152 GO:0071704 GO:0006807                                                                                             675\n",
       "                                                                                                                                                  ... \n",
       "GO:0008150 GO:0050896 GO:0065007 GO:0009987 GO:0032501 GO:0044238 GO:0071704 GO:0044281 GO:0006807                                                   1\n",
       "GO:0008150 GO:0000003 GO:0042592 GO:0050896 GO:0065007 GO:0009987 GO:0008152 GO:0032502 GO:0022414 GO:0019953 GO:0044238 GO:0009058 GO:0071704       1\n",
       "GO:0008150 GO:0000003 GO:0050896 GO:0065007 GO:0009987 GO:0032501 GO:0051179 GO:0032502 GO:0022414 GO:0044238 GO:0071704 GO:0044281 GO:0006807       1\n",
       "GO:0008150 GO:0002376 GO:0050896 GO:0065007 GO:0009987 GO:0032501 GO:0040011 GO:0044238 GO:0009058 GO:0071704 GO:0006807                             1\n",
       "GO:0008150 GO:0050896 GO:0065007 GO:0009987 GO:0008152 GO:0032502 GO:0040007 GO:0044238 GO:0071704                                                   1\n",
       "Name: count, Length: 3347, dtype: int64"
      ]
     },
     "execution_count": 28,
     "metadata": {},
     "output_type": "execute_result"
    }
   ],
   "source": [
    "ann_dataset['ann'].value_counts()"
   ]
  },
  {
   "cell_type": "code",
   "execution_count": 29,
   "id": "26be3193-3b6f-475d-bf3b-b296baeaaedb",
   "metadata": {},
   "outputs": [
    {
     "data": {
      "text/plain": [
       "<Axes: ylabel='Frequency'>"
      ]
     },
     "execution_count": 29,
     "metadata": {},
     "output_type": "execute_result"
    },
    {
     "data": {
      "image/png": "[encoded data removed]",
      "text/plain": [
       "<Figure size 640x480 with 1 Axes>"
      ]
     },
     "metadata": {},
     "output_type": "display_data"
    }
   ],
   "source": [
    "(ann_dataset['seq'].apply(lambda x: len(x.split()) if len(x.split()) < 500 else None)).plot.hist(bins=20)"
   ]
  },
  {
   "cell_type": "code",
   "execution_count": 30,
   "id": "21176f1e-efe6-452a-8c14-c12a8a10f0df",
   "metadata": {},
   "outputs": [
    {
     "data": {
      "text/plain": [
       "0"
      ]
     },
     "execution_count": 30,
     "metadata": {},
     "output_type": "execute_result"
    }
   ],
   "source": [
    "(ann_dataset['ann'].apply(lambda x: len(x))<5).sum()"
   ]
  },
  {
   "cell_type": "code",
   "execution_count": 119,
   "id": "071544a1-b6c3-40b6-8580-86e9eed4ade8",
   "metadata": {},
   "outputs": [
    {
     "data": {
      "text/html": [
       "<div>\n",
       "<style scoped>\n",
       "    .dataframe tbody tr th:only-of-type {\n",
       "        vertical-align: middle;\n",
       "    }\n",
       "\n",
       "    .dataframe tbody tr th {\n",
       "        vertical-align: top;\n",
       "    }\n",
       "\n",
       "    .dataframe thead th {\n",
       "        text-align: right;\n",
       "    }\n",
       "</style>\n",
       "<table border=\"1\" class=\"dataframe\">\n",
       "  <thead>\n",
       "    <tr style=\"text-align: right;\">\n",
       "      <th></th>\n",
       "      <th>seq</th>\n",
       "      <th>ann</th>\n",
       "      <th>ann_bin_mask</th>\n",
       "    </tr>\n",
       "  </thead>\n",
       "  <tbody>\n",
       "    <tr>\n",
       "      <th>0</th>\n",
       "      <td>M R V A M L T R E Y P P E V Y G G A G V H V T ...</td>\n",
       "      <td>GO:0008150 GO:0008152 GO:0044238 GO:0071704</td>\n",
       "      <td>[0.0, 0.0, 0.0, 0.0, 0.0, 1.0, 0.0, 1.0, 1.0, ...</td>\n",
       "    </tr>\n",
       "    <tr>\n",
       "      <th>1</th>\n",
       "      <td>M A D E Q E I M C K L E S I K E I R N K T L Q ...</td>\n",
       "      <td>GO:0008150 GO:0065007 GO:0032501 GO:0008152 GO...</td>\n",
       "      <td>[0.0, 0.0, 0.0, 0.0, 0.0, 1.0, 0.0, 1.0, 1.0, ...</td>\n",
       "    </tr>\n",
       "    <tr>\n",
       "      <th>2</th>\n",
       "      <td>M P L R L L L L L L W L W G L Q W A E T D S E ...</td>\n",
       "      <td>GO:0008150 GO:0050896 GO:0065007 GO:0009987 GO...</td>\n",
       "      <td>[0.0, 0.0, 0.0, 0.0, 0.0, 1.0, 1.0, 0.0, 0.0, ...</td>\n",
       "    </tr>\n",
       "    <tr>\n",
       "      <th>3</th>\n",
       "      <td>M S P E C A R A A G D A P L R S L E Q A N R T ...</td>\n",
       "      <td>GO:0008150 GO:0050896 GO:0065007 GO:0009987</td>\n",
       "      <td>[0.0, 0.0, 0.0, 0.0, 0.0, 1.0, 1.0, 0.0, 0.0, ...</td>\n",
       "    </tr>\n",
       "    <tr>\n",
       "      <th>4</th>\n",
       "      <td>M S A D G E F T R T Q I F G T V F E I T N R Y ...</td>\n",
       "      <td>GO:0008150 GO:0000003 GO:0042592 GO:0050896 GO...</td>\n",
       "      <td>[0.0, 0.0, 0.0, 0.0, 0.0, 1.0, 1.0, 1.0, 1.0, ...</td>\n",
       "    </tr>\n",
       "    <tr>\n",
       "      <th>...</th>\n",
       "      <td>...</td>\n",
       "      <td>...</td>\n",
       "      <td>...</td>\n",
       "    </tr>\n",
       "    <tr>\n",
       "      <th>30746</th>\n",
       "      <td>M N V I W R S C I C R L R Q G K V P H R C Q S ...</td>\n",
       "      <td>GO:0008150 GO:0009987 GO:0008152 GO:0032502 GO...</td>\n",
       "      <td>[0.0, 0.0, 0.0, 0.0, 0.0, 1.0, 1.0, 1.0, 1.0, ...</td>\n",
       "    </tr>\n",
       "    <tr>\n",
       "      <th>30747</th>\n",
       "      <td>M S R E L M V E T G G E L I G N T P L L K L N ...</td>\n",
       "      <td>GO:0008150 GO:0009987 GO:0008152 GO:0044238 GO...</td>\n",
       "      <td>[0.0, 0.0, 0.0, 0.0, 0.0, 1.0, 1.0, 1.0, 1.0, ...</td>\n",
       "    </tr>\n",
       "    <tr>\n",
       "      <th>30748</th>\n",
       "      <td>M A P K A K I V L V G S G M I G G V M A T L I ...</td>\n",
       "      <td>GO:0008150 GO:0009987 GO:0008152 GO:0044238 GO...</td>\n",
       "      <td>[0.0, 0.0, 0.0, 0.0, 0.0, 1.0, 1.0, 1.0, 1.0, ...</td>\n",
       "    </tr>\n",
       "    <tr>\n",
       "      <th>30749</th>\n",
       "      <td>M A S K R I L K E L K D L Q K D P P T S C S A ...</td>\n",
       "      <td>GO:0008150 GO:0008152 GO:0044238 GO:0009056 GO...</td>\n",
       "      <td>[0.0, 0.0, 0.0, 0.0, 0.0, 1.0, 0.0, 1.0, 1.0, ...</td>\n",
       "    </tr>\n",
       "    <tr>\n",
       "      <th>30750</th>\n",
       "      <td>M E P E L E H T L P G T L T W S H S G G P E S ...</td>\n",
       "      <td>GO:0008150 GO:0050896 GO:0065007 GO:0009987 GO...</td>\n",
       "      <td>[0.0, 0.0, 0.0, 0.0, 0.0, 1.0, 1.0, 1.0, 1.0, ...</td>\n",
       "    </tr>\n",
       "  </tbody>\n",
       "</table>\n",
       "<p>30751 rows × 3 columns</p>\n",
       "</div>"
      ],
      "text/plain": [
       "                                                     seq  \\\n",
       "0      M R V A M L T R E Y P P E V Y G G A G V H V T ...   \n",
       "1      M A D E Q E I M C K L E S I K E I R N K T L Q ...   \n",
       "2      M P L R L L L L L L W L W G L Q W A E T D S E ...   \n",
       "3      M S P E C A R A A G D A P L R S L E Q A N R T ...   \n",
       "4      M S A D G E F T R T Q I F G T V F E I T N R Y ...   \n",
       "...                                                  ...   \n",
       "30746  M N V I W R S C I C R L R Q G K V P H R C Q S ...   \n",
       "30747  M S R E L M V E T G G E L I G N T P L L K L N ...   \n",
       "30748  M A P K A K I V L V G S G M I G G V M A T L I ...   \n",
       "30749  M A S K R I L K E L K D L Q K D P P T S C S A ...   \n",
       "30750  M E P E L E H T L P G T L T W S H S G G P E S ...   \n",
       "\n",
       "                                                     ann  \\\n",
       "0            GO:0008150 GO:0008152 GO:0044238 GO:0071704   \n",
       "1      GO:0008150 GO:0065007 GO:0032501 GO:0008152 GO...   \n",
       "2      GO:0008150 GO:0050896 GO:0065007 GO:0009987 GO...   \n",
       "3            GO:0008150 GO:0050896 GO:0065007 GO:0009987   \n",
       "4      GO:0008150 GO:0000003 GO:0042592 GO:0050896 GO...   \n",
       "...                                                  ...   \n",
       "30746  GO:0008150 GO:0009987 GO:0008152 GO:0032502 GO...   \n",
       "30747  GO:0008150 GO:0009987 GO:0008152 GO:0044238 GO...   \n",
       "30748  GO:0008150 GO:0009987 GO:0008152 GO:0044238 GO...   \n",
       "30749  GO:0008150 GO:0008152 GO:0044238 GO:0009056 GO...   \n",
       "30750  GO:0008150 GO:0050896 GO:0065007 GO:0009987 GO...   \n",
       "\n",
       "                                            ann_bin_mask  \n",
       "0      [0.0, 0.0, 0.0, 0.0, 0.0, 1.0, 0.0, 1.0, 1.0, ...  \n",
       "1      [0.0, 0.0, 0.0, 0.0, 0.0, 1.0, 0.0, 1.0, 1.0, ...  \n",
       "2      [0.0, 0.0, 0.0, 0.0, 0.0, 1.0, 1.0, 0.0, 0.0, ...  \n",
       "3      [0.0, 0.0, 0.0, 0.0, 0.0, 1.0, 1.0, 0.0, 0.0, ...  \n",
       "4      [0.0, 0.0, 0.0, 0.0, 0.0, 1.0, 1.0, 1.0, 1.0, ...  \n",
       "...                                                  ...  \n",
       "30746  [0.0, 0.0, 0.0, 0.0, 0.0, 1.0, 1.0, 1.0, 1.0, ...  \n",
       "30747  [0.0, 0.0, 0.0, 0.0, 0.0, 1.0, 1.0, 1.0, 1.0, ...  \n",
       "30748  [0.0, 0.0, 0.0, 0.0, 0.0, 1.0, 1.0, 1.0, 1.0, ...  \n",
       "30749  [0.0, 0.0, 0.0, 0.0, 0.0, 1.0, 0.0, 1.0, 1.0, ...  \n",
       "30750  [0.0, 0.0, 0.0, 0.0, 0.0, 1.0, 1.0, 1.0, 1.0, ...  \n",
       "\n",
       "[30751 rows x 3 columns]"
      ]
     },
     "execution_count": 119,
     "metadata": {},
     "output_type": "execute_result"
    }
   ],
   "source": [
    "ann_dataset = ann_dataset.sample(frac=1).reset_index(drop=True)\n",
    "ann_dataset"
   ]
  },
  {
   "cell_type": "code",
   "execution_count": 120,
   "id": "a59559bc-6dc5-4b54-bca5-0641e0bc9f8c",
   "metadata": {},
   "outputs": [],
   "source": [
    "from toy_transformer import *"
   ]
  },
  {
   "cell_type": "code",
   "execution_count": null,
   "id": "6ac89a3f-8d63-42d2-af0f-56e0a3bcca50",
   "metadata": {},
   "outputs": [],
   "source": []
  },
  {
   "cell_type": "markdown",
   "id": "cd75514c-c49c-4023-9148-f404713ba417",
   "metadata": {},
   "source": [
    "## Masks"
   ]
  },
  {
   "cell_type": "code",
   "execution_count": 121,
   "id": "6a6231f5-8004-4655-bbdf-0a9a57677a86",
   "metadata": {},
   "outputs": [],
   "source": [
    "def generate_square_subsequent_mask(sz):\n",
    "    # mask = (torch.triu(torch.ones((sz, sz), device=DEVICE)) == 1).transpose(0, 1)\n",
    "    mask = (torch.tril(torch.ones((sz, sz), device=DEVICE)) == 1).transpose(0, 1)\n",
    "    mask = mask.float().masked_fill(mask == 0, float('-inf')).masked_fill(mask == 1, float(0.0))\n",
    "    return mask\n",
    "def generate_square_diagnal_mask(sz):\n",
    "    mask = (torch.diag(torch.ones(sz, device=DEVICE)))\n",
    "    # mask = 1 - mask\n",
    "    # mask = torch.zeros([sz, sz], device=DEVICE)\n",
    "    mask = mask.float().masked_fill(mask == 0, float('-inf')).masked_fill(mask == 1, float(0.0))\n",
    "    return mask\n"
   ]
  },
  {
   "cell_type": "code",
   "execution_count": 122,
   "id": "5a2b5f8a-99a1-46c9-bc49-156941bfb28f",
   "metadata": {},
   "outputs": [
    {
     "data": {
      "text/plain": [
       "tensor([[0., 0., 0., 0., 0.],\n",
       "        [-inf, 0., 0., 0., 0.],\n",
       "        [-inf, -inf, 0., 0., 0.],\n",
       "        [-inf, -inf, -inf, 0., 0.],\n",
       "        [-inf, -inf, -inf, -inf, 0.]], device='cuda:0')"
      ]
     },
     "execution_count": 122,
     "metadata": {},
     "output_type": "execute_result"
    }
   ],
   "source": [
    "generate_square_subsequent_mask(5)"
   ]
  },
  {
   "cell_type": "code",
   "execution_count": null,
   "id": "ce116549-de03-486b-bb88-f11d8f7afd4b",
   "metadata": {},
   "outputs": [],
   "source": []
  },
  {
   "cell_type": "code",
   "execution_count": 123,
   "id": "0f6a4fa9-8858-4a0e-9f13-12059dab8f63",
   "metadata": {},
   "outputs": [
    {
     "data": {
      "text/plain": [
       "tensor([[0., -inf, -inf, -inf, -inf],\n",
       "        [-inf, 0., -inf, -inf, -inf],\n",
       "        [-inf, -inf, 0., -inf, -inf],\n",
       "        [-inf, -inf, -inf, 0., -inf],\n",
       "        [-inf, -inf, -inf, -inf, 0.]], device='cuda:0')"
      ]
     },
     "execution_count": 123,
     "metadata": {},
     "output_type": "execute_result"
    }
   ],
   "source": [
    "generate_square_diagnal_mask(5)"
   ]
  },
  {
   "cell_type": "code",
   "execution_count": 124,
   "id": "ccaab9cf-4804-4ecd-89a7-673d479ddf3c",
   "metadata": {},
   "outputs": [],
   "source": [
    "def create_subsequent_mask(src, tgt):\n",
    "    src_seq_len = src.shape[0]\n",
    "    tgt_seq_len = tgt.shape[0]\n",
    "\n",
    "    tgt_mask = generate_square_subsequent_mask(tgt_seq_len)\n",
    "    src_mask = torch.zeros((src_seq_len, src_seq_len), device=DEVICE).type(torch.bool)\n",
    "\n",
    "    src_padding_mask = (src == PAD_IDX).transpose(0, 1)\n",
    "    tgt_padding_mask = (tgt == PAD_IDX).transpose(0, 1)\n",
    "    return src_mask, tgt_mask, src_padding_mask, tgt_padding_mask\n",
    "\n",
    "\n",
    "def target_mask_fn(tgt):\n",
    "    tgt_seq_len = tgt.shape[1]\n",
    "\n",
    "    tgt_mask = generate_square_subsequent_mask(tgt_seq_len)\n",
    "\n",
    "    return tgt_mask\n",
    "\n",
    "\n",
    "def target_one_out_mask(tgt):\n",
    "    tgt_seq_len = tgt.shape[1]\n",
    "\n",
    "    tgt_mask = generate_square_diagnal_mask(tgt_seq_len)\n",
    "\n",
    "    return tgt_mask\n"
   ]
  },
  {
   "cell_type": "code",
   "execution_count": 125,
   "id": "5d4c335e-f4ef-45b6-a5fc-d40da9a0be20",
   "metadata": {},
   "outputs": [],
   "source": [
    "from torchtext.data.utils import get_tokenizer\n",
    "from torchtext.vocab import build_vocab_from_iterator\n",
    "from typing import Iterable, List"
   ]
  },
  {
   "cell_type": "code",
   "execution_count": null,
   "id": "f562da9b-523a-42bd-8690-b93c85023bfe",
   "metadata": {},
   "outputs": [],
   "source": []
  },
  {
   "cell_type": "markdown",
   "id": "524ea9aa-698b-466c-9b40-84276baa025e",
   "metadata": {},
   "source": [
    "## Tokenizer"
   ]
  },
  {
   "cell_type": "code",
   "execution_count": 126,
   "id": "e6eb8124-c37f-4860-80d9-b42b1a87762a",
   "metadata": {},
   "outputs": [],
   "source": [
    "TGT_LANGUAGE = 'ann'\n",
    "SRC_LANGUAGE = 'seq'"
   ]
  },
  {
   "cell_type": "code",
   "execution_count": 127,
   "id": "e2fdc032-1ede-47ae-a641-00d47f58b00c",
   "metadata": {},
   "outputs": [],
   "source": [
    "from tokenizers import Tokenizer, models, pre_tokenizers, trainers\n",
    "from tokenizers.processors import TemplateProcessing"
   ]
  },
  {
   "cell_type": "code",
   "execution_count": null,
   "id": "13e800c3-87ce-4c53-924a-44ec838960e7",
   "metadata": {},
   "outputs": [],
   "source": []
  },
  {
   "cell_type": "code",
   "execution_count": 128,
   "id": "a904c3db-9c6a-438a-9df4-85927ee22b9e",
   "metadata": {},
   "outputs": [],
   "source": [
    "# all_anns = ann_dataset['ann'].apply(lambda x: x.split()).sum()"
   ]
  },
  {
   "cell_type": "code",
   "execution_count": 129,
   "id": "d29cce96-4e4c-47b3-9d7b-427052f80668",
   "metadata": {},
   "outputs": [],
   "source": [
    "special_tokens = [\"[UNK]\", \"[PAD]\", \"[CLS]\", \"[SEP]\", \"[MASK]\"]\n",
    "\n",
    "def get_tokenizer(lang):\n",
    "    tokenizer = Tokenizer(models.WordLevel(unk_token='[UNK]'))\n",
    "    tokenizer.pre_tokenizer = pre_tokenizers.WhitespaceSplit()\n",
    "    \n",
    "    trainer = trainers.WordLevelTrainer(vocab_size=600, special_tokens=special_tokens, min_frequency=0)\n",
    "    tokenizer.train_from_iterator(list(ann_dataset[lang])*10, trainer=trainer)\n",
    "    \n",
    "    tokenizer.post_processor = TemplateProcessing(\n",
    "        single=f\"[CLS]:0 $A:0 [SEP]:0\",\n",
    "        pair=f\"[CLS]:0 $A:0 [SEP]:0 $B:1 [SEP]:1\",\n",
    "        special_tokens=[\n",
    "            (\"[CLS]\", tokenizer.token_to_id('[CLS]')),\n",
    "            (\"[SEP]\", tokenizer.token_to_id('[SEP]')),\n",
    "        ],\n",
    "    )\n",
    "    return tokenizer\n"
   ]
  },
  {
   "cell_type": "code",
   "execution_count": 130,
   "id": "c91ad759-45a5-48bb-be02-ca28719c1e17",
   "metadata": {},
   "outputs": [],
   "source": [
    "tokenizers = {lang: get_tokenizer(lang) for lang in (SRC_LANGUAGE, TGT_LANGUAGE)}"
   ]
  },
  {
   "cell_type": "code",
   "execution_count": 131,
   "id": "62d6f254-0a3c-44f3-a161-5f079396e484",
   "metadata": {},
   "outputs": [
    {
     "data": {
      "text/plain": [
       "2"
      ]
     },
     "execution_count": 131,
     "metadata": {},
     "output_type": "execute_result"
    }
   ],
   "source": [
    "tokenizers['ann'].token_to_id('[CLS]')"
   ]
  },
  {
   "cell_type": "code",
   "execution_count": 132,
   "id": "54ab9389-45ec-4718-820a-faa8bd14b574",
   "metadata": {},
   "outputs": [
    {
     "data": {
      "text/html": [
       "<div>\n",
       "<style scoped>\n",
       "    .dataframe tbody tr th:only-of-type {\n",
       "        vertical-align: middle;\n",
       "    }\n",
       "\n",
       "    .dataframe tbody tr th {\n",
       "        vertical-align: top;\n",
       "    }\n",
       "\n",
       "    .dataframe thead th {\n",
       "        text-align: right;\n",
       "    }\n",
       "</style>\n",
       "<table border=\"1\" class=\"dataframe\">\n",
       "  <thead>\n",
       "    <tr style=\"text-align: right;\">\n",
       "      <th></th>\n",
       "      <th>0</th>\n",
       "      <th>1</th>\n",
       "      <th>2</th>\n",
       "      <th>3</th>\n",
       "      <th>4</th>\n",
       "      <th>5</th>\n",
       "    </tr>\n",
       "  </thead>\n",
       "  <tbody>\n",
       "    <tr>\n",
       "      <th>0</th>\n",
       "      <td>[CLS]</td>\n",
       "      <td>GO:0008150</td>\n",
       "      <td>GO:0008152</td>\n",
       "      <td>GO:0044238</td>\n",
       "      <td>GO:0071704</td>\n",
       "      <td>[SEP]</td>\n",
       "    </tr>\n",
       "    <tr>\n",
       "      <th>1</th>\n",
       "      <td>2</td>\n",
       "      <td>5</td>\n",
       "      <td>8</td>\n",
       "      <td>12</td>\n",
       "      <td>7</td>\n",
       "      <td>3</td>\n",
       "    </tr>\n",
       "  </tbody>\n",
       "</table>\n",
       "</div>"
      ],
      "text/plain": [
       "       0           1           2           3           4      5\n",
       "0  [CLS]  GO:0008150  GO:0008152  GO:0044238  GO:0071704  [SEP]\n",
       "1      2           5           8          12           7      3"
      ]
     },
     "execution_count": 132,
     "metadata": {},
     "output_type": "execute_result"
    }
   ],
   "source": [
    "encoding = tokenizers['ann'].encode(ann_dataset.iloc[0].ann)\n",
    "\n",
    "pd.DataFrame((encoding.tokens, encoding.ids))"
   ]
  },
  {
   "cell_type": "code",
   "execution_count": 133,
   "id": "67bd5a3f-8713-4353-bfa0-6f30b4adc785",
   "metadata": {
    "scrolled": true
   },
   "outputs": [
    {
     "data": {
      "text/html": [
       "<div>\n",
       "<style scoped>\n",
       "    .dataframe tbody tr th:only-of-type {\n",
       "        vertical-align: middle;\n",
       "    }\n",
       "\n",
       "    .dataframe tbody tr th {\n",
       "        vertical-align: top;\n",
       "    }\n",
       "\n",
       "    .dataframe thead th {\n",
       "        text-align: right;\n",
       "    }\n",
       "</style>\n",
       "<table border=\"1\" class=\"dataframe\">\n",
       "  <thead>\n",
       "    <tr style=\"text-align: right;\">\n",
       "      <th></th>\n",
       "      <th>0</th>\n",
       "      <th>1</th>\n",
       "      <th>2</th>\n",
       "      <th>3</th>\n",
       "      <th>4</th>\n",
       "      <th>5</th>\n",
       "      <th>6</th>\n",
       "      <th>7</th>\n",
       "      <th>8</th>\n",
       "      <th>9</th>\n",
       "      <th>...</th>\n",
       "      <th>379</th>\n",
       "      <th>380</th>\n",
       "      <th>381</th>\n",
       "      <th>382</th>\n",
       "      <th>383</th>\n",
       "      <th>384</th>\n",
       "      <th>385</th>\n",
       "      <th>386</th>\n",
       "      <th>387</th>\n",
       "      <th>388</th>\n",
       "    </tr>\n",
       "  </thead>\n",
       "  <tbody>\n",
       "    <tr>\n",
       "      <th>0</th>\n",
       "      <td>[CLS]</td>\n",
       "      <td>M</td>\n",
       "      <td>R</td>\n",
       "      <td>V</td>\n",
       "      <td>A</td>\n",
       "      <td>M</td>\n",
       "      <td>L</td>\n",
       "      <td>T</td>\n",
       "      <td>R</td>\n",
       "      <td>E</td>\n",
       "      <td>...</td>\n",
       "      <td>L</td>\n",
       "      <td>D</td>\n",
       "      <td>I</td>\n",
       "      <td>Y</td>\n",
       "      <td>R</td>\n",
       "      <td>K</td>\n",
       "      <td>V</td>\n",
       "      <td>C</td>\n",
       "      <td>A</td>\n",
       "      <td>[SEP]</td>\n",
       "    </tr>\n",
       "    <tr>\n",
       "      <th>1</th>\n",
       "      <td>2</td>\n",
       "      <td>21</td>\n",
       "      <td>12</td>\n",
       "      <td>9</td>\n",
       "      <td>7</td>\n",
       "      <td>21</td>\n",
       "      <td>5</td>\n",
       "      <td>14</td>\n",
       "      <td>12</td>\n",
       "      <td>10</td>\n",
       "      <td>...</td>\n",
       "      <td>5</td>\n",
       "      <td>15</td>\n",
       "      <td>16</td>\n",
       "      <td>20</td>\n",
       "      <td>12</td>\n",
       "      <td>11</td>\n",
       "      <td>9</td>\n",
       "      <td>23</td>\n",
       "      <td>7</td>\n",
       "      <td>3</td>\n",
       "    </tr>\n",
       "  </tbody>\n",
       "</table>\n",
       "<p>2 rows × 389 columns</p>\n",
       "</div>"
      ],
      "text/plain": [
       "     0   1   2   3   4   5   6   7   8   9    ... 379 380 381 382 383 384 385  \\\n",
       "0  [CLS]   M   R   V   A   M   L   T   R   E  ...   L   D   I   Y   R   K   V   \n",
       "1      2  21  12   9   7  21   5  14  12  10  ...   5  15  16  20  12  11   9   \n",
       "\n",
       "  386 387    388  \n",
       "0   C   A  [SEP]  \n",
       "1  23   7      3  \n",
       "\n",
       "[2 rows x 389 columns]"
      ]
     },
     "execution_count": 133,
     "metadata": {},
     "output_type": "execute_result"
    }
   ],
   "source": [
    "encoding = tokenizers['seq'].encode(ann_dataset.iloc[0].seq)\n",
    "\n",
    "pd.DataFrame((encoding.tokens, encoding.ids))"
   ]
  },
  {
   "cell_type": "code",
   "execution_count": 134,
   "id": "2ba69712-1789-42f1-9376-033f11113c54",
   "metadata": {},
   "outputs": [
    {
     "data": {
      "text/plain": [
       "119"
      ]
     },
     "execution_count": 134,
     "metadata": {},
     "output_type": "execute_result"
    }
   ],
   "source": [
    "tokenizers['ann'].get_vocab_size()"
   ]
  },
  {
   "cell_type": "code",
   "execution_count": 135,
   "id": "85cbdf9b-52ae-4103-8d34-5238ae06e115",
   "metadata": {
    "scrolled": true
   },
   "outputs": [
    {
     "data": {
      "text/plain": [
       "{'GO:0030228': 92,\n",
       " 'GO:1990298': 107,\n",
       " 'GO:0034518': 77,\n",
       " 'GO:1990845': 74,\n",
       " 'GO:0098772': 23,\n",
       " 'GO:0016999': 49,\n",
       " 'GO:0044238': 12,\n",
       " 'GO:0044423': 63,\n",
       " 'GO:0140416': 69,\n",
       " 'GO:1904090': 90,\n",
       " 'GO:0042592': 27,\n",
       " 'GO:0042440': 45,\n",
       " 'GO:0140489': 102,\n",
       " 'GO:0140299': 68,\n",
       " 'GO:0030545': 35,\n",
       " 'GO:0032994': 72,\n",
       " 'GO:0140223': 73,\n",
       " 'GO:0033186': 95,\n",
       " 'GO:0009987': 6,\n",
       " 'GO:0005575': 16,\n",
       " 'GO:0022414': 22,\n",
       " 'GO:0051179': 18,\n",
       " 'GO:0140657': 47,\n",
       " 'GO:0002252': 43,\n",
       " 'GO:0019882': 54,\n",
       " 'GO:0040011': 37,\n",
       " 'GO:0019028': 99,\n",
       " 'GO:0031386': 93,\n",
       " 'GO:0060089': 32,\n",
       " 'GO:0005215': 42,\n",
       " 'GO:0070287': 113,\n",
       " 'GO:0098561': 96,\n",
       " 'GO:0140677': 60,\n",
       " 'GO:0043473': 64,\n",
       " 'GO:0003824': 30,\n",
       " '[MASK]': 4,\n",
       " 'GO:0051703': 51,\n",
       " 'GO:0036284': 112,\n",
       " 'GO:0004873': 98,\n",
       " 'GO:1990923': 118,\n",
       " 'GO:0019748': 39,\n",
       " 'GO:0065007': 9,\n",
       " 'GO:0016209': 53,\n",
       " 'GO:0002376': 26,\n",
       " 'GO:0070085': 44,\n",
       " 'GO:0000417': 110,\n",
       " 'GO:0008150': 5,\n",
       " 'GO:0036338': 85,\n",
       " 'GO:0032505': 56,\n",
       " 'GO:1901764': 105,\n",
       " 'GO:0044281': 36,\n",
       " 'GO:0005198': 57,\n",
       " 'GO:0090729': 58,\n",
       " 'GO:0000408': 84,\n",
       " 'GO:0032993': 28,\n",
       " 'GO:0000003': 21,\n",
       " 'GO:0006807': 11,\n",
       " 'GO:0097690': 115,\n",
       " 'GO:0008152': 8,\n",
       " 'GO:0019953': 25,\n",
       " 'GO:0004998': 111,\n",
       " 'GO:0140776': 88,\n",
       " 'GO:1902421': 106,\n",
       " 'GO:0038023': 33,\n",
       " 'GO:0140912': 117,\n",
       " 'GO:0038024': 71,\n",
       " 'GO:0070988': 65,\n",
       " 'GO:0032501': 15,\n",
       " 'GO:0000156': 79,\n",
       " 'GO:0019033': 83,\n",
       " 'GO:0009058': 14,\n",
       " 'GO:1990526': 108,\n",
       " 'GO:0140488': 116,\n",
       " 'GO:0032991': 17,\n",
       " 'GO:0060090': 50,\n",
       " 'GO:0048511': 46,\n",
       " 'GO:0110165': 24,\n",
       " 'GO:0018933': 91,\n",
       " 'GO:0044419': 55,\n",
       " '[SEP]': 3,\n",
       " 'GO:0140659': 97,\n",
       " 'GO:0019954': 81,\n",
       " 'GO:0044697': 101,\n",
       " 'GO:0030234': 29,\n",
       " 'GO:0140104': 70,\n",
       " 'GO:0006116': 80,\n",
       " 'GO:0097078': 114,\n",
       " 'GO:0055036': 89,\n",
       " 'GO:0005488': 20,\n",
       " 'GO:0032259': 40,\n",
       " 'GO:0003774': 75,\n",
       " 'GO:0009056': 19,\n",
       " 'GO:0140537': 87,\n",
       " 'GO:0140490': 103,\n",
       " 'GO:0040007': 34,\n",
       " 'GO:1990527': 109,\n",
       " 'GO:1990351': 38,\n",
       " 'GO:0060590': 59,\n",
       " '[PAD]': 1,\n",
       " 'GO:0050896': 10,\n",
       " '[UNK]': 0,\n",
       " 'GO:0044183': 78,\n",
       " 'GO:0033061': 100,\n",
       " 'GO:0071704': 7,\n",
       " 'GO:0046729': 86,\n",
       " 'GO:0045730': 76,\n",
       " 'GO:0016032': 41,\n",
       " 'GO:0140691': 104,\n",
       " 'GO:0045182': 61,\n",
       " 'GO:0032963': 82,\n",
       " '[CLS]': 2,\n",
       " 'GO:0031992': 94,\n",
       " 'GO:0140313': 66,\n",
       " 'GO:0016247': 52,\n",
       " 'GO:1902494': 31,\n",
       " 'GO:0140678': 62,\n",
       " 'GO:0006735': 67,\n",
       " 'GO:0140110': 48,\n",
       " 'GO:0032502': 13}"
      ]
     },
     "execution_count": 135,
     "metadata": {},
     "output_type": "execute_result"
    }
   ],
   "source": [
    "tokenizers['ann'].get_vocab()"
   ]
  },
  {
   "cell_type": "code",
   "execution_count": 136,
   "id": "9d40d6cc-61c1-4a45-858a-3933f37458b2",
   "metadata": {},
   "outputs": [
    {
     "data": {
      "text/plain": [
       "25"
      ]
     },
     "execution_count": 136,
     "metadata": {},
     "output_type": "execute_result"
    }
   ],
   "source": [
    "tokenizers['seq'].get_vocab_size()"
   ]
  },
  {
   "cell_type": "code",
   "execution_count": 137,
   "id": "69280c32-d6d1-4e40-bfc0-c05b913e9425",
   "metadata": {},
   "outputs": [
    {
     "data": {
      "text/plain": [
       "[2, 7, 15, 7, 3]"
      ]
     },
     "execution_count": 137,
     "metadata": {},
     "output_type": "execute_result"
    }
   ],
   "source": [
    "tokenizers['seq'].encode('A D A').ids"
   ]
  },
  {
   "cell_type": "code",
   "execution_count": 138,
   "id": "76e9e154-c47b-454d-a3e7-44be1b50efd9",
   "metadata": {},
   "outputs": [
    {
     "data": {
      "text/plain": [
       "['GO:0050896', 'GO:0032502', 'GO:0022414']"
      ]
     },
     "execution_count": 138,
     "metadata": {},
     "output_type": "execute_result"
    }
   ],
   "source": [
    "tokenizers['ann'].decode([10, 13, 22]).split()"
   ]
  },
  {
   "cell_type": "code",
   "execution_count": 139,
   "id": "b2f2163a-b213-4215-a252-93ce1525dd38",
   "metadata": {},
   "outputs": [],
   "source": [
    "def generate_tokens(logits):\n",
    "    tokens = torch.max(logits, dim=-1)[1]\n",
    "    return tokens\n",
    "\n",
    "\n",
    "def decode_tokens(tokens, language: str):\n",
    "    words = tokenizers[language].decode(tokens.flatten().tolist()).split()\n",
    "    words = np.array(words).reshape(tokens.shape)\n",
    "    return words\n",
    "\n"
   ]
  },
  {
   "cell_type": "code",
   "execution_count": null,
   "id": "8b526d11-a34e-4de2-a2da-ba380761270b",
   "metadata": {},
   "outputs": [],
   "source": []
  },
  {
   "cell_type": "markdown",
   "id": "4ed83e2c-69a6-4589-8fb8-be88b0e239d3",
   "metadata": {},
   "source": [
    "## Create mask label column"
   ]
  },
  {
   "cell_type": "code",
   "execution_count": 140,
   "id": "bd130e95-520b-4fd7-ae53-9204c56a2571",
   "metadata": {},
   "outputs": [
    {
     "data": {
      "text/plain": [
       "array([0., 0., 0., 0., 0., 1., 1., 1., 0., 1., 1., 1., 1., 0., 0., 0., 0.,\n",
       "       0., 0., 1., 0., 0., 0., 0., 0., 0., 1., 0., 0., 0., 0., 0., 0., 0.,\n",
       "       0., 0., 1., 0., 0., 0., 0., 0., 0., 0., 0., 0., 0., 0., 0., 0., 0.,\n",
       "       0., 0., 0., 1., 0., 0., 0., 0., 0., 0., 0., 0., 0., 0., 0., 0., 0.,\n",
       "       0., 0., 0., 0., 0., 0., 0., 0., 0., 0., 0., 0., 0., 0., 0., 0., 0.,\n",
       "       0., 0., 0., 0., 0., 0., 0., 0., 0., 0., 0., 0., 0., 0., 0., 0., 0.,\n",
       "       0., 0., 0., 0., 0., 0., 0., 0., 0., 0., 0., 0., 0., 0., 0., 0., 0.])"
      ]
     },
     "execution_count": 140,
     "metadata": {},
     "output_type": "execute_result"
    }
   ],
   "source": [
    "def create_bin_mask(tokenizer, seq):\n",
    "    n = tokenizer.get_vocab_size()\n",
    "    # print(n)\n",
    "    mask = np.zeros([n])\n",
    "    for id in tokenizer.encode(seq).ids:\n",
    "        mask[id] = True\n",
    "    mask[:5] = 0\n",
    "    return mask\n",
    "# ann_dataset\n",
    "\n",
    "create_bin_mask(tokenizers['ann'], ann_dataset.iloc[10]['ann'])"
   ]
  },
  {
   "cell_type": "code",
   "execution_count": 141,
   "id": "10cc779e-aa1a-4577-bac4-ae445aa192fd",
   "metadata": {},
   "outputs": [
    {
     "data": {
      "text/plain": [
       "array([  0,   1,   2,   3,   4,   5,   6,   7,   8,   9,  10,  11,  12,\n",
       "        13,  14,  15,  16,  17,  18,  19,  20,  21,  22,  23,  24,  25,\n",
       "        26,  27,  28,  29,  30,  31,  32,  33,  34,  35,  36,  37,  38,\n",
       "        39,  40,  41,  42,  43,  44,  45,  46,  47,  48,  49,  50,  51,\n",
       "        52,  53,  54,  55,  56,  57,  58,  59,  60,  61,  62,  63,  64,\n",
       "        65,  66,  67,  68,  69,  70,  71,  72,  73,  74,  75,  76,  77,\n",
       "        78,  79,  80,  81,  82,  83,  84,  85,  86,  87,  88,  89,  90,\n",
       "        91,  92,  93,  94,  95,  96,  97,  98,  99, 100, 101, 102, 103,\n",
       "       104, 105, 106, 107, 108, 109, 110, 111, 112, 113, 114, 115, 116,\n",
       "       117, 118])"
      ]
     },
     "execution_count": 141,
     "metadata": {},
     "output_type": "execute_result"
    }
   ],
   "source": [
    "def get_label_array(tokenizer):\n",
    "    n = tokenizer.get_vocab_size()\n",
    "    tokens = [''] * n\n",
    "    for id in range(n):\n",
    "        # tokens[id] = tokenizer.id_to_token(id)\n",
    "        tokens[id] = id\n",
    "    return np.array(tokens)\n",
    "labels = get_label_array(tokenizers['ann'])\n",
    "labels"
   ]
  },
  {
   "cell_type": "code",
   "execution_count": 142,
   "id": "1d99f250-418d-430b-9e49-1c77fb21f552",
   "metadata": {},
   "outputs": [],
   "source": [
    "ann_dataset['ann_bin_mask'] = ann_dataset['ann'].apply(lambda x: create_bin_mask(tokenizers['ann'], x))"
   ]
  },
  {
   "cell_type": "code",
   "execution_count": 143,
   "id": "130a4b83-0ffe-4796-bf9a-b39ef6cc42be",
   "metadata": {},
   "outputs": [],
   "source": [
    "NUM_CLASSES = tokenizers['ann'].get_vocab_size()"
   ]
  },
  {
   "cell_type": "markdown",
   "id": "a0ec99eb-0154-4a67-9158-e030d584d434",
   "metadata": {},
   "source": [
    "## Load Term Embeddings"
   ]
  },
  {
   "cell_type": "code",
   "execution_count": 144,
   "id": "bdf26416-73ca-4246-a53e-efcc8a2dd3bf",
   "metadata": {},
   "outputs": [
    {
     "data": {
      "text/html": [
       "<div>\n",
       "<style scoped>\n",
       "    .dataframe tbody tr th:only-of-type {\n",
       "        vertical-align: middle;\n",
       "    }\n",
       "\n",
       "    .dataframe tbody tr th {\n",
       "        vertical-align: top;\n",
       "    }\n",
       "\n",
       "    .dataframe thead th {\n",
       "        text-align: right;\n",
       "    }\n",
       "</style>\n",
       "<table border=\"1\" class=\"dataframe\">\n",
       "  <thead>\n",
       "    <tr style=\"text-align: right;\">\n",
       "      <th></th>\n",
       "      <th>desc</th>\n",
       "    </tr>\n",
       "    <tr>\n",
       "      <th>id</th>\n",
       "      <th></th>\n",
       "    </tr>\n",
       "  </thead>\n",
       "  <tbody>\n",
       "    <tr>\n",
       "      <th>GO:0000001</th>\n",
       "      <td>\"The distribution of mitochondria, including t...</td>\n",
       "    </tr>\n",
       "    <tr>\n",
       "      <th>GO:0000002</th>\n",
       "      <td>\"The maintenance of the structure and integrit...</td>\n",
       "    </tr>\n",
       "    <tr>\n",
       "      <th>GO:0000003</th>\n",
       "      <td>\"The production of new individuals that contai...</td>\n",
       "    </tr>\n",
       "    <tr>\n",
       "      <th>GO:0000006</th>\n",
       "      <td>\"Enables the transfer of zinc ions (Zn2+) from...</td>\n",
       "    </tr>\n",
       "    <tr>\n",
       "      <th>GO:0000007</th>\n",
       "      <td>\"Enables the transfer of a solute or solutes f...</td>\n",
       "    </tr>\n",
       "    <tr>\n",
       "      <th>...</th>\n",
       "      <td>...</td>\n",
       "    </tr>\n",
       "    <tr>\n",
       "      <th>GO:2001313</th>\n",
       "      <td>\"The chemical reactions and pathways involving...</td>\n",
       "    </tr>\n",
       "    <tr>\n",
       "      <th>GO:2001314</th>\n",
       "      <td>\"The chemical reactions and pathways resulting...</td>\n",
       "    </tr>\n",
       "    <tr>\n",
       "      <th>GO:2001315</th>\n",
       "      <td>\"The chemical reactions and pathways resulting...</td>\n",
       "    </tr>\n",
       "    <tr>\n",
       "      <th>GO:2001316</th>\n",
       "      <td>\"The chemical reactions and pathways involving...</td>\n",
       "    </tr>\n",
       "    <tr>\n",
       "      <th>GO:2001317</th>\n",
       "      <td>\"The chemical reactions and pathways resulting...</td>\n",
       "    </tr>\n",
       "  </tbody>\n",
       "</table>\n",
       "<p>43093 rows × 1 columns</p>\n",
       "</div>"
      ],
      "text/plain": [
       "                                                         desc\n",
       "id                                                           \n",
       "GO:0000001  \"The distribution of mitochondria, including t...\n",
       "GO:0000002  \"The maintenance of the structure and integrit...\n",
       "GO:0000003  \"The production of new individuals that contai...\n",
       "GO:0000006  \"Enables the transfer of zinc ions (Zn2+) from...\n",
       "GO:0000007  \"Enables the transfer of a solute or solutes f...\n",
       "...                                                       ...\n",
       "GO:2001313  \"The chemical reactions and pathways involving...\n",
       "GO:2001314  \"The chemical reactions and pathways resulting...\n",
       "GO:2001315  \"The chemical reactions and pathways resulting...\n",
       "GO:2001316  \"The chemical reactions and pathways involving...\n",
       "GO:2001317  \"The chemical reactions and pathways resulting...\n",
       "\n",
       "[43093 rows x 1 columns]"
      ]
     },
     "execution_count": 144,
     "metadata": {},
     "output_type": "execute_result"
    }
   ],
   "source": [
    "import pandas as pd\n",
    "df = pd.DataFrame(((k, v.desc) for k, v in ont.items()), columns=('id', 'desc')).set_index('id')\n",
    "df"
   ]
  },
  {
   "cell_type": "code",
   "execution_count": 145,
   "id": "fb197f2e-4d03-4f6a-abeb-55a76df7fad3",
   "metadata": {},
   "outputs": [
    {
     "data": {
      "text/html": [
       "<div>\n",
       "<style scoped>\n",
       "    .dataframe tbody tr th:only-of-type {\n",
       "        vertical-align: middle;\n",
       "    }\n",
       "\n",
       "    .dataframe tbody tr th {\n",
       "        vertical-align: top;\n",
       "    }\n",
       "\n",
       "    .dataframe thead th {\n",
       "        text-align: right;\n",
       "    }\n",
       "</style>\n",
       "<table border=\"1\" class=\"dataframe\">\n",
       "  <thead>\n",
       "    <tr style=\"text-align: right;\">\n",
       "      <th></th>\n",
       "      <th>desc</th>\n",
       "    </tr>\n",
       "  </thead>\n",
       "  <tbody>\n",
       "    <tr>\n",
       "      <th>GO:0008150</th>\n",
       "      <td>\"A biological process is the execution of a ge...</td>\n",
       "    </tr>\n",
       "    <tr>\n",
       "      <th>GO:0003674</th>\n",
       "      <td>\"A molecular process that can be carried out b...</td>\n",
       "    </tr>\n",
       "    <tr>\n",
       "      <th>GO:0005575</th>\n",
       "      <td>\"A location, relative to cellular compartments...</td>\n",
       "    </tr>\n",
       "    <tr>\n",
       "      <th>GO:0032502</th>\n",
       "      <td>\"A biological process whose specific outcome i...</td>\n",
       "    </tr>\n",
       "    <tr>\n",
       "      <th>GO:0002376</th>\n",
       "      <td>\"Any process involved in the development or fu...</td>\n",
       "    </tr>\n",
       "    <tr>\n",
       "      <th>...</th>\n",
       "      <td>...</td>\n",
       "    </tr>\n",
       "    <tr>\n",
       "      <th>GO:0055044</th>\n",
       "      <td>\"The interconnected cell membranes and intrace...</td>\n",
       "    </tr>\n",
       "    <tr>\n",
       "      <th>GO:0042597</th>\n",
       "      <td>\"The region between the inner (cytoplasmic) an...</td>\n",
       "    </tr>\n",
       "    <tr>\n",
       "      <th>GO:0120280</th>\n",
       "      <td>\"The cilary pro-basal body is an immature, par...</td>\n",
       "    </tr>\n",
       "    <tr>\n",
       "      <th>GO:0032126</th>\n",
       "      <td>\"A cell part that is composed of the eisosome ...</td>\n",
       "    </tr>\n",
       "    <tr>\n",
       "      <th>GO:0031974</th>\n",
       "      <td>\"The enclosed volume within a sealed membrane ...</td>\n",
       "    </tr>\n",
       "  </tbody>\n",
       "</table>\n",
       "<p>554 rows × 1 columns</p>\n",
       "</div>"
      ],
      "text/plain": [
       "                                                         desc\n",
       "GO:0008150  \"A biological process is the execution of a ge...\n",
       "GO:0003674  \"A molecular process that can be carried out b...\n",
       "GO:0005575  \"A location, relative to cellular compartments...\n",
       "GO:0032502  \"A biological process whose specific outcome i...\n",
       "GO:0002376  \"Any process involved in the development or fu...\n",
       "...                                                       ...\n",
       "GO:0055044  \"The interconnected cell membranes and intrace...\n",
       "GO:0042597  \"The region between the inner (cytoplasmic) an...\n",
       "GO:0120280  \"The cilary pro-basal body is an immature, par...\n",
       "GO:0032126  \"A cell part that is composed of the eisosome ...\n",
       "GO:0031974  \"The enclosed volume within a sealed membrane ...\n",
       "\n",
       "[554 rows x 1 columns]"
      ]
     },
     "execution_count": 145,
     "metadata": {},
     "output_type": "execute_result"
    }
   ],
   "source": [
    "used_terms = pd.DataFrame([df.loc[k] for k in target_vocab])\n",
    "used_terms"
   ]
  },
  {
   "cell_type": "code",
   "execution_count": 146,
   "id": "b4658b8c-f6a2-4238-99a6-e0ad488ffb0f",
   "metadata": {
    "scrolled": true
   },
   "outputs": [
    {
     "data": {
      "text/plain": [
       "554"
      ]
     },
     "execution_count": 146,
     "metadata": {},
     "output_type": "execute_result"
    }
   ],
   "source": [
    "used_terms_embedding = pickle.load(open('states/term_embeddings_used_llm2vec.pickle', 'rb'))\n",
    "len(used_terms_embedding)"
   ]
  },
  {
   "cell_type": "code",
   "execution_count": 147,
   "id": "92347446-88c1-4d1e-b3f3-2a6bd5e5bb82",
   "metadata": {},
   "outputs": [
    {
     "data": {
      "text/plain": [
       "desc    \"The activity of joining two lipid bilayers to...\n",
       "Name: GO:0140522, dtype: object"
      ]
     },
     "execution_count": 147,
     "metadata": {},
     "output_type": "execute_result"
    }
   ],
   "source": [
    "used_terms.loc['GO:0140522']"
   ]
  },
  {
   "cell_type": "code",
   "execution_count": 148,
   "id": "2da8176c-fbe6-4885-9d4b-068cec0925ad",
   "metadata": {},
   "outputs": [
    {
     "data": {
      "text/plain": [
       "119"
      ]
     },
     "execution_count": 148,
     "metadata": {},
     "output_type": "execute_result"
    }
   ],
   "source": [
    "tokenizers['ann'].get_vocab_size()"
   ]
  },
  {
   "cell_type": "code",
   "execution_count": 149,
   "id": "edeaf5ca-a45f-46fa-ae4d-17c0c72f6f11",
   "metadata": {
    "scrolled": true
   },
   "outputs": [],
   "source": [
    "aligned_embedding = np.zeros([tokenizers['ann'].get_vocab_size(), used_terms_embedding.shape[1]])\n",
    "\n",
    "for term, embedding in zip(used_terms.index, used_terms_embedding):\n",
    "    token_id = tokenizers['ann'].token_to_id(term)\n",
    "    if not token_id:\n",
    "        continue\n",
    "    aligned_embedding[token_id, :] = embedding\n",
    "\n"
   ]
  },
  {
   "cell_type": "code",
   "execution_count": 150,
   "id": "e9f2101b-b98d-488c-9ee3-22e4359c2ae1",
   "metadata": {},
   "outputs": [
    {
     "data": {
      "text/plain": [
       "array([[ 0.        ,  0.        ,  0.        , ...,  0.        ,\n",
       "         0.        ,  0.        ],\n",
       "       [ 0.        ,  0.        ,  0.        , ...,  0.        ,\n",
       "         0.        ,  0.        ],\n",
       "       [ 0.        ,  0.        ,  0.        , ...,  0.        ,\n",
       "         0.        ,  0.        ],\n",
       "       ...,\n",
       "       [ 0.88671875, -0.484375  , -0.93359375, ...,  1.3046875 ,\n",
       "        -2.390625  ,  0.98046875],\n",
       "       [ 2.96875   , -0.640625  , -3.3125    , ...,  0.12988281,\n",
       "        -3.015625  ,  0.28515625],\n",
       "       [ 0.07519531, -1.0078125 , -2.25      , ..., -0.51171875,\n",
       "        -5.1875    , -0.59765625]])"
      ]
     },
     "execution_count": 150,
     "metadata": {},
     "output_type": "execute_result"
    }
   ],
   "source": [
    "aligned_embedding"
   ]
  },
  {
   "cell_type": "code",
   "execution_count": null,
   "id": "88325394-246d-4031-be6c-9b8d87110f8c",
   "metadata": {},
   "outputs": [],
   "source": []
  },
  {
   "cell_type": "code",
   "execution_count": 151,
   "id": "e29940b3-6019-4ab5-a586-8b1367941832",
   "metadata": {},
   "outputs": [
    {
     "name": "stdout",
     "output_type": "stream",
     "text": [
      "[UNK]\n",
      "0\n",
      "[PAD]\n",
      "1\n",
      "[CLS]\n",
      "2\n",
      "[SEP]\n",
      "3\n",
      "[MASK]\n",
      "4\n"
     ]
    },
    {
     "data": {
      "text/plain": [
       "array([[ 0.57480561,  0.61550922,  0.95322824, ...,  0.62343942,\n",
       "         0.46579016, -0.91195442],\n",
       "       [-0.51774537,  0.6799343 , -0.81867311, ...,  0.07029006,\n",
       "         0.6613273 ,  0.72469739],\n",
       "       [ 0.66010857,  0.59188574, -0.41768656, ..., -0.6155993 ,\n",
       "         0.2661952 , -0.86901092],\n",
       "       ...,\n",
       "       [ 0.88671875, -0.484375  , -0.93359375, ...,  1.3046875 ,\n",
       "        -2.390625  ,  0.98046875],\n",
       "       [ 2.96875   , -0.640625  , -3.3125    , ...,  0.12988281,\n",
       "        -3.015625  ,  0.28515625],\n",
       "       [ 0.07519531, -1.0078125 , -2.25      , ..., -0.51171875,\n",
       "        -5.1875    , -0.59765625]])"
      ]
     },
     "execution_count": 151,
     "metadata": {},
     "output_type": "execute_result"
    }
   ],
   "source": [
    "for sp_token in special_tokens:\n",
    "    print(sp_token)\n",
    "    token_id = tokenizers['ann'].token_to_id(sp_token)\n",
    "    print(token_id)\n",
    "    aligned_embedding[token_id, :] = np.random.uniform(-1, 1, aligned_embedding.shape[1])\n",
    "    \n",
    "aligned_embedding"
   ]
  },
  {
   "cell_type": "code",
   "execution_count": 152,
   "id": "7df5b870-7f56-4415-a461-97f5912a30e4",
   "metadata": {},
   "outputs": [
    {
     "data": {
      "text/plain": [
       "1"
      ]
     },
     "execution_count": 152,
     "metadata": {},
     "output_type": "execute_result"
    }
   ],
   "source": [
    "PAD_IDX = tokenizers['ann'].token_to_id('[PAD]')\n",
    "PAD_IDX"
   ]
  },
  {
   "cell_type": "markdown",
   "id": "7c259b21-9080-4350-9df8-51cce80db73e",
   "metadata": {},
   "source": [
    "## Transformations"
   ]
  },
  {
   "cell_type": "code",
   "execution_count": 153,
   "id": "a87da904-b8c6-46d3-a2c1-8669f6db7f28",
   "metadata": {},
   "outputs": [
    {
     "data": {
      "text/plain": [
       "22"
      ]
     },
     "execution_count": 153,
     "metadata": {},
     "output_type": "execute_result"
    }
   ],
   "source": [
    "\n",
    "# base_vocab_size = len(vocab)\n",
    "src_vocab_size = tokenizers[SRC_LANGUAGE].get_vocab_size()\n",
    "target_vocab_size = tokenizers[TGT_LANGUAGE].get_vocab_size()\n",
    "# src_vocab_size = base_vocab_size + len(special_symbols)\n",
    "# target_vocab_size = base_vocab_size + len(special_symbols)\n",
    "# num_layers = 10\n",
    "seq_length = MAX_LEN + 2\n",
    "seq_length"
   ]
  },
  {
   "cell_type": "code",
   "execution_count": null,
   "id": "1dbde0f0-a028-4ae5-8a80-aebb758e8c22",
   "metadata": {},
   "outputs": [],
   "source": []
  },
  {
   "cell_type": "code",
   "execution_count": null,
   "id": "1e047829-99df-460d-ab94-0258d8b7e294",
   "metadata": {},
   "outputs": [],
   "source": []
  },
  {
   "cell_type": "code",
   "execution_count": 154,
   "id": "d11fc36e-ba18-49fa-a672-790e7ebef1be",
   "metadata": {},
   "outputs": [],
   "source": [
    "# def collate_fn(batch):\n",
    "#     src_batch, tgt_batch = [], []\n",
    "#     for src_sample, tgt_sample in batch:\n",
    "#         src_batch.append(torch.tensor(tokenizers[SRC_LANGUAGE].encode(src_sample).ids))\n",
    "#         tgt_batch.append(torch.tensor(tokenizers[TGT_LANGUAGE].encode(tgt_sample).ids))\n",
    "\n",
    "#     # pad_first_to_len(src_batch, seq_length)\n",
    "#     # pad_first_to_len(tgt_batch, seq_length)\n",
    "    \n",
    "#     src_batch = pad_sequence(src_batch, padding_value=PAD_IDX)\n",
    "#     tgt_batch = pad_sequence(tgt_batch, padding_value=PAD_IDX)\n",
    "#     return src_batch, tgt_batch"
   ]
  },
  {
   "cell_type": "code",
   "execution_count": null,
   "id": "a9e42b49-e34d-42c0-87f0-7c65916cf1ff",
   "metadata": {},
   "outputs": [],
   "source": []
  },
  {
   "cell_type": "markdown",
   "id": "72313a13-37a9-4f7e-b8fc-acea29520579",
   "metadata": {},
   "source": [
    "## Data splits"
   ]
  },
  {
   "cell_type": "code",
   "execution_count": 155,
   "id": "8dbc4d94-acdb-434a-a5dc-6c02c63afe61",
   "metadata": {},
   "outputs": [],
   "source": [
    "def AnnData(split='train'):\n",
    "    n = len(ann_dataset)\n",
    "    n_train = int(n * 8 / 10)\n",
    "    n_valid = int(n / 10)\n",
    "    if split == 'train':\n",
    "        return ann_dataset.to_numpy()[:n_train]\n",
    "    elif split == 'valid':\n",
    "        return ann_dataset.to_numpy()[n_train:n_train+n_valid]\n",
    "    else:\n",
    "        return ann_dataset.to_numpy()[n_train+n_valid:]"
   ]
  },
  {
   "cell_type": "markdown",
   "id": "f3159ba8-1b31-4ad6-ab35-e07eb55043fd",
   "metadata": {},
   "source": [
    "## Train and eval functions"
   ]
  },
  {
   "cell_type": "code",
   "execution_count": 156,
   "id": "44df9e1b-0171-4309-86c7-f77234add360",
   "metadata": {},
   "outputs": [],
   "source": [
    "BATCH_SIZE = 20\n"
   ]
  },
  {
   "cell_type": "markdown",
   "id": "3c78080d-3b1a-412a-878a-d68ba41a0100",
   "metadata": {},
   "source": []
  },
  {
   "cell_type": "code",
   "execution_count": 157,
   "id": "b757f31e-0b3c-4a0e-b63e-4e89b8a18c63",
   "metadata": {},
   "outputs": [],
   "source": [
    "def evaluate(model):\n",
    "    model.eval()\n",
    "    losses = 0\n",
    "\n",
    "    # val_iter = Multi30k(split='valid', language_pair=(SRC_LANGUAGE, TGT_LANGUAGE))\n",
    "    val_iter = AnnData(split='valid')\n",
    "    # val_iter = ann_dataset\n",
    "    val_dataloader = DataLoader(val_iter, batch_size=BATCH_SIZE, collate_fn=collate_fn)\n",
    "\n",
    "    hit_rates = []\n",
    "    num_batches = 10\n",
    "    i = 0\n",
    "    for src, tgt, masks in val_dataloader:\n",
    "        # print(i)\n",
    "        src = src.T.to(DEVICE)\n",
    "        masks = masks.T.to(DEVICE)\n",
    "\n",
    "        logits = model(src)\n",
    "        # tokens = generate_tokens(logits)\n",
    "\n",
    "        loss = loss_fn(logits.reshape(-1, logits.shape[-1]), masks.reshape(-1))\n",
    "        # loss = loss_fn(logits.reshape(-1, logits.shape[-1]), tgt.reshape(-1))\n",
    "        losses += loss.item()\n",
    "\n",
    "        if i >= num_batches:\n",
    "            break\n",
    "        i += 1\n",
    "\n",
    "        hit_rate = ((tgt_out == tokens).sum() / count_words(tgt_out)).cpu().numpy()[()]\n",
    "\n",
    "        print('label', tgt_out)\n",
    "        print('pred', tokens)\n",
    "        print(hit_rate)\n",
    "        hit_rates.append(hit_rate)\n",
    "\n",
    "    return {'loss': losses / len(list(val_dataloader)), 'hit_rate': np.mean(hit_rates)}"
   ]
  },
  {
   "cell_type": "code",
   "execution_count": 158,
   "id": "07261fa1-80e3-4e17-9078-e4ee66929f1d",
   "metadata": {},
   "outputs": [],
   "source": [
    "def count_words(x):\n",
    "    return (x != PAD_IDX).sum()"
   ]
  },
  {
   "cell_type": "code",
   "execution_count": 159,
   "id": "0b373499-dfa6-46e8-9645-be12f7d61cc0",
   "metadata": {},
   "outputs": [],
   "source": [
    "from collections import deque"
   ]
  },
  {
   "cell_type": "code",
   "execution_count": 160,
   "id": "5e297f36-2b83-4d44-b449-c10036e461a5",
   "metadata": {},
   "outputs": [],
   "source": [
    "class MA:\n",
    "    def __init__(self, n):\n",
    "        self.n = n\n",
    "        self.data = deque()\n",
    "        self.s = 0\n",
    "        self.l = 0\n",
    "\n",
    "    def __call__(self, x):\n",
    "        if np.isnan(x):\n",
    "            return self.s / self.l if self.l else np.nan\n",
    "        self.data.append(x)\n",
    "        self.s += x\n",
    "        self.l += 1\n",
    "        if self.l > self.n:\n",
    "            self.s -= self.data.popleft()\n",
    "            self.l -= 1\n",
    "\n",
    "        return self.s / self.l\n",
    "            \n",
    "        "
   ]
  },
  {
   "cell_type": "code",
   "execution_count": 161,
   "id": "8e12aba3-bf61-4c8d-861a-db6ff980ff17",
   "metadata": {},
   "outputs": [],
   "source": [
    "ma = MA(10)"
   ]
  },
  {
   "cell_type": "code",
   "execution_count": 162,
   "id": "6d3d3b52-2f51-4ab2-a550-89fc6c34ef16",
   "metadata": {},
   "outputs": [
    {
     "data": {
      "text/plain": [
       "1.0"
      ]
     },
     "execution_count": 162,
     "metadata": {},
     "output_type": "execute_result"
    }
   ],
   "source": [
    "ma(1)"
   ]
  },
  {
   "cell_type": "code",
   "execution_count": 163,
   "id": "db85a22c-106a-4cea-ba91-532b5bd56704",
   "metadata": {},
   "outputs": [],
   "source": [
    "ma = MA(10)"
   ]
  },
  {
   "cell_type": "code",
   "execution_count": 164,
   "id": "27324407-a373-42c8-b783-bec8c80a8dde",
   "metadata": {},
   "outputs": [
    {
     "data": {
      "text/plain": [
       "nan"
      ]
     },
     "execution_count": 164,
     "metadata": {},
     "output_type": "execute_result"
    }
   ],
   "source": [
    "ma(np.nan)"
   ]
  },
  {
   "cell_type": "code",
   "execution_count": 165,
   "id": "b087ff68-8d87-47bf-ba6d-e8448ed42335",
   "metadata": {},
   "outputs": [
    {
     "data": {
      "text/plain": [
       "{'n': 10, 'data': deque([]), 's': 0, 'l': 0}"
      ]
     },
     "execution_count": 165,
     "metadata": {},
     "output_type": "execute_result"
    }
   ],
   "source": [
    "ma.__dict__"
   ]
  },
  {
   "cell_type": "code",
   "execution_count": 166,
   "id": "3778b125-6a40-483f-b1d7-aa379698463a",
   "metadata": {},
   "outputs": [],
   "source": [
    "from matplotlib.artist import Artist\n",
    "\n",
    "class CurveAnimation:\n",
    "    def __init__(self, window_size=500):\n",
    "        self.curve_x = []\n",
    "        self.curve_y = []\n",
    "        self.ma = MA(window_size)\n",
    "        self.curve_ma = []\n",
    "        self.window_size = window_size\n",
    "        self.fig, self.ax = plt.subplots()\n",
    "        self.line, = self.ax.plot([], [])\n",
    "        self.line_ma, = self.ax.plot([], [])\n",
    "        self.text = self.ax.text(0.85, 0.90, '', color=self.line.get_color(), transform=self.ax.transAxes)\n",
    "        self.text_ma = self.ax.text(0.85, 0.95, '', color=self.line_ma.get_color(), transform=self.ax.transAxes)\n",
    "        self.ty = 0.02\n",
    "        def new_text():\n",
    "            t = self.ax.text(0.02, self.ty, '', transform=self.ax.transAxes)\n",
    "            self.ty += 0.05\n",
    "            return t\n",
    "        self.texts = defaultdict(new_text)\n",
    "        display(self.fig)\n",
    "\n",
    "    def add_data(self, new_data, texts=None):\n",
    "        self.curve_y.append(new_data)\n",
    "        self.curve_x.append(len(self.curve_x))\n",
    "        self.curve_ma.append(self.ma(new_data))\n",
    "        self.plot(texts)\n",
    "\n",
    "    def plot(self, texts=None):\n",
    "        self.line.set_data(self.curve_x[-self.window_size:], self.curve_y[-self.window_size:])\n",
    "        self.line_ma.set_data(self.curve_x[-self.window_size:], self.curve_ma[-self.window_size:])\n",
    "        self.text.set_text(f'curr={self.curve_y[-1]:.3f}')\n",
    "        self.text_ma.set_text(f'ma={self.curve_ma[-1]:.3f}')\n",
    "\n",
    "        if texts:\n",
    "            for k, t in texts.items():\n",
    "                self.texts[k].set_text(f'{k}: {t}')\n",
    "        \n",
    "        self.ax.relim()\n",
    "        self.ax.autoscale_view(True,True,True)\n",
    "        clear_output(wait=True)\n",
    "        display(self.fig)\n",
    "\n",
    "\n",
    "\n"
   ]
  },
  {
   "cell_type": "markdown",
   "id": "7df2b413-a85b-4584-8088-28d7e3539049",
   "metadata": {},
   "source": [
    "## Train functions"
   ]
  },
  {
   "cell_type": "code",
   "execution_count": 167,
   "id": "42edf6ca-9598-43ad-b924-5a7400b433db",
   "metadata": {},
   "outputs": [],
   "source": [
    "BATCH_SIZE = 20"
   ]
  },
  {
   "cell_type": "code",
   "execution_count": 168,
   "id": "c862bf97-8f57-41bd-8fdd-b4292e13e73b",
   "metadata": {},
   "outputs": [
    {
     "data": {
      "text/plain": [
       "20"
      ]
     },
     "execution_count": 168,
     "metadata": {},
     "output_type": "execute_result"
    }
   ],
   "source": [
    "BATCH_SIZE"
   ]
  },
  {
   "cell_type": "code",
   "execution_count": null,
   "id": "355e1294-9acf-4ca8-b67a-ae4ad842d98f",
   "metadata": {},
   "outputs": [],
   "source": []
  },
  {
   "cell_type": "code",
   "execution_count": 169,
   "id": "a102c459-6b48-45f4-9eb9-ff020b69c2bd",
   "metadata": {
    "scrolled": true
   },
   "outputs": [
    {
     "data": {
      "image/png": "[encoded data removed]",
      "text/plain": [
       "<Figure size 640x480 with 1 Axes>"
      ]
     },
     "metadata": {},
     "output_type": "display_data"
    },
    {
     "data": {
      "image/png": "[encoded data removed]",
      "text/plain": [
       "<Figure size 640x480 with 1 Axes>"
      ]
     },
     "metadata": {},
     "output_type": "display_data"
    }
   ],
   "source": [
    "import traceback as tb\n",
    "\n",
    "anm = CurveAnimation()"
   ]
  },
  {
   "cell_type": "code",
   "execution_count": 170,
   "id": "7302a96f-2461-44ec-a132-9b2660cad089",
   "metadata": {},
   "outputs": [],
   "source": [
    "ITER_REPEATS = 100\n",
    "\n",
    "def train_epoch(model, optimizer):\n",
    "    model.train()\n",
    "    losses = 0\n",
    "    # train_iter = Multi30k(split='train', language_pair=(SRC_LANGUAGE, TGT_LANGUAGE))\n",
    "    train_iter = AnnData(split='train')\n",
    "    train_dataloader = DataLoader(train_iter, batch_size=BATCH_SIZE, collate_fn=collate_fn)\n",
    "\n",
    "    for src, masks in train_dataloader:\n",
    "        # print(i)\n",
    "        src = src.T.to(DEVICE)\n",
    "        masks = masks.T.to(DEVICE)\n",
    "\n",
    "        def step(i):\n",
    "            nonlocal losses\n",
    "            try:\n",
    "                logits = model(src)\n",
    "                # tokens = generate_tokens(logits)\n",
    "            except Exception as e:\n",
    "                tb.print_exc()\n",
    "                # print(src.shape, tgt.shape)\n",
    "                raise e\n",
    "\n",
    "            # print(logits.shape, masks.shape)\n",
    "            \n",
    "            optimizer.zero_grad()\n",
    "\n",
    "            # print(logits.dtype, masks.dtype)\n",
    "            # loss = loss_fn(logits.reshape(-1, logits.shape[-1]), masks.reshape(-1))\n",
    "            loss = loss_fn(logits, masks)\n",
    "            \n",
    "            loss.backward()\n",
    "    \n",
    "            optimizer.step()\n",
    "            losses += loss.item()\n",
    "\n",
    "            pred_mask = logits.detach().cpu().numpy() > 0.5\n",
    "            tokens = []\n",
    "            for flags in pred_mask:\n",
    "                tokens.append(labels[flags])\n",
    "            # print(tokens)\n",
    "\n",
    "            label_masks = masks.cpu().numpy().astype(bool)\n",
    "            tgt_out = []\n",
    "            for tgt in label_masks:\n",
    "                tgt_out.append(labels[tgt])\n",
    "            \n",
    "            def tolist(x):\n",
    "                return x.tolist() # [:10]\n",
    "            def get_token_logits(logits, tokens):\n",
    "                r = []\n",
    "                for li, t in zip(logits, tokens):\n",
    "                    r.append(f'{li[t]:.2f}')\n",
    "                return r\n",
    "            i = 0\n",
    "            # anm.add_data(loss.item(), texts={\n",
    "            #     'label': f'{tolist(tgt_out[i])}',\n",
    "            #     'pred': f'{tolist(tokens[i])}',\n",
    "            #     # 'logits': f'{get_token_logits(logits[i], tokens[i])}',\n",
    "            # })\n",
    "            recall = (pred_mask & label_masks).sum() / label_masks.sum()\n",
    "            precision = (pred_mask & label_masks).sum() / pred_mask.sum()\n",
    "            f1 = recall * precision / (recall + precision)\n",
    "            anm.add_data(f1, texts={\n",
    "                'label': f'{tolist(tgt_out[i])}',\n",
    "                'pred': f'{tolist(tokens[i])}'\n",
    "            })\n",
    "        \n",
    "        for i in range(ITER_REPEATS):\n",
    "            step(i)\n",
    "\n",
    "    # return losses / len(list(train_dataloader))\n",
    "    return anm.curve_ma[-1]"
   ]
  },
  {
   "cell_type": "code",
   "execution_count": 171,
   "id": "4b5fef50-9582-425d-8794-bbe0d942228b",
   "metadata": {},
   "outputs": [],
   "source": [
    "try:\n",
    "    train_loss = train_epoch(transformer, optimizer)\n",
    "except:\n",
    "    pass"
   ]
  },
  {
   "cell_type": "code",
   "execution_count": 172,
   "id": "c6fe3c68-ddf1-4633-8321-501a3aec0abf",
   "metadata": {},
   "outputs": [],
   "source": [
    "os.environ['CUDA_LAUNCH_BLOCKING'] = '1'\n"
   ]
  },
  {
   "cell_type": "code",
   "execution_count": null,
   "id": "c00b9455-9327-48fb-901c-d68df0880ab2",
   "metadata": {},
   "outputs": [],
   "source": []
  },
  {
   "cell_type": "code",
   "execution_count": 173,
   "id": "3345d1c5-4ef3-421c-aaf7-ccf9ecf98ec3",
   "metadata": {},
   "outputs": [],
   "source": [
    "# model = Transformer(embed_dim=128, src_vocab_size=src_vocab_size,\n",
    "#                     target_vocab_size=target_vocab_size, seq_length=30,\n",
    "#                     num_layers=16, expansion_factor=4, n_heads=16,\n",
    "#                     target_mask_fn=target_one_out_mask)\n",
    "\n",
    "# transformer = model\n",
    "# for p in transformer.parameters():\n",
    "#     if p.dim() > 1:\n",
    "#         nn.init.xavier_uniform_(p)\n",
    "\n",
    "# transformer = transformer.to(DEVICE)\n"
   ]
  },
  {
   "cell_type": "markdown",
   "id": "45f47e8a-0cb0-4365-9087-7da9daa9eaa1",
   "metadata": {},
   "source": [
    "## Load ProtBERT"
   ]
  },
  {
   "cell_type": "code",
   "execution_count": 174,
   "id": "2f874c87-ea62-41ba-9bb9-28162938f037",
   "metadata": {},
   "outputs": [],
   "source": [
    "# USE_ProtBERT = False\n",
    "USE_ProtBERT = True"
   ]
  },
  {
   "cell_type": "code",
   "execution_count": 175,
   "id": "484c9ed2-cd90-4dcd-9c1b-b02e487bb131",
   "metadata": {},
   "outputs": [],
   "source": [
    "from torch import nn"
   ]
  },
  {
   "cell_type": "code",
   "execution_count": 176,
   "id": "f6239d9a-19bf-4a6e-9f49-e33568cc0c22",
   "metadata": {
    "scrolled": true
   },
   "outputs": [
    {
     "data": {
      "text/plain": [
       "BertConfig {\n",
       "  \"architectures\": [\n",
       "    \"BertForMaskedLM\"\n",
       "  ],\n",
       "  \"attention_probs_dropout_prob\": 0.0,\n",
       "  \"classifier_dropout\": null,\n",
       "  \"hidden_act\": \"gelu\",\n",
       "  \"hidden_dropout_prob\": 0.0,\n",
       "  \"hidden_size\": 1024,\n",
       "  \"initializer_range\": 0.02,\n",
       "  \"intermediate_size\": 4096,\n",
       "  \"layer_norm_eps\": 1e-12,\n",
       "  \"max_position_embeddings\": 40000,\n",
       "  \"model_type\": \"bert\",\n",
       "  \"num_attention_heads\": 16,\n",
       "  \"num_hidden_layers\": 30,\n",
       "  \"pad_token_id\": 0,\n",
       "  \"position_embedding_type\": \"absolute\",\n",
       "  \"transformers_version\": \"4.40.2\",\n",
       "  \"type_vocab_size\": 2,\n",
       "  \"use_cache\": true,\n",
       "  \"vocab_size\": 30\n",
       "}"
      ]
     },
     "execution_count": 176,
     "metadata": {},
     "output_type": "execute_result"
    }
   ],
   "source": [
    "from transformers import BertConfig, BertModel, BertTokenizer\n",
    "protbert_tokenizer = BertTokenizer.from_pretrained('Rostlab/prot_bert')\n",
    "protbert_config = BertConfig.from_pretrained('Rostlab/prot_bert')\n",
    "# protbert_config = BertConfig.from_pretrained('states/protbert_pruned/')\n",
    "protbert_config"
   ]
  },
  {
   "cell_type": "code",
   "execution_count": 177,
   "id": "612c8360-57fb-43dd-b147-8c9c10ab7a8d",
   "metadata": {},
   "outputs": [],
   "source": [
    "tokenizers[SRC_LANGUAGE] = protbert_tokenizer"
   ]
  },
  {
   "cell_type": "code",
   "execution_count": 178,
   "id": "b087c8ea-4bb8-41f3-bc79-8c2f330b4590",
   "metadata": {},
   "outputs": [],
   "source": [
    "def collate_fn(batch):\n",
    "    src_batch, tgt_batch = [], []\n",
    "    for src_sample, tgt_sample, masks in batch:\n",
    "        src_batch.append(tokenizers[SRC_LANGUAGE](src_sample, return_tensors='pt')['input_ids'][0])\n",
    "        # tgt_batch.append(torch.tensor(tokenizers[TGT_LANGUAGE].encode(tgt_sample).ids))\n",
    "        tgt_batch.append(torch.tensor(masks, dtype=torch.float))\n",
    "\n",
    "    # pad_first_to_len(src_batch, seq_length)\n",
    "    # pad_first_to_len(tgt_batch, seq_length)\n",
    "    \n",
    "    src_batch = pad_sequence(src_batch, padding_value=PAD_IDX)\n",
    "    tgt_batch = pad_sequence(tgt_batch, padding_value=PAD_IDX)\n",
    "    return src_batch, tgt_batch"
   ]
  },
  {
   "cell_type": "code",
   "execution_count": 179,
   "id": "77fb9580-ee64-4d5a-914a-c8942a384a26",
   "metadata": {
    "scrolled": true
   },
   "outputs": [],
   "source": [
    "import textpruner\n",
    "from transformers import XLMRobertaForSequenceClassification,XLMRobertaTokenizer\n",
    "\n",
    "from textpruner import summary, TransformerPruner\n",
    "import sys\n",
    "\n",
    "\n",
    "# if not loaded_from_pickle and USE_ProtBERT:\n",
    "#     # protbert_model.protbert_model.load_state_dict(torch.load(\"states/prot_bert_weights.pth\"))\n",
    "#     protbert_model.protbert_model = pickle.load(open('states/prot_bert_pruned_25.pickle', 'rb'))\n",
    "#     # protbert_model.protbert_model.load_state_dict(torch.load(\"states/prot_bert_weights_pruned_25.pth\"))\n",
    "#     # protbert_model.prune()\n",
    "#     transformer.encoder = protbert_model\n"
   ]
  },
  {
   "cell_type": "markdown",
   "id": "776a303b-0894-4009-bf79-d69fd23c241f",
   "metadata": {},
   "source": [
    "## Model"
   ]
  },
  {
   "cell_type": "code",
   "execution_count": 180,
   "id": "64ec690e-b7b5-4b42-a9c3-066c4a2933c8",
   "metadata": {},
   "outputs": [],
   "source": [
    "MAX_LEN = 20"
   ]
  },
  {
   "cell_type": "code",
   "execution_count": 181,
   "id": "9e1665f9-01ba-48cb-a506-75794eaaba3f",
   "metadata": {},
   "outputs": [],
   "source": [
    "states_dir = 'states/seq_classification'"
   ]
  },
  {
   "cell_type": "code",
   "execution_count": 182,
   "id": "e213d730-1d8e-4fc7-8f75-fea04ac6e5cd",
   "metadata": {},
   "outputs": [],
   "source": [
    "continue_previous = True\n",
    "pickle_file = f'{states_dir}/seq_classification_pruned_protbert.pickle'\n",
    "# continue_previous = False"
   ]
  },
  {
   "cell_type": "code",
   "execution_count": 183,
   "id": "c98dede0-4035-4831-91e2-a4d98afb0aa1",
   "metadata": {
    "scrolled": true
   },
   "outputs": [],
   "source": [
    "#!pip install -U nn_pruning"
   ]
  },
  {
   "cell_type": "code",
   "execution_count": 184,
   "id": "57b47743-2ddc-4270-bcde-29c1f684af2e",
   "metadata": {},
   "outputs": [],
   "source": [
    "class ProtBERT_Adapter(nn.Module):\n",
    "    def __init__(self, config, embed_dim=1024):\n",
    "        super(ProtBERT_Adapter, self).__init__()\n",
    "        self.protbert_model = BertModel(config)\n",
    "        assert(embed_dim <= 1024)\n",
    "        self.embed_dim = embed_dim\n",
    "        self.embed_idx = np.sort(np.random.choice(np.arange(1024), embed_dim, replace=False))\n",
    "        print(self.embed_idx)\n",
    "\n",
    "    def prune(self, p=0.25):\n",
    "        print(\"Before pruning:\")\n",
    "        print(summary(self.protbert_model))\n",
    "        \n",
    "        pruner = TransformerPruner(self.protbert_model)\n",
    "        \n",
    "        ffn_mask = textpruner.pruners.utils.random_mask_tensor((16,4096), p=p)\n",
    "        head_mask = textpruner.pruners.utils.random_mask_tensor((30,16), p=p, even_masks=False)\n",
    "        \n",
    "        print(ffn_mask, head_mask)\n",
    "        \n",
    "        pruner.prune(head_mask=head_mask, ffn_mask=ffn_mask,save_model=True)\n",
    "        \n",
    "        print(\"After pruning:\")\n",
    "        print(summary(self.protbert_model))\n",
    "\n",
    "    def forward(self, input_ids, attention_mask=None):\n",
    "        outputs = self.protbert_model(input_ids=input_ids, attention_mask=attention_mask)\n",
    "        embedding = outputs.last_hidden_state\n",
    "\n",
    "        return embedding[:, 0, self.embed_idx]\n",
    "\n",
    "    def hidden_states(self, input_ids, attention_mask=None):\n",
    "        outputs = self.protbert_model(input_ids=input_ids, attention_mask=attention_mask, output_hidden_states=True)\n",
    "        return {'': outputs.last_hidden_state[:, self.embed_idx]}\n"
   ]
  },
  {
   "cell_type": "code",
   "execution_count": 185,
   "id": "29f3b370-4f58-40a5-8b7d-4de98734bd95",
   "metadata": {},
   "outputs": [],
   "source": [
    "class StaticEncoder(nn.Module):\n",
    "    pass"
   ]
  },
  {
   "cell_type": "code",
   "execution_count": 186,
   "id": "80bd8195-29bc-46e1-bf3c-6a69ca4733d0",
   "metadata": {},
   "outputs": [],
   "source": [
    "\n",
    "EMBED_DIM = 1024"
   ]
  },
  {
   "cell_type": "code",
   "execution_count": 187,
   "id": "0bf749f4-abc1-4b2e-a9c5-423b5ca567d9",
   "metadata": {},
   "outputs": [],
   "source": [
    "def sample_embed(embedding):\n",
    "    sigma = embedding.std(0)\n",
    "    rand_idx = np.random.choice(np.arange(embedding.shape[1]), EMBED_DIM, replace=False, p=sigma/sigma.sum())\n",
    "    # print(sigma[rand_idx].shape)\n",
    "    return embedding[:, rand_idx]\n",
    "    \n",
    "sampled_embedding = sample_embed(aligned_embedding)"
   ]
  },
  {
   "cell_type": "code",
   "execution_count": 188,
   "id": "617ad34a-902f-4098-8fa5-df2b2676c66f",
   "metadata": {},
   "outputs": [],
   "source": [
    "class NNLayer(nn.Module):\n",
    "    def __init__(self, ninput, noutput):\n",
    "        super().__init__()\n",
    "        self.layers = nn.Sequential(\n",
    "            nn.Linear(ninput, noutput),\n",
    "            nn.ReLU(),\n",
    "            # nn.Linear(noutput, noutput),\n",
    "            # nn.Sigmoid(),\n",
    "        )\n",
    "        # assert noutput % ninput == 0\n",
    "        # k = (ninput + noutput - 1) // noutput\n",
    "        # self.pool = nn.MaxPool1d(k)\n",
    "        # self.padding = nn.ZeroPad1d(n\n",
    "        self.norm = nn.LayerNorm(noutput)\n",
    "\n",
    "    def forward(self, x):\n",
    "        out = x\n",
    "        for layer in self.layers:\n",
    "            out = layer(out)\n",
    "        \n",
    "        return self.norm(out)\n",
    "\n",
    "class GOClassModel(nn.Module):\n",
    "    def __init__(self, encoder, layers):\n",
    "        super().__init__()\n",
    "        self.encoder = encoder\n",
    "        self.layers = nn.ModuleList([\n",
    "            NNLayer(layers[i], layers[i+1]) for i in range(len(layers) - 1)\n",
    "        ])\n",
    "        self.sigmoid = nn.Sigmoid()\n",
    "    \n",
    "    def forward(self, x):\n",
    "        enc = self.encoder(x)\n",
    "        out = enc\n",
    "        for layer in self.layers:\n",
    "            out = layer(out)\n",
    "        out = self.sigmoid(out)\n",
    "        return out\n",
    "\n"
   ]
  },
  {
   "cell_type": "code",
   "execution_count": 189,
   "id": "564ee9cd-ac9f-4882-ad6b-8385334c049c",
   "metadata": {},
   "outputs": [
    {
     "name": "stdout",
     "output_type": "stream",
     "text": [
      "Creating new model\n",
      "[   0    1    2 ... 1021 1022 1023]\n",
      "Before pruning:\n",
      "\n",
      "LAYER NAME                  \t        #PARAMS\t     RATIO\t MEM(MB)\n",
      "--model:                    \t    419,931,136\t   100.00%\t 1601.91\n",
      "  --embeddings:             \t     40,994,816\t     9.76%\t  156.38\n",
      "    --word_embeddings:      \t         30,720\t     0.01%\t    0.12\n",
      "    --position_embeddings:  \t     40,960,000\t     9.75%\t  156.25\n",
      "    --token_type_embeddings:\t          2,048\t     0.00%\t    0.01\n",
      "    --LayerNorm:            \t          2,048\t     0.00%\t    0.01\n",
      "  --encoder                 \n",
      "    --layer:                \t    377,886,720\t    89.99%\t 1441.52\n",
      "  --pooler                  \n",
      "    --dense:                \t      1,049,600\t     0.25%\t    4.00\n",
      "\n",
      "tensor([[0., 1., 0.,  ..., 0., 0., 1.],\n",
      "        [0., 0., 1.,  ..., 0., 0., 0.],\n",
      "        [0., 0., 0.,  ..., 0., 0., 0.],\n",
      "        ...,\n",
      "        [1., 0., 0.,  ..., 0., 0., 1.],\n",
      "        [1., 0., 1.,  ..., 0., 0., 0.],\n",
      "        [1., 0., 0.,  ..., 0., 0., 0.]]) tensor([[1., 1., 1., 0., 0., 1., 1., 1., 0., 0., 1., 1., 1., 0., 0., 0.],\n",
      "        [0., 0., 1., 1., 0., 0., 1., 0., 0., 1., 1., 1., 1., 1., 0., 0.],\n",
      "        [0., 0., 0., 1., 0., 1., 1., 0., 1., 0., 0., 1., 0., 0., 0., 0.],\n",
      "        [1., 1., 1., 1., 1., 1., 0., 1., 0., 0., 0., 1., 0., 1., 1., 1.],\n",
      "        [0., 0., 0., 1., 1., 1., 0., 1., 1., 1., 0., 1., 0., 0., 1., 1.],\n",
      "        [1., 1., 0., 1., 1., 1., 0., 0., 1., 0., 0., 1., 1., 0., 1., 1.],\n",
      "        [0., 0., 0., 0., 1., 1., 1., 0., 1., 1., 1., 1., 0., 1., 0., 1.],\n",
      "        [0., 1., 1., 1., 0., 0., 0., 0., 1., 1., 1., 0., 0., 0., 1., 0.],\n",
      "        [1., 1., 1., 0., 1., 1., 0., 0., 0., 1., 0., 0., 1., 1., 1., 0.],\n",
      "        [0., 1., 0., 0., 1., 1., 0., 1., 1., 1., 1., 0., 0., 1., 1., 1.],\n",
      "        [0., 0., 1., 1., 1., 1., 1., 1., 0., 1., 0., 1., 1., 0., 0., 1.],\n",
      "        [1., 1., 1., 1., 0., 1., 0., 0., 0., 0., 1., 1., 1., 0., 1., 0.],\n",
      "        [0., 1., 1., 1., 1., 1., 0., 1., 1., 1., 0., 1., 0., 0., 0., 1.],\n",
      "        [1., 1., 0., 1., 1., 0., 1., 1., 1., 1., 1., 0., 1., 1., 1., 1.],\n",
      "        [1., 0., 0., 1., 1., 1., 1., 1., 0., 1., 0., 0., 0., 0., 0., 0.],\n",
      "        [1., 0., 0., 1., 1., 1., 1., 0., 0., 0., 1., 1., 1., 1., 0., 0.],\n",
      "        [0., 0., 1., 0., 0., 0., 1., 1., 1., 1., 1., 1., 1., 1., 1., 1.],\n",
      "        [1., 0., 1., 1., 1., 1., 0., 0., 1., 0., 1., 1., 0., 0., 1., 0.],\n",
      "        [1., 1., 0., 1., 1., 0., 0., 0., 0., 1., 1., 1., 0., 0., 0., 1.],\n",
      "        [1., 0., 0., 1., 1., 1., 1., 1., 1., 0., 0., 1., 1., 0., 0., 0.],\n",
      "        [0., 0., 0., 0., 0., 1., 1., 1., 1., 0., 0., 0., 1., 0., 0., 1.],\n",
      "        [0., 1., 1., 1., 0., 0., 0., 0., 1., 1., 0., 0., 1., 0., 0., 0.],\n",
      "        [1., 1., 1., 0., 0., 0., 1., 1., 1., 0., 1., 1., 1., 0., 1., 1.],\n",
      "        [0., 0., 0., 1., 1., 1., 1., 0., 1., 1., 1., 1., 0., 1., 1., 1.],\n",
      "        [1., 1., 1., 0., 1., 1., 0., 1., 1., 1., 0., 1., 0., 0., 0., 0.],\n",
      "        [0., 1., 0., 0., 1., 0., 0., 0., 0., 1., 1., 1., 0., 1., 1., 0.],\n",
      "        [0., 1., 0., 1., 0., 1., 1., 1., 0., 1., 0., 1., 0., 0., 0., 0.],\n",
      "        [1., 0., 1., 1., 1., 1., 0., 0., 1., 0., 1., 0., 0., 1., 1., 1.],\n",
      "        [1., 0., 0., 1., 1., 0., 0., 0., 1., 1., 0., 0., 0., 1., 0., 0.],\n",
      "        [0., 1., 0., 1., 1., 1., 1., 1., 1., 0., 0., 1., 0., 0., 0., 0.]])\n",
      "After pruning:\n",
      "\n",
      "LAYER NAME                  \t        #PARAMS\t     RATIO\t MEM(MB)\n",
      "--model:                    \t    262,291,776\t   100.00%\t 1000.56\n",
      "  --embeddings:             \t     40,994,816\t    15.63%\t  156.38\n",
      "    --word_embeddings:      \t         30,720\t     0.01%\t    0.12\n",
      "    --position_embeddings:  \t     40,960,000\t    15.62%\t  156.25\n",
      "    --token_type_embeddings:\t          2,048\t     0.00%\t    0.01\n",
      "    --LayerNorm:            \t          2,048\t     0.00%\t    0.01\n",
      "  --encoder                 \n",
      "    --layer:                \t    220,247,360\t    83.97%\t  840.18\n",
      "  --pooler                  \n",
      "    --dense:                \t      1,049,600\t     0.40%\t    4.00\n",
      "\n"
     ]
    }
   ],
   "source": [
    "from toy_transformer import Transformer\n",
    "\n",
    "# loss_fn = torch.nn.CrossEntropyLoss(ignore_index=PAD_IDX)\n",
    "loss_fn = torch.nn.functional.binary_cross_entropy\n",
    "\n",
    "\n",
    "loaded_from_pickle = False\n",
    "if continue_previous and os.path.exists(pickle_file):\n",
    "    print('Loading model')\n",
    "    transformer = pickle.load(open(pickle_file, 'rb'))\n",
    "    loaded_from_pickle = True\n",
    "else:\n",
    "    print('Creating new model')\n",
    "    protbert = ProtBERT_Adapter(protbert_config, EMBED_DIM)\n",
    "    protbert.prune()\n",
    "    # model = GOClassModel(protbert, [1024, 2048, 1024, 512, 256, NUM_CLASSES])\n",
    "    # model = GOClassModel(protbert, [1024, 512, 256, NUM_CLASSES])\n",
    "    model = GOClassModel(protbert, [1024, NUM_CLASSES])\n",
    "    # model = Transformer(embed_dim=EMBED_DIM, src_vocab_size=src_vocab_size,\n",
    "    #                     target_vocab_size=target_vocab_size, source_seq_length=510+2, target_seq_length=MAX_LEN+2,\n",
    "    #                     num_layers=5, expansion_factor=1, n_heads=32,\n",
    "    #                     target_mask_fn=target_mask_fn,\n",
    "    #                     target_embedding=torch.tensor(sampled_embedding, dtype=torch.float)\n",
    "    #                    )\n",
    "\n",
    "\n",
    "    transformer = model\n",
    "    \n",
    "    for p in transformer.parameters():\n",
    "        if p.dim() > 1:\n",
    "            nn.init.xavier_uniform_(p)\n",
    "    \n",
    "    \n",
    "    transformer = transformer.to(DEVICE)"
   ]
  },
  {
   "cell_type": "code",
   "execution_count": null,
   "id": "ffc953b7-6360-4f57-8103-246d8f680766",
   "metadata": {},
   "outputs": [],
   "source": []
  },
  {
   "cell_type": "code",
   "execution_count": 190,
   "id": "b5678dc7-e958-4a54-9e8b-52e0bfe15c7c",
   "metadata": {},
   "outputs": [
    {
     "name": "stdout",
     "output_type": "stream",
     "text": [
      "Initial parameter values for protbert_model.encoder.layer.0.attention.self.query.weight:\n",
      " tensor([[ 0.0400, -0.0400,  0.0011,  ..., -0.0144,  0.0498,  0.0461],\n",
      "        [ 0.0466,  0.0256,  0.0256,  ...,  0.0214,  0.0138, -0.0550],\n",
      "        [-0.0178,  0.0062,  0.0343,  ..., -0.0194,  0.0272, -0.0509],\n",
      "        ...,\n",
      "        [ 0.0390,  0.0019,  0.0369,  ..., -0.0434,  0.0279,  0.0152],\n",
      "        [ 0.0027,  0.0118, -0.0230,  ...,  0.0425,  0.0033, -0.0512],\n",
      "        [ 0.0331, -0.0325,  0.0454,  ...,  0.0229,  0.0392,  0.0209]],\n",
      "       device='cuda:0')\n"
     ]
    }
   ],
   "source": [
    "param_name = \"protbert_model.encoder.layer.0.attention.self.query.weight\"\n",
    "initial_param = transformer.encoder.state_dict()[param_name].clone()\n",
    "\n",
    "# Print initial parameter values\n",
    "print(f\"Initial parameter values for {param_name}:\\n\", initial_param)\n"
   ]
  },
  {
   "cell_type": "markdown",
   "id": "868ffcd1-5c1c-4168-8bf1-dda640ba9041",
   "metadata": {},
   "source": [
    "updated_param = transformer.encoder.state_dict()[param_name]\n",
    "print(f\"Updated parameter values for {param_name}:\\n\", updated_param)\n"
   ]
  },
  {
   "cell_type": "code",
   "execution_count": 191,
   "id": "3a29a38e-5b09-4c75-a375-e6a7e635579a",
   "metadata": {},
   "outputs": [],
   "source": [
    "\n",
    "transformer = transformer.to(DEVICE)"
   ]
  },
  {
   "cell_type": "code",
   "execution_count": null,
   "id": "4464be11-f824-490f-aef1-f0f85b9bdaef",
   "metadata": {},
   "outputs": [],
   "source": []
  },
  {
   "cell_type": "code",
   "execution_count": 192,
   "id": "45a0984f-0fe9-4bb4-b8a7-914122b1391d",
   "metadata": {},
   "outputs": [
    {
     "data": {
      "text/html": [
       "<div>\n",
       "<style scoped>\n",
       "    .dataframe tbody tr th:only-of-type {\n",
       "        vertical-align: middle;\n",
       "    }\n",
       "\n",
       "    .dataframe tbody tr th {\n",
       "        vertical-align: top;\n",
       "    }\n",
       "\n",
       "    .dataframe thead th {\n",
       "        text-align: right;\n",
       "    }\n",
       "</style>\n",
       "<table border=\"1\" class=\"dataframe\">\n",
       "  <thead>\n",
       "    <tr style=\"text-align: right;\">\n",
       "      <th></th>\n",
       "      <th>seq</th>\n",
       "      <th>ann</th>\n",
       "      <th>ann_bin_mask</th>\n",
       "    </tr>\n",
       "  </thead>\n",
       "  <tbody>\n",
       "    <tr>\n",
       "      <th>15049</th>\n",
       "      <td>M H L L C F L S L A C S L L A A A L I P S P R ...</td>\n",
       "      <td>GO:0008150 GO:0050896 GO:0065007 GO:0009987 GO...</td>\n",
       "      <td>[0.0, 0.0, 0.0, 0.0, 0.0, 1.0, 1.0, 0.0, 0.0, ...</td>\n",
       "    </tr>\n",
       "  </tbody>\n",
       "</table>\n",
       "</div>"
      ],
      "text/plain": [
       "                                                     seq  \\\n",
       "15049  M H L L C F L S L A C S L L A A A L I P S P R ...   \n",
       "\n",
       "                                                     ann  \\\n",
       "15049  GO:0008150 GO:0050896 GO:0065007 GO:0009987 GO...   \n",
       "\n",
       "                                            ann_bin_mask  \n",
       "15049  [0.0, 0.0, 0.0, 0.0, 0.0, 1.0, 1.0, 0.0, 0.0, ...  "
      ]
     },
     "execution_count": 192,
     "metadata": {},
     "output_type": "execute_result"
    }
   ],
   "source": [
    "sample_data = ann_dataset.sample(1)\n",
    "sample_data"
   ]
  },
  {
   "cell_type": "code",
   "execution_count": 193,
   "id": "6d456d20-cab6-4178-a3d0-b5dac54fc25b",
   "metadata": {
    "scrolled": true
   },
   "outputs": [
    {
     "data": {
      "text/plain": [
       "tensor([[ 2, 21, 22,  5,  5, 23, 19,  5, 10,  5,  6, 23, 10,  5,  5,  6,  6,  6,\n",
       "          5, 11, 16, 10, 16, 13,  9,  6, 16,  6, 15,  8,  6,  6, 19,  9, 10,  7,\n",
       "          5,  7, 19, 10,  9,  6,  9, 16, 14,  7,  7,  9,  8, 12,  6, 19,  9,  7,\n",
       "         12, 14,  5,  9,  9, 18,  5, 13, 10,  8, 10, 10,  8, 14,  9,  5, 21, 10,\n",
       "          8,  5, 20, 16, 14, 20, 24, 12, 21, 20, 12, 23, 18,  5, 13, 12,  7,  7,\n",
       "         24, 18, 18, 16, 15,  5, 17, 15, 13, 15,  7, 14, 10,  8, 12, 19,  6,  6,\n",
       "          6, 22, 20, 17, 15,  9, 11,  5, 12, 10, 11, 14, 17,  9, 24, 13, 12, 15,\n",
       "         18, 23, 21, 16, 13,  9,  8, 23, 11, 14,  8,  7, 12,  9, 19,  7,  6,  6,\n",
       "         15, 17, 15, 19, 19, 12, 16, 16, 23,  8, 10,  8, 20, 13, 23,  7,  7, 23,\n",
       "         23, 17, 10,  9,  7,  5, 18, 23, 21, 17, 15, 10, 15,  7, 20,  5, 10, 12,\n",
       "         15,  5, 19,  9, 11, 15,  8, 16,  5, 10, 18,  7, 16, 12, 16,  8, 15, 11,\n",
       "         10, 19,  6, 17, 22, 15, 10, 23, 13, 23, 21, 10, 12,  5, 14,  8, 20, 13,\n",
       "         18,  8, 22, 10, 11, 11, 13, 13, 10,  5, 16,  6, 15,  5, 16, 18, 23, 18,\n",
       "          6,  6, 17, 12, 15, 23, 16, 15, 17, 20,  8, 24, 17, 17, 20, 21, 23, 13,\n",
       "         23,  5,  6, 18, 18, 14, 19, 11, 19, 20, 10, 17,  8,  9, 14, 14, 10, 15,\n",
       "         17,  7, 19, 22, 14,  8, 23,  7, 16, 17, 12,  9,  5, 14,  9, 14, 15, 23,\n",
       "         18, 23,  8, 23, 12,  7,  7,  5, 13, 16, 10, 10, 23,  7, 16, 22, 12,  9,\n",
       "          5, 14, 13, 14, 10, 23, 18, 23,  8, 23, 12, 17, 12,  5, 19, 16, 17, 10,\n",
       "         23,  7,  6, 17, 13,  9, 19, 14,  9, 17, 15, 23, 18, 23,  8, 23, 12, 13,\n",
       "         15, 23, 16, 13, 17, 18, 16,  5, 17, 16,  7, 12, 23,  6, 23,  9, 23, 15,\n",
       "          9, 17, 15, 18, 12, 23, 19,  5, 12,  7, 12, 12, 19, 22, 22, 18, 15, 23,\n",
       "         10, 23, 20, 13, 13, 16, 23,  6, 17, 13,  5, 12, 22, 23, 14, 16,  7,  5,\n",
       "         10, 19, 10,  9,  9,  8, 23, 13, 23,  8, 16, 10, 20, 24, 12, 13, 16, 22,\n",
       "          5, 17,  3]], device='cuda:0')"
      ]
     },
     "execution_count": 193,
     "metadata": {},
     "output_type": "execute_result"
    }
   ],
   "source": [
    "sample_inputs = tokenizers[SRC_LANGUAGE](sample_data.iloc[0][SRC_LANGUAGE], return_tensors='pt')['input_ids'].to(DEVICE)\n",
    "sample_inputs"
   ]
  },
  {
   "cell_type": "code",
   "execution_count": 194,
   "id": "cffc31e4-25be-48c9-8f22-6715f11caf77",
   "metadata": {},
   "outputs": [
    {
     "data": {
      "text/plain": [
       "tensor([[0.3379, 0.7694, 0.6648, 0.3379, 0.9820, 0.3379, 0.3379, 0.3379, 0.7118,\n",
       "         0.3379, 0.3379, 0.3379, 0.3833, 0.8225, 0.3436, 0.3379, 0.3379, 0.3755,\n",
       "         0.6811, 0.3379, 0.3379, 0.4407, 0.4385, 0.3379, 0.6600, 0.3379, 0.8241,\n",
       "         0.6327, 0.9715, 0.4376, 0.7402, 0.3379, 0.3379, 0.3379, 0.3379, 0.8310,\n",
       "         0.3379, 0.5611, 0.9384, 0.3379, 0.3379, 0.3379, 0.3379, 0.3379, 0.5452,\n",
       "         0.3379, 0.5216, 0.3379, 0.3379, 0.6714, 0.3379, 0.4234, 0.3379, 0.3379,\n",
       "         0.8049, 0.3379, 0.3932, 0.9551, 0.3379, 0.3379, 0.8084, 0.3379, 0.3379,\n",
       "         0.3379, 0.3379, 0.3379, 0.5454, 0.6437, 0.3379, 0.3716, 0.3379, 0.6338,\n",
       "         0.3379, 0.3718, 0.5765, 0.5262, 0.6220, 0.3379, 0.5894, 0.7315, 0.7543,\n",
       "         0.3379, 0.7464, 0.3379, 0.8421, 0.6306, 0.4026, 0.8395, 0.3379, 0.3379,\n",
       "         0.4085, 0.6810, 0.3379, 0.4501, 0.4083, 0.8386, 0.7477, 0.3379, 0.4792,\n",
       "         0.3379, 0.3379, 0.3379, 0.3606, 0.3379, 0.3379, 0.3379, 0.3465, 0.3379,\n",
       "         0.9249, 0.8662, 0.6268, 0.3379, 0.3379, 0.3570, 0.3491, 0.3790, 0.3379,\n",
       "         0.7334, 0.6421]], device='cuda:0', grad_fn=<SigmoidBackward0>)"
      ]
     },
     "execution_count": 194,
     "metadata": {},
     "output_type": "execute_result"
    }
   ],
   "source": [
    "sample_outputs = transformer(sample_inputs)\n",
    "sample_outputs"
   ]
  },
  {
   "cell_type": "code",
   "execution_count": 195,
   "id": "070ee4c2-b333-4b24-a747-a212ab11262b",
   "metadata": {},
   "outputs": [
    {
     "data": {
      "text/plain": [
       "tensor([[ 2,  5, 10,  9,  6, 15,  3]], device='cuda:0')"
      ]
     },
     "execution_count": 195,
     "metadata": {},
     "output_type": "execute_result"
    }
   ],
   "source": [
    "sample_target = torch.tensor([tokenizers[TGT_LANGUAGE].encode(sample_data.iloc[0][TGT_LANGUAGE]).ids]).to(DEVICE)\n",
    "sample_target"
   ]
  },
  {
   "cell_type": "code",
   "execution_count": 196,
   "id": "d7b52546-ccf7-45cf-907e-8b1a0269e5e4",
   "metadata": {
    "scrolled": true
   },
   "outputs": [],
   "source": [
    "# outputs = transformer.hidden_states(sample_inputs, sample_target)\n",
    "# outputs.keys()"
   ]
  },
  {
   "cell_type": "code",
   "execution_count": 197,
   "id": "24f09bd6-836f-47c4-837d-65cc169e196f",
   "metadata": {
    "scrolled": true
   },
   "outputs": [
    {
     "name": "stdout",
     "output_type": "stream",
     "text": [
      "GOClassModel(\n",
      "|   (encoder): ProtBERT_Adapter(\n",
      "|   |   (protbert_model): BertModel(\n",
      "|   |   |   (embeddings): BertEmbeddings(\n",
      "|   |   |   |   (word_embeddings): Embedding(30, 1024, padding_idx=0)\n",
      "|   |   |   |   (position_embeddings): Embedding(40000, 1024)\n",
      "|   |   |   |   (token_type_embeddings): Embedding(2, 1024)\n",
      "|   |   |   |   (LayerNorm): LayerNorm((1024,), eps=1e-12, elementwise_affine=True)\n",
      "|   |   |   |   (dropout): Dropout(p=0.0, inplace=False)\n",
      "|   |   |   )\n",
      "|   |   |   (encoder): BertEncoder(\n",
      "|   |   |   |   (layer): ModuleList(\n",
      "|   |   |   |   |   (0): BertLayer(\n",
      "|   |   |   |   |   |   (attention): BertAttention(\n",
      "|   |   |   |   |   |   |   (self): BertSelfAttention(\n",
      "|   |   |   |   |   |   |   |   (query): Linear(in_features=1024, out_features=576, bias=True)\n",
      "|   |   |   |   |   |   |   |   (key): Linear(in_features=1024, out_features=576, bias=True)\n",
      "|   |   |   |   |   |   |   |   (value): Linear(in_features=1024, out_features=576, bias=True)\n",
      "|   |   |   |   |   |   |   |   (dropout): Dropout(p=0.0, inplace=False)\n",
      "|   |   |   |   |   |   |   )\n",
      "|   |   |   |   |   |   |   (output): BertSelfOutput(\n",
      "|   |   |   |   |   |   |   |   (dense): Linear(in_features=576, out_features=1024, bias=True)\n",
      "|   |   |   |   |   |   |   |   (LayerNorm): LayerNorm((1024,), eps=1e-12, elementwise_affine=True)\n",
      "|   |   |   |   |   |   |   |   (dropout): Dropout(p=0.0, inplace=False)\n",
      "|   |   |   |   |   |   |   )\n",
      "|   |   |   |   |   |   )\n",
      "|   |   |   |   |   |   (intermediate): BertIntermediate(\n",
      "|   |   |   |   |   |   |   (dense): Linear(in_features=1024, out_features=4096, bias=True)\n",
      "|   |   |   |   |   |   |   (intermediate_act_fn): GELUActivation()\n",
      "|   |   |   |   |   |   )\n",
      "|   |   |   |   |   |   (output): BertOutput(\n",
      "|   |   |   |   |   |   |   (dense): Linear(in_features=4096, out_features=1024, bias=True)\n",
      "|   |   |   |   |   |   |   (LayerNorm): LayerNorm((1024,), eps=1e-12, elementwise_affine=True)\n",
      "|   |   |   |   |   |   |   (dropout): Dropout(p=0.0, inplace=False)\n",
      "|   |   |   |   |   |   )\n",
      "|   |   |   |   |   )\n",
      "|   |   |   |   |   (1): BertLayer(\n",
      "|   |   |   |   |   |   (attention): BertAttention(\n",
      "|   |   |   |   |   |   |   (self): BertSelfAttention(\n",
      "|   |   |   |   |   |   |   |   (query): Linear(in_features=1024, out_features=512, bias=True)\n",
      "|   |   |   |   |   |   |   |   (key): Linear(in_features=1024, out_features=512, bias=True)\n",
      "|   |   |   |   |   |   |   |   (value): Linear(in_features=1024, out_features=512, bias=True)\n",
      "|   |   |   |   |   |   |   |   (dropout): Dropout(p=0.0, inplace=False)\n",
      "|   |   |   |   |   |   |   )\n",
      "|   |   |   |   |   |   |   (output): BertSelfOutput(\n",
      "|   |   |   |   |   |   |   |   (dense): Linear(in_features=512, out_features=1024, bias=True)\n",
      "|   |   |   |   |   |   |   |   (LayerNorm): LayerNorm((1024,), eps=1e-12, elementwise_affine=True)\n",
      "|   |   |   |   |   |   |   |   (dropout): Dropout(p=0.0, inplace=False)\n",
      "|   |   |   |   |   |   |   )\n",
      "|   |   |   |   |   |   )\n",
      "|   |   |   |   |   |   (intermediate): BertIntermediate(\n",
      "|   |   |   |   |   |   |   (dense): Linear(in_features=1024, out_features=4096, bias=True)\n",
      "|   |   |   |   |   |   |   (intermediate_act_fn): GELUActivation()\n",
      "|   |   |   |   |   |   )\n",
      "|   |   |   |   |   |   (output): BertOutput(\n",
      "|   |   |   |   |   |   |   (dense): Linear(in_features=4096, out_features=1024, bias=True)\n",
      "|   |   |   |   |   |   |   (LayerNorm): LayerNorm((1024,), eps=1e-12, elementwise_affine=True)\n",
      "|   |   |   |   |   |   |   (dropout): Dropout(p=0.0, inplace=False)\n",
      "|   |   |   |   |   |   )\n",
      "|   |   |   |   |   )\n",
      "|   |   |   |   |   (2): BertLayer(\n",
      "|   |   |   |   |   |   (attention): BertAttention(\n",
      "|   |   |   |   |   |   |   (self): BertSelfAttention(\n",
      "|   |   |   |   |   |   |   |   (query): Linear(in_features=1024, out_features=320, bias=True)\n",
      "|   |   |   |   |   |   |   |   (key): Linear(in_features=1024, out_features=320, bias=True)\n",
      "|   |   |   |   |   |   |   |   (value): Linear(in_features=1024, out_features=320, bias=True)\n",
      "|   |   |   |   |   |   |   |   (dropout): Dropout(p=0.0, inplace=False)\n",
      "|   |   |   |   |   |   |   )\n",
      "|   |   |   |   |   |   |   (output): BertSelfOutput(\n",
      "|   |   |   |   |   |   |   |   (dense): Linear(in_features=320, out_features=1024, bias=True)\n",
      "|   |   |   |   |   |   |   |   (LayerNorm): LayerNorm((1024,), eps=1e-12, elementwise_affine=True)\n",
      "|   |   |   |   |   |   |   |   (dropout): Dropout(p=0.0, inplace=False)\n",
      "|   |   |   |   |   |   |   )\n",
      "|   |   |   |   |   |   )\n",
      "|   |   |   |   |   |   (intermediate): BertIntermediate(\n",
      "|   |   |   |   |   |   |   (dense): Linear(in_features=1024, out_features=4096, bias=True)\n",
      "|   |   |   |   |   |   |   (intermediate_act_fn): GELUActivation()\n",
      "|   |   |   |   |   |   )\n",
      "|   |   |   |   |   |   (output): BertOutput(\n",
      "|   |   |   |   |   |   |   (dense): Linear(in_features=4096, out_features=1024, bias=True)\n",
      "|   |   |   |   |   |   |   (LayerNorm): LayerNorm((1024,), eps=1e-12, elementwise_affine=True)\n",
      "|   |   |   |   |   |   |   (dropout): Dropout(p=0.0, inplace=False)\n",
      "|   |   |   |   |   |   )\n",
      "|   |   |   |   |   )\n",
      "|   |   |   |   |   (3): BertLayer(\n",
      "|   |   |   |   |   |   (attention): BertAttention(\n",
      "|   |   |   |   |   |   |   (self): BertSelfAttention(\n",
      "|   |   |   |   |   |   |   |   (query): Linear(in_features=1024, out_features=704, bias=True)\n",
      "|   |   |   |   |   |   |   |   (key): Linear(in_features=1024, out_features=704, bias=True)\n",
      "|   |   |   |   |   |   |   |   (value): Linear(in_features=1024, out_features=704, bias=True)\n",
      "|   |   |   |   |   |   |   |   (dropout): Dropout(p=0.0, inplace=False)\n",
      "|   |   |   |   |   |   |   )\n",
      "|   |   |   |   |   |   |   (output): BertSelfOutput(\n",
      "|   |   |   |   |   |   |   |   (dense): Linear(in_features=704, out_features=1024, bias=True)\n",
      "|   |   |   |   |   |   |   |   (LayerNorm): LayerNorm((1024,), eps=1e-12, elementwise_affine=True)\n",
      "|   |   |   |   |   |   |   |   (dropout): Dropout(p=0.0, inplace=False)\n",
      "|   |   |   |   |   |   |   )\n",
      "|   |   |   |   |   |   )\n",
      "|   |   |   |   |   |   (intermediate): BertIntermediate(\n",
      "|   |   |   |   |   |   |   (dense): Linear(in_features=1024, out_features=4096, bias=True)\n",
      "|   |   |   |   |   |   |   (intermediate_act_fn): GELUActivation()\n",
      "|   |   |   |   |   |   )\n",
      "|   |   |   |   |   |   (output): BertOutput(\n",
      "|   |   |   |   |   |   |   (dense): Linear(in_features=4096, out_features=1024, bias=True)\n",
      "|   |   |   |   |   |   |   (LayerNorm): LayerNorm((1024,), eps=1e-12, elementwise_affine=True)\n",
      "|   |   |   |   |   |   |   (dropout): Dropout(p=0.0, inplace=False)\n",
      "|   |   |   |   |   |   )\n",
      "|   |   |   |   |   )\n",
      "|   |   |   |   |   (4): BertLayer(\n",
      "|   |   |   |   |   |   (attention): BertAttention(\n",
      "|   |   |   |   |   |   |   (self): BertSelfAttention(\n",
      "|   |   |   |   |   |   |   |   (query): Linear(in_features=1024, out_features=576, bias=True)\n",
      "|   |   |   |   |   |   |   |   (key): Linear(in_features=1024, out_features=576, bias=True)\n",
      "|   |   |   |   |   |   |   |   (value): Linear(in_features=1024, out_features=576, bias=True)\n",
      "|   |   |   |   |   |   |   |   (dropout): Dropout(p=0.0, inplace=False)\n",
      "|   |   |   |   |   |   |   )\n",
      "|   |   |   |   |   |   |   (output): BertSelfOutput(\n",
      "|   |   |   |   |   |   |   |   (dense): Linear(in_features=576, out_features=1024, bias=True)\n",
      "|   |   |   |   |   |   |   |   (LayerNorm): LayerNorm((1024,), eps=1e-12, elementwise_affine=True)\n",
      "|   |   |   |   |   |   |   |   (dropout): Dropout(p=0.0, inplace=False)\n",
      "|   |   |   |   |   |   |   )\n",
      "|   |   |   |   |   |   )\n",
      "|   |   |   |   |   |   (intermediate): BertIntermediate(\n",
      "|   |   |   |   |   |   |   (dense): Linear(in_features=1024, out_features=4096, bias=True)\n",
      "|   |   |   |   |   |   |   (intermediate_act_fn): GELUActivation()\n",
      "|   |   |   |   |   |   )\n",
      "|   |   |   |   |   |   (output): BertOutput(\n",
      "|   |   |   |   |   |   |   (dense): Linear(in_features=4096, out_features=1024, bias=True)\n",
      "|   |   |   |   |   |   |   (LayerNorm): LayerNorm((1024,), eps=1e-12, elementwise_affine=True)\n",
      "|   |   |   |   |   |   |   (dropout): Dropout(p=0.0, inplace=False)\n",
      "|   |   |   |   |   |   )\n",
      "|   |   |   |   |   )\n",
      "|   |   |   |   |   (5): BertLayer(\n",
      "|   |   |   |   |   |   (attention): BertAttention(\n",
      "|   |   |   |   |   |   |   (self): BertSelfAttention(\n",
      "|   |   |   |   |   |   |   |   (query): Linear(in_features=1024, out_features=640, bias=True)\n",
      "|   |   |   |   |   |   |   |   (key): Linear(in_features=1024, out_features=640, bias=True)\n",
      "|   |   |   |   |   |   |   |   (value): Linear(in_features=1024, out_features=640, bias=True)\n",
      "|   |   |   |   |   |   |   |   (dropout): Dropout(p=0.0, inplace=False)\n",
      "|   |   |   |   |   |   |   )\n",
      "|   |   |   |   |   |   |   (output): BertSelfOutput(\n",
      "|   |   |   |   |   |   |   |   (dense): Linear(in_features=640, out_features=1024, bias=True)\n",
      "|   |   |   |   |   |   |   |   (LayerNorm): LayerNorm((1024,), eps=1e-12, elementwise_affine=True)\n",
      "|   |   |   |   |   |   |   |   (dropout): Dropout(p=0.0, inplace=False)\n",
      "|   |   |   |   |   |   |   )\n",
      "|   |   |   |   |   |   )\n",
      "|   |   |   |   |   |   (intermediate): BertIntermediate(\n",
      "|   |   |   |   |   |   |   (dense): Linear(in_features=1024, out_features=4096, bias=True)\n",
      "|   |   |   |   |   |   |   (intermediate_act_fn): GELUActivation()\n",
      "|   |   |   |   |   |   )\n",
      "|   |   |   |   |   |   (output): BertOutput(\n",
      "|   |   |   |   |   |   |   (dense): Linear(in_features=4096, out_features=1024, bias=True)\n",
      "|   |   |   |   |   |   |   (LayerNorm): LayerNorm((1024,), eps=1e-12, elementwise_affine=True)\n",
      "|   |   |   |   |   |   |   (dropout): Dropout(p=0.0, inplace=False)\n",
      "|   |   |   |   |   |   )\n",
      "|   |   |   |   |   )\n",
      "|   |   |   |   |   (6): BertLayer(\n",
      "|   |   |   |   |   |   (attention): BertAttention(\n",
      "|   |   |   |   |   |   |   (self): BertSelfAttention(\n",
      "|   |   |   |   |   |   |   |   (query): Linear(in_features=1024, out_features=576, bias=True)\n",
      "|   |   |   |   |   |   |   |   (key): Linear(in_features=1024, out_features=576, bias=True)\n",
      "|   |   |   |   |   |   |   |   (value): Linear(in_features=1024, out_features=576, bias=True)\n",
      "|   |   |   |   |   |   |   |   (dropout): Dropout(p=0.0, inplace=False)\n",
      "|   |   |   |   |   |   |   )\n",
      "|   |   |   |   |   |   |   (output): BertSelfOutput(\n",
      "|   |   |   |   |   |   |   |   (dense): Linear(in_features=576, out_features=1024, bias=True)\n",
      "|   |   |   |   |   |   |   |   (LayerNorm): LayerNorm((1024,), eps=1e-12, elementwise_affine=True)\n",
      "|   |   |   |   |   |   |   |   (dropout): Dropout(p=0.0, inplace=False)\n",
      "|   |   |   |   |   |   |   )\n",
      "|   |   |   |   |   |   )\n",
      "|   |   |   |   |   |   (intermediate): BertIntermediate(\n",
      "|   |   |   |   |   |   |   (dense): Linear(in_features=1024, out_features=4096, bias=True)\n",
      "|   |   |   |   |   |   |   (intermediate_act_fn): GELUActivation()\n",
      "|   |   |   |   |   |   )\n",
      "|   |   |   |   |   |   (output): BertOutput(\n",
      "|   |   |   |   |   |   |   (dense): Linear(in_features=4096, out_features=1024, bias=True)\n",
      "|   |   |   |   |   |   |   (LayerNorm): LayerNorm((1024,), eps=1e-12, elementwise_affine=True)\n",
      "|   |   |   |   |   |   |   (dropout): Dropout(p=0.0, inplace=False)\n",
      "|   |   |   |   |   |   )\n",
      "|   |   |   |   |   )\n",
      "|   |   |   |   |   (7): BertLayer(\n",
      "|   |   |   |   |   |   (attention): BertAttention(\n",
      "|   |   |   |   |   |   |   (self): BertSelfAttention(\n",
      "|   |   |   |   |   |   |   |   (query): Linear(in_features=1024, out_features=448, bias=True)\n",
      "|   |   |   |   |   |   |   |   (key): Linear(in_features=1024, out_features=448, bias=True)\n",
      "|   |   |   |   |   |   |   |   (value): Linear(in_features=1024, out_features=448, bias=True)\n",
      "|   |   |   |   |   |   |   |   (dropout): Dropout(p=0.0, inplace=False)\n",
      "|   |   |   |   |   |   |   )\n",
      "|   |   |   |   |   |   |   (output): BertSelfOutput(\n",
      "|   |   |   |   |   |   |   |   (dense): Linear(in_features=448, out_features=1024, bias=True)\n",
      "|   |   |   |   |   |   |   |   (LayerNorm): LayerNorm((1024,), eps=1e-12, elementwise_affine=True)\n",
      "|   |   |   |   |   |   |   |   (dropout): Dropout(p=0.0, inplace=False)\n",
      "|   |   |   |   |   |   |   )\n",
      "|   |   |   |   |   |   )\n",
      "|   |   |   |   |   |   (intermediate): BertIntermediate(\n",
      "|   |   |   |   |   |   |   (dense): Linear(in_features=1024, out_features=4096, bias=True)\n",
      "|   |   |   |   |   |   |   (intermediate_act_fn): GELUActivation()\n",
      "|   |   |   |   |   |   )\n",
      "|   |   |   |   |   |   (output): BertOutput(\n",
      "|   |   |   |   |   |   |   (dense): Linear(in_features=4096, out_features=1024, bias=True)\n",
      "|   |   |   |   |   |   |   (LayerNorm): LayerNorm((1024,), eps=1e-12, elementwise_affine=True)\n",
      "|   |   |   |   |   |   |   (dropout): Dropout(p=0.0, inplace=False)\n",
      "|   |   |   |   |   |   )\n",
      "|   |   |   |   |   )\n",
      "|   |   |   |   |   (8): BertLayer(\n",
      "|   |   |   |   |   |   (attention): BertAttention(\n",
      "|   |   |   |   |   |   |   (self): BertSelfAttention(\n",
      "|   |   |   |   |   |   |   |   (query): Linear(in_features=1024, out_features=576, bias=True)\n",
      "|   |   |   |   |   |   |   |   (key): Linear(in_features=1024, out_features=576, bias=True)\n",
      "|   |   |   |   |   |   |   |   (value): Linear(in_features=1024, out_features=576, bias=True)\n",
      "|   |   |   |   |   |   |   |   (dropout): Dropout(p=0.0, inplace=False)\n",
      "|   |   |   |   |   |   |   )\n",
      "|   |   |   |   |   |   |   (output): BertSelfOutput(\n",
      "|   |   |   |   |   |   |   |   (dense): Linear(in_features=576, out_features=1024, bias=True)\n",
      "|   |   |   |   |   |   |   |   (LayerNorm): LayerNorm((1024,), eps=1e-12, elementwise_affine=True)\n",
      "|   |   |   |   |   |   |   |   (dropout): Dropout(p=0.0, inplace=False)\n",
      "|   |   |   |   |   |   |   )\n",
      "|   |   |   |   |   |   )\n",
      "|   |   |   |   |   |   (intermediate): BertIntermediate(\n",
      "|   |   |   |   |   |   |   (dense): Linear(in_features=1024, out_features=4096, bias=True)\n",
      "|   |   |   |   |   |   |   (intermediate_act_fn): GELUActivation()\n",
      "|   |   |   |   |   |   )\n",
      "|   |   |   |   |   |   (output): BertOutput(\n",
      "|   |   |   |   |   |   |   (dense): Linear(in_features=4096, out_features=1024, bias=True)\n",
      "|   |   |   |   |   |   |   (LayerNorm): LayerNorm((1024,), eps=1e-12, elementwise_affine=True)\n",
      "|   |   |   |   |   |   |   (dropout): Dropout(p=0.0, inplace=False)\n",
      "|   |   |   |   |   |   )\n",
      "|   |   |   |   |   )\n",
      "|   |   |   |   |   (9-10): 2 x BertLayer(\n",
      "|   |   |   |   |   |   (attention): BertAttention(\n",
      "|   |   |   |   |   |   |   (self): BertSelfAttention(\n",
      "|   |   |   |   |   |   |   |   (query): Linear(in_features=1024, out_features=640, bias=True)\n",
      "|   |   |   |   |   |   |   |   (key): Linear(in_features=1024, out_features=640, bias=True)\n",
      "|   |   |   |   |   |   |   |   (value): Linear(in_features=1024, out_features=640, bias=True)\n",
      "|   |   |   |   |   |   |   |   (dropout): Dropout(p=0.0, inplace=False)\n",
      "|   |   |   |   |   |   |   )\n",
      "|   |   |   |   |   |   |   (output): BertSelfOutput(\n",
      "|   |   |   |   |   |   |   |   (dense): Linear(in_features=640, out_features=1024, bias=True)\n",
      "|   |   |   |   |   |   |   |   (LayerNorm): LayerNorm((1024,), eps=1e-12, elementwise_affine=True)\n",
      "|   |   |   |   |   |   |   |   (dropout): Dropout(p=0.0, inplace=False)\n",
      "|   |   |   |   |   |   |   )\n",
      "|   |   |   |   |   |   )\n",
      "|   |   |   |   |   |   (intermediate): BertIntermediate(\n",
      "|   |   |   |   |   |   |   (dense): Linear(in_features=1024, out_features=4096, bias=True)\n",
      "|   |   |   |   |   |   |   (intermediate_act_fn): GELUActivation()\n",
      "|   |   |   |   |   |   )\n",
      "|   |   |   |   |   |   (output): BertOutput(\n",
      "|   |   |   |   |   |   |   (dense): Linear(in_features=4096, out_features=1024, bias=True)\n",
      "|   |   |   |   |   |   |   (LayerNorm): LayerNorm((1024,), eps=1e-12, elementwise_affine=True)\n",
      "|   |   |   |   |   |   |   (dropout): Dropout(p=0.0, inplace=False)\n",
      "|   |   |   |   |   |   )\n",
      "|   |   |   |   |   )\n",
      "|   |   |   |   |   (11): BertLayer(\n",
      "|   |   |   |   |   |   (attention): BertAttention(\n",
      "|   |   |   |   |   |   |   (self): BertSelfAttention(\n",
      "|   |   |   |   |   |   |   |   (query): Linear(in_features=1024, out_features=576, bias=True)\n",
      "|   |   |   |   |   |   |   |   (key): Linear(in_features=1024, out_features=576, bias=True)\n",
      "|   |   |   |   |   |   |   |   (value): Linear(in_features=1024, out_features=576, bias=True)\n",
      "|   |   |   |   |   |   |   |   (dropout): Dropout(p=0.0, inplace=False)\n",
      "|   |   |   |   |   |   |   )\n",
      "|   |   |   |   |   |   |   (output): BertSelfOutput(\n",
      "|   |   |   |   |   |   |   |   (dense): Linear(in_features=576, out_features=1024, bias=True)\n",
      "|   |   |   |   |   |   |   |   (LayerNorm): LayerNorm((1024,), eps=1e-12, elementwise_affine=True)\n",
      "|   |   |   |   |   |   |   |   (dropout): Dropout(p=0.0, inplace=False)\n",
      "|   |   |   |   |   |   |   )\n",
      "|   |   |   |   |   |   )\n",
      "|   |   |   |   |   |   (intermediate): BertIntermediate(\n",
      "|   |   |   |   |   |   |   (dense): Linear(in_features=1024, out_features=4096, bias=True)\n",
      "|   |   |   |   |   |   |   (intermediate_act_fn): GELUActivation()\n",
      "|   |   |   |   |   |   )\n",
      "|   |   |   |   |   |   (output): BertOutput(\n",
      "|   |   |   |   |   |   |   (dense): Linear(in_features=4096, out_features=1024, bias=True)\n",
      "|   |   |   |   |   |   |   (LayerNorm): LayerNorm((1024,), eps=1e-12, elementwise_affine=True)\n",
      "|   |   |   |   |   |   |   (dropout): Dropout(p=0.0, inplace=False)\n",
      "|   |   |   |   |   |   )\n",
      "|   |   |   |   |   )\n",
      "|   |   |   |   |   (12): BertLayer(\n",
      "|   |   |   |   |   |   (attention): BertAttention(\n",
      "|   |   |   |   |   |   |   (self): BertSelfAttention(\n",
      "|   |   |   |   |   |   |   |   (query): Linear(in_features=1024, out_features=640, bias=True)\n",
      "|   |   |   |   |   |   |   |   (key): Linear(in_features=1024, out_features=640, bias=True)\n",
      "|   |   |   |   |   |   |   |   (value): Linear(in_features=1024, out_features=640, bias=True)\n",
      "|   |   |   |   |   |   |   |   (dropout): Dropout(p=0.0, inplace=False)\n",
      "|   |   |   |   |   |   |   )\n",
      "|   |   |   |   |   |   |   (output): BertSelfOutput(\n",
      "|   |   |   |   |   |   |   |   (dense): Linear(in_features=640, out_features=1024, bias=True)\n",
      "|   |   |   |   |   |   |   |   (LayerNorm): LayerNorm((1024,), eps=1e-12, elementwise_affine=True)\n",
      "|   |   |   |   |   |   |   |   (dropout): Dropout(p=0.0, inplace=False)\n",
      "|   |   |   |   |   |   |   )\n",
      "|   |   |   |   |   |   )\n",
      "|   |   |   |   |   |   (intermediate): BertIntermediate(\n",
      "|   |   |   |   |   |   |   (dense): Linear(in_features=1024, out_features=4096, bias=True)\n",
      "|   |   |   |   |   |   |   (intermediate_act_fn): GELUActivation()\n",
      "|   |   |   |   |   |   )\n",
      "|   |   |   |   |   |   (output): BertOutput(\n",
      "|   |   |   |   |   |   |   (dense): Linear(in_features=4096, out_features=1024, bias=True)\n",
      "|   |   |   |   |   |   |   (LayerNorm): LayerNorm((1024,), eps=1e-12, elementwise_affine=True)\n",
      "|   |   |   |   |   |   |   (dropout): Dropout(p=0.0, inplace=False)\n",
      "|   |   |   |   |   |   )\n",
      "|   |   |   |   |   )\n",
      "|   |   |   |   |   (13): BertLayer(\n",
      "|   |   |   |   |   |   (attention): BertAttention(\n",
      "|   |   |   |   |   |   |   (self): BertSelfAttention(\n",
      "|   |   |   |   |   |   |   |   (query): Linear(in_features=1024, out_features=832, bias=True)\n",
      "|   |   |   |   |   |   |   |   (key): Linear(in_features=1024, out_features=832, bias=True)\n",
      "|   |   |   |   |   |   |   |   (value): Linear(in_features=1024, out_features=832, bias=True)\n",
      "|   |   |   |   |   |   |   |   (dropout): Dropout(p=0.0, inplace=False)\n",
      "|   |   |   |   |   |   |   )\n",
      "|   |   |   |   |   |   |   (output): BertSelfOutput(\n",
      "|   |   |   |   |   |   |   |   (dense): Linear(in_features=832, out_features=1024, bias=True)\n",
      "|   |   |   |   |   |   |   |   (LayerNorm): LayerNorm((1024,), eps=1e-12, elementwise_affine=True)\n",
      "|   |   |   |   |   |   |   |   (dropout): Dropout(p=0.0, inplace=False)\n",
      "|   |   |   |   |   |   |   )\n",
      "|   |   |   |   |   |   )\n",
      "|   |   |   |   |   |   (intermediate): BertIntermediate(\n",
      "|   |   |   |   |   |   |   (dense): Linear(in_features=1024, out_features=4096, bias=True)\n",
      "|   |   |   |   |   |   |   (intermediate_act_fn): GELUActivation()\n",
      "|   |   |   |   |   |   )\n",
      "|   |   |   |   |   |   (output): BertOutput(\n",
      "|   |   |   |   |   |   |   (dense): Linear(in_features=4096, out_features=1024, bias=True)\n",
      "|   |   |   |   |   |   |   (LayerNorm): LayerNorm((1024,), eps=1e-12, elementwise_affine=True)\n",
      "|   |   |   |   |   |   |   (dropout): Dropout(p=0.0, inplace=False)\n",
      "|   |   |   |   |   |   )\n",
      "|   |   |   |   |   )\n",
      "|   |   |   |   |   (14): BertLayer(\n",
      "|   |   |   |   |   |   (attention): BertAttention(\n",
      "|   |   |   |   |   |   |   (self): BertSelfAttention(\n",
      "|   |   |   |   |   |   |   |   (query): Linear(in_features=1024, out_features=448, bias=True)\n",
      "|   |   |   |   |   |   |   |   (key): Linear(in_features=1024, out_features=448, bias=True)\n",
      "|   |   |   |   |   |   |   |   (value): Linear(in_features=1024, out_features=448, bias=True)\n",
      "|   |   |   |   |   |   |   |   (dropout): Dropout(p=0.0, inplace=False)\n",
      "|   |   |   |   |   |   |   )\n",
      "|   |   |   |   |   |   |   (output): BertSelfOutput(\n",
      "|   |   |   |   |   |   |   |   (dense): Linear(in_features=448, out_features=1024, bias=True)\n",
      "|   |   |   |   |   |   |   |   (LayerNorm): LayerNorm((1024,), eps=1e-12, elementwise_affine=True)\n",
      "|   |   |   |   |   |   |   |   (dropout): Dropout(p=0.0, inplace=False)\n",
      "|   |   |   |   |   |   |   )\n",
      "|   |   |   |   |   |   )\n",
      "|   |   |   |   |   |   (intermediate): BertIntermediate(\n",
      "|   |   |   |   |   |   |   (dense): Linear(in_features=1024, out_features=4096, bias=True)\n",
      "|   |   |   |   |   |   |   (intermediate_act_fn): GELUActivation()\n",
      "|   |   |   |   |   |   )\n",
      "|   |   |   |   |   |   (output): BertOutput(\n",
      "|   |   |   |   |   |   |   (dense): Linear(in_features=4096, out_features=1024, bias=True)\n",
      "|   |   |   |   |   |   |   (LayerNorm): LayerNorm((1024,), eps=1e-12, elementwise_affine=True)\n",
      "|   |   |   |   |   |   |   (dropout): Dropout(p=0.0, inplace=False)\n",
      "|   |   |   |   |   |   )\n",
      "|   |   |   |   |   )\n",
      "|   |   |   |   |   (15): BertLayer(\n",
      "|   |   |   |   |   |   (attention): BertAttention(\n",
      "|   |   |   |   |   |   |   (self): BertSelfAttention(\n",
      "|   |   |   |   |   |   |   |   (query): Linear(in_features=1024, out_features=576, bias=True)\n",
      "|   |   |   |   |   |   |   |   (key): Linear(in_features=1024, out_features=576, bias=True)\n",
      "|   |   |   |   |   |   |   |   (value): Linear(in_features=1024, out_features=576, bias=True)\n",
      "|   |   |   |   |   |   |   |   (dropout): Dropout(p=0.0, inplace=False)\n",
      "|   |   |   |   |   |   |   )\n",
      "|   |   |   |   |   |   |   (output): BertSelfOutput(\n",
      "|   |   |   |   |   |   |   |   (dense): Linear(in_features=576, out_features=1024, bias=True)\n",
      "|   |   |   |   |   |   |   |   (LayerNorm): LayerNorm((1024,), eps=1e-12, elementwise_affine=True)\n",
      "|   |   |   |   |   |   |   |   (dropout): Dropout(p=0.0, inplace=False)\n",
      "|   |   |   |   |   |   |   )\n",
      "|   |   |   |   |   |   )\n",
      "|   |   |   |   |   |   (intermediate): BertIntermediate(\n",
      "|   |   |   |   |   |   |   (dense): Linear(in_features=1024, out_features=4096, bias=True)\n",
      "|   |   |   |   |   |   |   (intermediate_act_fn): GELUActivation()\n",
      "|   |   |   |   |   |   )\n",
      "|   |   |   |   |   |   (output): BertOutput(\n",
      "|   |   |   |   |   |   |   (dense): Linear(in_features=4096, out_features=1024, bias=True)\n",
      "|   |   |   |   |   |   |   (LayerNorm): LayerNorm((1024,), eps=1e-12, elementwise_affine=True)\n",
      "|   |   |   |   |   |   |   (dropout): Dropout(p=0.0, inplace=False)\n",
      "|   |   |   |   |   |   )\n",
      "|   |   |   |   |   )\n",
      "|   |   |   |   |   (16): BertLayer(\n",
      "|   |   |   |   |   |   (attention): BertAttention(\n",
      "|   |   |   |   |   |   |   (self): BertSelfAttention(\n",
      "|   |   |   |   |   |   |   |   (query): Linear(in_features=1024, out_features=704, bias=True)\n",
      "|   |   |   |   |   |   |   |   (key): Linear(in_features=1024, out_features=704, bias=True)\n",
      "|   |   |   |   |   |   |   |   (value): Linear(in_features=1024, out_features=704, bias=True)\n",
      "|   |   |   |   |   |   |   |   (dropout): Dropout(p=0.0, inplace=False)\n",
      "|   |   |   |   |   |   |   )\n",
      "|   |   |   |   |   |   |   (output): BertSelfOutput(\n",
      "|   |   |   |   |   |   |   |   (dense): Linear(in_features=704, out_features=1024, bias=True)\n",
      "|   |   |   |   |   |   |   |   (LayerNorm): LayerNorm((1024,), eps=1e-12, elementwise_affine=True)\n",
      "|   |   |   |   |   |   |   |   (dropout): Dropout(p=0.0, inplace=False)\n",
      "|   |   |   |   |   |   |   )\n",
      "|   |   |   |   |   |   )\n",
      "|   |   |   |   |   |   (intermediate): BertIntermediate(\n",
      "|   |   |   |   |   |   |   (dense): Linear(in_features=1024, out_features=4096, bias=True)\n",
      "|   |   |   |   |   |   |   (intermediate_act_fn): GELUActivation()\n",
      "|   |   |   |   |   |   )\n",
      "|   |   |   |   |   |   (output): BertOutput(\n",
      "|   |   |   |   |   |   |   (dense): Linear(in_features=4096, out_features=1024, bias=True)\n",
      "|   |   |   |   |   |   |   (LayerNorm): LayerNorm((1024,), eps=1e-12, elementwise_affine=True)\n",
      "|   |   |   |   |   |   |   (dropout): Dropout(p=0.0, inplace=False)\n",
      "|   |   |   |   |   |   )\n",
      "|   |   |   |   |   )\n",
      "|   |   |   |   |   (17): BertLayer(\n",
      "|   |   |   |   |   |   (attention): BertAttention(\n",
      "|   |   |   |   |   |   |   (self): BertSelfAttention(\n",
      "|   |   |   |   |   |   |   |   (query): Linear(in_features=1024, out_features=576, bias=True)\n",
      "|   |   |   |   |   |   |   |   (key): Linear(in_features=1024, out_features=576, bias=True)\n",
      "|   |   |   |   |   |   |   |   (value): Linear(in_features=1024, out_features=576, bias=True)\n",
      "|   |   |   |   |   |   |   |   (dropout): Dropout(p=0.0, inplace=False)\n",
      "|   |   |   |   |   |   |   )\n",
      "|   |   |   |   |   |   |   (output): BertSelfOutput(\n",
      "|   |   |   |   |   |   |   |   (dense): Linear(in_features=576, out_features=1024, bias=True)\n",
      "|   |   |   |   |   |   |   |   (LayerNorm): LayerNorm((1024,), eps=1e-12, elementwise_affine=True)\n",
      "|   |   |   |   |   |   |   |   (dropout): Dropout(p=0.0, inplace=False)\n",
      "|   |   |   |   |   |   |   )\n",
      "|   |   |   |   |   |   )\n",
      "|   |   |   |   |   |   (intermediate): BertIntermediate(\n",
      "|   |   |   |   |   |   |   (dense): Linear(in_features=1024, out_features=4096, bias=True)\n",
      "|   |   |   |   |   |   |   (intermediate_act_fn): GELUActivation()\n",
      "|   |   |   |   |   |   )\n",
      "|   |   |   |   |   |   (output): BertOutput(\n",
      "|   |   |   |   |   |   |   (dense): Linear(in_features=4096, out_features=1024, bias=True)\n",
      "|   |   |   |   |   |   |   (LayerNorm): LayerNorm((1024,), eps=1e-12, elementwise_affine=True)\n",
      "|   |   |   |   |   |   |   (dropout): Dropout(p=0.0, inplace=False)\n",
      "|   |   |   |   |   |   )\n",
      "|   |   |   |   |   )\n",
      "|   |   |   |   |   (18): BertLayer(\n",
      "|   |   |   |   |   |   (attention): BertAttention(\n",
      "|   |   |   |   |   |   |   (self): BertSelfAttention(\n",
      "|   |   |   |   |   |   |   |   (query): Linear(in_features=1024, out_features=512, bias=True)\n",
      "|   |   |   |   |   |   |   |   (key): Linear(in_features=1024, out_features=512, bias=True)\n",
      "|   |   |   |   |   |   |   |   (value): Linear(in_features=1024, out_features=512, bias=True)\n",
      "|   |   |   |   |   |   |   |   (dropout): Dropout(p=0.0, inplace=False)\n",
      "|   |   |   |   |   |   |   )\n",
      "|   |   |   |   |   |   |   (output): BertSelfOutput(\n",
      "|   |   |   |   |   |   |   |   (dense): Linear(in_features=512, out_features=1024, bias=True)\n",
      "|   |   |   |   |   |   |   |   (LayerNorm): LayerNorm((1024,), eps=1e-12, elementwise_affine=True)\n",
      "|   |   |   |   |   |   |   |   (dropout): Dropout(p=0.0, inplace=False)\n",
      "|   |   |   |   |   |   |   )\n",
      "|   |   |   |   |   |   )\n",
      "|   |   |   |   |   |   (intermediate): BertIntermediate(\n",
      "|   |   |   |   |   |   |   (dense): Linear(in_features=1024, out_features=4096, bias=True)\n",
      "|   |   |   |   |   |   |   (intermediate_act_fn): GELUActivation()\n",
      "|   |   |   |   |   |   )\n",
      "|   |   |   |   |   |   (output): BertOutput(\n",
      "|   |   |   |   |   |   |   (dense): Linear(in_features=4096, out_features=1024, bias=True)\n",
      "|   |   |   |   |   |   |   (LayerNorm): LayerNorm((1024,), eps=1e-12, elementwise_affine=True)\n",
      "|   |   |   |   |   |   |   (dropout): Dropout(p=0.0, inplace=False)\n",
      "|   |   |   |   |   |   )\n",
      "|   |   |   |   |   )\n",
      "|   |   |   |   |   (19): BertLayer(\n",
      "|   |   |   |   |   |   (attention): BertAttention(\n",
      "|   |   |   |   |   |   |   (self): BertSelfAttention(\n",
      "|   |   |   |   |   |   |   |   (query): Linear(in_features=1024, out_features=576, bias=True)\n",
      "|   |   |   |   |   |   |   |   (key): Linear(in_features=1024, out_features=576, bias=True)\n",
      "|   |   |   |   |   |   |   |   (value): Linear(in_features=1024, out_features=576, bias=True)\n",
      "|   |   |   |   |   |   |   |   (dropout): Dropout(p=0.0, inplace=False)\n",
      "|   |   |   |   |   |   |   )\n",
      "|   |   |   |   |   |   |   (output): BertSelfOutput(\n",
      "|   |   |   |   |   |   |   |   (dense): Linear(in_features=576, out_features=1024, bias=True)\n",
      "|   |   |   |   |   |   |   |   (LayerNorm): LayerNorm((1024,), eps=1e-12, elementwise_affine=True)\n",
      "|   |   |   |   |   |   |   |   (dropout): Dropout(p=0.0, inplace=False)\n",
      "|   |   |   |   |   |   |   )\n",
      "|   |   |   |   |   |   )\n",
      "|   |   |   |   |   |   (intermediate): BertIntermediate(\n",
      "|   |   |   |   |   |   |   (dense): Linear(in_features=1024, out_features=4096, bias=True)\n",
      "|   |   |   |   |   |   |   (intermediate_act_fn): GELUActivation()\n",
      "|   |   |   |   |   |   )\n",
      "|   |   |   |   |   |   (output): BertOutput(\n",
      "|   |   |   |   |   |   |   (dense): Linear(in_features=4096, out_features=1024, bias=True)\n",
      "|   |   |   |   |   |   |   (LayerNorm): LayerNorm((1024,), eps=1e-12, elementwise_affine=True)\n",
      "|   |   |   |   |   |   |   (dropout): Dropout(p=0.0, inplace=False)\n",
      "|   |   |   |   |   |   )\n",
      "|   |   |   |   |   )\n",
      "|   |   |   |   |   (20-21): 2 x BertLayer(\n",
      "|   |   |   |   |   |   (attention): BertAttention(\n",
      "|   |   |   |   |   |   |   (self): BertSelfAttention(\n",
      "|   |   |   |   |   |   |   |   (query): Linear(in_features=1024, out_features=384, bias=True)\n",
      "|   |   |   |   |   |   |   |   (key): Linear(in_features=1024, out_features=384, bias=True)\n",
      "|   |   |   |   |   |   |   |   (value): Linear(in_features=1024, out_features=384, bias=True)\n",
      "|   |   |   |   |   |   |   |   (dropout): Dropout(p=0.0, inplace=False)\n",
      "|   |   |   |   |   |   |   )\n",
      "|   |   |   |   |   |   |   (output): BertSelfOutput(\n",
      "|   |   |   |   |   |   |   |   (dense): Linear(in_features=384, out_features=1024, bias=True)\n",
      "|   |   |   |   |   |   |   |   (LayerNorm): LayerNorm((1024,), eps=1e-12, elementwise_affine=True)\n",
      "|   |   |   |   |   |   |   |   (dropout): Dropout(p=0.0, inplace=False)\n",
      "|   |   |   |   |   |   |   )\n",
      "|   |   |   |   |   |   )\n",
      "|   |   |   |   |   |   (intermediate): BertIntermediate(\n",
      "|   |   |   |   |   |   |   (dense): Linear(in_features=1024, out_features=4096, bias=True)\n",
      "|   |   |   |   |   |   |   (intermediate_act_fn): GELUActivation()\n",
      "|   |   |   |   |   |   )\n",
      "|   |   |   |   |   |   (output): BertOutput(\n",
      "|   |   |   |   |   |   |   (dense): Linear(in_features=4096, out_features=1024, bias=True)\n",
      "|   |   |   |   |   |   |   (LayerNorm): LayerNorm((1024,), eps=1e-12, elementwise_affine=True)\n",
      "|   |   |   |   |   |   |   (dropout): Dropout(p=0.0, inplace=False)\n",
      "|   |   |   |   |   |   )\n",
      "|   |   |   |   |   )\n",
      "|   |   |   |   |   (22-23): 2 x BertLayer(\n",
      "|   |   |   |   |   |   (attention): BertAttention(\n",
      "|   |   |   |   |   |   |   (self): BertSelfAttention(\n",
      "|   |   |   |   |   |   |   |   (query): Linear(in_features=1024, out_features=704, bias=True)\n",
      "|   |   |   |   |   |   |   |   (key): Linear(in_features=1024, out_features=704, bias=True)\n",
      "|   |   |   |   |   |   |   |   (value): Linear(in_features=1024, out_features=704, bias=True)\n",
      "|   |   |   |   |   |   |   |   (dropout): Dropout(p=0.0, inplace=False)\n",
      "|   |   |   |   |   |   |   )\n",
      "|   |   |   |   |   |   |   (output): BertSelfOutput(\n",
      "|   |   |   |   |   |   |   |   (dense): Linear(in_features=704, out_features=1024, bias=True)\n",
      "|   |   |   |   |   |   |   |   (LayerNorm): LayerNorm((1024,), eps=1e-12, elementwise_affine=True)\n",
      "|   |   |   |   |   |   |   |   (dropout): Dropout(p=0.0, inplace=False)\n",
      "|   |   |   |   |   |   |   )\n",
      "|   |   |   |   |   |   )\n",
      "|   |   |   |   |   |   (intermediate): BertIntermediate(\n",
      "|   |   |   |   |   |   |   (dense): Linear(in_features=1024, out_features=4096, bias=True)\n",
      "|   |   |   |   |   |   |   (intermediate_act_fn): GELUActivation()\n",
      "|   |   |   |   |   |   )\n",
      "|   |   |   |   |   |   (output): BertOutput(\n",
      "|   |   |   |   |   |   |   (dense): Linear(in_features=4096, out_features=1024, bias=True)\n",
      "|   |   |   |   |   |   |   (LayerNorm): LayerNorm((1024,), eps=1e-12, elementwise_affine=True)\n",
      "|   |   |   |   |   |   |   (dropout): Dropout(p=0.0, inplace=False)\n",
      "|   |   |   |   |   |   )\n",
      "|   |   |   |   |   )\n",
      "|   |   |   |   |   (24): BertLayer(\n",
      "|   |   |   |   |   |   (attention): BertAttention(\n",
      "|   |   |   |   |   |   |   (self): BertSelfAttention(\n",
      "|   |   |   |   |   |   |   |   (query): Linear(in_features=1024, out_features=576, bias=True)\n",
      "|   |   |   |   |   |   |   |   (key): Linear(in_features=1024, out_features=576, bias=True)\n",
      "|   |   |   |   |   |   |   |   (value): Linear(in_features=1024, out_features=576, bias=True)\n",
      "|   |   |   |   |   |   |   |   (dropout): Dropout(p=0.0, inplace=False)\n",
      "|   |   |   |   |   |   |   )\n",
      "|   |   |   |   |   |   |   (output): BertSelfOutput(\n",
      "|   |   |   |   |   |   |   |   (dense): Linear(in_features=576, out_features=1024, bias=True)\n",
      "|   |   |   |   |   |   |   |   (LayerNorm): LayerNorm((1024,), eps=1e-12, elementwise_affine=True)\n",
      "|   |   |   |   |   |   |   |   (dropout): Dropout(p=0.0, inplace=False)\n",
      "|   |   |   |   |   |   |   )\n",
      "|   |   |   |   |   |   )\n",
      "|   |   |   |   |   |   (intermediate): BertIntermediate(\n",
      "|   |   |   |   |   |   |   (dense): Linear(in_features=1024, out_features=4096, bias=True)\n",
      "|   |   |   |   |   |   |   (intermediate_act_fn): GELUActivation()\n",
      "|   |   |   |   |   |   )\n",
      "|   |   |   |   |   |   (output): BertOutput(\n",
      "|   |   |   |   |   |   |   (dense): Linear(in_features=4096, out_features=1024, bias=True)\n",
      "|   |   |   |   |   |   |   (LayerNorm): LayerNorm((1024,), eps=1e-12, elementwise_affine=True)\n",
      "|   |   |   |   |   |   |   (dropout): Dropout(p=0.0, inplace=False)\n",
      "|   |   |   |   |   |   )\n",
      "|   |   |   |   |   )\n",
      "|   |   |   |   |   (25-26): 2 x BertLayer(\n",
      "|   |   |   |   |   |   (attention): BertAttention(\n",
      "|   |   |   |   |   |   |   (self): BertSelfAttention(\n",
      "|   |   |   |   |   |   |   |   (query): Linear(in_features=1024, out_features=448, bias=True)\n",
      "|   |   |   |   |   |   |   |   (key): Linear(in_features=1024, out_features=448, bias=True)\n",
      "|   |   |   |   |   |   |   |   (value): Linear(in_features=1024, out_features=448, bias=True)\n",
      "|   |   |   |   |   |   |   |   (dropout): Dropout(p=0.0, inplace=False)\n",
      "|   |   |   |   |   |   |   )\n",
      "|   |   |   |   |   |   |   (output): BertSelfOutput(\n",
      "|   |   |   |   |   |   |   |   (dense): Linear(in_features=448, out_features=1024, bias=True)\n",
      "|   |   |   |   |   |   |   |   (LayerNorm): LayerNorm((1024,), eps=1e-12, elementwise_affine=True)\n",
      "|   |   |   |   |   |   |   |   (dropout): Dropout(p=0.0, inplace=False)\n",
      "|   |   |   |   |   |   |   )\n",
      "|   |   |   |   |   |   )\n",
      "|   |   |   |   |   |   (intermediate): BertIntermediate(\n",
      "|   |   |   |   |   |   |   (dense): Linear(in_features=1024, out_features=4096, bias=True)\n",
      "|   |   |   |   |   |   |   (intermediate_act_fn): GELUActivation()\n",
      "|   |   |   |   |   |   )\n",
      "|   |   |   |   |   |   (output): BertOutput(\n",
      "|   |   |   |   |   |   |   (dense): Linear(in_features=4096, out_features=1024, bias=True)\n",
      "|   |   |   |   |   |   |   (LayerNorm): LayerNorm((1024,), eps=1e-12, elementwise_affine=True)\n",
      "|   |   |   |   |   |   |   (dropout): Dropout(p=0.0, inplace=False)\n",
      "|   |   |   |   |   |   )\n",
      "|   |   |   |   |   )\n",
      "|   |   |   |   |   (27): BertLayer(\n",
      "|   |   |   |   |   |   (attention): BertAttention(\n",
      "|   |   |   |   |   |   |   (self): BertSelfAttention(\n",
      "|   |   |   |   |   |   |   |   (query): Linear(in_features=1024, out_features=640, bias=True)\n",
      "|   |   |   |   |   |   |   |   (key): Linear(in_features=1024, out_features=640, bias=True)\n",
      "|   |   |   |   |   |   |   |   (value): Linear(in_features=1024, out_features=640, bias=True)\n",
      "|   |   |   |   |   |   |   |   (dropout): Dropout(p=0.0, inplace=False)\n",
      "|   |   |   |   |   |   |   )\n",
      "|   |   |   |   |   |   |   (output): BertSelfOutput(\n",
      "|   |   |   |   |   |   |   |   (dense): Linear(in_features=640, out_features=1024, bias=True)\n",
      "|   |   |   |   |   |   |   |   (LayerNorm): LayerNorm((1024,), eps=1e-12, elementwise_affine=True)\n",
      "|   |   |   |   |   |   |   |   (dropout): Dropout(p=0.0, inplace=False)\n",
      "|   |   |   |   |   |   |   )\n",
      "|   |   |   |   |   |   )\n",
      "|   |   |   |   |   |   (intermediate): BertIntermediate(\n",
      "|   |   |   |   |   |   |   (dense): Linear(in_features=1024, out_features=4096, bias=True)\n",
      "|   |   |   |   |   |   |   (intermediate_act_fn): GELUActivation()\n",
      "|   |   |   |   |   |   )\n",
      "|   |   |   |   |   |   (output): BertOutput(\n",
      "|   |   |   |   |   |   |   (dense): Linear(in_features=4096, out_features=1024, bias=True)\n",
      "|   |   |   |   |   |   |   (LayerNorm): LayerNorm((1024,), eps=1e-12, elementwise_affine=True)\n",
      "|   |   |   |   |   |   |   (dropout): Dropout(p=0.0, inplace=False)\n",
      "|   |   |   |   |   |   )\n",
      "|   |   |   |   |   )\n",
      "|   |   |   |   |   (28): BertLayer(\n",
      "|   |   |   |   |   |   (attention): BertAttention(\n",
      "|   |   |   |   |   |   |   (self): BertSelfAttention(\n",
      "|   |   |   |   |   |   |   |   (query): Linear(in_features=1024, out_features=384, bias=True)\n",
      "|   |   |   |   |   |   |   |   (key): Linear(in_features=1024, out_features=384, bias=True)\n",
      "|   |   |   |   |   |   |   |   (value): Linear(in_features=1024, out_features=384, bias=True)\n",
      "|   |   |   |   |   |   |   |   (dropout): Dropout(p=0.0, inplace=False)\n",
      "|   |   |   |   |   |   |   )\n",
      "|   |   |   |   |   |   |   (output): BertSelfOutput(\n",
      "|   |   |   |   |   |   |   |   (dense): Linear(in_features=384, out_features=1024, bias=True)\n",
      "|   |   |   |   |   |   |   |   (LayerNorm): LayerNorm((1024,), eps=1e-12, elementwise_affine=True)\n",
      "|   |   |   |   |   |   |   |   (dropout): Dropout(p=0.0, inplace=False)\n",
      "|   |   |   |   |   |   |   )\n",
      "|   |   |   |   |   |   )\n",
      "|   |   |   |   |   |   (intermediate): BertIntermediate(\n",
      "|   |   |   |   |   |   |   (dense): Linear(in_features=1024, out_features=4096, bias=True)\n",
      "|   |   |   |   |   |   |   (intermediate_act_fn): GELUActivation()\n",
      "|   |   |   |   |   |   )\n",
      "|   |   |   |   |   |   (output): BertOutput(\n",
      "|   |   |   |   |   |   |   (dense): Linear(in_features=4096, out_features=1024, bias=True)\n",
      "|   |   |   |   |   |   |   (LayerNorm): LayerNorm((1024,), eps=1e-12, elementwise_affine=True)\n",
      "|   |   |   |   |   |   |   (dropout): Dropout(p=0.0, inplace=False)\n",
      "|   |   |   |   |   |   )\n",
      "|   |   |   |   |   )\n",
      "|   |   |   |   |   (29): BertLayer(\n",
      "|   |   |   |   |   |   (attention): BertAttention(\n",
      "|   |   |   |   |   |   |   (self): BertSelfAttention(\n",
      "|   |   |   |   |   |   |   |   (query): Linear(in_features=1024, out_features=512, bias=True)\n",
      "|   |   |   |   |   |   |   |   (key): Linear(in_features=1024, out_features=512, bias=True)\n",
      "|   |   |   |   |   |   |   |   (value): Linear(in_features=1024, out_features=512, bias=True)\n",
      "|   |   |   |   |   |   |   |   (dropout): Dropout(p=0.0, inplace=False)\n",
      "|   |   |   |   |   |   |   )\n",
      "|   |   |   |   |   |   |   (output): BertSelfOutput(\n",
      "|   |   |   |   |   |   |   |   (dense): Linear(in_features=512, out_features=1024, bias=True)\n",
      "|   |   |   |   |   |   |   |   (LayerNorm): LayerNorm((1024,), eps=1e-12, elementwise_affine=True)\n",
      "|   |   |   |   |   |   |   |   (dropout): Dropout(p=0.0, inplace=False)\n",
      "|   |   |   |   |   |   |   )\n",
      "|   |   |   |   |   |   )\n",
      "|   |   |   |   |   |   (intermediate): BertIntermediate(\n",
      "|   |   |   |   |   |   |   (dense): Linear(in_features=1024, out_features=4096, bias=True)\n",
      "|   |   |   |   |   |   |   (intermediate_act_fn): GELUActivation()\n",
      "|   |   |   |   |   |   )\n",
      "|   |   |   |   |   |   (output): BertOutput(\n",
      "|   |   |   |   |   |   |   (dense): Linear(in_features=4096, out_features=1024, bias=True)\n",
      "|   |   |   |   |   |   |   (LayerNorm): LayerNorm((1024,), eps=1e-12, elementwise_affine=True)\n",
      "|   |   |   |   |   |   |   (dropout): Dropout(p=0.0, inplace=False)\n",
      "|   |   |   |   |   |   )\n",
      "|   |   |   |   |   )\n",
      "|   |   |   |   )\n",
      "|   |   |   )\n",
      "|   |   |   (pooler): BertPooler(\n",
      "|   |   |   |   (dense): Linear(in_features=1024, out_features=1024, bias=True)\n",
      "|   |   |   |   (activation): Tanh()\n",
      "|   |   |   )\n",
      "|   |   )\n",
      "|   )\n",
      "|   (layers): ModuleList(\n",
      "|   |   (0): NNLayer(\n",
      "|   |   |   (layers): Sequential(\n",
      "|   |   |   |   (0): Linear(in_features=1024, out_features=119, bias=True)\n",
      "|   |   |   |   (1): ReLU()\n",
      "|   |   |   )\n",
      "|   |   |   (norm): LayerNorm((119,), eps=1e-05, elementwise_affine=True)\n",
      "|   |   )\n",
      "|   )\n",
      "|   (sigmoid): Sigmoid()\n",
      ")\n"
     ]
    }
   ],
   "source": [
    "print(str(transformer).replace('  ', '|   '))"
   ]
  },
  {
   "cell_type": "code",
   "execution_count": 198,
   "id": "62e7dff1-7038-4e03-b7d9-7a3805816edd",
   "metadata": {},
   "outputs": [
    {
     "data": {
      "text/plain": [
       "3"
      ]
     },
     "execution_count": 198,
     "metadata": {},
     "output_type": "execute_result"
    }
   ],
   "source": [
    "x = {}\n",
    "y = x[2] = 3\n",
    "y"
   ]
  },
  {
   "cell_type": "code",
   "execution_count": 199,
   "id": "57866dc6-f191-4641-90a8-f81c7d06cc51",
   "metadata": {},
   "outputs": [],
   "source": [
    "def substitute_encoder(model, encoder):\n",
    "    model.encoder = encoder\n",
    "    # need to make sure the embedding dimensions are the same"
   ]
  },
  {
   "cell_type": "markdown",
   "id": "71f8ab49-f02e-4645-9e83-7fc526421609",
   "metadata": {},
   "source": [
    "## Check Mem usage"
   ]
  },
  {
   "cell_type": "code",
   "execution_count": 200,
   "id": "ae4be39f-e962-4f52-bec5-669eae51fe17",
   "metadata": {
    "scrolled": true
   },
   "outputs": [],
   "source": [
    "# from torch.profiler import profile, record_function, ProfilerActivity\n",
    "\n",
    "# # Use profiler to track memory usage\n",
    "# with profile(activities=[ProfilerActivity.CUDA], profile_memory=True, record_shapes=True) as prof:\n",
    "#     with record_function(\"model_inference\"):\n",
    "#         for i in range(10):\n",
    "#         # i = 2\n",
    "#             inputs = tokenizers['seq'](ann_dataset.iloc[i]['seq'], return_tensors='pt')['input_ids'].to(DEVICE)\n",
    "#             target = torch.tensor([tokenizers['ann'].encode(ann_dataset.iloc[i]['ann']).ids]).to(DEVICE)\n",
    "#             outputs = transformer(inputs, target)\n",
    "\n",
    "# # Print profiling results\n",
    "# print(prof.key_averages().table(sort_by=\"cuda_memory_usage\", row_limit=10))"
   ]
  },
  {
   "cell_type": "code",
   "execution_count": 201,
   "id": "500f9d63-573a-48eb-a97a-daf9e5880e15",
   "metadata": {},
   "outputs": [],
   "source": [
    "# len(ann_dataset.iloc[i]['seq'])"
   ]
  },
  {
   "cell_type": "code",
   "execution_count": 202,
   "id": "b19e71e1-8e23-4d0e-85c6-43fecf6d4b39",
   "metadata": {},
   "outputs": [],
   "source": [
    "# protbert_model.protbert_model(**protbert_tokenizer(ann_dataset.iloc[2]['seq'], return_tensors='pt').to(DEVICE))"
   ]
  },
  {
   "cell_type": "markdown",
   "id": "96d33a75-1482-4bdf-84b7-17e02b7adbb5",
   "metadata": {},
   "source": [
    "## Training"
   ]
  },
  {
   "cell_type": "code",
   "execution_count": 203,
   "id": "396ad068-916e-4824-9962-35f706abf8d5",
   "metadata": {},
   "outputs": [],
   "source": [
    "optimizer = torch.optim.Adam(transformer.parameters(), lr=0.000005, betas=(0.98, 0.999), eps=1e-9)"
   ]
  },
  {
   "cell_type": "code",
   "execution_count": 204,
   "id": "61e7b48d-f4f7-4cf7-b176-4d9168d375d8",
   "metadata": {},
   "outputs": [],
   "source": [
    "BATCH_SIZE = 5\n",
    "ITER_REPEATS = 1"
   ]
  },
  {
   "cell_type": "code",
   "execution_count": 205,
   "id": "fa9714db-9dbc-4e62-933c-34e9b25f2f3c",
   "metadata": {
    "scrolled": true
   },
   "outputs": [],
   "source": [
    "\n",
    "# for p in transformer.parameters():\n",
    "#     if p.dim() > 1:\n",
    "#         nn.init.xavier_uniform_(p)\n"
   ]
  },
  {
   "cell_type": "code",
   "execution_count": 206,
   "id": "7484c7ef-5d84-458f-912d-7322a6b591ec",
   "metadata": {},
   "outputs": [
    {
     "data": {
      "image/png": "[encoded data removed]",
      "text/plain": [
       "<Figure size 640x480 with 1 Axes>"
      ]
     },
     "metadata": {},
     "output_type": "display_data"
    },
    {
     "ename": "ValueError",
     "evalue": "not enough values to unpack (expected 3, got 2)",
     "output_type": "error",
     "traceback": [
      "\u001b[0;31m---------------------------------------------------------------------------\u001b[0m",
      "\u001b[0;31mValueError\u001b[0m                                Traceback (most recent call last)",
      "Cell \u001b[0;32mIn[206], line 7\u001b[0m\n\u001b[1;32m      5\u001b[0m train_loss \u001b[38;5;241m=\u001b[39m train_epoch(transformer, optimizer)\n\u001b[1;32m      6\u001b[0m end_time \u001b[38;5;241m=\u001b[39m timer()\n\u001b[0;32m----> 7\u001b[0m eval_res \u001b[38;5;241m=\u001b[39m \u001b[43mevaluate\u001b[49m\u001b[43m(\u001b[49m\u001b[43mtransformer\u001b[49m\u001b[43m)\u001b[49m\n\u001b[1;32m      8\u001b[0m val_loss \u001b[38;5;241m=\u001b[39m eval_res[\u001b[38;5;124m'\u001b[39m\u001b[38;5;124mloss\u001b[39m\u001b[38;5;124m'\u001b[39m]\n\u001b[1;32m      9\u001b[0m val_hit  \u001b[38;5;241m=\u001b[39m eval_res[\u001b[38;5;124m'\u001b[39m\u001b[38;5;124mhit_rate\u001b[39m\u001b[38;5;124m'\u001b[39m]\n",
      "Cell \u001b[0;32mIn[157], line 13\u001b[0m, in \u001b[0;36mevaluate\u001b[0;34m(model)\u001b[0m\n\u001b[1;32m     11\u001b[0m num_batches \u001b[38;5;241m=\u001b[39m \u001b[38;5;241m10\u001b[39m\n\u001b[1;32m     12\u001b[0m i \u001b[38;5;241m=\u001b[39m \u001b[38;5;241m0\u001b[39m\n\u001b[0;32m---> 13\u001b[0m \u001b[38;5;28;01mfor\u001b[39;00m src, tgt, masks \u001b[38;5;129;01min\u001b[39;00m val_dataloader:\n\u001b[1;32m     14\u001b[0m     \u001b[38;5;66;03m# print(i)\u001b[39;00m\n\u001b[1;32m     15\u001b[0m     src \u001b[38;5;241m=\u001b[39m src\u001b[38;5;241m.\u001b[39mT\u001b[38;5;241m.\u001b[39mto(DEVICE)\n\u001b[1;32m     16\u001b[0m     masks \u001b[38;5;241m=\u001b[39m masks\u001b[38;5;241m.\u001b[39mT\u001b[38;5;241m.\u001b[39mto(DEVICE)\n",
      "\u001b[0;31mValueError\u001b[0m: not enough values to unpack (expected 3, got 2)"
     ]
    }
   ],
   "source": [
    "NUM_EPOCHS = 1\n",
    "\n",
    "for epoch in range(1, NUM_EPOCHS + 1):\n",
    "    start_time = timer()\n",
    "    train_loss = train_epoch(transformer, optimizer)\n",
    "    end_time = timer()\n",
    "    eval_res = evaluate(transformer)\n",
    "    val_loss = eval_res['loss']\n",
    "    val_hit  = eval_res['hit_rate']\n",
    "    # if epoch % 10 == 0:\n",
    "\n",
    "print(( f\"Epoch: {epoch}, Train loss: {train_loss:.3f}, Val loss: {val_loss:.3f}, \"f\"Epoch time = {(end_time - start_time):.3f}s\"))\n",
    "pickle.dump(transformer, open(pickle_file, 'wb'))"
   ]
  },
  {
   "cell_type": "code",
   "execution_count": null,
   "id": "1ee5b80a-45ac-447e-9218-a5e5114162ab",
   "metadata": {},
   "outputs": [],
   "source": [
    "os.mkdir('states/seq_classification')"
   ]
  },
  {
   "cell_type": "code",
   "execution_count": null,
   "id": "d83524b9-d995-4af2-b4cf-4d502ee549f3",
   "metadata": {},
   "outputs": [],
   "source": [
    "pickle.dump(transformer, open(pickle_file, 'wb'))"
   ]
  },
  {
   "cell_type": "code",
   "execution_count": null,
   "id": "52d3bf98-0dc6-4c38-98bd-8776ef8ff64c",
   "metadata": {},
   "outputs": [],
   "source": [
    "x = np.ones(2)\n",
    "x.astype(bool)"
   ]
  },
  {
   "cell_type": "code",
   "execution_count": null,
   "id": "0be71043-875a-41f3-8400-38dd90d9940c",
   "metadata": {},
   "outputs": [],
   "source": [
    "torch.nn.rei\n",
    "transformer."
   ]
  },
  {
   "cell_type": "markdown",
   "id": "b63d8514-8e84-480e-a836-507f86a7fb68",
   "metadata": {},
   "source": [
    "## Debugging"
   ]
  },
  {
   "cell_type": "code",
   "execution_count": null,
   "id": "8b5dcce1-9877-43a1-ae1e-e6bcec9581f2",
   "metadata": {},
   "outputs": [],
   "source": [
    "sample_data = ann_dataset.sample(1)\n",
    "sample_data"
   ]
  },
  {
   "cell_type": "code",
   "execution_count": null,
   "id": "744a9820-4771-48fe-8bed-70a7e18e1302",
   "metadata": {
    "scrolled": true
   },
   "outputs": [],
   "source": [
    "sample_inputs = tokenizers[SRC_LANGUAGE](sample_data.iloc[0][SRC_LANGUAGE], return_tensors='pt')['input_ids'].to(DEVICE)\n",
    "sample_inputs"
   ]
  },
  {
   "cell_type": "code",
   "execution_count": null,
   "id": "c51e9363-b2e7-4829-893d-10add438482f",
   "metadata": {},
   "outputs": [],
   "source": [
    "sample_target = torch.tensor([tokenizers[TGT_LANGUAGE].encode(sample_data.iloc[0][TGT_LANGUAGE]).ids]).to(DEVICE)\n",
    "sample_target"
   ]
  },
  {
   "cell_type": "code",
   "execution_count": null,
   "id": "99bb0a9c-1ad4-4b73-9698-c74b159c95c5",
   "metadata": {
    "scrolled": true
   },
   "outputs": [],
   "source": [
    "outputs = transformer(sample_inputs, sample_target)\n",
    "outputs"
   ]
  },
  {
   "cell_type": "code",
   "execution_count": null,
   "id": "7ea37c72-a188-4f96-af8e-d48d6a8457c9",
   "metadata": {},
   "outputs": [],
   "source": [
    "hidden_states = transformer.hidden_states(sample_inputs, sample_target)"
   ]
  },
  {
   "cell_type": "code",
   "execution_count": null,
   "id": "499857b7-807c-425e-bd7d-dc39747c05dd",
   "metadata": {},
   "outputs": [],
   "source": [
    "hidden_states.keys()"
   ]
  },
  {
   "cell_type": "code",
   "execution_count": null,
   "id": "5a3baee3-7726-4045-9f3a-ffc63b748e6e",
   "metadata": {},
   "outputs": [],
   "source": [
    "list(transformer.decoder.fc_out.named_parameters())[0][1]"
   ]
  },
  {
   "cell_type": "code",
   "execution_count": null,
   "id": "9029e5ae-3fc8-47d5-8b7f-4d51ae152065",
   "metadata": {},
   "outputs": [],
   "source": [
    "hidden_states['decoder.fc_out'][0, 1, :]"
   ]
  },
  {
   "cell_type": "code",
   "execution_count": null,
   "id": "b108fa09-7bc4-47d8-8feb-9bbd2665abaa",
   "metadata": {
    "scrolled": true
   },
   "outputs": [],
   "source": [
    "for k, v in hidden_states.items():\n",
    "    print(k, v.shape)"
   ]
  },
  {
   "cell_type": "code",
   "execution_count": null,
   "id": "0feed889-0088-4a5a-9ba7-625e762787b9",
   "metadata": {},
   "outputs": [],
   "source": [
    "transformer.decoder.embedding_layer(sample_target[0, 3:4])"
   ]
  },
  {
   "cell_type": "code",
   "execution_count": null,
   "id": "0e2bb533-793c-4da2-b8e8-d5214e8e4a42",
   "metadata": {},
   "outputs": [],
   "source": [
    "list(transformer.decoder.embedding_layer)"
   ]
  },
  {
   "cell_type": "code",
   "execution_count": null,
   "id": "2adaa228-057e-466d-b55d-bf9ebafe4dde",
   "metadata": {},
   "outputs": [],
   "source": []
  },
  {
   "cell_type": "markdown",
   "id": "33dd5f5f-1b4b-46ed-9986-e90c9a5f05b1",
   "metadata": {},
   "source": [
    "## Evaluate"
   ]
  },
  {
   "cell_type": "code",
   "execution_count": null,
   "id": "5fd07523-dd2b-4ea9-9ae0-44660a42977c",
   "metadata": {
    "scrolled": true
   },
   "outputs": [],
   "source": [
    "evaluate(transformer)"
   ]
  },
  {
   "cell_type": "code",
   "execution_count": null,
   "id": "3abf638b-4ca6-45cf-8b43-2a30abd45fab",
   "metadata": {},
   "outputs": [],
   "source": []
  },
  {
   "cell_type": "code",
   "execution_count": null,
   "id": "b2789163-8121-49ec-a0f5-abc050d90ee2",
   "metadata": {},
   "outputs": [],
   "source": [
    "plt.plot(anm.curve_y)"
   ]
  },
  {
   "cell_type": "code",
   "execution_count": null,
   "id": "e802cd4d-ad68-41e5-a149-d81d3d9e96e1",
   "metadata": {},
   "outputs": [],
   "source": [
    "pickle.dump(transformer, open(pickle_file, 'wb'))"
   ]
  },
  {
   "cell_type": "code",
   "execution_count": null,
   "id": "82b27a05-2b96-4b36-8cfa-88fe5dda728d",
   "metadata": {},
   "outputs": [],
   "source": [
    "pickle_file"
   ]
  },
  {
   "cell_type": "code",
   "execution_count": null,
   "id": "67f68ace-6718-406a-99a7-1c1c37fd11f7",
   "metadata": {},
   "outputs": [],
   "source": [
    "torch.cuda.empty_cache()"
   ]
  },
  {
   "cell_type": "code",
   "execution_count": null,
   "id": "b0df8225-acf9-497c-b734-28af677f61a7",
   "metadata": {},
   "outputs": [],
   "source": []
  },
  {
   "cell_type": "code",
   "execution_count": null,
   "id": "fdcee2ed-4d03-4156-9de4-7b89039e9836",
   "metadata": {},
   "outputs": [],
   "source": []
  },
  {
   "cell_type": "code",
   "execution_count": null,
   "id": "fff5b2fd-5cba-46e4-9bd2-b2582ad9b4b0",
   "metadata": {},
   "outputs": [],
   "source": []
  },
  {
   "cell_type": "code",
   "execution_count": null,
   "id": "e0cf5468-b24b-4f4b-b93d-83ee38c93032",
   "metadata": {},
   "outputs": [],
   "source": []
  },
  {
   "cell_type": "code",
   "execution_count": null,
   "id": "ee8e3b3f-00c0-45d6-a60d-1147c6e05ccb",
   "metadata": {},
   "outputs": [],
   "source": []
  },
  {
   "cell_type": "code",
   "execution_count": null,
   "id": "8e769790-2b1e-4d20-aa64-5429f6baf5e4",
   "metadata": {},
   "outputs": [],
   "source": []
  }
 ],
 "metadata": {
  "kernelspec": {
   "display_name": "Python 3 (ipykernel)",
   "language": "python",
   "name": "python3"
  },
  "language_info": {
   "codemirror_mode": {
    "name": "ipython",
    "version": 3
   },
   "file_extension": ".py",
   "mimetype": "text/x-python",
   "name": "python",
   "nbconvert_exporter": "python",
   "pygments_lexer": "ipython3",
   "version": "3.10.13"
  }
 },
 "nbformat": 4,
 "nbformat_minor": 5
}
