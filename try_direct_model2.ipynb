{
 "cells": [
  {
   "cell_type": "code",
   "execution_count": 1,
   "id": "b0f87a78-963c-4dc0-8750-97db00bce0f3",
   "metadata": {},
   "outputs": [],
   "source": [
    "%load_ext autoreload\n",
    "%autoreload 2"
   ]
  },
  {
   "cell_type": "code",
   "execution_count": 2,
   "id": "63bf3d4a-08ca-4652-9823-efcb83a5a5c3",
   "metadata": {},
   "outputs": [],
   "source": [
    "import pandas as pd\n",
    "import numpy as np\n",
    "import Bio\n",
    "import Bio.SeqIO\n",
    "import re\n",
    "import os\n",
    "import pickle\n",
    "\n",
    "from timeit import default_timer as timer\n",
    "import matplotlib.pyplot as plt\n",
    "from IPython.display import display, clear_output\n",
    "\n",
    "os.environ[\"KMP_DUPLICATE_LIB_OK\"]=\"TRUE\"\n",
    "\n",
    "from timeit import default_timer as timer\n"
   ]
  },
  {
   "cell_type": "code",
   "execution_count": 3,
   "id": "2e74f0f6-1732-4b6b-ba2c-987a3054663e",
   "metadata": {},
   "outputs": [],
   "source": [
    "os.environ[\"CUDA_VISIBLE_DEVICES\"]='2,3'"
   ]
  },
  {
   "cell_type": "code",
   "execution_count": 4,
   "id": "e7c44491-66b1-482f-badc-30fc1929828d",
   "metadata": {},
   "outputs": [],
   "source": [
    "from torchtext.data.utils import get_tokenizer\n",
    "from torchtext.vocab import build_vocab_from_iterator\n",
    "from typing import Iterable, List\n",
    "from torch.nn.utils.rnn import pad_sequence\n",
    "from torch.utils.data import DataLoader\n",
    "import torch"
   ]
  },
  {
   "cell_type": "code",
   "execution_count": 5,
   "id": "ee17933d-5317-413b-8b33-d41645c40d84",
   "metadata": {},
   "outputs": [
    {
     "data": {
      "text/plain": [
       "device(type='cuda')"
      ]
     },
     "execution_count": 5,
     "metadata": {},
     "output_type": "execute_result"
    }
   ],
   "source": [
    "DEVICE = torch.device('cuda' if torch.cuda.is_available() else 'cpu')\n",
    "# DEVICE = 'cpu'\n",
    "DEVICE"
   ]
  },
  {
   "cell_type": "code",
   "execution_count": 6,
   "id": "7a69f991-de61-4db8-affd-e549df86cf03",
   "metadata": {},
   "outputs": [],
   "source": [
    "os.sys.path.append('/home/yisupeng/workspace/CAFA_CODE/python/')"
   ]
  },
  {
   "cell_type": "code",
   "execution_count": 7,
   "id": "748f0979-ab0d-4572-9d1b-9ec707aeef01",
   "metadata": {},
   "outputs": [],
   "source": [
    "from ontology import *"
   ]
  },
  {
   "cell_type": "code",
   "execution_count": 8,
   "id": "f9d32750-6e0c-4059-a7b9-630aef7083b6",
   "metadata": {},
   "outputs": [],
   "source": [
    "from gene_ontology import *"
   ]
  },
  {
   "cell_type": "markdown",
   "id": "85ea46af-2a73-469f-b53b-0714fe1f785c",
   "metadata": {},
   "source": [
    "## Dataset"
   ]
  },
  {
   "cell_type": "markdown",
   "id": "a140db2a-f6fc-4479-aaf6-9d51f15ea27e",
   "metadata": {},
   "source": [
    "### Target vocab"
   ]
  },
  {
   "cell_type": "code",
   "execution_count": 9,
   "id": "2c308a27-27f9-444d-bbc8-50cfeaeaaddc",
   "metadata": {
    "scrolled": true
   },
   "outputs": [],
   "source": [
    "ont_pickle = 'states/ont.pickle'\n",
    "if os.path.exists(ont_pickle):\n",
    "    ont = pickle.load(open(ont_pickle, 'rb'))\n",
    "else:\n",
    "    ont = Ontology(parse_ont('data/go-basic.obo'))\n",
    "    pickle.dump(ont, open(ont_pickle, 'wb'))"
   ]
  },
  {
   "cell_type": "code",
   "execution_count": 10,
   "id": "29b36fb7-b580-46d8-a424-df316ba565a1",
   "metadata": {},
   "outputs": [
    {
     "data": {
      "text/plain": [
       "{'GO:0003674', 'GO:0005575', 'GO:0008150'}"
      ]
     },
     "execution_count": 10,
     "metadata": {},
     "output_type": "execute_result"
    }
   ],
   "source": [
    "ont.roots"
   ]
  },
  {
   "cell_type": "code",
   "execution_count": 11,
   "id": "f4eb8456-6a18-41db-8da5-f48fcba91481",
   "metadata": {
    "scrolled": true
   },
   "outputs": [
    {
     "data": {
      "text/plain": [
       "['GO:0008150',\n",
       " 'GO:0003674',\n",
       " 'GO:0005575',\n",
       " 'GO:0000003',\n",
       " 'GO:0016032',\n",
       " 'GO:0042592',\n",
       " 'GO:0040007',\n",
       " 'GO:0032502',\n",
       " 'GO:0044419',\n",
       " 'GO:0002376',\n",
       " 'GO:0008152',\n",
       " 'GO:0044848',\n",
       " 'GO:0040011',\n",
       " 'GO:0050896',\n",
       " 'GO:0065007',\n",
       " 'GO:0009987',\n",
       " 'GO:0051179',\n",
       " 'GO:0043473',\n",
       " 'GO:0048511',\n",
       " 'GO:0051703',\n",
       " 'GO:0032501',\n",
       " 'GO:0090729',\n",
       " 'GO:0140104',\n",
       " 'GO:0140489',\n",
       " 'GO:0060090',\n",
       " 'GO:0140223',\n",
       " 'GO:0003774',\n",
       " 'GO:0140522',\n",
       " 'GO:0003824',\n",
       " 'GO:0140777',\n",
       " 'GO:0045735',\n",
       " 'GO:0140299',\n",
       " 'GO:0060089',\n",
       " 'GO:0005488',\n",
       " 'GO:0045182',\n",
       " 'GO:0038024',\n",
       " 'GO:0098772',\n",
       " 'GO:0140912',\n",
       " 'GO:0044183',\n",
       " 'GO:0005215',\n",
       " 'GO:0016209',\n",
       " 'GO:0140110',\n",
       " 'GO:0140313',\n",
       " 'GO:0140657',\n",
       " 'GO:0140691',\n",
       " 'GO:0140776',\n",
       " 'GO:0140911',\n",
       " 'GO:0005198',\n",
       " 'GO:0031386',\n",
       " 'GO:0110165',\n",
       " 'GO:0044423',\n",
       " 'GO:0032991',\n",
       " 'GO:0075325',\n",
       " 'GO:1990277',\n",
       " 'GO:0022414',\n",
       " 'GO:0019954',\n",
       " 'GO:0019953',\n",
       " 'GO:0032505',\n",
       " 'GO:0019080',\n",
       " 'GO:0046745',\n",
       " 'GO:0099009',\n",
       " 'GO:0019058',\n",
       " 'GO:0046794',\n",
       " 'GO:0019061',\n",
       " 'GO:0019042',\n",
       " 'GO:0098678',\n",
       " 'GO:0098669',\n",
       " 'GO:0098689',\n",
       " 'GO:0039663',\n",
       " 'GO:0048878',\n",
       " 'GO:0019725',\n",
       " 'GO:0080190',\n",
       " 'GO:0030447',\n",
       " 'GO:0048589',\n",
       " 'GO:0097737',\n",
       " 'GO:0048856',\n",
       " 'GO:0043696',\n",
       " 'GO:0022611',\n",
       " 'GO:0021700',\n",
       " 'GO:0098727',\n",
       " 'GO:0043934',\n",
       " 'GO:0031128',\n",
       " 'GO:0035821',\n",
       " 'GO:0044111',\n",
       " 'GO:0140975',\n",
       " 'GO:0044403',\n",
       " 'GO:0019882',\n",
       " 'GO:0002252',\n",
       " 'GO:0018933',\n",
       " 'GO:0009058',\n",
       " 'GO:1902421',\n",
       " 'GO:0016999',\n",
       " 'GO:1990845',\n",
       " 'GO:1901902',\n",
       " 'GO:1901764',\n",
       " 'GO:0019748',\n",
       " 'GO:0071704',\n",
       " 'GO:1901275',\n",
       " 'GO:0006807',\n",
       " 'GO:0032963',\n",
       " 'GO:0006735',\n",
       " 'GO:0006116',\n",
       " 'GO:0070988',\n",
       " 'GO:1901286',\n",
       " 'GO:0045730',\n",
       " 'GO:0044238',\n",
       " 'GO:0044281',\n",
       " 'GO:0042440',\n",
       " 'GO:0070085',\n",
       " 'GO:0009056',\n",
       " 'GO:0032259',\n",
       " 'GO:0022601',\n",
       " 'GO:0044851',\n",
       " 'GO:0022403',\n",
       " 'GO:0072690',\n",
       " 'GO:1990636',\n",
       " 'GO:0060206',\n",
       " 'GO:0033058',\n",
       " 'GO:0036268',\n",
       " 'GO:0060361',\n",
       " 'GO:0006955',\n",
       " 'GO:0042221',\n",
       " 'GO:0051606',\n",
       " 'GO:0009605',\n",
       " 'GO:0014854',\n",
       " 'GO:0006950',\n",
       " 'GO:0009607',\n",
       " 'GO:0009628',\n",
       " 'GO:0014823',\n",
       " 'GO:0051775',\n",
       " 'GO:0009719',\n",
       " 'GO:0031413',\n",
       " 'GO:0050789',\n",
       " 'GO:0065008',\n",
       " 'GO:0065009',\n",
       " 'GO:0022406',\n",
       " 'GO:0048870',\n",
       " 'GO:0071840',\n",
       " 'GO:0140253',\n",
       " 'GO:0008283',\n",
       " 'GO:0071554',\n",
       " 'GO:0010118',\n",
       " 'GO:0045103',\n",
       " 'GO:0030029',\n",
       " 'GO:0008219',\n",
       " 'GO:0120312',\n",
       " 'GO:0048869',\n",
       " 'GO:0043335',\n",
       " 'GO:0032196',\n",
       " 'GO:0008037',\n",
       " 'GO:0034337',\n",
       " 'GO:0051716',\n",
       " 'GO:0036166',\n",
       " 'GO:0006276',\n",
       " 'GO:0006457',\n",
       " 'GO:0007049',\n",
       " 'GO:0090618',\n",
       " 'GO:0007163',\n",
       " 'GO:0016049',\n",
       " 'GO:0061919',\n",
       " 'GO:0009292',\n",
       " 'GO:0007017',\n",
       " 'GO:0019835',\n",
       " 'GO:0060352',\n",
       " 'GO:0098743',\n",
       " 'GO:0007155',\n",
       " 'GO:0001906',\n",
       " 'GO:0007154',\n",
       " 'GO:0044237',\n",
       " 'GO:0051301',\n",
       " 'GO:0031503',\n",
       " 'GO:0051235',\n",
       " 'GO:0051640',\n",
       " 'GO:0033036',\n",
       " 'GO:0051234',\n",
       " 'GO:0061842',\n",
       " 'GO:0051641',\n",
       " 'GO:0051674',\n",
       " 'GO:0048066',\n",
       " 'GO:0033060',\n",
       " 'GO:0033059',\n",
       " 'GO:0007624',\n",
       " 'GO:0007623',\n",
       " 'GO:0048771',\n",
       " 'GO:0032898',\n",
       " 'GO:0007586',\n",
       " 'GO:0022608',\n",
       " 'GO:0042303',\n",
       " 'GO:0097242',\n",
       " 'GO:0044706',\n",
       " 'GO:0001503',\n",
       " 'GO:0003008',\n",
       " 'GO:0007610',\n",
       " 'GO:0071684',\n",
       " 'GO:0007585',\n",
       " 'GO:0001775',\n",
       " 'GO:0008340',\n",
       " 'GO:0050879',\n",
       " 'GO:0090130',\n",
       " 'GO:0080189',\n",
       " 'GO:0048871',\n",
       " 'GO:0030431',\n",
       " 'GO:0050817',\n",
       " 'GO:0032504',\n",
       " 'GO:0140597',\n",
       " 'GO:0005344',\n",
       " 'GO:0097163',\n",
       " 'GO:0016530',\n",
       " 'GO:0140142',\n",
       " 'GO:0140132',\n",
       " 'GO:0140414',\n",
       " 'GO:0140490',\n",
       " 'GO:0030674',\n",
       " 'GO:0000995',\n",
       " 'GO:0001181',\n",
       " 'GO:0016251',\n",
       " 'GO:0140605',\n",
       " 'GO:0140523',\n",
       " 'GO:0140640',\n",
       " 'GO:0016491',\n",
       " 'GO:1904091',\n",
       " 'GO:0016829',\n",
       " 'GO:0061783',\n",
       " 'GO:0016853',\n",
       " 'GO:0032451',\n",
       " 'GO:0016874',\n",
       " 'GO:0016218',\n",
       " 'GO:0016740',\n",
       " 'GO:0009975',\n",
       " 'GO:0004133',\n",
       " 'GO:0140096',\n",
       " 'GO:0016787',\n",
       " 'GO:0140778',\n",
       " 'GO:0140442',\n",
       " 'GO:0140784',\n",
       " 'GO:0106254',\n",
       " 'GO:0140612',\n",
       " 'GO:0140785',\n",
       " 'GO:0031992',\n",
       " 'GO:0038023',\n",
       " 'GO:0000156',\n",
       " 'GO:0008430',\n",
       " 'GO:0003823',\n",
       " 'GO:0033218',\n",
       " 'GO:0140355',\n",
       " 'GO:0043176',\n",
       " 'GO:1904493',\n",
       " 'GO:0046790',\n",
       " 'GO:0036094',\n",
       " 'GO:0035731',\n",
       " 'GO:0050436',\n",
       " 'GO:0046812',\n",
       " 'GO:0048038',\n",
       " 'GO:1904483',\n",
       " 'GO:0051540',\n",
       " 'GO:0008289',\n",
       " 'GO:0050997',\n",
       " 'GO:0005515',\n",
       " 'GO:0050825',\n",
       " 'GO:0051192',\n",
       " 'GO:0042562',\n",
       " 'GO:0005549',\n",
       " 'GO:0070025',\n",
       " 'GO:0030246',\n",
       " 'GO:0043515',\n",
       " 'GO:0072328',\n",
       " 'GO:0070026',\n",
       " 'GO:0046848',\n",
       " 'GO:0043287',\n",
       " 'GO:0097243',\n",
       " 'GO:0072341',\n",
       " 'GO:0044877',\n",
       " 'GO:1901681',\n",
       " 'GO:0044590',\n",
       " 'GO:0015643',\n",
       " 'GO:0097159',\n",
       " 'GO:1902670',\n",
       " 'GO:1901363',\n",
       " 'GO:0031409',\n",
       " 'GO:0042165',\n",
       " 'GO:1990300',\n",
       " 'GO:0033226',\n",
       " 'GO:0000035',\n",
       " 'GO:0019808',\n",
       " 'GO:0097367',\n",
       " 'GO:0050840',\n",
       " 'GO:0140272',\n",
       " 'GO:0043167',\n",
       " 'GO:0030371',\n",
       " 'GO:0045183',\n",
       " 'GO:0033568',\n",
       " 'GO:0097020',\n",
       " 'GO:0030226',\n",
       " 'GO:0004998',\n",
       " 'GO:0070287',\n",
       " 'GO:0004873',\n",
       " 'GO:0008196',\n",
       " 'GO:0030228',\n",
       " 'GO:0061714',\n",
       " 'GO:0016964',\n",
       " 'GO:0005044',\n",
       " 'GO:0140488',\n",
       " 'GO:0030545',\n",
       " 'GO:0060590',\n",
       " 'GO:0097690',\n",
       " 'GO:0140659',\n",
       " 'GO:0140677',\n",
       " 'GO:0140871',\n",
       " 'GO:0140537',\n",
       " 'GO:0016247',\n",
       " 'GO:0140416',\n",
       " 'GO:0030234',\n",
       " 'GO:0140678',\n",
       " 'GO:0022857',\n",
       " 'GO:0140318',\n",
       " 'GO:0005319',\n",
       " 'GO:0001070',\n",
       " 'GO:0003700',\n",
       " 'GO:0001073',\n",
       " 'GO:0003712',\n",
       " 'GO:0034246',\n",
       " 'GO:0043856',\n",
       " 'GO:0003711',\n",
       " 'GO:0001072',\n",
       " 'GO:0140311',\n",
       " 'GO:0097351',\n",
       " 'GO:0140319',\n",
       " 'GO:0140610',\n",
       " 'GO:0140487',\n",
       " 'GO:1990833',\n",
       " 'GO:0036402',\n",
       " 'GO:0070463',\n",
       " 'GO:0030899',\n",
       " 'GO:0003777',\n",
       " 'GO:0008186',\n",
       " 'GO:0140662',\n",
       " 'GO:0000146',\n",
       " 'GO:0003789',\n",
       " 'GO:0140775',\n",
       " 'GO:0140545',\n",
       " 'GO:0019911',\n",
       " 'GO:0030527',\n",
       " 'GO:0005200',\n",
       " 'GO:0039660',\n",
       " 'GO:0003735',\n",
       " 'GO:0043886',\n",
       " 'GO:0097099',\n",
       " 'GO:0017056',\n",
       " 'GO:0008147',\n",
       " 'GO:0097493',\n",
       " 'GO:0030280',\n",
       " 'GO:0005201',\n",
       " 'GO:0042302',\n",
       " 'GO:0008316',\n",
       " 'GO:0005199',\n",
       " 'GO:0005212',\n",
       " 'GO:0140756',\n",
       " 'GO:0030281',\n",
       " 'GO:0005213',\n",
       " 'GO:0016490',\n",
       " 'GO:0008307',\n",
       " 'GO:0098918',\n",
       " 'GO:0120219',\n",
       " 'GO:0030496',\n",
       " 'GO:0036477',\n",
       " 'GO:0009986',\n",
       " 'GO:0001917',\n",
       " 'GO:0097613',\n",
       " 'GO:0031254',\n",
       " 'GO:0042995',\n",
       " 'GO:0044099',\n",
       " 'GO:0018995',\n",
       " 'GO:0120307',\n",
       " 'GO:0005622',\n",
       " 'GO:0044297',\n",
       " 'GO:0097653',\n",
       " 'GO:0045171',\n",
       " 'GO:0042763',\n",
       " 'GO:0012505',\n",
       " 'GO:0070938',\n",
       " 'GO:0005933',\n",
       " 'GO:0140022',\n",
       " 'GO:0120212',\n",
       " 'GO:0020039',\n",
       " 'GO:0097448',\n",
       " 'GO:0099080',\n",
       " 'GO:0044217',\n",
       " 'GO:1990016',\n",
       " 'GO:0043209',\n",
       " 'GO:0030054',\n",
       " 'GO:0097423',\n",
       " 'GO:0097574',\n",
       " 'GO:0097614',\n",
       " 'GO:0042597',\n",
       " 'GO:0061827',\n",
       " 'GO:0031974',\n",
       " 'GO:0009295',\n",
       " 'GO:0098862',\n",
       " 'GO:0045177',\n",
       " 'GO:0031252',\n",
       " 'GO:0072324',\n",
       " 'GO:0060187',\n",
       " 'GO:0032179',\n",
       " 'GO:1990018',\n",
       " 'GO:1990015',\n",
       " 'GO:0030427',\n",
       " 'GO:0032153',\n",
       " 'GO:0031975',\n",
       " 'GO:0005576',\n",
       " 'GO:0030428',\n",
       " 'GO:0032126',\n",
       " 'GO:0120280',\n",
       " 'GO:0071944',\n",
       " 'GO:0043226',\n",
       " 'GO:0045178',\n",
       " 'GO:0016020',\n",
       " 'GO:0055044',\n",
       " 'GO:0031912',\n",
       " 'GO:0039642',\n",
       " 'GO:0019028',\n",
       " 'GO:0098061',\n",
       " 'GO:0055036',\n",
       " 'GO:0019033',\n",
       " 'GO:0036338',\n",
       " 'GO:0098015',\n",
       " 'GO:0046729',\n",
       " 'GO:0062049',\n",
       " 'GO:1990661',\n",
       " 'GO:1990964',\n",
       " 'GO:1902494',\n",
       " 'GO:0000417',\n",
       " 'GO:0098636',\n",
       " 'GO:1990065',\n",
       " 'GO:1902695',\n",
       " 'GO:0062048',\n",
       " 'GO:1990315',\n",
       " 'GO:1990667',\n",
       " 'GO:0035649',\n",
       " 'GO:0031838',\n",
       " 'GO:1990125',\n",
       " 'GO:0097057',\n",
       " 'GO:0097196',\n",
       " 'GO:1990597',\n",
       " 'GO:0120114',\n",
       " 'GO:0140007',\n",
       " 'GO:0140224',\n",
       " 'GO:0043684',\n",
       " 'GO:1903502',\n",
       " 'GO:1990249',\n",
       " 'GO:0097347',\n",
       " 'GO:0002193',\n",
       " 'GO:0033061',\n",
       " 'GO:0002133',\n",
       " 'GO:1990811',\n",
       " 'GO:0071141',\n",
       " 'GO:0016272',\n",
       " 'GO:1990665',\n",
       " 'GO:1990696',\n",
       " 'GO:1990666',\n",
       " 'GO:0039658',\n",
       " 'GO:0000408',\n",
       " 'GO:0036284',\n",
       " 'GO:0106093',\n",
       " 'GO:0015627',\n",
       " 'GO:0002167',\n",
       " 'GO:0061957',\n",
       " 'GO:0150005',\n",
       " 'GO:0098820',\n",
       " 'GO:1990346',\n",
       " 'GO:0110078',\n",
       " 'GO:1990630',\n",
       " 'GO:1990104',\n",
       " 'GO:0032766',\n",
       " 'GO:0030257',\n",
       " 'GO:0032992',\n",
       " 'GO:0019814',\n",
       " 'GO:0098733',\n",
       " 'GO:0097344',\n",
       " 'GO:0110142',\n",
       " 'GO:0106003',\n",
       " 'GO:0140910',\n",
       " 'GO:0097071',\n",
       " 'GO:0036454',\n",
       " 'GO:0032994',\n",
       " 'GO:1990909',\n",
       " 'GO:1990684',\n",
       " 'GO:1990528',\n",
       " 'GO:0120124',\n",
       " 'GO:1990112',\n",
       " 'GO:0097255',\n",
       " 'GO:0106249',\n",
       " 'GO:0019036',\n",
       " 'GO:0043235',\n",
       " 'GO:0032993',\n",
       " 'GO:1990527',\n",
       " 'GO:1990871',\n",
       " 'GO:0034518',\n",
       " 'GO:0031074',\n",
       " 'GO:1904090',\n",
       " 'GO:0035693',\n",
       " 'GO:0005667',\n",
       " 'GO:1990923',\n",
       " 'GO:1990298',\n",
       " 'GO:0036398',\n",
       " 'GO:0070288',\n",
       " 'GO:0061703',\n",
       " 'GO:0038045',\n",
       " 'GO:0033186',\n",
       " 'GO:1990660',\n",
       " 'GO:0061574',\n",
       " 'GO:1990615',\n",
       " 'GO:0099023',\n",
       " 'GO:0098561',\n",
       " 'GO:1903503',\n",
       " 'GO:1990682',\n",
       " 'GO:0140451',\n",
       " 'GO:0030256',\n",
       " 'GO:1990727',\n",
       " 'GO:0097373',\n",
       " 'GO:1990509',\n",
       " 'GO:0044816',\n",
       " 'GO:1990706',\n",
       " 'GO:0042555',\n",
       " 'GO:0097136',\n",
       " 'GO:1990861',\n",
       " 'GO:0097078',\n",
       " 'GO:1905742',\n",
       " 'GO:0035859',\n",
       " 'GO:0033104',\n",
       " 'GO:1990904',\n",
       " 'GO:0090665',\n",
       " 'GO:0097452',\n",
       " 'GO:0005581',\n",
       " 'GO:0140535',\n",
       " 'GO:0043493',\n",
       " 'GO:0120171',\n",
       " 'GO:1990533',\n",
       " 'GO:0098046',\n",
       " 'GO:1990062',\n",
       " 'GO:0002929',\n",
       " 'GO:0001114',\n",
       " 'GO:0038059',\n",
       " 'GO:0090443',\n",
       " 'GO:0030990',\n",
       " 'GO:0106333',\n",
       " 'GO:0044697',\n",
       " 'GO:0140225',\n",
       " 'GO:0000974',\n",
       " 'GO:1990526',\n",
       " 'GO:1990393',\n",
       " 'GO:0002199',\n",
       " 'GO:1990351',\n",
       " 'GO:0070864',\n",
       " 'GO:0160055']"
      ]
     },
     "execution_count": 11,
     "metadata": {},
     "output_type": "execute_result"
    }
   ],
   "source": [
    "class OntVocab:\n",
    "    def __init__(self, ont):\n",
    "        self.terms = []\n",
    "        term_ind = {}\n",
    "        for i, k in enumerate(ont.topological_order()):\n",
    "            v = ont[k]\n",
    "            if v.depth > 3:\n",
    "                break\n",
    "            term_ind[k] = i\n",
    "            self.terms.append(k)\n",
    "        self.term_ind = term_ind\n",
    "\n",
    "    def __getitem__(self, i):\n",
    "        return self.terms[i]\n",
    "\n",
    "    def __call__(self, token):\n",
    "        return self.term_ind[token]\n",
    "\n",
    "\n",
    "target_vocab = OntVocab(ont)\n",
    "list(target_vocab)"
   ]
  },
  {
   "cell_type": "code",
   "execution_count": 12,
   "id": "e464c06e-56a1-4490-a221-e3e3c1409c45",
   "metadata": {},
   "outputs": [
    {
     "data": {
      "text/plain": [
       "554"
      ]
     },
     "execution_count": 12,
     "metadata": {},
     "output_type": "execute_result"
    }
   ],
   "source": [
    "len(list(target_vocab))"
   ]
  },
  {
   "cell_type": "code",
   "execution_count": null,
   "id": "6d231e9e-6f49-4f11-80b4-07077f66de70",
   "metadata": {},
   "outputs": [],
   "source": []
  },
  {
   "cell_type": "markdown",
   "id": "42ccc0b8-5242-4461-b317-481fce1995ba",
   "metadata": {},
   "source": [
    "### Source vocab"
   ]
  },
  {
   "cell_type": "code",
   "execution_count": 13,
   "id": "39751d24-f568-4868-a587-50b0fea6371a",
   "metadata": {},
   "outputs": [],
   "source": [
    "hyper_aa_regex = re.compile('[BXZJUO]')"
   ]
  },
  {
   "cell_type": "code",
   "execution_count": 14,
   "id": "ea89d174-fba4-4513-8fe5-f65fbe6613bc",
   "metadata": {},
   "outputs": [],
   "source": [
    "MAX_LEN = 2000"
   ]
  },
  {
   "cell_type": "code",
   "execution_count": 15,
   "id": "d3fc285c-9bab-44ad-93c8-b0f42eab5441",
   "metadata": {},
   "outputs": [],
   "source": [
    "import torch"
   ]
  },
  {
   "cell_type": "code",
   "execution_count": 16,
   "id": "720dbea2-8793-4475-ad07-21bf41dd9449",
   "metadata": {},
   "outputs": [],
   "source": [
    "modelname = 'seq_ann_depth3_protbert_llm2vec'"
   ]
  },
  {
   "cell_type": "code",
   "execution_count": 17,
   "id": "9e0062c6-2db4-491f-990a-2ffde89610d8",
   "metadata": {},
   "outputs": [],
   "source": [
    "states_dir = f'states/{modelname}/'\n",
    "if not os.path.exists(states_dir):\n",
    "    os.makedirs(states_dir)"
   ]
  },
  {
   "cell_type": "code",
   "execution_count": 18,
   "id": "7d6cc791-b794-4d0c-b1d8-ece18965c937",
   "metadata": {},
   "outputs": [],
   "source": [
    "seq_file = \"data/uniprot_sprot.fasta\"\n",
    "# seq_file = \"data/debugging_sequence.fasta\"\n",
    "\n",
    "def load_seqdb():\n",
    "    seqdb_pickle = f'{states_dir}/seqdb.pickle'\n",
    "    if os.path.exists(seqdb_pickle):\n",
    "        seqdb = pickle.load(open(seqdb_pickle, 'rb'))\n",
    "    else:\n",
    "        seqdb = {}\n",
    "        irregs = 0\n",
    "        for record in Bio.SeqIO.parse(seq_file, \"fasta\"):\n",
    "            if '|' in record.id:\n",
    "                _, acc, geneid = record.id.split('|')\n",
    "            else:\n",
    "                acc = record.id\n",
    "            if hyper_aa_regex.findall(str(record.seq)):\n",
    "                irregs += 1\n",
    "                continue\n",
    "            # if len(record.seq) > MAX_LEN:\n",
    "            #     irregs += 1\n",
    "            #     continue\n",
    "            seqdb[acc] = record\n",
    "        print('irregs', irregs)\n",
    "        pickle.dump(seqdb, open(seqdb_pickle, 'wb'))\n",
    "        seqdb = pickle.load(open(seqdb_pickle, 'rb'))\n",
    "    return seqdb\n"
   ]
  },
  {
   "cell_type": "code",
   "execution_count": null,
   "id": "0cdfef41-3443-4e7c-b8fd-d8f980df3a90",
   "metadata": {},
   "outputs": [],
   "source": []
  },
  {
   "cell_type": "markdown",
   "id": "9c198bcd-4f30-4a4c-9adf-5ce590517840",
   "metadata": {},
   "source": [
    "### build dataset"
   ]
  },
  {
   "cell_type": "code",
   "execution_count": 19,
   "id": "9e1487af-2143-49b0-995d-3428888a91fe",
   "metadata": {},
   "outputs": [
    {
     "data": {
      "text/html": [
       "<div>\n",
       "<style scoped>\n",
       "    .dataframe tbody tr th:only-of-type {\n",
       "        vertical-align: middle;\n",
       "    }\n",
       "\n",
       "    .dataframe tbody tr th {\n",
       "        vertical-align: top;\n",
       "    }\n",
       "\n",
       "    .dataframe thead th {\n",
       "        text-align: right;\n",
       "    }\n",
       "</style>\n",
       "<table border=\"1\" class=\"dataframe\">\n",
       "  <thead>\n",
       "    <tr style=\"text-align: right;\">\n",
       "      <th></th>\n",
       "      <th>UniProt ID</th>\n",
       "      <th>Annotations</th>\n",
       "      <th>Aspect</th>\n",
       "    </tr>\n",
       "  </thead>\n",
       "  <tbody>\n",
       "    <tr>\n",
       "      <th>0</th>\n",
       "      <td>A0A009IHW8</td>\n",
       "      <td>GO:0006807;GO:0044238;GO:0009056;GO:0071704;GO...</td>\n",
       "      <td>BPO</td>\n",
       "    </tr>\n",
       "    <tr>\n",
       "      <th>1</th>\n",
       "      <td>A0A021WW32</td>\n",
       "      <td>GO:0065007;GO:0032502;GO:0009987;GO:0008150</td>\n",
       "      <td>BPO</td>\n",
       "    </tr>\n",
       "    <tr>\n",
       "      <th>2</th>\n",
       "      <td>A0A023FFD0</td>\n",
       "      <td>GO:0008150</td>\n",
       "      <td>BPO</td>\n",
       "    </tr>\n",
       "    <tr>\n",
       "      <th>3</th>\n",
       "      <td>A0A023GPJ3</td>\n",
       "      <td>GO:0008150</td>\n",
       "      <td>BPO</td>\n",
       "    </tr>\n",
       "    <tr>\n",
       "      <th>4</th>\n",
       "      <td>A0A023GPK8</td>\n",
       "      <td>GO:0065007;GO:0032502;GO:0008150</td>\n",
       "      <td>BPO</td>\n",
       "    </tr>\n",
       "    <tr>\n",
       "      <th>...</th>\n",
       "      <td>...</td>\n",
       "      <td>...</td>\n",
       "      <td>...</td>\n",
       "    </tr>\n",
       "    <tr>\n",
       "      <th>242391</th>\n",
       "      <td>X5KCU9</td>\n",
       "      <td>GO:0003824</td>\n",
       "      <td>MFO</td>\n",
       "    </tr>\n",
       "    <tr>\n",
       "      <th>242392</th>\n",
       "      <td>X5KJC0</td>\n",
       "      <td>GO:0003824</td>\n",
       "      <td>MFO</td>\n",
       "    </tr>\n",
       "    <tr>\n",
       "      <th>242393</th>\n",
       "      <td>X5L1L5</td>\n",
       "      <td>GO:0003824</td>\n",
       "      <td>MFO</td>\n",
       "    </tr>\n",
       "    <tr>\n",
       "      <th>242394</th>\n",
       "      <td>X5L565</td>\n",
       "      <td>GO:0003824</td>\n",
       "      <td>MFO</td>\n",
       "    </tr>\n",
       "    <tr>\n",
       "      <th>242395</th>\n",
       "      <td>X5M5N0</td>\n",
       "      <td>GO:0005488</td>\n",
       "      <td>MFO</td>\n",
       "    </tr>\n",
       "  </tbody>\n",
       "</table>\n",
       "<p>242396 rows × 3 columns</p>\n",
       "</div>"
      ],
      "text/plain": [
       "        UniProt ID                                        Annotations Aspect\n",
       "0       A0A009IHW8  GO:0006807;GO:0044238;GO:0009056;GO:0071704;GO...    BPO\n",
       "1       A0A021WW32        GO:0065007;GO:0032502;GO:0009987;GO:0008150    BPO\n",
       "2       A0A023FFD0                                         GO:0008150    BPO\n",
       "3       A0A023GPJ3                                         GO:0008150    BPO\n",
       "4       A0A023GPK8                   GO:0065007;GO:0032502;GO:0008150    BPO\n",
       "...            ...                                                ...    ...\n",
       "242391      X5KCU9                                         GO:0003824    MFO\n",
       "242392      X5KJC0                                         GO:0003824    MFO\n",
       "242393      X5L1L5                                         GO:0003824    MFO\n",
       "242394      X5L565                                         GO:0003824    MFO\n",
       "242395      X5M5N0                                         GO:0005488    MFO\n",
       "\n",
       "[242396 rows x 3 columns]"
      ]
     },
     "execution_count": 19,
     "metadata": {},
     "output_type": "execute_result"
    }
   ],
   "source": [
    "# load data\n",
    "# datatab = pd.read_csv('data/sample_annot.csv')\n",
    "datatab = pd.read_csv('data/linear_annot.csv')\n",
    "datatab"
   ]
  },
  {
   "cell_type": "code",
   "execution_count": 20,
   "id": "3a48199a-a5d7-43af-b625-141f3e02eb32",
   "metadata": {},
   "outputs": [],
   "source": [
    "def normalize_ann(ann):\n",
    "    anns = ann.split(';')\n",
    "    return list(sorted(anns, key=target_vocab))"
   ]
  },
  {
   "cell_type": "code",
   "execution_count": 21,
   "id": "2594b47e-5ae3-4cbd-8eb2-895890a6acfb",
   "metadata": {},
   "outputs": [
    {
     "data": {
      "text/plain": [
       "['GO:0008150', 'GO:0050896', 'GO:0009987']"
      ]
     },
     "execution_count": 21,
     "metadata": {},
     "output_type": "execute_result"
    }
   ],
   "source": [
    "normalize_ann('GO:0050896;GO:0009987;GO:0008150')"
   ]
  },
  {
   "cell_type": "code",
   "execution_count": 22,
   "id": "88192448-6411-427f-afc7-acf3dc3729ca",
   "metadata": {},
   "outputs": [],
   "source": [
    "def build_dataset(datatab, seqdb):\n",
    "    res = []\n",
    "    for i, row in datatab.iterrows():\n",
    "        pid = row['UniProt ID']\n",
    "        if pid not in seqdb:\n",
    "            continue\n",
    "        ann = normalize_ann(row['Annotations'])\n",
    "        if len(ann) < 3:\n",
    "            continue\n",
    "        res.append({'seq': ' '.join(seqdb[pid]), 'ann': ' '.join(ann)})\n",
    "        # break\n",
    "    res = pd.DataFrame(res)\n",
    "    return res\n"
   ]
  },
  {
   "cell_type": "code",
   "execution_count": 23,
   "id": "f6b660b1-cad0-488e-9729-c60711bddbee",
   "metadata": {},
   "outputs": [
    {
     "data": {
      "text/html": [
       "<div>\n",
       "<style scoped>\n",
       "    .dataframe tbody tr th:only-of-type {\n",
       "        vertical-align: middle;\n",
       "    }\n",
       "\n",
       "    .dataframe tbody tr th {\n",
       "        vertical-align: top;\n",
       "    }\n",
       "\n",
       "    .dataframe thead th {\n",
       "        text-align: right;\n",
       "    }\n",
       "</style>\n",
       "<table border=\"1\" class=\"dataframe\">\n",
       "  <thead>\n",
       "    <tr style=\"text-align: right;\">\n",
       "      <th></th>\n",
       "      <th>seq</th>\n",
       "      <th>ann</th>\n",
       "    </tr>\n",
       "  </thead>\n",
       "  <tbody>\n",
       "    <tr>\n",
       "      <th>0</th>\n",
       "      <td>M S L E Q K K G A D I I S K I L Q I Q N S I G ...</td>\n",
       "      <td>GO:0008150 GO:0009987 GO:0008152 GO:0044238 GO...</td>\n",
       "    </tr>\n",
       "    <tr>\n",
       "      <th>1</th>\n",
       "      <td>M R F Q V I V A A A T I T M I T S Y I P G V A ...</td>\n",
       "      <td>GO:0008152 GO:0044238 GO:0009056 GO:0071704</td>\n",
       "    </tr>\n",
       "    <tr>\n",
       "      <th>2</th>\n",
       "      <td>M K N P K K K S G G F R I V N M L K R G V A R ...</td>\n",
       "      <td>GO:0008150 GO:0016032 GO:0065007</td>\n",
       "    </tr>\n",
       "    <tr>\n",
       "      <th>3</th>\n",
       "      <td>M M K M K Q Q G L V A D L L P N I R V M K T F ...</td>\n",
       "      <td>GO:0008150 GO:0051703 GO:0050896 GO:0032502</td>\n",
       "    </tr>\n",
       "    <tr>\n",
       "      <th>4</th>\n",
       "      <td>M A R G T F E R T K K L R E E S I N A E P H I ...</td>\n",
       "      <td>GO:0008150 GO:0009987 GO:0008152 GO:0044238 GO...</td>\n",
       "    </tr>\n",
       "    <tr>\n",
       "      <th>...</th>\n",
       "      <td>...</td>\n",
       "      <td>...</td>\n",
       "    </tr>\n",
       "    <tr>\n",
       "      <th>53281</th>\n",
       "      <td>M N S Q N P D D H E D T T V V G F E V P V S P ...</td>\n",
       "      <td>GO:0098772 GO:0005488 GO:0030234</td>\n",
       "    </tr>\n",
       "    <tr>\n",
       "      <th>53282</th>\n",
       "      <td>M R V H R F C V I V I F L T E L L C F F Y S S ...</td>\n",
       "      <td>GO:0003824 GO:0060089 GO:0005488 GO:0038023</td>\n",
       "    </tr>\n",
       "    <tr>\n",
       "      <th>53283</th>\n",
       "      <td>M R A A I N R A N S L G G L F S F R F I R N I ...</td>\n",
       "      <td>GO:0098772 GO:0005488 GO:0030234</td>\n",
       "    </tr>\n",
       "    <tr>\n",
       "      <th>53284</th>\n",
       "      <td>M A K D G G V S C L R R S E M I G I G I G E L ...</td>\n",
       "      <td>GO:0060089 GO:0005488 GO:0000156</td>\n",
       "    </tr>\n",
       "    <tr>\n",
       "      <th>53285</th>\n",
       "      <td>M G G G K N V R R G L E P L E F E E C I V D S ...</td>\n",
       "      <td>GO:0098772 GO:0005488 GO:0030234</td>\n",
       "    </tr>\n",
       "  </tbody>\n",
       "</table>\n",
       "<p>53286 rows × 2 columns</p>\n",
       "</div>"
      ],
      "text/plain": [
       "                                                     seq  \\\n",
       "0      M S L E Q K K G A D I I S K I L Q I Q N S I G ...   \n",
       "1      M R F Q V I V A A A T I T M I T S Y I P G V A ...   \n",
       "2      M K N P K K K S G G F R I V N M L K R G V A R ...   \n",
       "3      M M K M K Q Q G L V A D L L P N I R V M K T F ...   \n",
       "4      M A R G T F E R T K K L R E E S I N A E P H I ...   \n",
       "...                                                  ...   \n",
       "53281  M N S Q N P D D H E D T T V V G F E V P V S P ...   \n",
       "53282  M R V H R F C V I V I F L T E L L C F F Y S S ...   \n",
       "53283  M R A A I N R A N S L G G L F S F R F I R N I ...   \n",
       "53284  M A K D G G V S C L R R S E M I G I G I G E L ...   \n",
       "53285  M G G G K N V R R G L E P L E F E E C I V D S ...   \n",
       "\n",
       "                                                     ann  \n",
       "0      GO:0008150 GO:0009987 GO:0008152 GO:0044238 GO...  \n",
       "1            GO:0008152 GO:0044238 GO:0009056 GO:0071704  \n",
       "2                       GO:0008150 GO:0016032 GO:0065007  \n",
       "3            GO:0008150 GO:0051703 GO:0050896 GO:0032502  \n",
       "4      GO:0008150 GO:0009987 GO:0008152 GO:0044238 GO...  \n",
       "...                                                  ...  \n",
       "53281                   GO:0098772 GO:0005488 GO:0030234  \n",
       "53282        GO:0003824 GO:0060089 GO:0005488 GO:0038023  \n",
       "53283                   GO:0098772 GO:0005488 GO:0030234  \n",
       "53284                   GO:0060089 GO:0005488 GO:0000156  \n",
       "53285                   GO:0098772 GO:0005488 GO:0030234  \n",
       "\n",
       "[53286 rows x 2 columns]"
      ]
     },
     "execution_count": 23,
     "metadata": {},
     "output_type": "execute_result"
    }
   ],
   "source": [
    "ann_dataset_pickle = 'states/ann_dataset.pickle'\n",
    "\n",
    "if os.path.exists(ann_dataset_pickle):\n",
    "    ann_dataset = pickle.load(open(ann_dataset_pickle, 'rb'))\n",
    "else:\n",
    "    seqdb = load_seqdb()\n",
    "    ann_dataset = build_dataset(datatab, seqdb)\n",
    "    pickle.dump(ann_dataset, open(ann_dataset_pickle, 'wb'))\n",
    "ann_dataset"
   ]
  },
  {
   "cell_type": "code",
   "execution_count": 24,
   "id": "98db5bf5-d7a0-4cdf-8a0f-2801bd5a036f",
   "metadata": {},
   "outputs": [],
   "source": [
    "ann_dataset = ann_dataset[ann_dataset['seq'].apply(lambda x: len(x.split()) < 500)]"
   ]
  },
  {
   "cell_type": "code",
   "execution_count": 25,
   "id": "bce3e090-e666-4121-8c94-ab44cf9bc209",
   "metadata": {},
   "outputs": [
    {
     "data": {
      "text/html": [
       "<div>\n",
       "<style scoped>\n",
       "    .dataframe tbody tr th:only-of-type {\n",
       "        vertical-align: middle;\n",
       "    }\n",
       "\n",
       "    .dataframe tbody tr th {\n",
       "        vertical-align: top;\n",
       "    }\n",
       "\n",
       "    .dataframe thead th {\n",
       "        text-align: right;\n",
       "    }\n",
       "</style>\n",
       "<table border=\"1\" class=\"dataframe\">\n",
       "  <thead>\n",
       "    <tr style=\"text-align: right;\">\n",
       "      <th></th>\n",
       "      <th>seq</th>\n",
       "      <th>ann</th>\n",
       "    </tr>\n",
       "  </thead>\n",
       "  <tbody>\n",
       "    <tr>\n",
       "      <th>0</th>\n",
       "      <td>M S L E Q K K G A D I I S K I L Q I Q N S I G ...</td>\n",
       "      <td>GO:0008150 GO:0009987 GO:0008152 GO:0044238 GO...</td>\n",
       "    </tr>\n",
       "    <tr>\n",
       "      <th>3</th>\n",
       "      <td>M M K M K Q Q G L V A D L L P N I R V M K T F ...</td>\n",
       "      <td>GO:0008150 GO:0051703 GO:0050896 GO:0032502</td>\n",
       "    </tr>\n",
       "    <tr>\n",
       "      <th>6</th>\n",
       "      <td>M R S V S G Q V V C V T G A G G F I A S W L V ...</td>\n",
       "      <td>GO:0008150 GO:0048511 GO:0009987 GO:0008152 GO...</td>\n",
       "    </tr>\n",
       "    <tr>\n",
       "      <th>8</th>\n",
       "      <td>M A M P Y A S L S P A G A A D H R S S T A T A ...</td>\n",
       "      <td>GO:0008150 GO:0065007 GO:0032502</td>\n",
       "    </tr>\n",
       "    <tr>\n",
       "      <th>11</th>\n",
       "      <td>M P M A S V I A V A E P K W I S V W G R F L W ...</td>\n",
       "      <td>GO:0008150 GO:0065007 GO:0008152 GO:0071704 GO...</td>\n",
       "    </tr>\n",
       "    <tr>\n",
       "      <th>...</th>\n",
       "      <td>...</td>\n",
       "      <td>...</td>\n",
       "    </tr>\n",
       "    <tr>\n",
       "      <th>53278</th>\n",
       "      <td>M D L V Q K Q K S L Q D Y T K S L F L E G I L ...</td>\n",
       "      <td>GO:0003824 GO:0060089 GO:0005488</td>\n",
       "    </tr>\n",
       "    <tr>\n",
       "      <th>53280</th>\n",
       "      <td>M A A S M T K P I S I T S L G F Y S D R K N I ...</td>\n",
       "      <td>GO:0098772 GO:0005488 GO:0030234</td>\n",
       "    </tr>\n",
       "    <tr>\n",
       "      <th>53281</th>\n",
       "      <td>M N S Q N P D D H E D T T V V G F E V P V S P ...</td>\n",
       "      <td>GO:0098772 GO:0005488 GO:0030234</td>\n",
       "    </tr>\n",
       "    <tr>\n",
       "      <th>53283</th>\n",
       "      <td>M R A A I N R A N S L G G L F S F R F I R N I ...</td>\n",
       "      <td>GO:0098772 GO:0005488 GO:0030234</td>\n",
       "    </tr>\n",
       "    <tr>\n",
       "      <th>53284</th>\n",
       "      <td>M A K D G G V S C L R R S E M I G I G I G E L ...</td>\n",
       "      <td>GO:0060089 GO:0005488 GO:0000156</td>\n",
       "    </tr>\n",
       "  </tbody>\n",
       "</table>\n",
       "<p>30751 rows × 2 columns</p>\n",
       "</div>"
      ],
      "text/plain": [
       "                                                     seq  \\\n",
       "0      M S L E Q K K G A D I I S K I L Q I Q N S I G ...   \n",
       "3      M M K M K Q Q G L V A D L L P N I R V M K T F ...   \n",
       "6      M R S V S G Q V V C V T G A G G F I A S W L V ...   \n",
       "8      M A M P Y A S L S P A G A A D H R S S T A T A ...   \n",
       "11     M P M A S V I A V A E P K W I S V W G R F L W ...   \n",
       "...                                                  ...   \n",
       "53278  M D L V Q K Q K S L Q D Y T K S L F L E G I L ...   \n",
       "53280  M A A S M T K P I S I T S L G F Y S D R K N I ...   \n",
       "53281  M N S Q N P D D H E D T T V V G F E V P V S P ...   \n",
       "53283  M R A A I N R A N S L G G L F S F R F I R N I ...   \n",
       "53284  M A K D G G V S C L R R S E M I G I G I G E L ...   \n",
       "\n",
       "                                                     ann  \n",
       "0      GO:0008150 GO:0009987 GO:0008152 GO:0044238 GO...  \n",
       "3            GO:0008150 GO:0051703 GO:0050896 GO:0032502  \n",
       "6      GO:0008150 GO:0048511 GO:0009987 GO:0008152 GO...  \n",
       "8                       GO:0008150 GO:0065007 GO:0032502  \n",
       "11     GO:0008150 GO:0065007 GO:0008152 GO:0071704 GO...  \n",
       "...                                                  ...  \n",
       "53278                   GO:0003824 GO:0060089 GO:0005488  \n",
       "53280                   GO:0098772 GO:0005488 GO:0030234  \n",
       "53281                   GO:0098772 GO:0005488 GO:0030234  \n",
       "53283                   GO:0098772 GO:0005488 GO:0030234  \n",
       "53284                   GO:0060089 GO:0005488 GO:0000156  \n",
       "\n",
       "[30751 rows x 2 columns]"
      ]
     },
     "execution_count": 25,
     "metadata": {},
     "output_type": "execute_result"
    }
   ],
   "source": [
    "ann_dataset"
   ]
  },
  {
   "cell_type": "code",
   "execution_count": 26,
   "id": "5da8b6e1-eecb-47d8-b8b6-2ad1bfa6d25e",
   "metadata": {},
   "outputs": [],
   "source": [
    "ann_comb_counts = dict(ann_dataset['ann'].value_counts())"
   ]
  },
  {
   "cell_type": "code",
   "execution_count": 27,
   "id": "1526eedf-572c-45de-82c2-dc4a98ce145a",
   "metadata": {},
   "outputs": [],
   "source": [
    "# ann_dataset = ann_dataset[ann_dataset['ann'].apply(lambda x: ann_comb_counts[x] < 500)]\n",
    "# ann_dataset"
   ]
  },
  {
   "cell_type": "code",
   "execution_count": 28,
   "id": "0d0c2b37-88aa-47f2-98a0-306c9a9d246e",
   "metadata": {},
   "outputs": [
    {
     "data": {
      "text/plain": [
       "ann\n",
       "GO:0008150 GO:0050896 GO:0009987                                                                                                                  1374\n",
       "GO:0005575 GO:0110165 GO:0032991                                                                                                                  1193\n",
       "GO:0008150 GO:0009987 GO:0008152 GO:0009058 GO:0071704 GO:0006807                                                                                  980\n",
       "GO:0005575 GO:0032991 GO:1902494                                                                                                                   730\n",
       "GO:0008150 GO:0009987 GO:0008152 GO:0071704 GO:0006807                                                                                             675\n",
       "                                                                                                                                                  ... \n",
       "GO:0008150 GO:0050896 GO:0065007 GO:0009987 GO:0032501 GO:0044238 GO:0071704 GO:0044281 GO:0006807                                                   1\n",
       "GO:0008150 GO:0000003 GO:0042592 GO:0050896 GO:0065007 GO:0009987 GO:0008152 GO:0032502 GO:0022414 GO:0019953 GO:0044238 GO:0009058 GO:0071704       1\n",
       "GO:0008150 GO:0000003 GO:0050896 GO:0065007 GO:0009987 GO:0032501 GO:0051179 GO:0032502 GO:0022414 GO:0044238 GO:0071704 GO:0044281 GO:0006807       1\n",
       "GO:0008150 GO:0002376 GO:0050896 GO:0065007 GO:0009987 GO:0032501 GO:0040011 GO:0044238 GO:0009058 GO:0071704 GO:0006807                             1\n",
       "GO:0008150 GO:0050896 GO:0065007 GO:0009987 GO:0008152 GO:0032502 GO:0040007 GO:0044238 GO:0071704                                                   1\n",
       "Name: count, Length: 3347, dtype: int64"
      ]
     },
     "execution_count": 28,
     "metadata": {},
     "output_type": "execute_result"
    }
   ],
   "source": [
    "ann_dataset['ann'].value_counts()"
   ]
  },
  {
   "cell_type": "code",
   "execution_count": 29,
   "id": "26be3193-3b6f-475d-bf3b-b296baeaaedb",
   "metadata": {},
   "outputs": [
    {
     "data": {
      "text/plain": [
       "<Axes: ylabel='Frequency'>"
      ]
     },
     "execution_count": 29,
     "metadata": {},
     "output_type": "execute_result"
    },
    {
     "data": {
      "image/png": "[encoded data removed]",
      "text/plain": [
       "<Figure size 640x480 with 1 Axes>"
      ]
     },
     "metadata": {},
     "output_type": "display_data"
    }
   ],
   "source": [
    "(ann_dataset['seq'].apply(lambda x: len(x.split()) if len(x.split()) < 500 else None)).plot.hist(bins=20)"
   ]
  },
  {
   "cell_type": "code",
   "execution_count": 30,
   "id": "21176f1e-efe6-452a-8c14-c12a8a10f0df",
   "metadata": {},
   "outputs": [
    {
     "data": {
      "text/plain": [
       "0"
      ]
     },
     "execution_count": 30,
     "metadata": {},
     "output_type": "execute_result"
    }
   ],
   "source": [
    "(ann_dataset['ann'].apply(lambda x: len(x))<5).sum()"
   ]
  },
  {
   "cell_type": "code",
   "execution_count": 31,
   "id": "b8b02baa-42ea-4aa9-9273-8abda8c681f5",
   "metadata": {},
   "outputs": [
    {
     "data": {
      "text/html": [
       "<div>\n",
       "<style scoped>\n",
       "    .dataframe tbody tr th:only-of-type {\n",
       "        vertical-align: middle;\n",
       "    }\n",
       "\n",
       "    .dataframe tbody tr th {\n",
       "        vertical-align: top;\n",
       "    }\n",
       "\n",
       "    .dataframe thead th {\n",
       "        text-align: right;\n",
       "    }\n",
       "</style>\n",
       "<table border=\"1\" class=\"dataframe\">\n",
       "  <thead>\n",
       "    <tr style=\"text-align: right;\">\n",
       "      <th></th>\n",
       "      <th>seq</th>\n",
       "      <th>ann</th>\n",
       "    </tr>\n",
       "  </thead>\n",
       "  <tbody>\n",
       "    <tr>\n",
       "      <th>0</th>\n",
       "      <td>M V G S R V Y V G G L P Y G V R E R D L E R F ...</td>\n",
       "      <td>GO:0005575 GO:0032991 GO:0032993</td>\n",
       "    </tr>\n",
       "    <tr>\n",
       "      <th>1</th>\n",
       "      <td>M A A S C L V L L A L C L L L P L L L L G G W ...</td>\n",
       "      <td>GO:0008150 GO:0009987 GO:0008152 GO:0044238 GO...</td>\n",
       "    </tr>\n",
       "    <tr>\n",
       "      <th>2</th>\n",
       "      <td>M W S L G G L R L A A G H C L R L Y E R N A S ...</td>\n",
       "      <td>GO:0008150 GO:0050896 GO:0009987</td>\n",
       "    </tr>\n",
       "    <tr>\n",
       "      <th>3</th>\n",
       "      <td>M L P K R R R V R A G S P H S A V A S S T P P ...</td>\n",
       "      <td>GO:0008150 GO:0002376 GO:0009987 GO:0032501 GO...</td>\n",
       "    </tr>\n",
       "    <tr>\n",
       "      <th>4</th>\n",
       "      <td>M S P C K L L P F C V A L A L T G C S L A P D ...</td>\n",
       "      <td>GO:0008150 GO:0042592 GO:0050896 GO:0009987 GO...</td>\n",
       "    </tr>\n",
       "    <tr>\n",
       "      <th>...</th>\n",
       "      <td>...</td>\n",
       "      <td>...</td>\n",
       "    </tr>\n",
       "    <tr>\n",
       "      <th>30746</th>\n",
       "      <td>M A G L W R S Y Q A L M A K H P W K V Q I I T ...</td>\n",
       "      <td>GO:0008150 GO:0009987 GO:0008152 GO:0032502 GO...</td>\n",
       "    </tr>\n",
       "    <tr>\n",
       "      <th>30747</th>\n",
       "      <td>M A T A R P P W M W V L C A L I T A L L L G V ...</td>\n",
       "      <td>GO:0008150 GO:0065007 GO:0009987 GO:0032502</td>\n",
       "    </tr>\n",
       "    <tr>\n",
       "      <th>30748</th>\n",
       "      <td>M S S D L R L T L L E L V R R L N G N A T I E ...</td>\n",
       "      <td>GO:0008150 GO:0016032 GO:0065007</td>\n",
       "    </tr>\n",
       "    <tr>\n",
       "      <th>30749</th>\n",
       "      <td>M A L P L R T A R H A S R L A Q T I G R R G Y ...</td>\n",
       "      <td>GO:0008150 GO:0009987 GO:0008152 GO:0044238 GO...</td>\n",
       "    </tr>\n",
       "    <tr>\n",
       "      <th>30750</th>\n",
       "      <td>M A V A Q Q L R A E S D F E Q L P D D V A I S ...</td>\n",
       "      <td>GO:0098772 GO:0005488 GO:0030234</td>\n",
       "    </tr>\n",
       "  </tbody>\n",
       "</table>\n",
       "<p>30751 rows × 2 columns</p>\n",
       "</div>"
      ],
      "text/plain": [
       "                                                     seq  \\\n",
       "0      M V G S R V Y V G G L P Y G V R E R D L E R F ...   \n",
       "1      M A A S C L V L L A L C L L L P L L L L G G W ...   \n",
       "2      M W S L G G L R L A A G H C L R L Y E R N A S ...   \n",
       "3      M L P K R R R V R A G S P H S A V A S S T P P ...   \n",
       "4      M S P C K L L P F C V A L A L T G C S L A P D ...   \n",
       "...                                                  ...   \n",
       "30746  M A G L W R S Y Q A L M A K H P W K V Q I I T ...   \n",
       "30747  M A T A R P P W M W V L C A L I T A L L L G V ...   \n",
       "30748  M S S D L R L T L L E L V R R L N G N A T I E ...   \n",
       "30749  M A L P L R T A R H A S R L A Q T I G R R G Y ...   \n",
       "30750  M A V A Q Q L R A E S D F E Q L P D D V A I S ...   \n",
       "\n",
       "                                                     ann  \n",
       "0                       GO:0005575 GO:0032991 GO:0032993  \n",
       "1      GO:0008150 GO:0009987 GO:0008152 GO:0044238 GO...  \n",
       "2                       GO:0008150 GO:0050896 GO:0009987  \n",
       "3      GO:0008150 GO:0002376 GO:0009987 GO:0032501 GO...  \n",
       "4      GO:0008150 GO:0042592 GO:0050896 GO:0009987 GO...  \n",
       "...                                                  ...  \n",
       "30746  GO:0008150 GO:0009987 GO:0008152 GO:0032502 GO...  \n",
       "30747        GO:0008150 GO:0065007 GO:0009987 GO:0032502  \n",
       "30748                   GO:0008150 GO:0016032 GO:0065007  \n",
       "30749  GO:0008150 GO:0009987 GO:0008152 GO:0044238 GO...  \n",
       "30750                   GO:0098772 GO:0005488 GO:0030234  \n",
       "\n",
       "[30751 rows x 2 columns]"
      ]
     },
     "execution_count": 31,
     "metadata": {},
     "output_type": "execute_result"
    }
   ],
   "source": [
    "ann_dataset = ann_dataset.sample(frac=1).reset_index(drop=True)\n",
    "ann_dataset"
   ]
  },
  {
   "cell_type": "code",
   "execution_count": 32,
   "id": "a59559bc-6dc5-4b54-bca5-0641e0bc9f8c",
   "metadata": {},
   "outputs": [
    {
     "name": "stdout",
     "output_type": "stream",
     "text": [
      "2.2.1+cu118\n"
     ]
    }
   ],
   "source": [
    "from toy_transformer import *"
   ]
  },
  {
   "cell_type": "code",
   "execution_count": null,
   "id": "6ac89a3f-8d63-42d2-af0f-56e0a3bcca50",
   "metadata": {},
   "outputs": [],
   "source": []
  },
  {
   "cell_type": "markdown",
   "id": "cd75514c-c49c-4023-9148-f404713ba417",
   "metadata": {},
   "source": [
    "## Masks"
   ]
  },
  {
   "cell_type": "code",
   "execution_count": 33,
   "id": "6a6231f5-8004-4655-bbdf-0a9a57677a86",
   "metadata": {},
   "outputs": [],
   "source": [
    "def generate_square_subsequent_mask(sz):\n",
    "    # mask = (torch.triu(torch.ones((sz, sz), device=DEVICE)) == 1).transpose(0, 1)\n",
    "    mask = (torch.tril(torch.ones((sz, sz), device=DEVICE)) == 1).transpose(0, 1)\n",
    "    mask = mask.float().masked_fill(mask == 0, float('-inf')).masked_fill(mask == 1, float(0.0))\n",
    "    return mask\n",
    "def generate_square_diagnal_mask(sz):\n",
    "    mask = (torch.diag(torch.ones(sz, device=DEVICE)))\n",
    "    # mask = 1 - mask\n",
    "    # mask = torch.zeros([sz, sz], device=DEVICE)\n",
    "    mask = mask.float().masked_fill(mask == 0, float('-inf')).masked_fill(mask == 1, float(0.0))\n",
    "    return mask\n"
   ]
  },
  {
   "cell_type": "code",
   "execution_count": 34,
   "id": "5a2b5f8a-99a1-46c9-bc49-156941bfb28f",
   "metadata": {},
   "outputs": [
    {
     "data": {
      "text/plain": [
       "tensor([[0., 0., 0., 0., 0.],\n",
       "        [-inf, 0., 0., 0., 0.],\n",
       "        [-inf, -inf, 0., 0., 0.],\n",
       "        [-inf, -inf, -inf, 0., 0.],\n",
       "        [-inf, -inf, -inf, -inf, 0.]], device='cuda:0')"
      ]
     },
     "execution_count": 34,
     "metadata": {},
     "output_type": "execute_result"
    }
   ],
   "source": [
    "generate_square_subsequent_mask(5)"
   ]
  },
  {
   "cell_type": "code",
   "execution_count": null,
   "id": "ce116549-de03-486b-bb88-f11d8f7afd4b",
   "metadata": {},
   "outputs": [],
   "source": []
  },
  {
   "cell_type": "code",
   "execution_count": 35,
   "id": "0f6a4fa9-8858-4a0e-9f13-12059dab8f63",
   "metadata": {},
   "outputs": [
    {
     "data": {
      "text/plain": [
       "tensor([[0., -inf, -inf, -inf, -inf],\n",
       "        [-inf, 0., -inf, -inf, -inf],\n",
       "        [-inf, -inf, 0., -inf, -inf],\n",
       "        [-inf, -inf, -inf, 0., -inf],\n",
       "        [-inf, -inf, -inf, -inf, 0.]], device='cuda:0')"
      ]
     },
     "execution_count": 35,
     "metadata": {},
     "output_type": "execute_result"
    }
   ],
   "source": [
    "generate_square_diagnal_mask(5)"
   ]
  },
  {
   "cell_type": "code",
   "execution_count": 36,
   "id": "ccaab9cf-4804-4ecd-89a7-673d479ddf3c",
   "metadata": {},
   "outputs": [],
   "source": [
    "def create_subsequent_mask(src, tgt):\n",
    "    src_seq_len = src.shape[0]\n",
    "    tgt_seq_len = tgt.shape[0]\n",
    "\n",
    "    tgt_mask = generate_square_subsequent_mask(tgt_seq_len)\n",
    "    src_mask = torch.zeros((src_seq_len, src_seq_len), device=DEVICE).type(torch.bool)\n",
    "\n",
    "    src_padding_mask = (src == PAD_IDX).transpose(0, 1)\n",
    "    tgt_padding_mask = (tgt == PAD_IDX).transpose(0, 1)\n",
    "    return src_mask, tgt_mask, src_padding_mask, tgt_padding_mask\n",
    "\n",
    "\n",
    "def target_mask_fn(tgt):\n",
    "    tgt_seq_len = tgt.shape[1]\n",
    "\n",
    "    tgt_mask = generate_square_subsequent_mask(tgt_seq_len)\n",
    "\n",
    "    return tgt_mask\n",
    "\n",
    "\n",
    "def target_one_out_mask(tgt):\n",
    "    tgt_seq_len = tgt.shape[1]\n",
    "\n",
    "    tgt_mask = generate_square_diagnal_mask(tgt_seq_len)\n",
    "\n",
    "    return tgt_mask\n"
   ]
  },
  {
   "cell_type": "code",
   "execution_count": 37,
   "id": "5d4c335e-f4ef-45b6-a5fc-d40da9a0be20",
   "metadata": {},
   "outputs": [],
   "source": [
    "from torchtext.data.utils import get_tokenizer\n",
    "from torchtext.vocab import build_vocab_from_iterator\n",
    "from typing import Iterable, List"
   ]
  },
  {
   "cell_type": "code",
   "execution_count": null,
   "id": "f562da9b-523a-42bd-8690-b93c85023bfe",
   "metadata": {},
   "outputs": [],
   "source": []
  },
  {
   "cell_type": "markdown",
   "id": "524ea9aa-698b-466c-9b40-84276baa025e",
   "metadata": {},
   "source": [
    "## Tokenizer"
   ]
  },
  {
   "cell_type": "code",
   "execution_count": 38,
   "id": "e6eb8124-c37f-4860-80d9-b42b1a87762a",
   "metadata": {},
   "outputs": [],
   "source": [
    "TGT_LANGUAGE = 'ann'\n",
    "SRC_LANGUAGE = 'seq'"
   ]
  },
  {
   "cell_type": "code",
   "execution_count": 39,
   "id": "e2fdc032-1ede-47ae-a641-00d47f58b00c",
   "metadata": {},
   "outputs": [],
   "source": [
    "from tokenizers import Tokenizer, models, pre_tokenizers, trainers\n",
    "from tokenizers.processors import TemplateProcessing"
   ]
  },
  {
   "cell_type": "code",
   "execution_count": null,
   "id": "13e800c3-87ce-4c53-924a-44ec838960e7",
   "metadata": {},
   "outputs": [],
   "source": []
  },
  {
   "cell_type": "code",
   "execution_count": 40,
   "id": "a904c3db-9c6a-438a-9df4-85927ee22b9e",
   "metadata": {},
   "outputs": [],
   "source": [
    "# all_anns = ann_dataset['ann'].apply(lambda x: x.split()).sum()"
   ]
  },
  {
   "cell_type": "code",
   "execution_count": 41,
   "id": "d29cce96-4e4c-47b3-9d7b-427052f80668",
   "metadata": {},
   "outputs": [],
   "source": [
    "special_tokens = [\"[UNK]\", \"[PAD]\", \"[CLS]\", \"[SEP]\", \"[MASK]\"]\n",
    "\n",
    "def get_tokenizer(lang):\n",
    "    tokenizer = Tokenizer(models.WordLevel(unk_token='[UNK]'))\n",
    "    tokenizer.pre_tokenizer = pre_tokenizers.WhitespaceSplit()\n",
    "    \n",
    "    trainer = trainers.WordLevelTrainer(vocab_size=600, special_tokens=special_tokens, min_frequency=0)\n",
    "    tokenizer.train_from_iterator(list(ann_dataset[lang])*10, trainer=trainer)\n",
    "    \n",
    "    tokenizer.post_processor = TemplateProcessing(\n",
    "        single=f\"[CLS]:0 $A:0 [SEP]:0\",\n",
    "        pair=f\"[CLS]:0 $A:0 [SEP]:0 $B:1 [SEP]:1\",\n",
    "        special_tokens=[\n",
    "            (\"[CLS]\", tokenizer.token_to_id('[CLS]')),\n",
    "            (\"[SEP]\", tokenizer.token_to_id('[SEP]')),\n",
    "        ],\n",
    "    )\n",
    "    return tokenizer\n"
   ]
  },
  {
   "cell_type": "code",
   "execution_count": 42,
   "id": "c91ad759-45a5-48bb-be02-ca28719c1e17",
   "metadata": {},
   "outputs": [],
   "source": [
    "tokenizers = {lang: get_tokenizer(lang) for lang in (SRC_LANGUAGE, TGT_LANGUAGE)}"
   ]
  },
  {
   "cell_type": "code",
   "execution_count": 43,
   "id": "62d6f254-0a3c-44f3-a161-5f079396e484",
   "metadata": {},
   "outputs": [
    {
     "data": {
      "text/plain": [
       "2"
      ]
     },
     "execution_count": 43,
     "metadata": {},
     "output_type": "execute_result"
    }
   ],
   "source": [
    "tokenizers['ann'].token_to_id('[CLS]')"
   ]
  },
  {
   "cell_type": "code",
   "execution_count": 44,
   "id": "54ab9389-45ec-4718-820a-faa8bd14b574",
   "metadata": {},
   "outputs": [
    {
     "data": {
      "text/html": [
       "<div>\n",
       "<style scoped>\n",
       "    .dataframe tbody tr th:only-of-type {\n",
       "        vertical-align: middle;\n",
       "    }\n",
       "\n",
       "    .dataframe tbody tr th {\n",
       "        vertical-align: top;\n",
       "    }\n",
       "\n",
       "    .dataframe thead th {\n",
       "        text-align: right;\n",
       "    }\n",
       "</style>\n",
       "<table border=\"1\" class=\"dataframe\">\n",
       "  <thead>\n",
       "    <tr style=\"text-align: right;\">\n",
       "      <th></th>\n",
       "      <th>0</th>\n",
       "      <th>1</th>\n",
       "      <th>2</th>\n",
       "      <th>3</th>\n",
       "      <th>4</th>\n",
       "    </tr>\n",
       "  </thead>\n",
       "  <tbody>\n",
       "    <tr>\n",
       "      <th>0</th>\n",
       "      <td>[CLS]</td>\n",
       "      <td>GO:0005575</td>\n",
       "      <td>GO:0032991</td>\n",
       "      <td>GO:0032993</td>\n",
       "      <td>[SEP]</td>\n",
       "    </tr>\n",
       "    <tr>\n",
       "      <th>1</th>\n",
       "      <td>2</td>\n",
       "      <td>16</td>\n",
       "      <td>17</td>\n",
       "      <td>28</td>\n",
       "      <td>3</td>\n",
       "    </tr>\n",
       "  </tbody>\n",
       "</table>\n",
       "</div>"
      ],
      "text/plain": [
       "       0           1           2           3      4\n",
       "0  [CLS]  GO:0005575  GO:0032991  GO:0032993  [SEP]\n",
       "1      2          16          17          28      3"
      ]
     },
     "execution_count": 44,
     "metadata": {},
     "output_type": "execute_result"
    }
   ],
   "source": [
    "encoding = tokenizers['ann'].encode(ann_dataset.iloc[0].ann)\n",
    "\n",
    "pd.DataFrame((encoding.tokens, encoding.ids))"
   ]
  },
  {
   "cell_type": "code",
   "execution_count": 45,
   "id": "67bd5a3f-8713-4353-bfa0-6f30b4adc785",
   "metadata": {
    "scrolled": true
   },
   "outputs": [
    {
     "data": {
      "text/html": [
       "<div>\n",
       "<style scoped>\n",
       "    .dataframe tbody tr th:only-of-type {\n",
       "        vertical-align: middle;\n",
       "    }\n",
       "\n",
       "    .dataframe tbody tr th {\n",
       "        vertical-align: top;\n",
       "    }\n",
       "\n",
       "    .dataframe thead th {\n",
       "        text-align: right;\n",
       "    }\n",
       "</style>\n",
       "<table border=\"1\" class=\"dataframe\">\n",
       "  <thead>\n",
       "    <tr style=\"text-align: right;\">\n",
       "      <th></th>\n",
       "      <th>0</th>\n",
       "      <th>1</th>\n",
       "      <th>2</th>\n",
       "      <th>3</th>\n",
       "      <th>4</th>\n",
       "      <th>5</th>\n",
       "      <th>6</th>\n",
       "      <th>7</th>\n",
       "      <th>8</th>\n",
       "      <th>9</th>\n",
       "      <th>...</th>\n",
       "      <th>368</th>\n",
       "      <th>369</th>\n",
       "      <th>370</th>\n",
       "      <th>371</th>\n",
       "      <th>372</th>\n",
       "      <th>373</th>\n",
       "      <th>374</th>\n",
       "      <th>375</th>\n",
       "      <th>376</th>\n",
       "      <th>377</th>\n",
       "    </tr>\n",
       "  </thead>\n",
       "  <tbody>\n",
       "    <tr>\n",
       "      <th>0</th>\n",
       "      <td>[CLS]</td>\n",
       "      <td>M</td>\n",
       "      <td>V</td>\n",
       "      <td>G</td>\n",
       "      <td>S</td>\n",
       "      <td>R</td>\n",
       "      <td>V</td>\n",
       "      <td>Y</td>\n",
       "      <td>V</td>\n",
       "      <td>G</td>\n",
       "      <td>...</td>\n",
       "      <td>D</td>\n",
       "      <td>R</td>\n",
       "      <td>N</td>\n",
       "      <td>N</td>\n",
       "      <td>E</td>\n",
       "      <td>S</td>\n",
       "      <td>M</td>\n",
       "      <td>D</td>\n",
       "      <td>D</td>\n",
       "      <td>[SEP]</td>\n",
       "    </tr>\n",
       "    <tr>\n",
       "      <th>1</th>\n",
       "      <td>2</td>\n",
       "      <td>21</td>\n",
       "      <td>9</td>\n",
       "      <td>8</td>\n",
       "      <td>6</td>\n",
       "      <td>12</td>\n",
       "      <td>9</td>\n",
       "      <td>20</td>\n",
       "      <td>9</td>\n",
       "      <td>8</td>\n",
       "      <td>...</td>\n",
       "      <td>15</td>\n",
       "      <td>12</td>\n",
       "      <td>18</td>\n",
       "      <td>18</td>\n",
       "      <td>10</td>\n",
       "      <td>6</td>\n",
       "      <td>21</td>\n",
       "      <td>15</td>\n",
       "      <td>15</td>\n",
       "      <td>3</td>\n",
       "    </tr>\n",
       "  </tbody>\n",
       "</table>\n",
       "<p>2 rows × 378 columns</p>\n",
       "</div>"
      ],
      "text/plain": [
       "     0   1   2   3   4   5   6   7   8   9    ... 368 369 370 371 372 373 374  \\\n",
       "0  [CLS]   M   V   G   S   R   V   Y   V   G  ...   D   R   N   N   E   S   M   \n",
       "1      2  21   9   8   6  12   9  20   9   8  ...  15  12  18  18  10   6  21   \n",
       "\n",
       "  375 376    377  \n",
       "0   D   D  [SEP]  \n",
       "1  15  15      3  \n",
       "\n",
       "[2 rows x 378 columns]"
      ]
     },
     "execution_count": 45,
     "metadata": {},
     "output_type": "execute_result"
    }
   ],
   "source": [
    "encoding = tokenizers['seq'].encode(ann_dataset.iloc[0].seq)\n",
    "\n",
    "pd.DataFrame((encoding.tokens, encoding.ids))"
   ]
  },
  {
   "cell_type": "code",
   "execution_count": 46,
   "id": "2ba69712-1789-42f1-9376-033f11113c54",
   "metadata": {},
   "outputs": [
    {
     "data": {
      "text/plain": [
       "119"
      ]
     },
     "execution_count": 46,
     "metadata": {},
     "output_type": "execute_result"
    }
   ],
   "source": [
    "tokenizers['ann'].get_vocab_size()"
   ]
  },
  {
   "cell_type": "code",
   "execution_count": 47,
   "id": "85cbdf9b-52ae-4103-8d34-5238ae06e115",
   "metadata": {
    "scrolled": true
   },
   "outputs": [
    {
     "data": {
      "text/plain": [
       "{'GO:0036338': 85,\n",
       " 'GO:0071704': 7,\n",
       " '[SEP]': 3,\n",
       " 'GO:0140776': 88,\n",
       " 'GO:0045730': 76,\n",
       " 'GO:0034518': 77,\n",
       " 'GO:0140223': 73,\n",
       " 'GO:0019033': 83,\n",
       " 'GO:0033186': 95,\n",
       " 'GO:0048511': 46,\n",
       " 'GO:0051703': 51,\n",
       " 'GO:0031992': 94,\n",
       " 'GO:0036284': 112,\n",
       " 'GO:0009058': 14,\n",
       " 'GO:0005575': 16,\n",
       " 'GO:0046729': 86,\n",
       " 'GO:0016209': 53,\n",
       " 'GO:0044419': 55,\n",
       " 'GO:0005488': 20,\n",
       " 'GO:0016247': 52,\n",
       " 'GO:0000003': 21,\n",
       " 'GO:0060089': 32,\n",
       " 'GO:0003824': 30,\n",
       " 'GO:0140489': 102,\n",
       " 'GO:0008152': 8,\n",
       " 'GO:0030234': 29,\n",
       " 'GO:0044183': 78,\n",
       " 'GO:0030545': 35,\n",
       " 'GO:1990526': 108,\n",
       " 'GO:0038024': 71,\n",
       " 'GO:0002252': 43,\n",
       " 'GO:1990845': 74,\n",
       " 'GO:0140313': 66,\n",
       " 'GO:0032994': 72,\n",
       " 'GO:0032991': 17,\n",
       " 'GO:1904090': 90,\n",
       " 'GO:0044423': 63,\n",
       " 'GO:0019748': 39,\n",
       " 'GO:0042440': 45,\n",
       " 'GO:0000408': 84,\n",
       " 'GO:0140110': 48,\n",
       " 'GO:0040007': 34,\n",
       " 'GO:0016032': 41,\n",
       " 'GO:0140912': 117,\n",
       " 'GO:0140657': 47,\n",
       " 'GO:0008150': 5,\n",
       " 'GO:0065007': 9,\n",
       " 'GO:0045182': 61,\n",
       " '[UNK]': 0,\n",
       " 'GO:0040011': 37,\n",
       " 'GO:0140677': 60,\n",
       " 'GO:0032963': 82,\n",
       " 'GO:0030228': 92,\n",
       " 'GO:0098561': 96,\n",
       " 'GO:0060590': 59,\n",
       " 'GO:0070287': 113,\n",
       " 'GO:0019954': 81,\n",
       " 'GO:0004998': 111,\n",
       " 'GO:0140659': 97,\n",
       " 'GO:0140416': 69,\n",
       " 'GO:0022414': 22,\n",
       " 'GO:0140488': 116,\n",
       " 'GO:0019028': 99,\n",
       " 'GO:1990527': 109,\n",
       " 'GO:0110165': 24,\n",
       " 'GO:0090729': 58,\n",
       " 'GO:0032259': 40,\n",
       " 'GO:1990351': 38,\n",
       " 'GO:0055036': 89,\n",
       " 'GO:1901764': 105,\n",
       " 'GO:0043473': 64,\n",
       " 'GO:0016999': 49,\n",
       " 'GO:0140299': 68,\n",
       " 'GO:0006807': 11,\n",
       " 'GO:0032505': 56,\n",
       " 'GO:0006735': 67,\n",
       " 'GO:0000417': 110,\n",
       " '[CLS]': 2,\n",
       " '[PAD]': 1,\n",
       " 'GO:1902494': 31,\n",
       " 'GO:0042592': 27,\n",
       " 'GO:0031386': 93,\n",
       " '[MASK]': 4,\n",
       " 'GO:0005215': 42,\n",
       " 'GO:0018933': 91,\n",
       " 'GO:0003774': 75,\n",
       " 'GO:0070085': 44,\n",
       " 'GO:0097690': 115,\n",
       " 'GO:0005198': 57,\n",
       " 'GO:0019882': 54,\n",
       " 'GO:1902421': 106,\n",
       " 'GO:0009056': 19,\n",
       " 'GO:0000156': 79,\n",
       " 'GO:0044281': 36,\n",
       " 'GO:0140678': 62,\n",
       " 'GO:0032993': 28,\n",
       " 'GO:0032502': 13,\n",
       " 'GO:0019953': 25,\n",
       " 'GO:0140691': 104,\n",
       " 'GO:1990923': 118,\n",
       " 'GO:1990298': 107,\n",
       " 'GO:0009987': 6,\n",
       " 'GO:0060090': 50,\n",
       " 'GO:0044238': 12,\n",
       " 'GO:0044697': 101,\n",
       " 'GO:0070988': 65,\n",
       " 'GO:0038023': 33,\n",
       " 'GO:0140104': 70,\n",
       " 'GO:0097078': 114,\n",
       " 'GO:0032501': 15,\n",
       " 'GO:0006116': 80,\n",
       " 'GO:0004873': 98,\n",
       " 'GO:0140537': 87,\n",
       " 'GO:0098772': 23,\n",
       " 'GO:0050896': 10,\n",
       " 'GO:0051179': 18,\n",
       " 'GO:0140490': 103,\n",
       " 'GO:0033061': 100,\n",
       " 'GO:0002376': 26}"
      ]
     },
     "execution_count": 47,
     "metadata": {},
     "output_type": "execute_result"
    }
   ],
   "source": [
    "tokenizers['ann'].get_vocab()"
   ]
  },
  {
   "cell_type": "code",
   "execution_count": 48,
   "id": "9d40d6cc-61c1-4a45-858a-3933f37458b2",
   "metadata": {},
   "outputs": [
    {
     "data": {
      "text/plain": [
       "25"
      ]
     },
     "execution_count": 48,
     "metadata": {},
     "output_type": "execute_result"
    }
   ],
   "source": [
    "tokenizers['seq'].get_vocab_size()"
   ]
  },
  {
   "cell_type": "code",
   "execution_count": 49,
   "id": "69280c32-d6d1-4e40-bfc0-c05b913e9425",
   "metadata": {},
   "outputs": [
    {
     "data": {
      "text/plain": [
       "[2, 7, 15, 7, 3]"
      ]
     },
     "execution_count": 49,
     "metadata": {},
     "output_type": "execute_result"
    }
   ],
   "source": [
    "tokenizers['seq'].encode('A D A').ids"
   ]
  },
  {
   "cell_type": "code",
   "execution_count": 50,
   "id": "76e9e154-c47b-454d-a3e7-44be1b50efd9",
   "metadata": {},
   "outputs": [
    {
     "data": {
      "text/plain": [
       "['GO:0050896', 'GO:0032502', 'GO:0022414']"
      ]
     },
     "execution_count": 50,
     "metadata": {},
     "output_type": "execute_result"
    }
   ],
   "source": [
    "tokenizers['ann'].decode([10, 13, 22]).split()"
   ]
  },
  {
   "cell_type": "code",
   "execution_count": 51,
   "id": "b2f2163a-b213-4215-a252-93ce1525dd38",
   "metadata": {},
   "outputs": [],
   "source": [
    "def generate_tokens(logits):\n",
    "    tokens = torch.max(logits, dim=-1)[1]\n",
    "    return tokens\n",
    "\n",
    "\n",
    "def decode_tokens(tokens, language: str):\n",
    "    words = tokenizers[language].decode(tokens.flatten().tolist()).split()\n",
    "    words = np.array(words).reshape(tokens.shape)\n",
    "    return words\n",
    "\n"
   ]
  },
  {
   "cell_type": "code",
   "execution_count": null,
   "id": "8b526d11-a34e-4de2-a2da-ba380761270b",
   "metadata": {},
   "outputs": [],
   "source": []
  },
  {
   "cell_type": "markdown",
   "id": "a0ec99eb-0154-4a67-9158-e030d584d434",
   "metadata": {},
   "source": [
    "## Load Term Embeddings"
   ]
  },
  {
   "cell_type": "code",
   "execution_count": 52,
   "id": "bdf26416-73ca-4246-a53e-efcc8a2dd3bf",
   "metadata": {},
   "outputs": [
    {
     "data": {
      "text/html": [
       "<div>\n",
       "<style scoped>\n",
       "    .dataframe tbody tr th:only-of-type {\n",
       "        vertical-align: middle;\n",
       "    }\n",
       "\n",
       "    .dataframe tbody tr th {\n",
       "        vertical-align: top;\n",
       "    }\n",
       "\n",
       "    .dataframe thead th {\n",
       "        text-align: right;\n",
       "    }\n",
       "</style>\n",
       "<table border=\"1\" class=\"dataframe\">\n",
       "  <thead>\n",
       "    <tr style=\"text-align: right;\">\n",
       "      <th></th>\n",
       "      <th>desc</th>\n",
       "    </tr>\n",
       "    <tr>\n",
       "      <th>id</th>\n",
       "      <th></th>\n",
       "    </tr>\n",
       "  </thead>\n",
       "  <tbody>\n",
       "    <tr>\n",
       "      <th>GO:0000001</th>\n",
       "      <td>\"The distribution of mitochondria, including t...</td>\n",
       "    </tr>\n",
       "    <tr>\n",
       "      <th>GO:0000002</th>\n",
       "      <td>\"The maintenance of the structure and integrit...</td>\n",
       "    </tr>\n",
       "    <tr>\n",
       "      <th>GO:0000003</th>\n",
       "      <td>\"The production of new individuals that contai...</td>\n",
       "    </tr>\n",
       "    <tr>\n",
       "      <th>GO:0000006</th>\n",
       "      <td>\"Enables the transfer of zinc ions (Zn2+) from...</td>\n",
       "    </tr>\n",
       "    <tr>\n",
       "      <th>GO:0000007</th>\n",
       "      <td>\"Enables the transfer of a solute or solutes f...</td>\n",
       "    </tr>\n",
       "    <tr>\n",
       "      <th>...</th>\n",
       "      <td>...</td>\n",
       "    </tr>\n",
       "    <tr>\n",
       "      <th>GO:2001313</th>\n",
       "      <td>\"The chemical reactions and pathways involving...</td>\n",
       "    </tr>\n",
       "    <tr>\n",
       "      <th>GO:2001314</th>\n",
       "      <td>\"The chemical reactions and pathways resulting...</td>\n",
       "    </tr>\n",
       "    <tr>\n",
       "      <th>GO:2001315</th>\n",
       "      <td>\"The chemical reactions and pathways resulting...</td>\n",
       "    </tr>\n",
       "    <tr>\n",
       "      <th>GO:2001316</th>\n",
       "      <td>\"The chemical reactions and pathways involving...</td>\n",
       "    </tr>\n",
       "    <tr>\n",
       "      <th>GO:2001317</th>\n",
       "      <td>\"The chemical reactions and pathways resulting...</td>\n",
       "    </tr>\n",
       "  </tbody>\n",
       "</table>\n",
       "<p>43093 rows × 1 columns</p>\n",
       "</div>"
      ],
      "text/plain": [
       "                                                         desc\n",
       "id                                                           \n",
       "GO:0000001  \"The distribution of mitochondria, including t...\n",
       "GO:0000002  \"The maintenance of the structure and integrit...\n",
       "GO:0000003  \"The production of new individuals that contai...\n",
       "GO:0000006  \"Enables the transfer of zinc ions (Zn2+) from...\n",
       "GO:0000007  \"Enables the transfer of a solute or solutes f...\n",
       "...                                                       ...\n",
       "GO:2001313  \"The chemical reactions and pathways involving...\n",
       "GO:2001314  \"The chemical reactions and pathways resulting...\n",
       "GO:2001315  \"The chemical reactions and pathways resulting...\n",
       "GO:2001316  \"The chemical reactions and pathways involving...\n",
       "GO:2001317  \"The chemical reactions and pathways resulting...\n",
       "\n",
       "[43093 rows x 1 columns]"
      ]
     },
     "execution_count": 52,
     "metadata": {},
     "output_type": "execute_result"
    }
   ],
   "source": [
    "import pandas as pd\n",
    "df = pd.DataFrame(((k, v.desc) for k, v in ont.items()), columns=('id', 'desc')).set_index('id')\n",
    "df"
   ]
  },
  {
   "cell_type": "code",
   "execution_count": 53,
   "id": "fb197f2e-4d03-4f6a-abeb-55a76df7fad3",
   "metadata": {},
   "outputs": [
    {
     "data": {
      "text/html": [
       "<div>\n",
       "<style scoped>\n",
       "    .dataframe tbody tr th:only-of-type {\n",
       "        vertical-align: middle;\n",
       "    }\n",
       "\n",
       "    .dataframe tbody tr th {\n",
       "        vertical-align: top;\n",
       "    }\n",
       "\n",
       "    .dataframe thead th {\n",
       "        text-align: right;\n",
       "    }\n",
       "</style>\n",
       "<table border=\"1\" class=\"dataframe\">\n",
       "  <thead>\n",
       "    <tr style=\"text-align: right;\">\n",
       "      <th></th>\n",
       "      <th>desc</th>\n",
       "    </tr>\n",
       "  </thead>\n",
       "  <tbody>\n",
       "    <tr>\n",
       "      <th>GO:0008150</th>\n",
       "      <td>\"A biological process is the execution of a ge...</td>\n",
       "    </tr>\n",
       "    <tr>\n",
       "      <th>GO:0003674</th>\n",
       "      <td>\"A molecular process that can be carried out b...</td>\n",
       "    </tr>\n",
       "    <tr>\n",
       "      <th>GO:0005575</th>\n",
       "      <td>\"A location, relative to cellular compartments...</td>\n",
       "    </tr>\n",
       "    <tr>\n",
       "      <th>GO:0000003</th>\n",
       "      <td>\"The production of new individuals that contai...</td>\n",
       "    </tr>\n",
       "    <tr>\n",
       "      <th>GO:0016032</th>\n",
       "      <td>\"A multi-organism process in which a virus is ...</td>\n",
       "    </tr>\n",
       "    <tr>\n",
       "      <th>...</th>\n",
       "      <td>...</td>\n",
       "    </tr>\n",
       "    <tr>\n",
       "      <th>GO:1990393</th>\n",
       "      <td>\"A protein complex, at least composed of CUL7,...</td>\n",
       "    </tr>\n",
       "    <tr>\n",
       "      <th>GO:0002199</th>\n",
       "      <td>\"A multisubunit complex comprising the chapero...</td>\n",
       "    </tr>\n",
       "    <tr>\n",
       "      <th>GO:1990351</th>\n",
       "      <td>\"A protein complex facilitating transport of m...</td>\n",
       "    </tr>\n",
       "    <tr>\n",
       "      <th>GO:0070864</th>\n",
       "      <td>\"A macromolecular complex that includes cytosk...</td>\n",
       "    </tr>\n",
       "    <tr>\n",
       "      <th>GO:0160055</th>\n",
       "      <td>\"A protein complex composed of at least GAP45 ...</td>\n",
       "    </tr>\n",
       "  </tbody>\n",
       "</table>\n",
       "<p>554 rows × 1 columns</p>\n",
       "</div>"
      ],
      "text/plain": [
       "                                                         desc\n",
       "GO:0008150  \"A biological process is the execution of a ge...\n",
       "GO:0003674  \"A molecular process that can be carried out b...\n",
       "GO:0005575  \"A location, relative to cellular compartments...\n",
       "GO:0000003  \"The production of new individuals that contai...\n",
       "GO:0016032  \"A multi-organism process in which a virus is ...\n",
       "...                                                       ...\n",
       "GO:1990393  \"A protein complex, at least composed of CUL7,...\n",
       "GO:0002199  \"A multisubunit complex comprising the chapero...\n",
       "GO:1990351  \"A protein complex facilitating transport of m...\n",
       "GO:0070864  \"A macromolecular complex that includes cytosk...\n",
       "GO:0160055  \"A protein complex composed of at least GAP45 ...\n",
       "\n",
       "[554 rows x 1 columns]"
      ]
     },
     "execution_count": 53,
     "metadata": {},
     "output_type": "execute_result"
    }
   ],
   "source": [
    "used_terms = pd.DataFrame([df.loc[k] for k in target_vocab])\n",
    "used_terms"
   ]
  },
  {
   "cell_type": "code",
   "execution_count": 54,
   "id": "b4658b8c-f6a2-4238-99a6-e0ad488ffb0f",
   "metadata": {
    "scrolled": true
   },
   "outputs": [
    {
     "data": {
      "text/plain": [
       "554"
      ]
     },
     "execution_count": 54,
     "metadata": {},
     "output_type": "execute_result"
    }
   ],
   "source": [
    "used_terms_embedding = pickle.load(open('states/term_embeddings_used_llm2vec.pickle', 'rb'))\n",
    "len(used_terms_embedding)"
   ]
  },
  {
   "cell_type": "code",
   "execution_count": 55,
   "id": "92347446-88c1-4d1e-b3f3-2a6bd5e5bb82",
   "metadata": {},
   "outputs": [
    {
     "data": {
      "text/plain": [
       "desc    \"The activity of joining two lipid bilayers to...\n",
       "Name: GO:0140522, dtype: object"
      ]
     },
     "execution_count": 55,
     "metadata": {},
     "output_type": "execute_result"
    }
   ],
   "source": [
    "used_terms.loc['GO:0140522']"
   ]
  },
  {
   "cell_type": "code",
   "execution_count": 56,
   "id": "2da8176c-fbe6-4885-9d4b-068cec0925ad",
   "metadata": {},
   "outputs": [
    {
     "data": {
      "text/plain": [
       "119"
      ]
     },
     "execution_count": 56,
     "metadata": {},
     "output_type": "execute_result"
    }
   ],
   "source": [
    "tokenizers['ann'].get_vocab_size()"
   ]
  },
  {
   "cell_type": "code",
   "execution_count": 57,
   "id": "edeaf5ca-a45f-46fa-ae4d-17c0c72f6f11",
   "metadata": {
    "scrolled": true
   },
   "outputs": [],
   "source": [
    "aligned_embedding = np.zeros([tokenizers['ann'].get_vocab_size(), used_terms_embedding.shape[1]])\n",
    "\n",
    "for term, embedding in zip(used_terms.index, used_terms_embedding):\n",
    "    token_id = tokenizers['ann'].token_to_id(term)\n",
    "    if not token_id:\n",
    "        continue\n",
    "    aligned_embedding[token_id, :] = embedding\n",
    "\n"
   ]
  },
  {
   "cell_type": "code",
   "execution_count": 58,
   "id": "e9f2101b-b98d-488c-9ee3-22e4359c2ae1",
   "metadata": {},
   "outputs": [
    {
     "data": {
      "text/plain": [
       "array([[ 0.        ,  0.        ,  0.        , ...,  0.        ,\n",
       "         0.        ,  0.        ],\n",
       "       [ 0.        ,  0.        ,  0.        , ...,  0.        ,\n",
       "         0.        ,  0.        ],\n",
       "       [ 0.        ,  0.        ,  0.        , ...,  0.        ,\n",
       "         0.        ,  0.        ],\n",
       "       ...,\n",
       "       [ 0.6171875 , -3.109375  , -0.33398438, ...,  1.7734375 ,\n",
       "        -2.40625   , -0.04272461],\n",
       "       [ 2.15625   , -2.703125  , -4.25      , ...,  1.09375   ,\n",
       "        -3.171875  ,  0.07128906],\n",
       "       [ 2.359375  ,  1.265625  ,  1.2109375 , ...,  2.71875   ,\n",
       "        -3.59375   , -0.25976562]])"
      ]
     },
     "execution_count": 58,
     "metadata": {},
     "output_type": "execute_result"
    }
   ],
   "source": [
    "aligned_embedding"
   ]
  },
  {
   "cell_type": "code",
   "execution_count": null,
   "id": "88325394-246d-4031-be6c-9b8d87110f8c",
   "metadata": {},
   "outputs": [],
   "source": []
  },
  {
   "cell_type": "code",
   "execution_count": 59,
   "id": "e29940b3-6019-4ab5-a586-8b1367941832",
   "metadata": {},
   "outputs": [
    {
     "name": "stdout",
     "output_type": "stream",
     "text": [
      "[UNK]\n",
      "0\n",
      "[PAD]\n",
      "1\n",
      "[CLS]\n",
      "2\n",
      "[SEP]\n",
      "3\n",
      "[MASK]\n",
      "4\n"
     ]
    },
    {
     "data": {
      "text/plain": [
       "array([[ 0.1721112 ,  0.89445707, -0.31388233, ...,  0.60296849,\n",
       "         0.22679283,  0.00545335],\n",
       "       [ 0.63164666,  0.78010154,  0.43851878, ...,  0.54548916,\n",
       "         0.11778525,  0.41213481],\n",
       "       [ 0.95962165, -0.68973613, -0.54273029, ..., -0.19217061,\n",
       "         0.74232264,  0.94531578],\n",
       "       ...,\n",
       "       [ 0.6171875 , -3.109375  , -0.33398438, ...,  1.7734375 ,\n",
       "        -2.40625   , -0.04272461],\n",
       "       [ 2.15625   , -2.703125  , -4.25      , ...,  1.09375   ,\n",
       "        -3.171875  ,  0.07128906],\n",
       "       [ 2.359375  ,  1.265625  ,  1.2109375 , ...,  2.71875   ,\n",
       "        -3.59375   , -0.25976562]])"
      ]
     },
     "execution_count": 59,
     "metadata": {},
     "output_type": "execute_result"
    }
   ],
   "source": [
    "for sp_token in special_tokens:\n",
    "    print(sp_token)\n",
    "    token_id = tokenizers['ann'].token_to_id(sp_token)\n",
    "    print(token_id)\n",
    "    aligned_embedding[token_id, :] = np.random.uniform(-1, 1, aligned_embedding.shape[1])\n",
    "    \n",
    "aligned_embedding"
   ]
  },
  {
   "cell_type": "code",
   "execution_count": 60,
   "id": "7df5b870-7f56-4415-a461-97f5912a30e4",
   "metadata": {},
   "outputs": [
    {
     "data": {
      "text/plain": [
       "1"
      ]
     },
     "execution_count": 60,
     "metadata": {},
     "output_type": "execute_result"
    }
   ],
   "source": [
    "PAD_IDX = tokenizers['ann'].token_to_id('[PAD]')\n",
    "PAD_IDX"
   ]
  },
  {
   "cell_type": "markdown",
   "id": "7c259b21-9080-4350-9df8-51cce80db73e",
   "metadata": {},
   "source": [
    "## Transformations"
   ]
  },
  {
   "cell_type": "code",
   "execution_count": 61,
   "id": "a87da904-b8c6-46d3-a2c1-8669f6db7f28",
   "metadata": {},
   "outputs": [
    {
     "data": {
      "text/plain": [
       "2002"
      ]
     },
     "execution_count": 61,
     "metadata": {},
     "output_type": "execute_result"
    }
   ],
   "source": [
    "\n",
    "# base_vocab_size = len(vocab)\n",
    "src_vocab_size = tokenizers[SRC_LANGUAGE].get_vocab_size()\n",
    "target_vocab_size = tokenizers[TGT_LANGUAGE].get_vocab_size()\n",
    "# src_vocab_size = base_vocab_size + len(special_symbols)\n",
    "# target_vocab_size = base_vocab_size + len(special_symbols)\n",
    "# num_layers = 10\n",
    "seq_length = MAX_LEN + 2\n",
    "seq_length"
   ]
  },
  {
   "cell_type": "code",
   "execution_count": null,
   "id": "1dbde0f0-a028-4ae5-8a80-aebb758e8c22",
   "metadata": {},
   "outputs": [],
   "source": []
  },
  {
   "cell_type": "code",
   "execution_count": null,
   "id": "1e047829-99df-460d-ab94-0258d8b7e294",
   "metadata": {},
   "outputs": [],
   "source": []
  },
  {
   "cell_type": "code",
   "execution_count": 62,
   "id": "d11fc36e-ba18-49fa-a672-790e7ebef1be",
   "metadata": {},
   "outputs": [],
   "source": [
    "# def collate_fn(batch):\n",
    "#     src_batch, tgt_batch = [], []\n",
    "#     for src_sample, tgt_sample in batch:\n",
    "#         src_batch.append(torch.tensor(tokenizers[SRC_LANGUAGE].encode(src_sample).ids))\n",
    "#         tgt_batch.append(torch.tensor(tokenizers[TGT_LANGUAGE].encode(tgt_sample).ids))\n",
    "\n",
    "#     # pad_first_to_len(src_batch, seq_length)\n",
    "#     # pad_first_to_len(tgt_batch, seq_length)\n",
    "    \n",
    "#     src_batch = pad_sequence(src_batch, padding_value=PAD_IDX)\n",
    "#     tgt_batch = pad_sequence(tgt_batch, padding_value=PAD_IDX)\n",
    "#     return src_batch, tgt_batch"
   ]
  },
  {
   "cell_type": "code",
   "execution_count": null,
   "id": "a9e42b49-e34d-42c0-87f0-7c65916cf1ff",
   "metadata": {},
   "outputs": [],
   "source": []
  },
  {
   "cell_type": "markdown",
   "id": "72313a13-37a9-4f7e-b8fc-acea29520579",
   "metadata": {},
   "source": [
    "## Data splits"
   ]
  },
  {
   "cell_type": "code",
   "execution_count": 63,
   "id": "8dbc4d94-acdb-434a-a5dc-6c02c63afe61",
   "metadata": {},
   "outputs": [],
   "source": [
    "def AnnData(split='train'):\n",
    "    n = len(ann_dataset)\n",
    "    n_train = int(n * 8 / 10)\n",
    "    n_valid = int(n / 10)\n",
    "    if split == 'train':\n",
    "        return ann_dataset.to_numpy()[:n_train]\n",
    "    elif split == 'valid':\n",
    "        return ann_dataset.to_numpy()[n_train:n_train+n_valid]\n",
    "    else:\n",
    "        return ann_dataset.to_numpy()[n_train+n_valid:]"
   ]
  },
  {
   "cell_type": "markdown",
   "id": "f3159ba8-1b31-4ad6-ab35-e07eb55043fd",
   "metadata": {},
   "source": [
    "## Train and eval functions"
   ]
  },
  {
   "cell_type": "code",
   "execution_count": 64,
   "id": "44df9e1b-0171-4309-86c7-f77234add360",
   "metadata": {},
   "outputs": [],
   "source": [
    "BATCH_SIZE = 20\n"
   ]
  },
  {
   "cell_type": "markdown",
   "id": "3c78080d-3b1a-412a-878a-d68ba41a0100",
   "metadata": {},
   "source": []
  },
  {
   "cell_type": "code",
   "execution_count": 65,
   "id": "b757f31e-0b3c-4a0e-b63e-4e89b8a18c63",
   "metadata": {},
   "outputs": [],
   "source": [
    "def evaluate(model):\n",
    "    model.eval()\n",
    "    losses = 0\n",
    "\n",
    "    # val_iter = Multi30k(split='valid', language_pair=(SRC_LANGUAGE, TGT_LANGUAGE))\n",
    "    val_iter = AnnData(split='valid')\n",
    "    # val_iter = ann_dataset\n",
    "    val_dataloader = DataLoader(val_iter, batch_size=BATCH_SIZE, collate_fn=collate_fn)\n",
    "\n",
    "    hit_rates = []\n",
    "    num_batches = 10\n",
    "    i = 0\n",
    "    for src, tgt in val_dataloader:\n",
    "        # print(i)\n",
    "        src = src.T.to(DEVICE)\n",
    "        tgt = tgt.T.to(DEVICE)\n",
    "\n",
    "        tgt_input = tgt[:, :-1]\n",
    "\n",
    "        # src_mask, tgt_mask, src_padding_mask, tgt_padding_mask = create_one_out_mask(src, tgt_input)\n",
    "\n",
    "        # logits = model(src, tgt_input, src_mask, tgt_mask,src_padding_mask, tgt_padding_mask, src_padding_mask)\n",
    "        logits = model(src, tgt_input)\n",
    "        tokens = generate_tokens(logits)\n",
    "\n",
    "        tgt_out = tgt[:, 1:]\n",
    "        loss = loss_fn(logits.reshape(-1, logits.shape[-1]), tgt_out.reshape(-1))\n",
    "        # loss = loss_fn(logits.reshape(-1, logits.shape[-1]), tgt.reshape(-1))\n",
    "        losses += loss.item()\n",
    "\n",
    "        if i >= num_batches:\n",
    "            break\n",
    "        i += 1\n",
    "\n",
    "        hit_rate = ((tgt_out == tokens).sum() / count_words(tgt_out)).cpu().numpy()[()]\n",
    "\n",
    "        print('label', tgt_out)\n",
    "        print('pred', tokens)\n",
    "        print(hit_rate)\n",
    "        hit_rates.append(hit_rate)\n",
    "\n",
    "    return {'loss': losses / len(list(val_dataloader)), 'hit_rate': np.mean(hit_rates)}"
   ]
  },
  {
   "cell_type": "code",
   "execution_count": 66,
   "id": "07261fa1-80e3-4e17-9078-e4ee66929f1d",
   "metadata": {},
   "outputs": [],
   "source": [
    "def count_words(x):\n",
    "    return (x != PAD_IDX).sum()"
   ]
  },
  {
   "cell_type": "code",
   "execution_count": 67,
   "id": "0b373499-dfa6-46e8-9645-be12f7d61cc0",
   "metadata": {},
   "outputs": [],
   "source": [
    "from collections import deque"
   ]
  },
  {
   "cell_type": "code",
   "execution_count": 68,
   "id": "5e297f36-2b83-4d44-b449-c10036e461a5",
   "metadata": {},
   "outputs": [],
   "source": [
    "class MA:\n",
    "    def __init__(self, n):\n",
    "        self.n = n\n",
    "        self.data = deque()\n",
    "        self.s = 0\n",
    "        self.l = 0\n",
    "\n",
    "    def __call__(self, x):\n",
    "        self.data.append(x)\n",
    "        self.s += x\n",
    "        self.l += 1\n",
    "        if self.l > self.n:\n",
    "            self.s -= self.data.popleft()\n",
    "            self.l -= 1\n",
    "\n",
    "        return self.s / self.l\n",
    "            \n",
    "        "
   ]
  },
  {
   "cell_type": "code",
   "execution_count": 69,
   "id": "8e12aba3-bf61-4c8d-861a-db6ff980ff17",
   "metadata": {},
   "outputs": [],
   "source": [
    "ma = MA(10)"
   ]
  },
  {
   "cell_type": "code",
   "execution_count": 70,
   "id": "6d3d3b52-2f51-4ab2-a550-89fc6c34ef16",
   "metadata": {},
   "outputs": [
    {
     "data": {
      "text/plain": [
       "1.0"
      ]
     },
     "execution_count": 70,
     "metadata": {},
     "output_type": "execute_result"
    }
   ],
   "source": [
    "ma(1)"
   ]
  },
  {
   "cell_type": "code",
   "execution_count": 71,
   "id": "b087ff68-8d87-47bf-ba6d-e8448ed42335",
   "metadata": {},
   "outputs": [
    {
     "data": {
      "text/plain": [
       "{'n': 10, 'data': deque([1]), 's': 1, 'l': 1}"
      ]
     },
     "execution_count": 71,
     "metadata": {},
     "output_type": "execute_result"
    }
   ],
   "source": [
    "ma.__dict__"
   ]
  },
  {
   "cell_type": "code",
   "execution_count": 72,
   "id": "3778b125-6a40-483f-b1d7-aa379698463a",
   "metadata": {},
   "outputs": [],
   "source": [
    "from matplotlib.artist import Artist\n",
    "\n",
    "class CurveAnimation:\n",
    "    def __init__(self, window_size=500):\n",
    "        self.curve_x = []\n",
    "        self.curve_y = []\n",
    "        self.ma = MA(window_size)\n",
    "        self.curve_ma = []\n",
    "        self.window_size = window_size\n",
    "        self.fig, self.ax = plt.subplots()\n",
    "        self.line, = self.ax.plot([], [])\n",
    "        self.line_ma, = self.ax.plot([], [])\n",
    "        self.text = self.ax.text(0.85, 0.90, '', color=self.line.get_color(), transform=self.ax.transAxes)\n",
    "        self.text_ma = self.ax.text(0.85, 0.95, '', color=self.line_ma.get_color(), transform=self.ax.transAxes)\n",
    "        self.ty = 0.02\n",
    "        def new_text():\n",
    "            t = self.ax.text(0.02, self.ty, '', transform=self.ax.transAxes)\n",
    "            self.ty += 0.05\n",
    "            return t\n",
    "        self.texts = defaultdict(new_text)\n",
    "        display(self.fig)\n",
    "\n",
    "    def add_data(self, new_data, texts=None):\n",
    "        self.curve_y.append(new_data)\n",
    "        self.curve_x.append(len(self.curve_x))\n",
    "        self.curve_ma.append(self.ma(new_data))\n",
    "        self.plot(texts)\n",
    "\n",
    "    def plot(self, texts=None):\n",
    "        self.line.set_data(self.curve_x[-self.window_size:], self.curve_y[-self.window_size:])\n",
    "        self.line_ma.set_data(self.curve_x[-self.window_size:], self.curve_ma[-self.window_size:])\n",
    "        self.text.set_text(f'curr={self.curve_y[-1]:.3f}')\n",
    "        self.text_ma.set_text(f'ma={self.curve_ma[-1]:.3f}')\n",
    "\n",
    "        if texts:\n",
    "            for k, t in texts.items():\n",
    "                self.texts[k].set_text(f'{k}: {t}')\n",
    "        \n",
    "        self.ax.relim()\n",
    "        self.ax.autoscale_view(True,True,True)\n",
    "        clear_output(wait=True)\n",
    "        display(self.fig)\n",
    "\n",
    "\n",
    "\n"
   ]
  },
  {
   "cell_type": "markdown",
   "id": "7df2b413-a85b-4584-8088-28d7e3539049",
   "metadata": {},
   "source": [
    "## Train functions"
   ]
  },
  {
   "cell_type": "code",
   "execution_count": 73,
   "id": "42edf6ca-9598-43ad-b924-5a7400b433db",
   "metadata": {},
   "outputs": [],
   "source": [
    "BATCH_SIZE = 20"
   ]
  },
  {
   "cell_type": "code",
   "execution_count": 74,
   "id": "c862bf97-8f57-41bd-8fdd-b4292e13e73b",
   "metadata": {},
   "outputs": [
    {
     "data": {
      "text/plain": [
       "20"
      ]
     },
     "execution_count": 74,
     "metadata": {},
     "output_type": "execute_result"
    }
   ],
   "source": [
    "BATCH_SIZE"
   ]
  },
  {
   "cell_type": "code",
   "execution_count": null,
   "id": "355e1294-9acf-4ca8-b67a-ae4ad842d98f",
   "metadata": {},
   "outputs": [],
   "source": []
  },
  {
   "cell_type": "code",
   "execution_count": 75,
   "id": "a102c459-6b48-45f4-9eb9-ff020b69c2bd",
   "metadata": {
    "scrolled": true
   },
   "outputs": [
    {
     "data": {
      "image/png": "[encoded data removed]",
      "text/plain": [
       "<Figure size 640x480 with 1 Axes>"
      ]
     },
     "metadata": {},
     "output_type": "display_data"
    },
    {
     "data": {
      "image/png": "[encoded data removed]",
      "text/plain": [
       "<Figure size 640x480 with 1 Axes>"
      ]
     },
     "metadata": {},
     "output_type": "display_data"
    }
   ],
   "source": [
    "import traceback as tb\n",
    "\n",
    "anm = CurveAnimation()"
   ]
  },
  {
   "cell_type": "code",
   "execution_count": 76,
   "id": "7302a96f-2461-44ec-a132-9b2660cad089",
   "metadata": {},
   "outputs": [],
   "source": [
    "ITER_REPEATS = 100\n",
    "\n",
    "def train_epoch(model, optimizer):\n",
    "    model.train()\n",
    "    losses = 0\n",
    "    # train_iter = Multi30k(split='train', language_pair=(SRC_LANGUAGE, TGT_LANGUAGE))\n",
    "    train_iter = AnnData(split='train')\n",
    "    train_dataloader = DataLoader(train_iter, batch_size=BATCH_SIZE, collate_fn=collate_fn)\n",
    "\n",
    "    for src, tgt in train_dataloader:\n",
    "        src = src.T.to(DEVICE)\n",
    "        tgt = tgt.T.to(DEVICE)\n",
    "\n",
    "        # tgt_input = tgt[:, :-1]\n",
    "\n",
    "        # src_mask, tgt_mask, src_padding_mask, tgt_padding_mask = create_one_out_mask(src, tgt)\n",
    "\n",
    "        # logits = model(src, tgt_input, src_mask, tgt_mask,src_padding_mask, tgt_padding_mask, src_padding_mask)\n",
    "\n",
    "        def step(i):\n",
    "            nonlocal losses\n",
    "            try:\n",
    "                logits = model(src, tgt[:, :-1])\n",
    "            except Exception as e:\n",
    "                tb.print_exc()\n",
    "                print(src.shape, tgt.shape)\n",
    "                raise e\n",
    "            # print(logits[0, 4])\n",
    "            # logits = model(src, tgt[:, :])\n",
    "            tokens = generate_tokens(logits)\n",
    "    \n",
    "            optimizer.zero_grad()\n",
    "    \n",
    "            # tgt_out = tgt[:, 1:]\n",
    "            tgt_out = tgt[:, 1:]\n",
    "            # print(decode_tokens(tgt_out))\n",
    "            # print(decode_tokens(tokens))\n",
    "    \n",
    "            # print(tgt_out == PAD_IDX)\n",
    "    \n",
    "            hit_rate = ((tgt_out == tokens).sum() / count_words(tgt_out)).cpu().numpy()[()]\n",
    "            # print()\n",
    "            # sample_i = np.ra\n",
    "            \n",
    "            loss = loss_fn(logits.transpose(-1, -2), tgt_out)\n",
    "            # loss = loss_fn(logits.reshape(-1, logits.shape[-1]), tgt.reshape(-1))\n",
    "            loss.backward()\n",
    "    \n",
    "            optimizer.step()\n",
    "            losses += loss.item()\n",
    "            \n",
    "            # print('label', tgt_out)\n",
    "            # print('pred', tokens)\n",
    "            def tolist(x):\n",
    "                return x.detach().cpu().numpy().tolist()\n",
    "            def get_token_logits(logits, tokens):\n",
    "                r = []\n",
    "                for li, t in zip(logits, tokens):\n",
    "                    r.append(f'{li[t]:.2f}')\n",
    "                return r\n",
    "            i = 0\n",
    "            # anm.add_data(loss.item(), texts={\n",
    "            #     'label': f'{tolist(tgt_out[i])}',\n",
    "            #     'pred': f'{tolist(tokens[i])}',\n",
    "            #     'logits': f'{get_token_logits(logits[i], tokens[i])}',\n",
    "            # })\n",
    "            anm.add_data(hit_rate, texts={\n",
    "                'label': f'{tolist(tgt_out[i])}',\n",
    "                'pred': f'{tolist(tokens[i])}',\n",
    "                'logits': f'{get_token_logits(logits[i], tokens[i])}',\n",
    "            })\n",
    "            # anm.add_data(hit_rate, texts={'label': f'{tolist(tgt_out[i])}', 'pred': f'{tolist(tokens[i])}'})\n",
    "        \n",
    "        for i in range(ITER_REPEATS):\n",
    "            step(i)\n",
    "\n",
    "    # return losses / len(list(train_dataloader))\n",
    "    return anm.curve_ma[-1]"
   ]
  },
  {
   "cell_type": "code",
   "execution_count": 77,
   "id": "c6fe3c68-ddf1-4633-8321-501a3aec0abf",
   "metadata": {},
   "outputs": [],
   "source": [
    "os.environ['CUDA_LAUNCH_BLOCKING'] = '1'\n"
   ]
  },
  {
   "cell_type": "code",
   "execution_count": null,
   "id": "c00b9455-9327-48fb-901c-d68df0880ab2",
   "metadata": {},
   "outputs": [],
   "source": []
  },
  {
   "cell_type": "code",
   "execution_count": 78,
   "id": "3345d1c5-4ef3-421c-aaf7-ccf9ecf98ec3",
   "metadata": {},
   "outputs": [],
   "source": [
    "# model = Transformer(embed_dim=128, src_vocab_size=src_vocab_size,\n",
    "#                     target_vocab_size=target_vocab_size, seq_length=30,\n",
    "#                     num_layers=16, expansion_factor=4, n_heads=16,\n",
    "#                     target_mask_fn=target_one_out_mask)\n",
    "\n",
    "# transformer = model\n",
    "# for p in transformer.parameters():\n",
    "#     if p.dim() > 1:\n",
    "#         nn.init.xavier_uniform_(p)\n",
    "\n",
    "# transformer = transformer.to(DEVICE)\n"
   ]
  },
  {
   "cell_type": "markdown",
   "id": "776a303b-0894-4009-bf79-d69fd23c241f",
   "metadata": {},
   "source": [
    "## Model"
   ]
  },
  {
   "cell_type": "code",
   "execution_count": 79,
   "id": "64ec690e-b7b5-4b42-a9c3-066c4a2933c8",
   "metadata": {},
   "outputs": [],
   "source": [
    "MAX_LEN = 20"
   ]
  },
  {
   "cell_type": "code",
   "execution_count": 80,
   "id": "9e1665f9-01ba-48cb-a506-75794eaaba3f",
   "metadata": {},
   "outputs": [
    {
     "data": {
      "text/plain": [
       "'states/seq_ann_depth3_protbert_llm2vec/'"
      ]
     },
     "execution_count": 80,
     "metadata": {},
     "output_type": "execute_result"
    }
   ],
   "source": [
    "states_dir"
   ]
  },
  {
   "cell_type": "code",
   "execution_count": 81,
   "id": "e213d730-1d8e-4fc7-8f75-fea04ac6e5cd",
   "metadata": {},
   "outputs": [],
   "source": [
    "continue_previous = True\n",
    "pickle_file = f'{states_dir}/seq_ann_transformer_llm2vec_embedding.pickle'\n",
    "# continue_previous = False"
   ]
  },
  {
   "cell_type": "code",
   "execution_count": 82,
   "id": "c98dede0-4035-4831-91e2-a4d98afb0aa1",
   "metadata": {
    "scrolled": true
   },
   "outputs": [],
   "source": [
    "#!pip install -U nn_pruning"
   ]
  },
  {
   "cell_type": "code",
   "execution_count": 83,
   "id": "57b47743-2ddc-4270-bcde-29c1f684af2e",
   "metadata": {},
   "outputs": [],
   "source": [
    "class ProtBERT_Adapter(nn.Module):\n",
    "    def __init__(self, config, embed_dim=1024):\n",
    "        super(ProtBERT_Adapter, self).__init__()\n",
    "        self.protbert_model = BertModel(config)\n",
    "        assert(embed_dim <= 1024)\n",
    "        self.embed_dim = embed_dim\n",
    "        self.embed_idx = np.sort(np.random.choice(np.arange(1024), embed_dim, replace=False))\n",
    "        print(self.embed_idx)\n",
    "\n",
    "    def prune(self, p=0.25):\n",
    "        print(\"Before pruning:\")\n",
    "        print(summary(self.protbert_model))\n",
    "        \n",
    "        pruner = TransformerPruner(self.protbert_model)\n",
    "        \n",
    "        ffn_mask = textpruner.pruners.utils.random_mask_tensor((16,4096), p=p)\n",
    "        head_mask = textpruner.pruners.utils.random_mask_tensor((30,16), p=p, even_masks=False)\n",
    "        \n",
    "        print(ffn_mask, head_mask)\n",
    "        \n",
    "        pruner.prune(head_mask=head_mask, ffn_mask=ffn_mask,save_model=True)\n",
    "        \n",
    "        print(\"After pruning:\")\n",
    "        print(summary(self.protbert_model))\n",
    "\n",
    "    def forward(self, input_ids, attention_mask=None):\n",
    "        outputs = self.protbert_model(input_ids=input_ids, attention_mask=attention_mask)\n",
    "        embedding = outputs.last_hidden_state\n",
    "        \n",
    "        return embedding[:, :, self.embed_idx]\n",
    "\n",
    "    def hidden_states(self, input_ids, attention_mask=None):\n",
    "        outputs = self.protbert_model(input_ids=input_ids, attention_mask=attention_mask, output_hidden_states=True)\n",
    "        return {'': outputs.last_hidden_state[:, self.embed_idx]}\n"
   ]
  },
  {
   "cell_type": "code",
   "execution_count": 84,
   "id": "29f3b370-4f58-40a5-8b7d-4de98734bd95",
   "metadata": {},
   "outputs": [],
   "source": [
    "class StaticEncoder(nn.Module):\n",
    "    pass"
   ]
  },
  {
   "cell_type": "code",
   "execution_count": 85,
   "id": "80bd8195-29bc-46e1-bf3c-6a69ca4733d0",
   "metadata": {},
   "outputs": [],
   "source": [
    "\n",
    "EMBED_DIM = 128"
   ]
  },
  {
   "cell_type": "code",
   "execution_count": 86,
   "id": "0bf749f4-abc1-4b2e-a9c5-423b5ca567d9",
   "metadata": {},
   "outputs": [],
   "source": [
    "def sample_embed(embedding):\n",
    "    sigma = embedding.std(0)\n",
    "    rand_idx = np.random.choice(np.arange(embedding.shape[1]), EMBED_DIM, replace=False, p=sigma/sigma.sum())\n",
    "    # print(sigma[rand_idx].shape)\n",
    "    return embedding[:, rand_idx]\n",
    "    \n",
    "sampled_embedding = sample_embed(aligned_embedding)"
   ]
  },
  {
   "cell_type": "code",
   "execution_count": 87,
   "id": "564ee9cd-ac9f-4882-ad6b-8385334c049c",
   "metadata": {},
   "outputs": [
    {
     "name": "stdout",
     "output_type": "stream",
     "text": [
      "Creating new model\n"
     ]
    }
   ],
   "source": [
    "from toy_transformer import Transformer\n",
    "\n",
    "loss_fn = torch.nn.CrossEntropyLoss(ignore_index=PAD_IDX)\n",
    "\n",
    "\n",
    "loaded_from_pickle = False\n",
    "if continue_previous and os.path.exists(pickle_file):\n",
    "    print('Loading model')\n",
    "    transformer = pickle.load(open(pickle_file, 'rb'))\n",
    "    loaded_from_pickle = True\n",
    "else:\n",
    "    print('Creating new model')\n",
    "    model = Transformer(embed_dim=EMBED_DIM, src_vocab_size=src_vocab_size,\n",
    "                        target_vocab_size=target_vocab_size, source_seq_length=510+2, target_seq_length=MAX_LEN+2,\n",
    "                        num_layers=5, expansion_factor=1, n_heads=32,\n",
    "                        target_mask_fn=target_mask_fn,\n",
    "                        target_embedding=torch.tensor(sampled_embedding, dtype=torch.float),\n",
    "                        decoder_residue_links=True\n",
    "                       )\n",
    "\n",
    "\n",
    "    transformer = model\n",
    "    \n",
    "    for p in transformer.parameters():\n",
    "        if p.dim() > 1:\n",
    "            nn.init.xavier_uniform_(p)\n",
    "    \n",
    "    \n",
    "    transformer = transformer.to(DEVICE)"
   ]
  },
  {
   "cell_type": "code",
   "execution_count": null,
   "id": "ffc953b7-6360-4f57-8103-246d8f680766",
   "metadata": {},
   "outputs": [],
   "source": []
  },
  {
   "cell_type": "markdown",
   "id": "7d1b1a64-4990-44f1-8c07-acb161b4b71d",
   "metadata": {},
   "source": [
    "## Substitue the encoder and tokenizer with ProtBERT"
   ]
  },
  {
   "cell_type": "code",
   "execution_count": 88,
   "id": "2f874c87-ea62-41ba-9bb9-28162938f037",
   "metadata": {},
   "outputs": [],
   "source": [
    "# USE_ProtBERT = False\n",
    "USE_ProtBERT = True"
   ]
  },
  {
   "cell_type": "code",
   "execution_count": 89,
   "id": "484c9ed2-cd90-4dcd-9c1b-b02e487bb131",
   "metadata": {},
   "outputs": [],
   "source": [
    "from torch import nn"
   ]
  },
  {
   "cell_type": "code",
   "execution_count": 90,
   "id": "f35ae3f0-30c2-4ab3-93a7-f41b3c49cabb",
   "metadata": {
    "scrolled": true
   },
   "outputs": [
    {
     "data": {
      "text/plain": [
       "BertConfig {\n",
       "  \"architectures\": [\n",
       "    \"BertForMaskedLM\"\n",
       "  ],\n",
       "  \"attention_probs_dropout_prob\": 0.0,\n",
       "  \"classifier_dropout\": null,\n",
       "  \"hidden_act\": \"gelu\",\n",
       "  \"hidden_dropout_prob\": 0.0,\n",
       "  \"hidden_size\": 1024,\n",
       "  \"initializer_range\": 0.02,\n",
       "  \"intermediate_size\": 4096,\n",
       "  \"layer_norm_eps\": 1e-12,\n",
       "  \"max_position_embeddings\": 40000,\n",
       "  \"model_type\": \"bert\",\n",
       "  \"num_attention_heads\": 16,\n",
       "  \"num_hidden_layers\": 30,\n",
       "  \"pad_token_id\": 0,\n",
       "  \"position_embedding_type\": \"absolute\",\n",
       "  \"transformers_version\": \"4.40.2\",\n",
       "  \"type_vocab_size\": 2,\n",
       "  \"use_cache\": true,\n",
       "  \"vocab_size\": 30\n",
       "}"
      ]
     },
     "execution_count": 90,
     "metadata": {},
     "output_type": "execute_result"
    }
   ],
   "source": [
    "from transformers import BertConfig, BertModel, BertTokenizer\n",
    "protbert_tokenizer = BertTokenizer.from_pretrained('Rostlab/prot_bert')\n",
    "protbert_config = BertConfig.from_pretrained('Rostlab/prot_bert')\n",
    "# protbert_config = BertConfig.from_pretrained('states/protbert_pruned/')\n",
    "protbert_config"
   ]
  },
  {
   "cell_type": "code",
   "execution_count": 91,
   "id": "612c8360-57fb-43dd-b147-8c9c10ab7a8d",
   "metadata": {},
   "outputs": [],
   "source": [
    "tokenizers[SRC_LANGUAGE] = protbert_tokenizer"
   ]
  },
  {
   "cell_type": "code",
   "execution_count": 92,
   "id": "b087c8ea-4bb8-41f3-bc79-8c2f330b4590",
   "metadata": {},
   "outputs": [],
   "source": [
    "def collate_fn(batch):\n",
    "    src_batch, tgt_batch = [], []\n",
    "    for src_sample, tgt_sample in batch:\n",
    "        src_batch.append(tokenizers[SRC_LANGUAGE](src_sample, return_tensors='pt')['input_ids'][0])\n",
    "        tgt_batch.append(torch.tensor(tokenizers[TGT_LANGUAGE].encode(tgt_sample).ids))\n",
    "\n",
    "    # pad_first_to_len(src_batch, seq_length)\n",
    "    # pad_first_to_len(tgt_batch, seq_length)\n",
    "    \n",
    "    src_batch = pad_sequence(src_batch, padding_value=PAD_IDX)\n",
    "    tgt_batch = pad_sequence(tgt_batch, padding_value=PAD_IDX)\n",
    "    return src_batch, tgt_batch"
   ]
  },
  {
   "cell_type": "code",
   "execution_count": 93,
   "id": "77fb9580-ee64-4d5a-914a-c8942a384a26",
   "metadata": {
    "scrolled": true
   },
   "outputs": [
    {
     "name": "stdout",
     "output_type": "stream",
     "text": [
      "[  0   2  10  11  15  24  32  40  41  50  57  74  82  85  86  88  97 119\n",
      " 135 138 141 151 171 179 183 188 191 192 203 214 224 226 233 237 241 251\n",
      " 260 267 273 276 281 286 322 333 354 357 359 364 372 383 390 392 393 394\n",
      " 408 411 419 424 428 429 441 457 463 470 477 480 484 499 503 508 528 539\n",
      " 540 542 548 555 568 579 588 591 604 608 622 626 627 641 643 645 647 653\n",
      " 656 657 680 685 693 705 716 730 740 750 754 757 760 761 772 773 774 775\n",
      " 803 808 818 820 833 851 856 858 860 865 867 871 899 921 935 948 950 954\n",
      " 956 963]\n",
      "Before pruning:\n",
      "\n",
      "LAYER NAME                  \t        #PARAMS\t     RATIO\t MEM(MB)\n",
      "--model:                    \t    419,931,136\t   100.00%\t 1601.91\n",
      "  --embeddings:             \t     40,994,816\t     9.76%\t  156.38\n",
      "    --word_embeddings:      \t         30,720\t     0.01%\t    0.12\n",
      "    --position_embeddings:  \t     40,960,000\t     9.75%\t  156.25\n",
      "    --token_type_embeddings:\t          2,048\t     0.00%\t    0.01\n",
      "    --LayerNorm:            \t          2,048\t     0.00%\t    0.01\n",
      "  --encoder                 \n",
      "    --layer:                \t    377,886,720\t    89.99%\t 1441.52\n",
      "  --pooler                  \n",
      "    --dense:                \t      1,049,600\t     0.25%\t    4.00\n",
      "\n",
      "tensor([[0., 0., 0.,  ..., 0., 0., 0.],\n",
      "        [0., 0., 0.,  ..., 0., 0., 1.],\n",
      "        [0., 0., 0.,  ..., 0., 0., 0.],\n",
      "        ...,\n",
      "        [0., 0., 0.,  ..., 0., 0., 0.],\n",
      "        [0., 0., 0.,  ..., 1., 1., 0.],\n",
      "        [0., 0., 0.,  ..., 0., 0., 0.]]) tensor([[0., 0., 1., 1., 1., 0., 1., 1., 0., 1., 1., 1., 0., 1., 0., 0.],\n",
      "        [1., 0., 1., 0., 0., 1., 0., 1., 1., 1., 1., 0., 1., 1., 0., 0.],\n",
      "        [0., 1., 0., 0., 1., 1., 0., 0., 1., 1., 0., 0., 0., 0., 0., 1.],\n",
      "        [0., 1., 1., 1., 0., 0., 1., 0., 0., 0., 1., 0., 1., 1., 1., 0.],\n",
      "        [0., 1., 1., 0., 1., 0., 1., 0., 0., 1., 1., 0., 1., 1., 1., 1.],\n",
      "        [0., 1., 1., 1., 0., 1., 0., 0., 0., 0., 1., 0., 1., 0., 0., 0.],\n",
      "        [0., 1., 0., 1., 0., 0., 1., 0., 1., 0., 0., 0., 0., 0., 0., 1.],\n",
      "        [0., 0., 0., 0., 1., 0., 1., 0., 0., 1., 1., 0., 0., 0., 1., 1.],\n",
      "        [0., 1., 0., 0., 1., 0., 0., 0., 1., 0., 1., 1., 1., 0., 0., 1.],\n",
      "        [1., 1., 1., 0., 0., 1., 0., 0., 1., 1., 0., 0., 1., 1., 1., 1.],\n",
      "        [0., 0., 0., 1., 0., 1., 1., 0., 0., 0., 0., 1., 1., 0., 1., 0.],\n",
      "        [1., 1., 0., 0., 0., 0., 1., 1., 0., 1., 1., 1., 1., 0., 1., 1.],\n",
      "        [1., 1., 0., 0., 0., 1., 0., 0., 0., 1., 0., 0., 1., 1., 1., 1.],\n",
      "        [1., 1., 0., 1., 0., 1., 1., 0., 1., 1., 1., 1., 1., 1., 1., 0.],\n",
      "        [0., 1., 1., 0., 0., 1., 1., 0., 0., 1., 1., 0., 1., 0., 0., 1.],\n",
      "        [0., 0., 1., 0., 1., 1., 0., 0., 0., 0., 0., 1., 0., 1., 0., 1.],\n",
      "        [0., 0., 0., 0., 0., 1., 1., 1., 0., 0., 1., 0., 0., 0., 0., 0.],\n",
      "        [0., 1., 1., 1., 1., 0., 1., 0., 1., 0., 1., 1., 0., 1., 1., 0.],\n",
      "        [1., 0., 1., 0., 1., 0., 0., 1., 1., 1., 0., 1., 1., 1., 0., 1.],\n",
      "        [0., 1., 1., 0., 0., 1., 0., 1., 0., 1., 0., 1., 0., 0., 0., 0.],\n",
      "        [1., 1., 1., 0., 1., 0., 0., 1., 1., 0., 1., 0., 0., 1., 1., 0.],\n",
      "        [1., 0., 1., 1., 1., 0., 0., 0., 1., 1., 0., 1., 0., 1., 0., 0.],\n",
      "        [1., 1., 1., 0., 0., 1., 1., 1., 1., 0., 0., 0., 1., 0., 0., 1.],\n",
      "        [1., 1., 0., 0., 1., 0., 0., 0., 0., 1., 1., 1., 0., 0., 0., 1.],\n",
      "        [0., 1., 1., 1., 1., 1., 0., 0., 1., 0., 0., 1., 1., 1., 1., 0.],\n",
      "        [0., 0., 1., 1., 1., 1., 0., 0., 0., 0., 0., 1., 0., 0., 1., 1.],\n",
      "        [1., 0., 1., 0., 1., 1., 0., 0., 0., 0., 1., 0., 1., 0., 1., 0.],\n",
      "        [0., 0., 1., 1., 1., 0., 1., 1., 0., 1., 1., 1., 1., 0., 0., 1.],\n",
      "        [1., 0., 1., 0., 1., 0., 1., 0., 1., 1., 0., 0., 0., 0., 0., 0.],\n",
      "        [0., 1., 1., 0., 0., 0., 1., 1., 1., 1., 0., 0., 0., 1., 1., 1.]])\n",
      "After pruning:\n",
      "\n",
      "LAYER NAME                  \t        #PARAMS\t     RATIO\t MEM(MB)\n",
      "--model:                    \t    255,733,376\t   100.00%\t  975.55\n",
      "  --embeddings:             \t     40,994,816\t    16.03%\t  156.38\n",
      "    --word_embeddings:      \t         30,720\t     0.01%\t    0.12\n",
      "    --position_embeddings:  \t     40,960,000\t    16.02%\t  156.25\n",
      "    --token_type_embeddings:\t          2,048\t     0.00%\t    0.01\n",
      "    --LayerNorm:            \t          2,048\t     0.00%\t    0.01\n",
      "  --encoder                 \n",
      "    --layer:                \t    213,688,960\t    83.56%\t  815.16\n",
      "  --pooler                  \n",
      "    --dense:                \t      1,049,600\t     0.41%\t    4.00\n",
      "\n"
     ]
    }
   ],
   "source": [
    "import textpruner\n",
    "from transformers import XLMRobertaForSequenceClassification,XLMRobertaTokenizer\n",
    "\n",
    "from textpruner import summary, TransformerPruner\n",
    "import sys\n",
    "\n",
    "\n",
    "if not loaded_from_pickle and USE_ProtBERT:\n",
    "    protbert_model = ProtBERT_Adapter(protbert_config, EMBED_DIM)\n",
    "    protbert_model.protbert_model.load_state_dict(torch.load(\"states/prot_bert_weights.pth\"))\n",
    "    # protbert_model.protbert_model = pickle.load(open('states/prot_bert_pruned_25.pickle', 'rb'))\n",
    "    # protbert_model.protbert_model.load_state_dict(torch.load(\"states/prot_bert_weights_pruned_25.pth\"))\n",
    "    protbert_model.prune()\n",
    "    transformer.encoder = protbert_model\n"
   ]
  },
  {
   "cell_type": "markdown",
   "id": "f9e798c3-75fa-4cd1-a891-1bc2efa2e858",
   "metadata": {},
   "source": [
    "param_name = \"protbert_model.encoder.layer.0.attention.self.query.weight\"\n",
    "initial_param = transformer.encoder.state_dict()[param_name].clone()\n",
    "\n",
    "# Print initial parameter values\n",
    "print(f\"Initial parameter values for {param_name}:\\n\", initial_param)\n"
   ]
  },
  {
   "cell_type": "markdown",
   "id": "868ffcd1-5c1c-4168-8bf1-dda640ba9041",
   "metadata": {},
   "source": [
    "updated_param = transformer.encoder.state_dict()[param_name]\n",
    "print(f\"Updated parameter values for {param_name}:\\n\", updated_param)\n"
   ]
  },
  {
   "cell_type": "code",
   "execution_count": 94,
   "id": "3a29a38e-5b09-4c75-a375-e6a7e635579a",
   "metadata": {},
   "outputs": [],
   "source": [
    "\n",
    "transformer = transformer.to(DEVICE)"
   ]
  },
  {
   "cell_type": "code",
   "execution_count": null,
   "id": "4464be11-f824-490f-aef1-f0f85b9bdaef",
   "metadata": {},
   "outputs": [],
   "source": []
  },
  {
   "cell_type": "code",
   "execution_count": 95,
   "id": "45a0984f-0fe9-4bb4-b8a7-914122b1391d",
   "metadata": {},
   "outputs": [
    {
     "data": {
      "text/html": [
       "<div>\n",
       "<style scoped>\n",
       "    .dataframe tbody tr th:only-of-type {\n",
       "        vertical-align: middle;\n",
       "    }\n",
       "\n",
       "    .dataframe tbody tr th {\n",
       "        vertical-align: top;\n",
       "    }\n",
       "\n",
       "    .dataframe thead th {\n",
       "        text-align: right;\n",
       "    }\n",
       "</style>\n",
       "<table border=\"1\" class=\"dataframe\">\n",
       "  <thead>\n",
       "    <tr style=\"text-align: right;\">\n",
       "      <th></th>\n",
       "      <th>seq</th>\n",
       "      <th>ann</th>\n",
       "    </tr>\n",
       "  </thead>\n",
       "  <tbody>\n",
       "    <tr>\n",
       "      <th>383</th>\n",
       "      <td>M E T Y A V F G N P I A H S K S P F I H Q Q F ...</td>\n",
       "      <td>GO:0008150 GO:0009987 GO:0008152 GO:0044238 GO...</td>\n",
       "    </tr>\n",
       "  </tbody>\n",
       "</table>\n",
       "</div>"
      ],
      "text/plain": [
       "                                                   seq  \\\n",
       "383  M E T Y A V F G N P I A H S K S P F I H Q Q F ...   \n",
       "\n",
       "                                                   ann  \n",
       "383  GO:0008150 GO:0009987 GO:0008152 GO:0044238 GO...  "
      ]
     },
     "execution_count": 95,
     "metadata": {},
     "output_type": "execute_result"
    }
   ],
   "source": [
    "sample_data = ann_dataset.sample(1)\n",
    "sample_data"
   ]
  },
  {
   "cell_type": "code",
   "execution_count": 96,
   "id": "6d456d20-cab6-4178-a3d0-b5dac54fc25b",
   "metadata": {
    "scrolled": true
   },
   "outputs": [
    {
     "data": {
      "text/plain": [
       "tensor([[ 2, 21,  9, 15, 20,  6,  8, 19,  7, 17, 16, 11,  6, 22, 10, 12, 10, 16,\n",
       "         19, 11, 22, 18, 18, 19,  6, 18, 18,  5, 17, 11,  9, 22, 16, 20,  7, 13,\n",
       "          8,  5,  6, 16, 11, 17, 14, 19, 11, 17, 15,  5, 17,  6, 19, 19, 10,  6,\n",
       "          7,  7, 12,  7,  6, 17,  8, 15,  8, 16, 19, 12,  9,  9,  6, 19,  6, 13,\n",
       "          6, 14,  9,  5, 15,  9, 13,  6,  6,  5,  6,  7,  6,  8, 17, 15,  5, 21,\n",
       "         13,  5,  9, 14,  7, 13,  5,  5,  7, 14, 17, 15, 14,  7,  8,  7,  5,  5,\n",
       "         10, 14,  5,  9, 13,  5, 10, 19, 11, 13, 16,  7,  5, 13, 11,  5,  5, 11,\n",
       "          7,  6,  7,  7,  6, 10, 13,  7,  8,  5,  5, 16,  5,  5, 10,  5, 14, 23,\n",
       "          6,  8, 15, 11, 15, 17, 13, 15,  8, 10, 13,  6,  9,  9,  5,  6, 12,  5,\n",
       "         19,  6, 22, 15,  7, 10, 11, 18,  6,  5, 10, 21, 14,  9,  5,  9,  7, 22,\n",
       "          9, 19, 14,  5, 11, 11, 17,  6, 15, 10, 10,  7, 11, 10,  7, 14, 11, 16,\n",
       "          6, 11, 16, 10, 10,  5, 11, 22, 16,  7, 11, 20, 23, 20, 14, 21, 19, 20,\n",
       "         18, 12,  7, 12, 15, 16, 19,  5,  6, 24, 23,  9, 18, 13,  7, 10, 12, 13,\n",
       "         17,  6, 14,  7,  5,  7, 21,  5,  8,  6, 18,  6,  6, 22,  6, 19,  5,  5,\n",
       "         24, 22,  7,  8,  5, 16, 14,  8,  9, 16,  8, 11, 12, 18,  5, 18,  9,  9,\n",
       "          5, 10,  6,  3]], device='cuda:0')"
      ]
     },
     "execution_count": 96,
     "metadata": {},
     "output_type": "execute_result"
    }
   ],
   "source": [
    "sample_inputs = tokenizers[SRC_LANGUAGE](sample_data.iloc[0][SRC_LANGUAGE], return_tensors='pt')['input_ids'].to(DEVICE)\n",
    "sample_inputs"
   ]
  },
  {
   "cell_type": "code",
   "execution_count": 97,
   "id": "070ee4c2-b333-4b24-a747-a212ab11262b",
   "metadata": {},
   "outputs": [
    {
     "data": {
      "text/plain": [
       "tensor([[ 2,  5,  6,  8, 12, 14,  7, 11,  3]], device='cuda:0')"
      ]
     },
     "execution_count": 97,
     "metadata": {},
     "output_type": "execute_result"
    }
   ],
   "source": [
    "sample_target = torch.tensor([tokenizers[TGT_LANGUAGE].encode(sample_data.iloc[0][TGT_LANGUAGE]).ids]).to(DEVICE)\n",
    "sample_target"
   ]
  },
  {
   "cell_type": "code",
   "execution_count": 98,
   "id": "d7b52546-ccf7-45cf-907e-8b1a0269e5e4",
   "metadata": {
    "scrolled": true
   },
   "outputs": [],
   "source": [
    "# outputs = transformer.hidden_states(sample_inputs, sample_target)\n",
    "# outputs.keys()"
   ]
  },
  {
   "cell_type": "code",
   "execution_count": 99,
   "id": "24f09bd6-836f-47c4-837d-65cc169e196f",
   "metadata": {
    "scrolled": true
   },
   "outputs": [
    {
     "name": "stdout",
     "output_type": "stream",
     "text": [
      "Transformer(\n",
      "|   (encoder): ProtBERT_Adapter(\n",
      "|   |   (protbert_model): BertModel(\n",
      "|   |   |   (embeddings): BertEmbeddings(\n",
      "|   |   |   |   (word_embeddings): Embedding(30, 1024, padding_idx=0)\n",
      "|   |   |   |   (position_embeddings): Embedding(40000, 1024)\n",
      "|   |   |   |   (token_type_embeddings): Embedding(2, 1024)\n",
      "|   |   |   |   (LayerNorm): LayerNorm((1024,), eps=1e-12, elementwise_affine=True)\n",
      "|   |   |   |   (dropout): Dropout(p=0.0, inplace=False)\n",
      "|   |   |   )\n",
      "|   |   |   (encoder): BertEncoder(\n",
      "|   |   |   |   (layer): ModuleList(\n",
      "|   |   |   |   |   (0-1): 2 x BertLayer(\n",
      "|   |   |   |   |   |   (attention): BertAttention(\n",
      "|   |   |   |   |   |   |   (self): BertSelfAttention(\n",
      "|   |   |   |   |   |   |   |   (query): Linear(in_features=1024, out_features=576, bias=True)\n",
      "|   |   |   |   |   |   |   |   (key): Linear(in_features=1024, out_features=576, bias=True)\n",
      "|   |   |   |   |   |   |   |   (value): Linear(in_features=1024, out_features=576, bias=True)\n",
      "|   |   |   |   |   |   |   |   (dropout): Dropout(p=0.0, inplace=False)\n",
      "|   |   |   |   |   |   |   )\n",
      "|   |   |   |   |   |   |   (output): BertSelfOutput(\n",
      "|   |   |   |   |   |   |   |   (dense): Linear(in_features=576, out_features=1024, bias=True)\n",
      "|   |   |   |   |   |   |   |   (LayerNorm): LayerNorm((1024,), eps=1e-12, elementwise_affine=True)\n",
      "|   |   |   |   |   |   |   |   (dropout): Dropout(p=0.0, inplace=False)\n",
      "|   |   |   |   |   |   |   )\n",
      "|   |   |   |   |   |   )\n",
      "|   |   |   |   |   |   (intermediate): BertIntermediate(\n",
      "|   |   |   |   |   |   |   (dense): Linear(in_features=1024, out_features=4096, bias=True)\n",
      "|   |   |   |   |   |   |   (intermediate_act_fn): GELUActivation()\n",
      "|   |   |   |   |   |   )\n",
      "|   |   |   |   |   |   (output): BertOutput(\n",
      "|   |   |   |   |   |   |   (dense): Linear(in_features=4096, out_features=1024, bias=True)\n",
      "|   |   |   |   |   |   |   (LayerNorm): LayerNorm((1024,), eps=1e-12, elementwise_affine=True)\n",
      "|   |   |   |   |   |   |   (dropout): Dropout(p=0.0, inplace=False)\n",
      "|   |   |   |   |   |   )\n",
      "|   |   |   |   |   )\n",
      "|   |   |   |   |   (2): BertLayer(\n",
      "|   |   |   |   |   |   (attention): BertAttention(\n",
      "|   |   |   |   |   |   |   (self): BertSelfAttention(\n",
      "|   |   |   |   |   |   |   |   (query): Linear(in_features=1024, out_features=384, bias=True)\n",
      "|   |   |   |   |   |   |   |   (key): Linear(in_features=1024, out_features=384, bias=True)\n",
      "|   |   |   |   |   |   |   |   (value): Linear(in_features=1024, out_features=384, bias=True)\n",
      "|   |   |   |   |   |   |   |   (dropout): Dropout(p=0.0, inplace=False)\n",
      "|   |   |   |   |   |   |   )\n",
      "|   |   |   |   |   |   |   (output): BertSelfOutput(\n",
      "|   |   |   |   |   |   |   |   (dense): Linear(in_features=384, out_features=1024, bias=True)\n",
      "|   |   |   |   |   |   |   |   (LayerNorm): LayerNorm((1024,), eps=1e-12, elementwise_affine=True)\n",
      "|   |   |   |   |   |   |   |   (dropout): Dropout(p=0.0, inplace=False)\n",
      "|   |   |   |   |   |   |   )\n",
      "|   |   |   |   |   |   )\n",
      "|   |   |   |   |   |   (intermediate): BertIntermediate(\n",
      "|   |   |   |   |   |   |   (dense): Linear(in_features=1024, out_features=4096, bias=True)\n",
      "|   |   |   |   |   |   |   (intermediate_act_fn): GELUActivation()\n",
      "|   |   |   |   |   |   )\n",
      "|   |   |   |   |   |   (output): BertOutput(\n",
      "|   |   |   |   |   |   |   (dense): Linear(in_features=4096, out_features=1024, bias=True)\n",
      "|   |   |   |   |   |   |   (LayerNorm): LayerNorm((1024,), eps=1e-12, elementwise_affine=True)\n",
      "|   |   |   |   |   |   |   (dropout): Dropout(p=0.0, inplace=False)\n",
      "|   |   |   |   |   |   )\n",
      "|   |   |   |   |   )\n",
      "|   |   |   |   |   (3): BertLayer(\n",
      "|   |   |   |   |   |   (attention): BertAttention(\n",
      "|   |   |   |   |   |   |   (self): BertSelfAttention(\n",
      "|   |   |   |   |   |   |   |   (query): Linear(in_features=1024, out_features=512, bias=True)\n",
      "|   |   |   |   |   |   |   |   (key): Linear(in_features=1024, out_features=512, bias=True)\n",
      "|   |   |   |   |   |   |   |   (value): Linear(in_features=1024, out_features=512, bias=True)\n",
      "|   |   |   |   |   |   |   |   (dropout): Dropout(p=0.0, inplace=False)\n",
      "|   |   |   |   |   |   |   )\n",
      "|   |   |   |   |   |   |   (output): BertSelfOutput(\n",
      "|   |   |   |   |   |   |   |   (dense): Linear(in_features=512, out_features=1024, bias=True)\n",
      "|   |   |   |   |   |   |   |   (LayerNorm): LayerNorm((1024,), eps=1e-12, elementwise_affine=True)\n",
      "|   |   |   |   |   |   |   |   (dropout): Dropout(p=0.0, inplace=False)\n",
      "|   |   |   |   |   |   |   )\n",
      "|   |   |   |   |   |   )\n",
      "|   |   |   |   |   |   (intermediate): BertIntermediate(\n",
      "|   |   |   |   |   |   |   (dense): Linear(in_features=1024, out_features=4096, bias=True)\n",
      "|   |   |   |   |   |   |   (intermediate_act_fn): GELUActivation()\n",
      "|   |   |   |   |   |   )\n",
      "|   |   |   |   |   |   (output): BertOutput(\n",
      "|   |   |   |   |   |   |   (dense): Linear(in_features=4096, out_features=1024, bias=True)\n",
      "|   |   |   |   |   |   |   (LayerNorm): LayerNorm((1024,), eps=1e-12, elementwise_affine=True)\n",
      "|   |   |   |   |   |   |   (dropout): Dropout(p=0.0, inplace=False)\n",
      "|   |   |   |   |   |   )\n",
      "|   |   |   |   |   )\n",
      "|   |   |   |   |   (4): BertLayer(\n",
      "|   |   |   |   |   |   (attention): BertAttention(\n",
      "|   |   |   |   |   |   |   (self): BertSelfAttention(\n",
      "|   |   |   |   |   |   |   |   (query): Linear(in_features=1024, out_features=640, bias=True)\n",
      "|   |   |   |   |   |   |   |   (key): Linear(in_features=1024, out_features=640, bias=True)\n",
      "|   |   |   |   |   |   |   |   (value): Linear(in_features=1024, out_features=640, bias=True)\n",
      "|   |   |   |   |   |   |   |   (dropout): Dropout(p=0.0, inplace=False)\n",
      "|   |   |   |   |   |   |   )\n",
      "|   |   |   |   |   |   |   (output): BertSelfOutput(\n",
      "|   |   |   |   |   |   |   |   (dense): Linear(in_features=640, out_features=1024, bias=True)\n",
      "|   |   |   |   |   |   |   |   (LayerNorm): LayerNorm((1024,), eps=1e-12, elementwise_affine=True)\n",
      "|   |   |   |   |   |   |   |   (dropout): Dropout(p=0.0, inplace=False)\n",
      "|   |   |   |   |   |   |   )\n",
      "|   |   |   |   |   |   )\n",
      "|   |   |   |   |   |   (intermediate): BertIntermediate(\n",
      "|   |   |   |   |   |   |   (dense): Linear(in_features=1024, out_features=4096, bias=True)\n",
      "|   |   |   |   |   |   |   (intermediate_act_fn): GELUActivation()\n",
      "|   |   |   |   |   |   )\n",
      "|   |   |   |   |   |   (output): BertOutput(\n",
      "|   |   |   |   |   |   |   (dense): Linear(in_features=4096, out_features=1024, bias=True)\n",
      "|   |   |   |   |   |   |   (LayerNorm): LayerNorm((1024,), eps=1e-12, elementwise_affine=True)\n",
      "|   |   |   |   |   |   |   (dropout): Dropout(p=0.0, inplace=False)\n",
      "|   |   |   |   |   |   )\n",
      "|   |   |   |   |   )\n",
      "|   |   |   |   |   (5): BertLayer(\n",
      "|   |   |   |   |   |   (attention): BertAttention(\n",
      "|   |   |   |   |   |   |   (self): BertSelfAttention(\n",
      "|   |   |   |   |   |   |   |   (query): Linear(in_features=1024, out_features=384, bias=True)\n",
      "|   |   |   |   |   |   |   |   (key): Linear(in_features=1024, out_features=384, bias=True)\n",
      "|   |   |   |   |   |   |   |   (value): Linear(in_features=1024, out_features=384, bias=True)\n",
      "|   |   |   |   |   |   |   |   (dropout): Dropout(p=0.0, inplace=False)\n",
      "|   |   |   |   |   |   |   )\n",
      "|   |   |   |   |   |   |   (output): BertSelfOutput(\n",
      "|   |   |   |   |   |   |   |   (dense): Linear(in_features=384, out_features=1024, bias=True)\n",
      "|   |   |   |   |   |   |   |   (LayerNorm): LayerNorm((1024,), eps=1e-12, elementwise_affine=True)\n",
      "|   |   |   |   |   |   |   |   (dropout): Dropout(p=0.0, inplace=False)\n",
      "|   |   |   |   |   |   |   )\n",
      "|   |   |   |   |   |   )\n",
      "|   |   |   |   |   |   (intermediate): BertIntermediate(\n",
      "|   |   |   |   |   |   |   (dense): Linear(in_features=1024, out_features=4096, bias=True)\n",
      "|   |   |   |   |   |   |   (intermediate_act_fn): GELUActivation()\n",
      "|   |   |   |   |   |   )\n",
      "|   |   |   |   |   |   (output): BertOutput(\n",
      "|   |   |   |   |   |   |   (dense): Linear(in_features=4096, out_features=1024, bias=True)\n",
      "|   |   |   |   |   |   |   (LayerNorm): LayerNorm((1024,), eps=1e-12, elementwise_affine=True)\n",
      "|   |   |   |   |   |   |   (dropout): Dropout(p=0.0, inplace=False)\n",
      "|   |   |   |   |   |   )\n",
      "|   |   |   |   |   )\n",
      "|   |   |   |   |   (6): BertLayer(\n",
      "|   |   |   |   |   |   (attention): BertAttention(\n",
      "|   |   |   |   |   |   |   (self): BertSelfAttention(\n",
      "|   |   |   |   |   |   |   |   (query): Linear(in_features=1024, out_features=320, bias=True)\n",
      "|   |   |   |   |   |   |   |   (key): Linear(in_features=1024, out_features=320, bias=True)\n",
      "|   |   |   |   |   |   |   |   (value): Linear(in_features=1024, out_features=320, bias=True)\n",
      "|   |   |   |   |   |   |   |   (dropout): Dropout(p=0.0, inplace=False)\n",
      "|   |   |   |   |   |   |   )\n",
      "|   |   |   |   |   |   |   (output): BertSelfOutput(\n",
      "|   |   |   |   |   |   |   |   (dense): Linear(in_features=320, out_features=1024, bias=True)\n",
      "|   |   |   |   |   |   |   |   (LayerNorm): LayerNorm((1024,), eps=1e-12, elementwise_affine=True)\n",
      "|   |   |   |   |   |   |   |   (dropout): Dropout(p=0.0, inplace=False)\n",
      "|   |   |   |   |   |   |   )\n",
      "|   |   |   |   |   |   )\n",
      "|   |   |   |   |   |   (intermediate): BertIntermediate(\n",
      "|   |   |   |   |   |   |   (dense): Linear(in_features=1024, out_features=4096, bias=True)\n",
      "|   |   |   |   |   |   |   (intermediate_act_fn): GELUActivation()\n",
      "|   |   |   |   |   |   )\n",
      "|   |   |   |   |   |   (output): BertOutput(\n",
      "|   |   |   |   |   |   |   (dense): Linear(in_features=4096, out_features=1024, bias=True)\n",
      "|   |   |   |   |   |   |   (LayerNorm): LayerNorm((1024,), eps=1e-12, elementwise_affine=True)\n",
      "|   |   |   |   |   |   |   (dropout): Dropout(p=0.0, inplace=False)\n",
      "|   |   |   |   |   |   )\n",
      "|   |   |   |   |   )\n",
      "|   |   |   |   |   (7): BertLayer(\n",
      "|   |   |   |   |   |   (attention): BertAttention(\n",
      "|   |   |   |   |   |   |   (self): BertSelfAttention(\n",
      "|   |   |   |   |   |   |   |   (query): Linear(in_features=1024, out_features=384, bias=True)\n",
      "|   |   |   |   |   |   |   |   (key): Linear(in_features=1024, out_features=384, bias=True)\n",
      "|   |   |   |   |   |   |   |   (value): Linear(in_features=1024, out_features=384, bias=True)\n",
      "|   |   |   |   |   |   |   |   (dropout): Dropout(p=0.0, inplace=False)\n",
      "|   |   |   |   |   |   |   )\n",
      "|   |   |   |   |   |   |   (output): BertSelfOutput(\n",
      "|   |   |   |   |   |   |   |   (dense): Linear(in_features=384, out_features=1024, bias=True)\n",
      "|   |   |   |   |   |   |   |   (LayerNorm): LayerNorm((1024,), eps=1e-12, elementwise_affine=True)\n",
      "|   |   |   |   |   |   |   |   (dropout): Dropout(p=0.0, inplace=False)\n",
      "|   |   |   |   |   |   |   )\n",
      "|   |   |   |   |   |   )\n",
      "|   |   |   |   |   |   (intermediate): BertIntermediate(\n",
      "|   |   |   |   |   |   |   (dense): Linear(in_features=1024, out_features=4096, bias=True)\n",
      "|   |   |   |   |   |   |   (intermediate_act_fn): GELUActivation()\n",
      "|   |   |   |   |   |   )\n",
      "|   |   |   |   |   |   (output): BertOutput(\n",
      "|   |   |   |   |   |   |   (dense): Linear(in_features=4096, out_features=1024, bias=True)\n",
      "|   |   |   |   |   |   |   (LayerNorm): LayerNorm((1024,), eps=1e-12, elementwise_affine=True)\n",
      "|   |   |   |   |   |   |   (dropout): Dropout(p=0.0, inplace=False)\n",
      "|   |   |   |   |   |   )\n",
      "|   |   |   |   |   )\n",
      "|   |   |   |   |   (8): BertLayer(\n",
      "|   |   |   |   |   |   (attention): BertAttention(\n",
      "|   |   |   |   |   |   |   (self): BertSelfAttention(\n",
      "|   |   |   |   |   |   |   |   (query): Linear(in_features=1024, out_features=448, bias=True)\n",
      "|   |   |   |   |   |   |   |   (key): Linear(in_features=1024, out_features=448, bias=True)\n",
      "|   |   |   |   |   |   |   |   (value): Linear(in_features=1024, out_features=448, bias=True)\n",
      "|   |   |   |   |   |   |   |   (dropout): Dropout(p=0.0, inplace=False)\n",
      "|   |   |   |   |   |   |   )\n",
      "|   |   |   |   |   |   |   (output): BertSelfOutput(\n",
      "|   |   |   |   |   |   |   |   (dense): Linear(in_features=448, out_features=1024, bias=True)\n",
      "|   |   |   |   |   |   |   |   (LayerNorm): LayerNorm((1024,), eps=1e-12, elementwise_affine=True)\n",
      "|   |   |   |   |   |   |   |   (dropout): Dropout(p=0.0, inplace=False)\n",
      "|   |   |   |   |   |   |   )\n",
      "|   |   |   |   |   |   )\n",
      "|   |   |   |   |   |   (intermediate): BertIntermediate(\n",
      "|   |   |   |   |   |   |   (dense): Linear(in_features=1024, out_features=4096, bias=True)\n",
      "|   |   |   |   |   |   |   (intermediate_act_fn): GELUActivation()\n",
      "|   |   |   |   |   |   )\n",
      "|   |   |   |   |   |   (output): BertOutput(\n",
      "|   |   |   |   |   |   |   (dense): Linear(in_features=4096, out_features=1024, bias=True)\n",
      "|   |   |   |   |   |   |   (LayerNorm): LayerNorm((1024,), eps=1e-12, elementwise_affine=True)\n",
      "|   |   |   |   |   |   |   (dropout): Dropout(p=0.0, inplace=False)\n",
      "|   |   |   |   |   |   )\n",
      "|   |   |   |   |   )\n",
      "|   |   |   |   |   (9): BertLayer(\n",
      "|   |   |   |   |   |   (attention): BertAttention(\n",
      "|   |   |   |   |   |   |   (self): BertSelfAttention(\n",
      "|   |   |   |   |   |   |   |   (query): Linear(in_features=1024, out_features=640, bias=True)\n",
      "|   |   |   |   |   |   |   |   (key): Linear(in_features=1024, out_features=640, bias=True)\n",
      "|   |   |   |   |   |   |   |   (value): Linear(in_features=1024, out_features=640, bias=True)\n",
      "|   |   |   |   |   |   |   |   (dropout): Dropout(p=0.0, inplace=False)\n",
      "|   |   |   |   |   |   |   )\n",
      "|   |   |   |   |   |   |   (output): BertSelfOutput(\n",
      "|   |   |   |   |   |   |   |   (dense): Linear(in_features=640, out_features=1024, bias=True)\n",
      "|   |   |   |   |   |   |   |   (LayerNorm): LayerNorm((1024,), eps=1e-12, elementwise_affine=True)\n",
      "|   |   |   |   |   |   |   |   (dropout): Dropout(p=0.0, inplace=False)\n",
      "|   |   |   |   |   |   |   )\n",
      "|   |   |   |   |   |   )\n",
      "|   |   |   |   |   |   (intermediate): BertIntermediate(\n",
      "|   |   |   |   |   |   |   (dense): Linear(in_features=1024, out_features=4096, bias=True)\n",
      "|   |   |   |   |   |   |   (intermediate_act_fn): GELUActivation()\n",
      "|   |   |   |   |   |   )\n",
      "|   |   |   |   |   |   (output): BertOutput(\n",
      "|   |   |   |   |   |   |   (dense): Linear(in_features=4096, out_features=1024, bias=True)\n",
      "|   |   |   |   |   |   |   (LayerNorm): LayerNorm((1024,), eps=1e-12, elementwise_affine=True)\n",
      "|   |   |   |   |   |   |   (dropout): Dropout(p=0.0, inplace=False)\n",
      "|   |   |   |   |   |   )\n",
      "|   |   |   |   |   )\n",
      "|   |   |   |   |   (10): BertLayer(\n",
      "|   |   |   |   |   |   (attention): BertAttention(\n",
      "|   |   |   |   |   |   |   (self): BertSelfAttention(\n",
      "|   |   |   |   |   |   |   |   (query): Linear(in_features=1024, out_features=384, bias=True)\n",
      "|   |   |   |   |   |   |   |   (key): Linear(in_features=1024, out_features=384, bias=True)\n",
      "|   |   |   |   |   |   |   |   (value): Linear(in_features=1024, out_features=384, bias=True)\n",
      "|   |   |   |   |   |   |   |   (dropout): Dropout(p=0.0, inplace=False)\n",
      "|   |   |   |   |   |   |   )\n",
      "|   |   |   |   |   |   |   (output): BertSelfOutput(\n",
      "|   |   |   |   |   |   |   |   (dense): Linear(in_features=384, out_features=1024, bias=True)\n",
      "|   |   |   |   |   |   |   |   (LayerNorm): LayerNorm((1024,), eps=1e-12, elementwise_affine=True)\n",
      "|   |   |   |   |   |   |   |   (dropout): Dropout(p=0.0, inplace=False)\n",
      "|   |   |   |   |   |   |   )\n",
      "|   |   |   |   |   |   )\n",
      "|   |   |   |   |   |   (intermediate): BertIntermediate(\n",
      "|   |   |   |   |   |   |   (dense): Linear(in_features=1024, out_features=4096, bias=True)\n",
      "|   |   |   |   |   |   |   (intermediate_act_fn): GELUActivation()\n",
      "|   |   |   |   |   |   )\n",
      "|   |   |   |   |   |   (output): BertOutput(\n",
      "|   |   |   |   |   |   |   (dense): Linear(in_features=4096, out_features=1024, bias=True)\n",
      "|   |   |   |   |   |   |   (LayerNorm): LayerNorm((1024,), eps=1e-12, elementwise_affine=True)\n",
      "|   |   |   |   |   |   |   (dropout): Dropout(p=0.0, inplace=False)\n",
      "|   |   |   |   |   |   )\n",
      "|   |   |   |   |   )\n",
      "|   |   |   |   |   (11): BertLayer(\n",
      "|   |   |   |   |   |   (attention): BertAttention(\n",
      "|   |   |   |   |   |   |   (self): BertSelfAttention(\n",
      "|   |   |   |   |   |   |   |   (query): Linear(in_features=1024, out_features=640, bias=True)\n",
      "|   |   |   |   |   |   |   |   (key): Linear(in_features=1024, out_features=640, bias=True)\n",
      "|   |   |   |   |   |   |   |   (value): Linear(in_features=1024, out_features=640, bias=True)\n",
      "|   |   |   |   |   |   |   |   (dropout): Dropout(p=0.0, inplace=False)\n",
      "|   |   |   |   |   |   |   )\n",
      "|   |   |   |   |   |   |   (output): BertSelfOutput(\n",
      "|   |   |   |   |   |   |   |   (dense): Linear(in_features=640, out_features=1024, bias=True)\n",
      "|   |   |   |   |   |   |   |   (LayerNorm): LayerNorm((1024,), eps=1e-12, elementwise_affine=True)\n",
      "|   |   |   |   |   |   |   |   (dropout): Dropout(p=0.0, inplace=False)\n",
      "|   |   |   |   |   |   |   )\n",
      "|   |   |   |   |   |   )\n",
      "|   |   |   |   |   |   (intermediate): BertIntermediate(\n",
      "|   |   |   |   |   |   |   (dense): Linear(in_features=1024, out_features=4096, bias=True)\n",
      "|   |   |   |   |   |   |   (intermediate_act_fn): GELUActivation()\n",
      "|   |   |   |   |   |   )\n",
      "|   |   |   |   |   |   (output): BertOutput(\n",
      "|   |   |   |   |   |   |   (dense): Linear(in_features=4096, out_features=1024, bias=True)\n",
      "|   |   |   |   |   |   |   (LayerNorm): LayerNorm((1024,), eps=1e-12, elementwise_affine=True)\n",
      "|   |   |   |   |   |   |   (dropout): Dropout(p=0.0, inplace=False)\n",
      "|   |   |   |   |   |   )\n",
      "|   |   |   |   |   )\n",
      "|   |   |   |   |   (12): BertLayer(\n",
      "|   |   |   |   |   |   (attention): BertAttention(\n",
      "|   |   |   |   |   |   |   (self): BertSelfAttention(\n",
      "|   |   |   |   |   |   |   |   (query): Linear(in_features=1024, out_features=512, bias=True)\n",
      "|   |   |   |   |   |   |   |   (key): Linear(in_features=1024, out_features=512, bias=True)\n",
      "|   |   |   |   |   |   |   |   (value): Linear(in_features=1024, out_features=512, bias=True)\n",
      "|   |   |   |   |   |   |   |   (dropout): Dropout(p=0.0, inplace=False)\n",
      "|   |   |   |   |   |   |   )\n",
      "|   |   |   |   |   |   |   (output): BertSelfOutput(\n",
      "|   |   |   |   |   |   |   |   (dense): Linear(in_features=512, out_features=1024, bias=True)\n",
      "|   |   |   |   |   |   |   |   (LayerNorm): LayerNorm((1024,), eps=1e-12, elementwise_affine=True)\n",
      "|   |   |   |   |   |   |   |   (dropout): Dropout(p=0.0, inplace=False)\n",
      "|   |   |   |   |   |   |   )\n",
      "|   |   |   |   |   |   )\n",
      "|   |   |   |   |   |   (intermediate): BertIntermediate(\n",
      "|   |   |   |   |   |   |   (dense): Linear(in_features=1024, out_features=4096, bias=True)\n",
      "|   |   |   |   |   |   |   (intermediate_act_fn): GELUActivation()\n",
      "|   |   |   |   |   |   )\n",
      "|   |   |   |   |   |   (output): BertOutput(\n",
      "|   |   |   |   |   |   |   (dense): Linear(in_features=4096, out_features=1024, bias=True)\n",
      "|   |   |   |   |   |   |   (LayerNorm): LayerNorm((1024,), eps=1e-12, elementwise_affine=True)\n",
      "|   |   |   |   |   |   |   (dropout): Dropout(p=0.0, inplace=False)\n",
      "|   |   |   |   |   |   )\n",
      "|   |   |   |   |   )\n",
      "|   |   |   |   |   (13): BertLayer(\n",
      "|   |   |   |   |   |   (attention): BertAttention(\n",
      "|   |   |   |   |   |   |   (self): BertSelfAttention(\n",
      "|   |   |   |   |   |   |   |   (query): Linear(in_features=1024, out_features=768, bias=True)\n",
      "|   |   |   |   |   |   |   |   (key): Linear(in_features=1024, out_features=768, bias=True)\n",
      "|   |   |   |   |   |   |   |   (value): Linear(in_features=1024, out_features=768, bias=True)\n",
      "|   |   |   |   |   |   |   |   (dropout): Dropout(p=0.0, inplace=False)\n",
      "|   |   |   |   |   |   |   )\n",
      "|   |   |   |   |   |   |   (output): BertSelfOutput(\n",
      "|   |   |   |   |   |   |   |   (dense): Linear(in_features=768, out_features=1024, bias=True)\n",
      "|   |   |   |   |   |   |   |   (LayerNorm): LayerNorm((1024,), eps=1e-12, elementwise_affine=True)\n",
      "|   |   |   |   |   |   |   |   (dropout): Dropout(p=0.0, inplace=False)\n",
      "|   |   |   |   |   |   |   )\n",
      "|   |   |   |   |   |   )\n",
      "|   |   |   |   |   |   (intermediate): BertIntermediate(\n",
      "|   |   |   |   |   |   |   (dense): Linear(in_features=1024, out_features=4096, bias=True)\n",
      "|   |   |   |   |   |   |   (intermediate_act_fn): GELUActivation()\n",
      "|   |   |   |   |   |   )\n",
      "|   |   |   |   |   |   (output): BertOutput(\n",
      "|   |   |   |   |   |   |   (dense): Linear(in_features=4096, out_features=1024, bias=True)\n",
      "|   |   |   |   |   |   |   (LayerNorm): LayerNorm((1024,), eps=1e-12, elementwise_affine=True)\n",
      "|   |   |   |   |   |   |   (dropout): Dropout(p=0.0, inplace=False)\n",
      "|   |   |   |   |   |   )\n",
      "|   |   |   |   |   )\n",
      "|   |   |   |   |   (14): BertLayer(\n",
      "|   |   |   |   |   |   (attention): BertAttention(\n",
      "|   |   |   |   |   |   |   (self): BertSelfAttention(\n",
      "|   |   |   |   |   |   |   |   (query): Linear(in_features=1024, out_features=512, bias=True)\n",
      "|   |   |   |   |   |   |   |   (key): Linear(in_features=1024, out_features=512, bias=True)\n",
      "|   |   |   |   |   |   |   |   (value): Linear(in_features=1024, out_features=512, bias=True)\n",
      "|   |   |   |   |   |   |   |   (dropout): Dropout(p=0.0, inplace=False)\n",
      "|   |   |   |   |   |   |   )\n",
      "|   |   |   |   |   |   |   (output): BertSelfOutput(\n",
      "|   |   |   |   |   |   |   |   (dense): Linear(in_features=512, out_features=1024, bias=True)\n",
      "|   |   |   |   |   |   |   |   (LayerNorm): LayerNorm((1024,), eps=1e-12, elementwise_affine=True)\n",
      "|   |   |   |   |   |   |   |   (dropout): Dropout(p=0.0, inplace=False)\n",
      "|   |   |   |   |   |   |   )\n",
      "|   |   |   |   |   |   )\n",
      "|   |   |   |   |   |   (intermediate): BertIntermediate(\n",
      "|   |   |   |   |   |   |   (dense): Linear(in_features=1024, out_features=4096, bias=True)\n",
      "|   |   |   |   |   |   |   (intermediate_act_fn): GELUActivation()\n",
      "|   |   |   |   |   |   )\n",
      "|   |   |   |   |   |   (output): BertOutput(\n",
      "|   |   |   |   |   |   |   (dense): Linear(in_features=4096, out_features=1024, bias=True)\n",
      "|   |   |   |   |   |   |   (LayerNorm): LayerNorm((1024,), eps=1e-12, elementwise_affine=True)\n",
      "|   |   |   |   |   |   |   (dropout): Dropout(p=0.0, inplace=False)\n",
      "|   |   |   |   |   |   )\n",
      "|   |   |   |   |   )\n",
      "|   |   |   |   |   (15): BertLayer(\n",
      "|   |   |   |   |   |   (attention): BertAttention(\n",
      "|   |   |   |   |   |   |   (self): BertSelfAttention(\n",
      "|   |   |   |   |   |   |   |   (query): Linear(in_features=1024, out_features=384, bias=True)\n",
      "|   |   |   |   |   |   |   |   (key): Linear(in_features=1024, out_features=384, bias=True)\n",
      "|   |   |   |   |   |   |   |   (value): Linear(in_features=1024, out_features=384, bias=True)\n",
      "|   |   |   |   |   |   |   |   (dropout): Dropout(p=0.0, inplace=False)\n",
      "|   |   |   |   |   |   |   )\n",
      "|   |   |   |   |   |   |   (output): BertSelfOutput(\n",
      "|   |   |   |   |   |   |   |   (dense): Linear(in_features=384, out_features=1024, bias=True)\n",
      "|   |   |   |   |   |   |   |   (LayerNorm): LayerNorm((1024,), eps=1e-12, elementwise_affine=True)\n",
      "|   |   |   |   |   |   |   |   (dropout): Dropout(p=0.0, inplace=False)\n",
      "|   |   |   |   |   |   |   )\n",
      "|   |   |   |   |   |   )\n",
      "|   |   |   |   |   |   (intermediate): BertIntermediate(\n",
      "|   |   |   |   |   |   |   (dense): Linear(in_features=1024, out_features=4096, bias=True)\n",
      "|   |   |   |   |   |   |   (intermediate_act_fn): GELUActivation()\n",
      "|   |   |   |   |   |   )\n",
      "|   |   |   |   |   |   (output): BertOutput(\n",
      "|   |   |   |   |   |   |   (dense): Linear(in_features=4096, out_features=1024, bias=True)\n",
      "|   |   |   |   |   |   |   (LayerNorm): LayerNorm((1024,), eps=1e-12, elementwise_affine=True)\n",
      "|   |   |   |   |   |   |   (dropout): Dropout(p=0.0, inplace=False)\n",
      "|   |   |   |   |   |   )\n",
      "|   |   |   |   |   )\n",
      "|   |   |   |   |   (16): BertLayer(\n",
      "|   |   |   |   |   |   (attention): BertAttention(\n",
      "|   |   |   |   |   |   |   (self): BertSelfAttention(\n",
      "|   |   |   |   |   |   |   |   (query): Linear(in_features=1024, out_features=256, bias=True)\n",
      "|   |   |   |   |   |   |   |   (key): Linear(in_features=1024, out_features=256, bias=True)\n",
      "|   |   |   |   |   |   |   |   (value): Linear(in_features=1024, out_features=256, bias=True)\n",
      "|   |   |   |   |   |   |   |   (dropout): Dropout(p=0.0, inplace=False)\n",
      "|   |   |   |   |   |   |   )\n",
      "|   |   |   |   |   |   |   (output): BertSelfOutput(\n",
      "|   |   |   |   |   |   |   |   (dense): Linear(in_features=256, out_features=1024, bias=True)\n",
      "|   |   |   |   |   |   |   |   (LayerNorm): LayerNorm((1024,), eps=1e-12, elementwise_affine=True)\n",
      "|   |   |   |   |   |   |   |   (dropout): Dropout(p=0.0, inplace=False)\n",
      "|   |   |   |   |   |   |   )\n",
      "|   |   |   |   |   |   )\n",
      "|   |   |   |   |   |   (intermediate): BertIntermediate(\n",
      "|   |   |   |   |   |   |   (dense): Linear(in_features=1024, out_features=4096, bias=True)\n",
      "|   |   |   |   |   |   |   (intermediate_act_fn): GELUActivation()\n",
      "|   |   |   |   |   |   )\n",
      "|   |   |   |   |   |   (output): BertOutput(\n",
      "|   |   |   |   |   |   |   (dense): Linear(in_features=4096, out_features=1024, bias=True)\n",
      "|   |   |   |   |   |   |   (LayerNorm): LayerNorm((1024,), eps=1e-12, elementwise_affine=True)\n",
      "|   |   |   |   |   |   |   (dropout): Dropout(p=0.0, inplace=False)\n",
      "|   |   |   |   |   |   )\n",
      "|   |   |   |   |   )\n",
      "|   |   |   |   |   (17-18): 2 x BertLayer(\n",
      "|   |   |   |   |   |   (attention): BertAttention(\n",
      "|   |   |   |   |   |   |   (self): BertSelfAttention(\n",
      "|   |   |   |   |   |   |   |   (query): Linear(in_features=1024, out_features=640, bias=True)\n",
      "|   |   |   |   |   |   |   |   (key): Linear(in_features=1024, out_features=640, bias=True)\n",
      "|   |   |   |   |   |   |   |   (value): Linear(in_features=1024, out_features=640, bias=True)\n",
      "|   |   |   |   |   |   |   |   (dropout): Dropout(p=0.0, inplace=False)\n",
      "|   |   |   |   |   |   |   )\n",
      "|   |   |   |   |   |   |   (output): BertSelfOutput(\n",
      "|   |   |   |   |   |   |   |   (dense): Linear(in_features=640, out_features=1024, bias=True)\n",
      "|   |   |   |   |   |   |   |   (LayerNorm): LayerNorm((1024,), eps=1e-12, elementwise_affine=True)\n",
      "|   |   |   |   |   |   |   |   (dropout): Dropout(p=0.0, inplace=False)\n",
      "|   |   |   |   |   |   |   )\n",
      "|   |   |   |   |   |   )\n",
      "|   |   |   |   |   |   (intermediate): BertIntermediate(\n",
      "|   |   |   |   |   |   |   (dense): Linear(in_features=1024, out_features=4096, bias=True)\n",
      "|   |   |   |   |   |   |   (intermediate_act_fn): GELUActivation()\n",
      "|   |   |   |   |   |   )\n",
      "|   |   |   |   |   |   (output): BertOutput(\n",
      "|   |   |   |   |   |   |   (dense): Linear(in_features=4096, out_features=1024, bias=True)\n",
      "|   |   |   |   |   |   |   (LayerNorm): LayerNorm((1024,), eps=1e-12, elementwise_affine=True)\n",
      "|   |   |   |   |   |   |   (dropout): Dropout(p=0.0, inplace=False)\n",
      "|   |   |   |   |   |   )\n",
      "|   |   |   |   |   )\n",
      "|   |   |   |   |   (19): BertLayer(\n",
      "|   |   |   |   |   |   (attention): BertAttention(\n",
      "|   |   |   |   |   |   |   (self): BertSelfAttention(\n",
      "|   |   |   |   |   |   |   |   (query): Linear(in_features=1024, out_features=384, bias=True)\n",
      "|   |   |   |   |   |   |   |   (key): Linear(in_features=1024, out_features=384, bias=True)\n",
      "|   |   |   |   |   |   |   |   (value): Linear(in_features=1024, out_features=384, bias=True)\n",
      "|   |   |   |   |   |   |   |   (dropout): Dropout(p=0.0, inplace=False)\n",
      "|   |   |   |   |   |   |   )\n",
      "|   |   |   |   |   |   |   (output): BertSelfOutput(\n",
      "|   |   |   |   |   |   |   |   (dense): Linear(in_features=384, out_features=1024, bias=True)\n",
      "|   |   |   |   |   |   |   |   (LayerNorm): LayerNorm((1024,), eps=1e-12, elementwise_affine=True)\n",
      "|   |   |   |   |   |   |   |   (dropout): Dropout(p=0.0, inplace=False)\n",
      "|   |   |   |   |   |   |   )\n",
      "|   |   |   |   |   |   )\n",
      "|   |   |   |   |   |   (intermediate): BertIntermediate(\n",
      "|   |   |   |   |   |   |   (dense): Linear(in_features=1024, out_features=4096, bias=True)\n",
      "|   |   |   |   |   |   |   (intermediate_act_fn): GELUActivation()\n",
      "|   |   |   |   |   |   )\n",
      "|   |   |   |   |   |   (output): BertOutput(\n",
      "|   |   |   |   |   |   |   (dense): Linear(in_features=4096, out_features=1024, bias=True)\n",
      "|   |   |   |   |   |   |   (LayerNorm): LayerNorm((1024,), eps=1e-12, elementwise_affine=True)\n",
      "|   |   |   |   |   |   |   (dropout): Dropout(p=0.0, inplace=False)\n",
      "|   |   |   |   |   |   )\n",
      "|   |   |   |   |   )\n",
      "|   |   |   |   |   (20): BertLayer(\n",
      "|   |   |   |   |   |   (attention): BertAttention(\n",
      "|   |   |   |   |   |   |   (self): BertSelfAttention(\n",
      "|   |   |   |   |   |   |   |   (query): Linear(in_features=1024, out_features=576, bias=True)\n",
      "|   |   |   |   |   |   |   |   (key): Linear(in_features=1024, out_features=576, bias=True)\n",
      "|   |   |   |   |   |   |   |   (value): Linear(in_features=1024, out_features=576, bias=True)\n",
      "|   |   |   |   |   |   |   |   (dropout): Dropout(p=0.0, inplace=False)\n",
      "|   |   |   |   |   |   |   )\n",
      "|   |   |   |   |   |   |   (output): BertSelfOutput(\n",
      "|   |   |   |   |   |   |   |   (dense): Linear(in_features=576, out_features=1024, bias=True)\n",
      "|   |   |   |   |   |   |   |   (LayerNorm): LayerNorm((1024,), eps=1e-12, elementwise_affine=True)\n",
      "|   |   |   |   |   |   |   |   (dropout): Dropout(p=0.0, inplace=False)\n",
      "|   |   |   |   |   |   |   )\n",
      "|   |   |   |   |   |   )\n",
      "|   |   |   |   |   |   (intermediate): BertIntermediate(\n",
      "|   |   |   |   |   |   |   (dense): Linear(in_features=1024, out_features=4096, bias=True)\n",
      "|   |   |   |   |   |   |   (intermediate_act_fn): GELUActivation()\n",
      "|   |   |   |   |   |   )\n",
      "|   |   |   |   |   |   (output): BertOutput(\n",
      "|   |   |   |   |   |   |   (dense): Linear(in_features=4096, out_features=1024, bias=True)\n",
      "|   |   |   |   |   |   |   (LayerNorm): LayerNorm((1024,), eps=1e-12, elementwise_affine=True)\n",
      "|   |   |   |   |   |   |   (dropout): Dropout(p=0.0, inplace=False)\n",
      "|   |   |   |   |   |   )\n",
      "|   |   |   |   |   )\n",
      "|   |   |   |   |   (21): BertLayer(\n",
      "|   |   |   |   |   |   (attention): BertAttention(\n",
      "|   |   |   |   |   |   |   (self): BertSelfAttention(\n",
      "|   |   |   |   |   |   |   |   (query): Linear(in_features=1024, out_features=512, bias=True)\n",
      "|   |   |   |   |   |   |   |   (key): Linear(in_features=1024, out_features=512, bias=True)\n",
      "|   |   |   |   |   |   |   |   (value): Linear(in_features=1024, out_features=512, bias=True)\n",
      "|   |   |   |   |   |   |   |   (dropout): Dropout(p=0.0, inplace=False)\n",
      "|   |   |   |   |   |   |   )\n",
      "|   |   |   |   |   |   |   (output): BertSelfOutput(\n",
      "|   |   |   |   |   |   |   |   (dense): Linear(in_features=512, out_features=1024, bias=True)\n",
      "|   |   |   |   |   |   |   |   (LayerNorm): LayerNorm((1024,), eps=1e-12, elementwise_affine=True)\n",
      "|   |   |   |   |   |   |   |   (dropout): Dropout(p=0.0, inplace=False)\n",
      "|   |   |   |   |   |   |   )\n",
      "|   |   |   |   |   |   )\n",
      "|   |   |   |   |   |   (intermediate): BertIntermediate(\n",
      "|   |   |   |   |   |   |   (dense): Linear(in_features=1024, out_features=4096, bias=True)\n",
      "|   |   |   |   |   |   |   (intermediate_act_fn): GELUActivation()\n",
      "|   |   |   |   |   |   )\n",
      "|   |   |   |   |   |   (output): BertOutput(\n",
      "|   |   |   |   |   |   |   (dense): Linear(in_features=4096, out_features=1024, bias=True)\n",
      "|   |   |   |   |   |   |   (LayerNorm): LayerNorm((1024,), eps=1e-12, elementwise_affine=True)\n",
      "|   |   |   |   |   |   |   (dropout): Dropout(p=0.0, inplace=False)\n",
      "|   |   |   |   |   |   )\n",
      "|   |   |   |   |   )\n",
      "|   |   |   |   |   (22): BertLayer(\n",
      "|   |   |   |   |   |   (attention): BertAttention(\n",
      "|   |   |   |   |   |   |   (self): BertSelfAttention(\n",
      "|   |   |   |   |   |   |   |   (query): Linear(in_features=1024, out_features=576, bias=True)\n",
      "|   |   |   |   |   |   |   |   (key): Linear(in_features=1024, out_features=576, bias=True)\n",
      "|   |   |   |   |   |   |   |   (value): Linear(in_features=1024, out_features=576, bias=True)\n",
      "|   |   |   |   |   |   |   |   (dropout): Dropout(p=0.0, inplace=False)\n",
      "|   |   |   |   |   |   |   )\n",
      "|   |   |   |   |   |   |   (output): BertSelfOutput(\n",
      "|   |   |   |   |   |   |   |   (dense): Linear(in_features=576, out_features=1024, bias=True)\n",
      "|   |   |   |   |   |   |   |   (LayerNorm): LayerNorm((1024,), eps=1e-12, elementwise_affine=True)\n",
      "|   |   |   |   |   |   |   |   (dropout): Dropout(p=0.0, inplace=False)\n",
      "|   |   |   |   |   |   |   )\n",
      "|   |   |   |   |   |   )\n",
      "|   |   |   |   |   |   (intermediate): BertIntermediate(\n",
      "|   |   |   |   |   |   |   (dense): Linear(in_features=1024, out_features=4096, bias=True)\n",
      "|   |   |   |   |   |   |   (intermediate_act_fn): GELUActivation()\n",
      "|   |   |   |   |   |   )\n",
      "|   |   |   |   |   |   (output): BertOutput(\n",
      "|   |   |   |   |   |   |   (dense): Linear(in_features=4096, out_features=1024, bias=True)\n",
      "|   |   |   |   |   |   |   (LayerNorm): LayerNorm((1024,), eps=1e-12, elementwise_affine=True)\n",
      "|   |   |   |   |   |   |   (dropout): Dropout(p=0.0, inplace=False)\n",
      "|   |   |   |   |   |   )\n",
      "|   |   |   |   |   )\n",
      "|   |   |   |   |   (23): BertLayer(\n",
      "|   |   |   |   |   |   (attention): BertAttention(\n",
      "|   |   |   |   |   |   |   (self): BertSelfAttention(\n",
      "|   |   |   |   |   |   |   |   (query): Linear(in_features=1024, out_features=448, bias=True)\n",
      "|   |   |   |   |   |   |   |   (key): Linear(in_features=1024, out_features=448, bias=True)\n",
      "|   |   |   |   |   |   |   |   (value): Linear(in_features=1024, out_features=448, bias=True)\n",
      "|   |   |   |   |   |   |   |   (dropout): Dropout(p=0.0, inplace=False)\n",
      "|   |   |   |   |   |   |   )\n",
      "|   |   |   |   |   |   |   (output): BertSelfOutput(\n",
      "|   |   |   |   |   |   |   |   (dense): Linear(in_features=448, out_features=1024, bias=True)\n",
      "|   |   |   |   |   |   |   |   (LayerNorm): LayerNorm((1024,), eps=1e-12, elementwise_affine=True)\n",
      "|   |   |   |   |   |   |   |   (dropout): Dropout(p=0.0, inplace=False)\n",
      "|   |   |   |   |   |   |   )\n",
      "|   |   |   |   |   |   )\n",
      "|   |   |   |   |   |   (intermediate): BertIntermediate(\n",
      "|   |   |   |   |   |   |   (dense): Linear(in_features=1024, out_features=4096, bias=True)\n",
      "|   |   |   |   |   |   |   (intermediate_act_fn): GELUActivation()\n",
      "|   |   |   |   |   |   )\n",
      "|   |   |   |   |   |   (output): BertOutput(\n",
      "|   |   |   |   |   |   |   (dense): Linear(in_features=4096, out_features=1024, bias=True)\n",
      "|   |   |   |   |   |   |   (LayerNorm): LayerNorm((1024,), eps=1e-12, elementwise_affine=True)\n",
      "|   |   |   |   |   |   |   (dropout): Dropout(p=0.0, inplace=False)\n",
      "|   |   |   |   |   |   )\n",
      "|   |   |   |   |   )\n",
      "|   |   |   |   |   (24): BertLayer(\n",
      "|   |   |   |   |   |   (attention): BertAttention(\n",
      "|   |   |   |   |   |   |   (self): BertSelfAttention(\n",
      "|   |   |   |   |   |   |   |   (query): Linear(in_features=1024, out_features=640, bias=True)\n",
      "|   |   |   |   |   |   |   |   (key): Linear(in_features=1024, out_features=640, bias=True)\n",
      "|   |   |   |   |   |   |   |   (value): Linear(in_features=1024, out_features=640, bias=True)\n",
      "|   |   |   |   |   |   |   |   (dropout): Dropout(p=0.0, inplace=False)\n",
      "|   |   |   |   |   |   |   )\n",
      "|   |   |   |   |   |   |   (output): BertSelfOutput(\n",
      "|   |   |   |   |   |   |   |   (dense): Linear(in_features=640, out_features=1024, bias=True)\n",
      "|   |   |   |   |   |   |   |   (LayerNorm): LayerNorm((1024,), eps=1e-12, elementwise_affine=True)\n",
      "|   |   |   |   |   |   |   |   (dropout): Dropout(p=0.0, inplace=False)\n",
      "|   |   |   |   |   |   |   )\n",
      "|   |   |   |   |   |   )\n",
      "|   |   |   |   |   |   (intermediate): BertIntermediate(\n",
      "|   |   |   |   |   |   |   (dense): Linear(in_features=1024, out_features=4096, bias=True)\n",
      "|   |   |   |   |   |   |   (intermediate_act_fn): GELUActivation()\n",
      "|   |   |   |   |   |   )\n",
      "|   |   |   |   |   |   (output): BertOutput(\n",
      "|   |   |   |   |   |   |   (dense): Linear(in_features=4096, out_features=1024, bias=True)\n",
      "|   |   |   |   |   |   |   (LayerNorm): LayerNorm((1024,), eps=1e-12, elementwise_affine=True)\n",
      "|   |   |   |   |   |   |   (dropout): Dropout(p=0.0, inplace=False)\n",
      "|   |   |   |   |   |   )\n",
      "|   |   |   |   |   )\n",
      "|   |   |   |   |   (25-26): 2 x BertLayer(\n",
      "|   |   |   |   |   |   (attention): BertAttention(\n",
      "|   |   |   |   |   |   |   (self): BertSelfAttention(\n",
      "|   |   |   |   |   |   |   |   (query): Linear(in_features=1024, out_features=448, bias=True)\n",
      "|   |   |   |   |   |   |   |   (key): Linear(in_features=1024, out_features=448, bias=True)\n",
      "|   |   |   |   |   |   |   |   (value): Linear(in_features=1024, out_features=448, bias=True)\n",
      "|   |   |   |   |   |   |   |   (dropout): Dropout(p=0.0, inplace=False)\n",
      "|   |   |   |   |   |   |   )\n",
      "|   |   |   |   |   |   |   (output): BertSelfOutput(\n",
      "|   |   |   |   |   |   |   |   (dense): Linear(in_features=448, out_features=1024, bias=True)\n",
      "|   |   |   |   |   |   |   |   (LayerNorm): LayerNorm((1024,), eps=1e-12, elementwise_affine=True)\n",
      "|   |   |   |   |   |   |   |   (dropout): Dropout(p=0.0, inplace=False)\n",
      "|   |   |   |   |   |   |   )\n",
      "|   |   |   |   |   |   )\n",
      "|   |   |   |   |   |   (intermediate): BertIntermediate(\n",
      "|   |   |   |   |   |   |   (dense): Linear(in_features=1024, out_features=4096, bias=True)\n",
      "|   |   |   |   |   |   |   (intermediate_act_fn): GELUActivation()\n",
      "|   |   |   |   |   |   )\n",
      "|   |   |   |   |   |   (output): BertOutput(\n",
      "|   |   |   |   |   |   |   (dense): Linear(in_features=4096, out_features=1024, bias=True)\n",
      "|   |   |   |   |   |   |   (LayerNorm): LayerNorm((1024,), eps=1e-12, elementwise_affine=True)\n",
      "|   |   |   |   |   |   |   (dropout): Dropout(p=0.0, inplace=False)\n",
      "|   |   |   |   |   |   )\n",
      "|   |   |   |   |   )\n",
      "|   |   |   |   |   (27): BertLayer(\n",
      "|   |   |   |   |   |   (attention): BertAttention(\n",
      "|   |   |   |   |   |   |   (self): BertSelfAttention(\n",
      "|   |   |   |   |   |   |   |   (query): Linear(in_features=1024, out_features=640, bias=True)\n",
      "|   |   |   |   |   |   |   |   (key): Linear(in_features=1024, out_features=640, bias=True)\n",
      "|   |   |   |   |   |   |   |   (value): Linear(in_features=1024, out_features=640, bias=True)\n",
      "|   |   |   |   |   |   |   |   (dropout): Dropout(p=0.0, inplace=False)\n",
      "|   |   |   |   |   |   |   )\n",
      "|   |   |   |   |   |   |   (output): BertSelfOutput(\n",
      "|   |   |   |   |   |   |   |   (dense): Linear(in_features=640, out_features=1024, bias=True)\n",
      "|   |   |   |   |   |   |   |   (LayerNorm): LayerNorm((1024,), eps=1e-12, elementwise_affine=True)\n",
      "|   |   |   |   |   |   |   |   (dropout): Dropout(p=0.0, inplace=False)\n",
      "|   |   |   |   |   |   |   )\n",
      "|   |   |   |   |   |   )\n",
      "|   |   |   |   |   |   (intermediate): BertIntermediate(\n",
      "|   |   |   |   |   |   |   (dense): Linear(in_features=1024, out_features=4096, bias=True)\n",
      "|   |   |   |   |   |   |   (intermediate_act_fn): GELUActivation()\n",
      "|   |   |   |   |   |   )\n",
      "|   |   |   |   |   |   (output): BertOutput(\n",
      "|   |   |   |   |   |   |   (dense): Linear(in_features=4096, out_features=1024, bias=True)\n",
      "|   |   |   |   |   |   |   (LayerNorm): LayerNorm((1024,), eps=1e-12, elementwise_affine=True)\n",
      "|   |   |   |   |   |   |   (dropout): Dropout(p=0.0, inplace=False)\n",
      "|   |   |   |   |   |   )\n",
      "|   |   |   |   |   )\n",
      "|   |   |   |   |   (28): BertLayer(\n",
      "|   |   |   |   |   |   (attention): BertAttention(\n",
      "|   |   |   |   |   |   |   (self): BertSelfAttention(\n",
      "|   |   |   |   |   |   |   |   (query): Linear(in_features=1024, out_features=384, bias=True)\n",
      "|   |   |   |   |   |   |   |   (key): Linear(in_features=1024, out_features=384, bias=True)\n",
      "|   |   |   |   |   |   |   |   (value): Linear(in_features=1024, out_features=384, bias=True)\n",
      "|   |   |   |   |   |   |   |   (dropout): Dropout(p=0.0, inplace=False)\n",
      "|   |   |   |   |   |   |   )\n",
      "|   |   |   |   |   |   |   (output): BertSelfOutput(\n",
      "|   |   |   |   |   |   |   |   (dense): Linear(in_features=384, out_features=1024, bias=True)\n",
      "|   |   |   |   |   |   |   |   (LayerNorm): LayerNorm((1024,), eps=1e-12, elementwise_affine=True)\n",
      "|   |   |   |   |   |   |   |   (dropout): Dropout(p=0.0, inplace=False)\n",
      "|   |   |   |   |   |   |   )\n",
      "|   |   |   |   |   |   )\n",
      "|   |   |   |   |   |   (intermediate): BertIntermediate(\n",
      "|   |   |   |   |   |   |   (dense): Linear(in_features=1024, out_features=4096, bias=True)\n",
      "|   |   |   |   |   |   |   (intermediate_act_fn): GELUActivation()\n",
      "|   |   |   |   |   |   )\n",
      "|   |   |   |   |   |   (output): BertOutput(\n",
      "|   |   |   |   |   |   |   (dense): Linear(in_features=4096, out_features=1024, bias=True)\n",
      "|   |   |   |   |   |   |   (LayerNorm): LayerNorm((1024,), eps=1e-12, elementwise_affine=True)\n",
      "|   |   |   |   |   |   |   (dropout): Dropout(p=0.0, inplace=False)\n",
      "|   |   |   |   |   |   )\n",
      "|   |   |   |   |   )\n",
      "|   |   |   |   |   (29): BertLayer(\n",
      "|   |   |   |   |   |   (attention): BertAttention(\n",
      "|   |   |   |   |   |   |   (self): BertSelfAttention(\n",
      "|   |   |   |   |   |   |   |   (query): Linear(in_features=1024, out_features=576, bias=True)\n",
      "|   |   |   |   |   |   |   |   (key): Linear(in_features=1024, out_features=576, bias=True)\n",
      "|   |   |   |   |   |   |   |   (value): Linear(in_features=1024, out_features=576, bias=True)\n",
      "|   |   |   |   |   |   |   |   (dropout): Dropout(p=0.0, inplace=False)\n",
      "|   |   |   |   |   |   |   )\n",
      "|   |   |   |   |   |   |   (output): BertSelfOutput(\n",
      "|   |   |   |   |   |   |   |   (dense): Linear(in_features=576, out_features=1024, bias=True)\n",
      "|   |   |   |   |   |   |   |   (LayerNorm): LayerNorm((1024,), eps=1e-12, elementwise_affine=True)\n",
      "|   |   |   |   |   |   |   |   (dropout): Dropout(p=0.0, inplace=False)\n",
      "|   |   |   |   |   |   |   )\n",
      "|   |   |   |   |   |   )\n",
      "|   |   |   |   |   |   (intermediate): BertIntermediate(\n",
      "|   |   |   |   |   |   |   (dense): Linear(in_features=1024, out_features=4096, bias=True)\n",
      "|   |   |   |   |   |   |   (intermediate_act_fn): GELUActivation()\n",
      "|   |   |   |   |   |   )\n",
      "|   |   |   |   |   |   (output): BertOutput(\n",
      "|   |   |   |   |   |   |   (dense): Linear(in_features=4096, out_features=1024, bias=True)\n",
      "|   |   |   |   |   |   |   (LayerNorm): LayerNorm((1024,), eps=1e-12, elementwise_affine=True)\n",
      "|   |   |   |   |   |   |   (dropout): Dropout(p=0.0, inplace=False)\n",
      "|   |   |   |   |   |   )\n",
      "|   |   |   |   |   )\n",
      "|   |   |   |   )\n",
      "|   |   |   )\n",
      "|   |   |   (pooler): BertPooler(\n",
      "|   |   |   |   (dense): Linear(in_features=1024, out_features=1024, bias=True)\n",
      "|   |   |   |   (activation): Tanh()\n",
      "|   |   |   )\n",
      "|   |   )\n",
      "|   )\n",
      "|   (decoder): TransformerDecoder(\n",
      "|   |   (embedding_layer): Embedding(\n",
      "|   |   |   (embed): Embedding(119, 128)\n",
      "|   |   )\n",
      "|   |   (position_embedding): PositionalEmbedding()\n",
      "|   |   (dropout): Dropout(p=0.0, inplace=False)\n",
      "|   |   (layers): ModuleList(\n",
      "|   |   |   (0-4): 5 x DecoderBlock(\n",
      "|   |   |   |   (attention): MultiHeadAttention(\n",
      "|   |   |   |   |   (query_matrix): Linear(in_features=16, out_features=16, bias=False)\n",
      "|   |   |   |   |   (key_matrix): Linear(in_features=16, out_features=16, bias=False)\n",
      "|   |   |   |   |   (value_matrix): Linear(in_features=16, out_features=16, bias=False)\n",
      "|   |   |   |   |   (out): Linear(in_features=128, out_features=128, bias=True)\n",
      "|   |   |   |   )\n",
      "|   |   |   |   (norm): LayerNorm((128,), eps=1e-05, elementwise_affine=True)\n",
      "|   |   |   |   (dropout): Dropout(p=0.0, inplace=False)\n",
      "|   |   |   |   (transformer_block): TransformerBlock(\n",
      "|   |   |   |   |   (attention): MultiHeadAttention(\n",
      "|   |   |   |   |   |   (query_matrix): Linear(in_features=4, out_features=4, bias=False)\n",
      "|   |   |   |   |   |   (key_matrix): Linear(in_features=4, out_features=4, bias=False)\n",
      "|   |   |   |   |   |   (value_matrix): Linear(in_features=4, out_features=4, bias=False)\n",
      "|   |   |   |   |   |   (out): Linear(in_features=128, out_features=128, bias=True)\n",
      "|   |   |   |   |   )\n",
      "|   |   |   |   |   (norm1): LayerNorm((128,), eps=1e-05, elementwise_affine=True)\n",
      "|   |   |   |   |   (norm2): LayerNorm((128,), eps=1e-05, elementwise_affine=True)\n",
      "|   |   |   |   |   (feed_forward): Sequential(\n",
      "|   |   |   |   |   |   (0): Linear(in_features=128, out_features=128, bias=True)\n",
      "|   |   |   |   |   |   (1): ReLU()\n",
      "|   |   |   |   |   |   (2): Sigmoid()\n",
      "|   |   |   |   |   |   (3): Linear(in_features=128, out_features=128, bias=True)\n",
      "|   |   |   |   |   )\n",
      "|   |   |   |   |   (dropout1): Dropout(p=0.0, inplace=False)\n",
      "|   |   |   |   |   (dropout2): Dropout(p=0.0, inplace=False)\n",
      "|   |   |   |   )\n",
      "|   |   |   )\n",
      "|   |   )\n",
      "|   |   (fc_out): Linear(in_features=128, out_features=119, bias=True)\n",
      "|   )\n",
      ")\n"
     ]
    }
   ],
   "source": [
    "print(str(transformer).replace('  ', '|   '))"
   ]
  },
  {
   "cell_type": "code",
   "execution_count": 100,
   "id": "62e7dff1-7038-4e03-b7d9-7a3805816edd",
   "metadata": {},
   "outputs": [
    {
     "data": {
      "text/plain": [
       "3"
      ]
     },
     "execution_count": 100,
     "metadata": {},
     "output_type": "execute_result"
    }
   ],
   "source": [
    "x = {}\n",
    "y = x[2] = 3\n",
    "y"
   ]
  },
  {
   "cell_type": "code",
   "execution_count": 101,
   "id": "57866dc6-f191-4641-90a8-f81c7d06cc51",
   "metadata": {},
   "outputs": [],
   "source": [
    "def substitute_encoder(model, encoder):\n",
    "    model.encoder = encoder\n",
    "    # need to make sure the embedding dimensions are the same"
   ]
  },
  {
   "cell_type": "markdown",
   "id": "71f8ab49-f02e-4645-9e83-7fc526421609",
   "metadata": {},
   "source": [
    "## Check Mem usage"
   ]
  },
  {
   "cell_type": "code",
   "execution_count": 102,
   "id": "ae4be39f-e962-4f52-bec5-669eae51fe17",
   "metadata": {
    "scrolled": true
   },
   "outputs": [],
   "source": [
    "# from torch.profiler import profile, record_function, ProfilerActivity\n",
    "\n",
    "# # Use profiler to track memory usage\n",
    "# with profile(activities=[ProfilerActivity.CUDA], profile_memory=True, record_shapes=True) as prof:\n",
    "#     with record_function(\"model_inference\"):\n",
    "#         for i in range(10):\n",
    "#         # i = 2\n",
    "#             inputs = tokenizers['seq'](ann_dataset.iloc[i]['seq'], return_tensors='pt')['input_ids'].to(DEVICE)\n",
    "#             target = torch.tensor([tokenizers['ann'].encode(ann_dataset.iloc[i]['ann']).ids]).to(DEVICE)\n",
    "#             outputs = transformer(inputs, target)\n",
    "\n",
    "# # Print profiling results\n",
    "# print(prof.key_averages().table(sort_by=\"cuda_memory_usage\", row_limit=10))"
   ]
  },
  {
   "cell_type": "code",
   "execution_count": 103,
   "id": "500f9d63-573a-48eb-a97a-daf9e5880e15",
   "metadata": {},
   "outputs": [],
   "source": [
    "# len(ann_dataset.iloc[i]['seq'])"
   ]
  },
  {
   "cell_type": "code",
   "execution_count": 104,
   "id": "b19e71e1-8e23-4d0e-85c6-43fecf6d4b39",
   "metadata": {},
   "outputs": [],
   "source": [
    "# protbert_model.protbert_model(**protbert_tokenizer(ann_dataset.iloc[2]['seq'], return_tensors='pt').to(DEVICE))"
   ]
  },
  {
   "cell_type": "code",
   "execution_count": null,
   "id": "a74b40d5-3093-4246-8646-b39ffb7dbe83",
   "metadata": {},
   "outputs": [],
   "source": []
  },
  {
   "cell_type": "markdown",
   "id": "96d33a75-1482-4bdf-84b7-17e02b7adbb5",
   "metadata": {},
   "source": [
    "## Training"
   ]
  },
  {
   "cell_type": "code",
   "execution_count": 105,
   "id": "396ad068-916e-4824-9962-35f706abf8d5",
   "metadata": {},
   "outputs": [],
   "source": [
    "optimizer = torch.optim.Adam(transformer.parameters(), lr=0.0000005, betas=(0.95, 0.999), eps=1e-9)"
   ]
  },
  {
   "cell_type": "code",
   "execution_count": 106,
   "id": "61e7b48d-f4f7-4cf7-b176-4d9168d375d8",
   "metadata": {},
   "outputs": [],
   "source": [
    "BATCH_SIZE = 5\n",
    "ITER_REPEATS = 1"
   ]
  },
  {
   "cell_type": "code",
   "execution_count": 107,
   "id": "fa9714db-9dbc-4e62-933c-34e9b25f2f3c",
   "metadata": {
    "scrolled": true
   },
   "outputs": [],
   "source": [
    "\n",
    "# for p in transformer.parameters():\n",
    "#     if p.dim() > 1:\n",
    "#         nn.init.xavier_uniform_(p)\n"
   ]
  },
  {
   "cell_type": "code",
   "execution_count": 108,
   "id": "7484c7ef-5d84-458f-912d-7322a6b591ec",
   "metadata": {},
   "outputs": [
    {
     "data": {
      "image/png": "[encoded data removed]",
      "text/plain": [
       "<Figure size 640x480 with 1 Axes>"
      ]
     },
     "metadata": {},
     "output_type": "display_data"
    },
    {
     "ename": "KeyboardInterrupt",
     "evalue": "",
     "output_type": "error",
     "traceback": [
      "\u001b[0;31m---------------------------------------------------------------------------\u001b[0m",
      "\u001b[0;31mKeyboardInterrupt\u001b[0m                         Traceback (most recent call last)",
      "Cell \u001b[0;32mIn[108], line 5\u001b[0m\n\u001b[1;32m      3\u001b[0m \u001b[38;5;28;01mfor\u001b[39;00m epoch \u001b[38;5;129;01min\u001b[39;00m \u001b[38;5;28mrange\u001b[39m(\u001b[38;5;241m1\u001b[39m, NUM_EPOCHS \u001b[38;5;241m+\u001b[39m \u001b[38;5;241m1\u001b[39m):\n\u001b[1;32m      4\u001b[0m     start_time \u001b[38;5;241m=\u001b[39m timer()\n\u001b[0;32m----> 5\u001b[0m     train_loss \u001b[38;5;241m=\u001b[39m \u001b[43mtrain_epoch\u001b[49m\u001b[43m(\u001b[49m\u001b[43mtransformer\u001b[49m\u001b[43m,\u001b[49m\u001b[43m \u001b[49m\u001b[43moptimizer\u001b[49m\u001b[43m)\u001b[49m\n\u001b[1;32m      6\u001b[0m     end_time \u001b[38;5;241m=\u001b[39m timer()\n\u001b[1;32m      7\u001b[0m     eval_res \u001b[38;5;241m=\u001b[39m evaluate(transformer)\n",
      "Cell \u001b[0;32mIn[76], line 75\u001b[0m, in \u001b[0;36mtrain_epoch\u001b[0;34m(model, optimizer)\u001b[0m\n\u001b[1;32m     72\u001b[0m         \u001b[38;5;66;03m# anm.add_data(hit_rate, texts={'label': f'{tolist(tgt_out[i])}', 'pred': f'{tolist(tokens[i])}'})\u001b[39;00m\n\u001b[1;32m     74\u001b[0m     \u001b[38;5;28;01mfor\u001b[39;00m i \u001b[38;5;129;01min\u001b[39;00m \u001b[38;5;28mrange\u001b[39m(ITER_REPEATS):\n\u001b[0;32m---> 75\u001b[0m         \u001b[43mstep\u001b[49m\u001b[43m(\u001b[49m\u001b[43mi\u001b[49m\u001b[43m)\u001b[49m\n\u001b[1;32m     77\u001b[0m \u001b[38;5;66;03m# return losses / len(list(train_dataloader))\u001b[39;00m\n\u001b[1;32m     78\u001b[0m \u001b[38;5;28;01mreturn\u001b[39;00m anm\u001b[38;5;241m.\u001b[39mcurve_ma[\u001b[38;5;241m-\u001b[39m\u001b[38;5;241m1\u001b[39m]\n",
      "Cell \u001b[0;32mIn[76], line 49\u001b[0m, in \u001b[0;36mtrain_epoch.<locals>.step\u001b[0;34m(i)\u001b[0m\n\u001b[1;32m     46\u001b[0m \u001b[38;5;66;03m# loss = loss_fn(logits.reshape(-1, logits.shape[-1]), tgt.reshape(-1))\u001b[39;00m\n\u001b[1;32m     47\u001b[0m loss\u001b[38;5;241m.\u001b[39mbackward()\n\u001b[0;32m---> 49\u001b[0m \u001b[43moptimizer\u001b[49m\u001b[38;5;241;43m.\u001b[39;49m\u001b[43mstep\u001b[49m\u001b[43m(\u001b[49m\u001b[43m)\u001b[49m\n\u001b[1;32m     50\u001b[0m losses \u001b[38;5;241m+\u001b[39m\u001b[38;5;241m=\u001b[39m loss\u001b[38;5;241m.\u001b[39mitem()\n\u001b[1;32m     52\u001b[0m \u001b[38;5;66;03m# print('label', tgt_out)\u001b[39;00m\n\u001b[1;32m     53\u001b[0m \u001b[38;5;66;03m# print('pred', tokens)\u001b[39;00m\n",
      "File \u001b[0;32m~/.conda/envs/py310/lib/python3.10/site-packages/torch/optim/optimizer.py:385\u001b[0m, in \u001b[0;36mOptimizer.profile_hook_step.<locals>.wrapper\u001b[0;34m(*args, **kwargs)\u001b[0m\n\u001b[1;32m    380\u001b[0m         \u001b[38;5;28;01melse\u001b[39;00m:\n\u001b[1;32m    381\u001b[0m             \u001b[38;5;28;01mraise\u001b[39;00m \u001b[38;5;167;01mRuntimeError\u001b[39;00m(\n\u001b[1;32m    382\u001b[0m                 \u001b[38;5;124mf\u001b[39m\u001b[38;5;124m\"\u001b[39m\u001b[38;5;132;01m{\u001b[39;00mfunc\u001b[38;5;132;01m}\u001b[39;00m\u001b[38;5;124m must return None or a tuple of (new_args, new_kwargs), but got \u001b[39m\u001b[38;5;132;01m{\u001b[39;00mresult\u001b[38;5;132;01m}\u001b[39;00m\u001b[38;5;124m.\u001b[39m\u001b[38;5;124m\"\u001b[39m\n\u001b[1;32m    383\u001b[0m             )\n\u001b[0;32m--> 385\u001b[0m out \u001b[38;5;241m=\u001b[39m \u001b[43mfunc\u001b[49m\u001b[43m(\u001b[49m\u001b[38;5;241;43m*\u001b[39;49m\u001b[43margs\u001b[49m\u001b[43m,\u001b[49m\u001b[43m \u001b[49m\u001b[38;5;241;43m*\u001b[39;49m\u001b[38;5;241;43m*\u001b[39;49m\u001b[43mkwargs\u001b[49m\u001b[43m)\u001b[49m\n\u001b[1;32m    386\u001b[0m \u001b[38;5;28mself\u001b[39m\u001b[38;5;241m.\u001b[39m_optimizer_step_code()\n\u001b[1;32m    388\u001b[0m \u001b[38;5;66;03m# call optimizer step post hooks\u001b[39;00m\n",
      "File \u001b[0;32m~/.conda/envs/py310/lib/python3.10/site-packages/torch/optim/optimizer.py:76\u001b[0m, in \u001b[0;36m_use_grad_for_differentiable.<locals>._use_grad\u001b[0;34m(self, *args, **kwargs)\u001b[0m\n\u001b[1;32m     74\u001b[0m     torch\u001b[38;5;241m.\u001b[39mset_grad_enabled(\u001b[38;5;28mself\u001b[39m\u001b[38;5;241m.\u001b[39mdefaults[\u001b[38;5;124m'\u001b[39m\u001b[38;5;124mdifferentiable\u001b[39m\u001b[38;5;124m'\u001b[39m])\n\u001b[1;32m     75\u001b[0m     torch\u001b[38;5;241m.\u001b[39m_dynamo\u001b[38;5;241m.\u001b[39mgraph_break()\n\u001b[0;32m---> 76\u001b[0m     ret \u001b[38;5;241m=\u001b[39m \u001b[43mfunc\u001b[49m\u001b[43m(\u001b[49m\u001b[38;5;28;43mself\u001b[39;49m\u001b[43m,\u001b[49m\u001b[43m \u001b[49m\u001b[38;5;241;43m*\u001b[39;49m\u001b[43margs\u001b[49m\u001b[43m,\u001b[49m\u001b[43m \u001b[49m\u001b[38;5;241;43m*\u001b[39;49m\u001b[38;5;241;43m*\u001b[39;49m\u001b[43mkwargs\u001b[49m\u001b[43m)\u001b[49m\n\u001b[1;32m     77\u001b[0m \u001b[38;5;28;01mfinally\u001b[39;00m:\n\u001b[1;32m     78\u001b[0m     torch\u001b[38;5;241m.\u001b[39m_dynamo\u001b[38;5;241m.\u001b[39mgraph_break()\n",
      "File \u001b[0;32m~/.conda/envs/py310/lib/python3.10/site-packages/torch/optim/adam.py:166\u001b[0m, in \u001b[0;36mAdam.step\u001b[0;34m(self, closure)\u001b[0m\n\u001b[1;32m    155\u001b[0m     beta1, beta2 \u001b[38;5;241m=\u001b[39m group[\u001b[38;5;124m'\u001b[39m\u001b[38;5;124mbetas\u001b[39m\u001b[38;5;124m'\u001b[39m]\n\u001b[1;32m    157\u001b[0m     has_complex \u001b[38;5;241m=\u001b[39m \u001b[38;5;28mself\u001b[39m\u001b[38;5;241m.\u001b[39m_init_group(\n\u001b[1;32m    158\u001b[0m         group,\n\u001b[1;32m    159\u001b[0m         params_with_grad,\n\u001b[0;32m   (...)\u001b[0m\n\u001b[1;32m    163\u001b[0m         max_exp_avg_sqs,\n\u001b[1;32m    164\u001b[0m         state_steps)\n\u001b[0;32m--> 166\u001b[0m     \u001b[43madam\u001b[49m\u001b[43m(\u001b[49m\n\u001b[1;32m    167\u001b[0m \u001b[43m        \u001b[49m\u001b[43mparams_with_grad\u001b[49m\u001b[43m,\u001b[49m\n\u001b[1;32m    168\u001b[0m \u001b[43m        \u001b[49m\u001b[43mgrads\u001b[49m\u001b[43m,\u001b[49m\n\u001b[1;32m    169\u001b[0m \u001b[43m        \u001b[49m\u001b[43mexp_avgs\u001b[49m\u001b[43m,\u001b[49m\n\u001b[1;32m    170\u001b[0m \u001b[43m        \u001b[49m\u001b[43mexp_avg_sqs\u001b[49m\u001b[43m,\u001b[49m\n\u001b[1;32m    171\u001b[0m \u001b[43m        \u001b[49m\u001b[43mmax_exp_avg_sqs\u001b[49m\u001b[43m,\u001b[49m\n\u001b[1;32m    172\u001b[0m \u001b[43m        \u001b[49m\u001b[43mstate_steps\u001b[49m\u001b[43m,\u001b[49m\n\u001b[1;32m    173\u001b[0m \u001b[43m        \u001b[49m\u001b[43mamsgrad\u001b[49m\u001b[38;5;241;43m=\u001b[39;49m\u001b[43mgroup\u001b[49m\u001b[43m[\u001b[49m\u001b[38;5;124;43m'\u001b[39;49m\u001b[38;5;124;43mamsgrad\u001b[39;49m\u001b[38;5;124;43m'\u001b[39;49m\u001b[43m]\u001b[49m\u001b[43m,\u001b[49m\n\u001b[1;32m    174\u001b[0m \u001b[43m        \u001b[49m\u001b[43mhas_complex\u001b[49m\u001b[38;5;241;43m=\u001b[39;49m\u001b[43mhas_complex\u001b[49m\u001b[43m,\u001b[49m\n\u001b[1;32m    175\u001b[0m \u001b[43m        \u001b[49m\u001b[43mbeta1\u001b[49m\u001b[38;5;241;43m=\u001b[39;49m\u001b[43mbeta1\u001b[49m\u001b[43m,\u001b[49m\n\u001b[1;32m    176\u001b[0m \u001b[43m        \u001b[49m\u001b[43mbeta2\u001b[49m\u001b[38;5;241;43m=\u001b[39;49m\u001b[43mbeta2\u001b[49m\u001b[43m,\u001b[49m\n\u001b[1;32m    177\u001b[0m \u001b[43m        \u001b[49m\u001b[43mlr\u001b[49m\u001b[38;5;241;43m=\u001b[39;49m\u001b[43mgroup\u001b[49m\u001b[43m[\u001b[49m\u001b[38;5;124;43m'\u001b[39;49m\u001b[38;5;124;43mlr\u001b[39;49m\u001b[38;5;124;43m'\u001b[39;49m\u001b[43m]\u001b[49m\u001b[43m,\u001b[49m\n\u001b[1;32m    178\u001b[0m \u001b[43m        \u001b[49m\u001b[43mweight_decay\u001b[49m\u001b[38;5;241;43m=\u001b[39;49m\u001b[43mgroup\u001b[49m\u001b[43m[\u001b[49m\u001b[38;5;124;43m'\u001b[39;49m\u001b[38;5;124;43mweight_decay\u001b[39;49m\u001b[38;5;124;43m'\u001b[39;49m\u001b[43m]\u001b[49m\u001b[43m,\u001b[49m\n\u001b[1;32m    179\u001b[0m \u001b[43m        \u001b[49m\u001b[43meps\u001b[49m\u001b[38;5;241;43m=\u001b[39;49m\u001b[43mgroup\u001b[49m\u001b[43m[\u001b[49m\u001b[38;5;124;43m'\u001b[39;49m\u001b[38;5;124;43meps\u001b[39;49m\u001b[38;5;124;43m'\u001b[39;49m\u001b[43m]\u001b[49m\u001b[43m,\u001b[49m\n\u001b[1;32m    180\u001b[0m \u001b[43m        \u001b[49m\u001b[43mmaximize\u001b[49m\u001b[38;5;241;43m=\u001b[39;49m\u001b[43mgroup\u001b[49m\u001b[43m[\u001b[49m\u001b[38;5;124;43m'\u001b[39;49m\u001b[38;5;124;43mmaximize\u001b[39;49m\u001b[38;5;124;43m'\u001b[39;49m\u001b[43m]\u001b[49m\u001b[43m,\u001b[49m\n\u001b[1;32m    181\u001b[0m \u001b[43m        \u001b[49m\u001b[43mforeach\u001b[49m\u001b[38;5;241;43m=\u001b[39;49m\u001b[43mgroup\u001b[49m\u001b[43m[\u001b[49m\u001b[38;5;124;43m'\u001b[39;49m\u001b[38;5;124;43mforeach\u001b[39;49m\u001b[38;5;124;43m'\u001b[39;49m\u001b[43m]\u001b[49m\u001b[43m,\u001b[49m\n\u001b[1;32m    182\u001b[0m \u001b[43m        \u001b[49m\u001b[43mcapturable\u001b[49m\u001b[38;5;241;43m=\u001b[39;49m\u001b[43mgroup\u001b[49m\u001b[43m[\u001b[49m\u001b[38;5;124;43m'\u001b[39;49m\u001b[38;5;124;43mcapturable\u001b[39;49m\u001b[38;5;124;43m'\u001b[39;49m\u001b[43m]\u001b[49m\u001b[43m,\u001b[49m\n\u001b[1;32m    183\u001b[0m \u001b[43m        \u001b[49m\u001b[43mdifferentiable\u001b[49m\u001b[38;5;241;43m=\u001b[39;49m\u001b[43mgroup\u001b[49m\u001b[43m[\u001b[49m\u001b[38;5;124;43m'\u001b[39;49m\u001b[38;5;124;43mdifferentiable\u001b[39;49m\u001b[38;5;124;43m'\u001b[39;49m\u001b[43m]\u001b[49m\u001b[43m,\u001b[49m\n\u001b[1;32m    184\u001b[0m \u001b[43m        \u001b[49m\u001b[43mfused\u001b[49m\u001b[38;5;241;43m=\u001b[39;49m\u001b[43mgroup\u001b[49m\u001b[43m[\u001b[49m\u001b[38;5;124;43m'\u001b[39;49m\u001b[38;5;124;43mfused\u001b[39;49m\u001b[38;5;124;43m'\u001b[39;49m\u001b[43m]\u001b[49m\u001b[43m,\u001b[49m\n\u001b[1;32m    185\u001b[0m \u001b[43m        \u001b[49m\u001b[43mgrad_scale\u001b[49m\u001b[38;5;241;43m=\u001b[39;49m\u001b[38;5;28;43mgetattr\u001b[39;49m\u001b[43m(\u001b[49m\u001b[38;5;28;43mself\u001b[39;49m\u001b[43m,\u001b[49m\u001b[43m \u001b[49m\u001b[38;5;124;43m\"\u001b[39;49m\u001b[38;5;124;43mgrad_scale\u001b[39;49m\u001b[38;5;124;43m\"\u001b[39;49m\u001b[43m,\u001b[49m\u001b[43m \u001b[49m\u001b[38;5;28;43;01mNone\u001b[39;49;00m\u001b[43m)\u001b[49m\u001b[43m,\u001b[49m\n\u001b[1;32m    186\u001b[0m \u001b[43m        \u001b[49m\u001b[43mfound_inf\u001b[49m\u001b[38;5;241;43m=\u001b[39;49m\u001b[38;5;28;43mgetattr\u001b[39;49m\u001b[43m(\u001b[49m\u001b[38;5;28;43mself\u001b[39;49m\u001b[43m,\u001b[49m\u001b[43m \u001b[49m\u001b[38;5;124;43m\"\u001b[39;49m\u001b[38;5;124;43mfound_inf\u001b[39;49m\u001b[38;5;124;43m\"\u001b[39;49m\u001b[43m,\u001b[49m\u001b[43m \u001b[49m\u001b[38;5;28;43;01mNone\u001b[39;49;00m\u001b[43m)\u001b[49m\u001b[43m,\u001b[49m\n\u001b[1;32m    187\u001b[0m \u001b[43m    \u001b[49m\u001b[43m)\u001b[49m\n\u001b[1;32m    189\u001b[0m \u001b[38;5;28;01mreturn\u001b[39;00m loss\n",
      "File \u001b[0;32m~/.conda/envs/py310/lib/python3.10/site-packages/torch/optim/adam.py:316\u001b[0m, in \u001b[0;36madam\u001b[0;34m(params, grads, exp_avgs, exp_avg_sqs, max_exp_avg_sqs, state_steps, foreach, capturable, differentiable, fused, grad_scale, found_inf, has_complex, amsgrad, beta1, beta2, lr, weight_decay, eps, maximize)\u001b[0m\n\u001b[1;32m    313\u001b[0m \u001b[38;5;28;01melse\u001b[39;00m:\n\u001b[1;32m    314\u001b[0m     func \u001b[38;5;241m=\u001b[39m _single_tensor_adam\n\u001b[0;32m--> 316\u001b[0m \u001b[43mfunc\u001b[49m\u001b[43m(\u001b[49m\u001b[43mparams\u001b[49m\u001b[43m,\u001b[49m\n\u001b[1;32m    317\u001b[0m \u001b[43m     \u001b[49m\u001b[43mgrads\u001b[49m\u001b[43m,\u001b[49m\n\u001b[1;32m    318\u001b[0m \u001b[43m     \u001b[49m\u001b[43mexp_avgs\u001b[49m\u001b[43m,\u001b[49m\n\u001b[1;32m    319\u001b[0m \u001b[43m     \u001b[49m\u001b[43mexp_avg_sqs\u001b[49m\u001b[43m,\u001b[49m\n\u001b[1;32m    320\u001b[0m \u001b[43m     \u001b[49m\u001b[43mmax_exp_avg_sqs\u001b[49m\u001b[43m,\u001b[49m\n\u001b[1;32m    321\u001b[0m \u001b[43m     \u001b[49m\u001b[43mstate_steps\u001b[49m\u001b[43m,\u001b[49m\n\u001b[1;32m    322\u001b[0m \u001b[43m     \u001b[49m\u001b[43mamsgrad\u001b[49m\u001b[38;5;241;43m=\u001b[39;49m\u001b[43mamsgrad\u001b[49m\u001b[43m,\u001b[49m\n\u001b[1;32m    323\u001b[0m \u001b[43m     \u001b[49m\u001b[43mhas_complex\u001b[49m\u001b[38;5;241;43m=\u001b[39;49m\u001b[43mhas_complex\u001b[49m\u001b[43m,\u001b[49m\n\u001b[1;32m    324\u001b[0m \u001b[43m     \u001b[49m\u001b[43mbeta1\u001b[49m\u001b[38;5;241;43m=\u001b[39;49m\u001b[43mbeta1\u001b[49m\u001b[43m,\u001b[49m\n\u001b[1;32m    325\u001b[0m \u001b[43m     \u001b[49m\u001b[43mbeta2\u001b[49m\u001b[38;5;241;43m=\u001b[39;49m\u001b[43mbeta2\u001b[49m\u001b[43m,\u001b[49m\n\u001b[1;32m    326\u001b[0m \u001b[43m     \u001b[49m\u001b[43mlr\u001b[49m\u001b[38;5;241;43m=\u001b[39;49m\u001b[43mlr\u001b[49m\u001b[43m,\u001b[49m\n\u001b[1;32m    327\u001b[0m \u001b[43m     \u001b[49m\u001b[43mweight_decay\u001b[49m\u001b[38;5;241;43m=\u001b[39;49m\u001b[43mweight_decay\u001b[49m\u001b[43m,\u001b[49m\n\u001b[1;32m    328\u001b[0m \u001b[43m     \u001b[49m\u001b[43meps\u001b[49m\u001b[38;5;241;43m=\u001b[39;49m\u001b[43meps\u001b[49m\u001b[43m,\u001b[49m\n\u001b[1;32m    329\u001b[0m \u001b[43m     \u001b[49m\u001b[43mmaximize\u001b[49m\u001b[38;5;241;43m=\u001b[39;49m\u001b[43mmaximize\u001b[49m\u001b[43m,\u001b[49m\n\u001b[1;32m    330\u001b[0m \u001b[43m     \u001b[49m\u001b[43mcapturable\u001b[49m\u001b[38;5;241;43m=\u001b[39;49m\u001b[43mcapturable\u001b[49m\u001b[43m,\u001b[49m\n\u001b[1;32m    331\u001b[0m \u001b[43m     \u001b[49m\u001b[43mdifferentiable\u001b[49m\u001b[38;5;241;43m=\u001b[39;49m\u001b[43mdifferentiable\u001b[49m\u001b[43m,\u001b[49m\n\u001b[1;32m    332\u001b[0m \u001b[43m     \u001b[49m\u001b[43mgrad_scale\u001b[49m\u001b[38;5;241;43m=\u001b[39;49m\u001b[43mgrad_scale\u001b[49m\u001b[43m,\u001b[49m\n\u001b[1;32m    333\u001b[0m \u001b[43m     \u001b[49m\u001b[43mfound_inf\u001b[49m\u001b[38;5;241;43m=\u001b[39;49m\u001b[43mfound_inf\u001b[49m\u001b[43m)\u001b[49m\n",
      "File \u001b[0;32m~/.conda/envs/py310/lib/python3.10/site-packages/torch/optim/adam.py:482\u001b[0m, in \u001b[0;36m_multi_tensor_adam\u001b[0;34m(params, grads, exp_avgs, exp_avg_sqs, max_exp_avg_sqs, state_steps, grad_scale, found_inf, amsgrad, has_complex, beta1, beta2, lr, weight_decay, eps, maximize, capturable, differentiable)\u001b[0m\n\u001b[1;32m    478\u001b[0m \u001b[38;5;28;01massert\u001b[39;00m grad_scale \u001b[38;5;129;01mis\u001b[39;00m \u001b[38;5;28;01mNone\u001b[39;00m \u001b[38;5;129;01mand\u001b[39;00m found_inf \u001b[38;5;129;01mis\u001b[39;00m \u001b[38;5;28;01mNone\u001b[39;00m\n\u001b[1;32m    480\u001b[0m \u001b[38;5;28;01massert\u001b[39;00m \u001b[38;5;129;01mnot\u001b[39;00m differentiable, \u001b[38;5;124m\"\u001b[39m\u001b[38;5;124m_foreach ops don\u001b[39m\u001b[38;5;124m'\u001b[39m\u001b[38;5;124mt support autograd\u001b[39m\u001b[38;5;124m\"\u001b[39m\n\u001b[0;32m--> 482\u001b[0m grouped_tensors \u001b[38;5;241m=\u001b[39m \u001b[43mOptimizer\u001b[49m\u001b[38;5;241;43m.\u001b[39;49m\u001b[43m_group_tensors_by_device_and_dtype\u001b[49m\u001b[43m(\u001b[49m\n\u001b[1;32m    483\u001b[0m \u001b[43m    \u001b[49m\u001b[43m[\u001b[49m\u001b[43mparams\u001b[49m\u001b[43m,\u001b[49m\u001b[43m \u001b[49m\u001b[43mgrads\u001b[49m\u001b[43m,\u001b[49m\u001b[43m \u001b[49m\u001b[43mexp_avgs\u001b[49m\u001b[43m,\u001b[49m\u001b[43m \u001b[49m\u001b[43mexp_avg_sqs\u001b[49m\u001b[43m,\u001b[49m\u001b[43m \u001b[49m\u001b[43mmax_exp_avg_sqs\u001b[49m\u001b[43m,\u001b[49m\u001b[43m \u001b[49m\u001b[43mstate_steps\u001b[49m\u001b[43m]\u001b[49m\u001b[43m)\u001b[49m\n\u001b[1;32m    484\u001b[0m \u001b[38;5;28;01mfor\u001b[39;00m ((\n\u001b[1;32m    485\u001b[0m     device_params,\n\u001b[1;32m    486\u001b[0m     device_grads,\n\u001b[0;32m   (...)\u001b[0m\n\u001b[1;32m    490\u001b[0m     device_state_steps,\n\u001b[1;32m    491\u001b[0m ), _) \u001b[38;5;129;01min\u001b[39;00m grouped_tensors\u001b[38;5;241m.\u001b[39mvalues():\n\u001b[1;32m    493\u001b[0m     \u001b[38;5;28;01mif\u001b[39;00m maximize:\n",
      "File \u001b[0;32m~/.conda/envs/py310/lib/python3.10/site-packages/torch/optim/optimizer.py:409\u001b[0m, in \u001b[0;36mOptimizer._group_tensors_by_device_and_dtype\u001b[0;34m(tensorlistlist, with_indices)\u001b[0m\n\u001b[1;32m    407\u001b[0m     \u001b[38;5;28;01mreturn\u001b[39;00m {(\u001b[38;5;28;01mNone\u001b[39;00m, \u001b[38;5;28;01mNone\u001b[39;00m): (tensorlistlist, \u001b[38;5;28mlist\u001b[39m(\u001b[38;5;28mrange\u001b[39m(\u001b[38;5;28mlen\u001b[39m(tensorlistlist[\u001b[38;5;241m0\u001b[39m]))))}\n\u001b[1;32m    408\u001b[0m \u001b[38;5;28;01melse\u001b[39;00m:\n\u001b[0;32m--> 409\u001b[0m     \u001b[38;5;28;01mreturn\u001b[39;00m \u001b[43m_group_tensors_by_device_and_dtype\u001b[49m\u001b[43m(\u001b[49m\u001b[43mtensorlistlist\u001b[49m\u001b[43m,\u001b[49m\u001b[43m \u001b[49m\u001b[43mwith_indices\u001b[49m\u001b[43m)\u001b[49m\n",
      "File \u001b[0;32m~/.conda/envs/py310/lib/python3.10/site-packages/torch/utils/_contextlib.py:115\u001b[0m, in \u001b[0;36mcontext_decorator.<locals>.decorate_context\u001b[0;34m(*args, **kwargs)\u001b[0m\n\u001b[1;32m    112\u001b[0m \u001b[38;5;129m@functools\u001b[39m\u001b[38;5;241m.\u001b[39mwraps(func)\n\u001b[1;32m    113\u001b[0m \u001b[38;5;28;01mdef\u001b[39;00m \u001b[38;5;21mdecorate_context\u001b[39m(\u001b[38;5;241m*\u001b[39margs, \u001b[38;5;241m*\u001b[39m\u001b[38;5;241m*\u001b[39mkwargs):\n\u001b[1;32m    114\u001b[0m     \u001b[38;5;28;01mwith\u001b[39;00m ctx_factory():\n\u001b[0;32m--> 115\u001b[0m         \u001b[38;5;28;01mreturn\u001b[39;00m \u001b[43mfunc\u001b[49m\u001b[43m(\u001b[49m\u001b[38;5;241;43m*\u001b[39;49m\u001b[43margs\u001b[49m\u001b[43m,\u001b[49m\u001b[43m \u001b[49m\u001b[38;5;241;43m*\u001b[39;49m\u001b[38;5;241;43m*\u001b[39;49m\u001b[43mkwargs\u001b[49m\u001b[43m)\u001b[49m\n",
      "File \u001b[0;32m~/.conda/envs/py310/lib/python3.10/site-packages/torch/utils/_foreach_utils.py:38\u001b[0m, in \u001b[0;36m_group_tensors_by_device_and_dtype\u001b[0;34m(tensorlistlist, with_indices)\u001b[0m\n\u001b[1;32m     30\u001b[0m \u001b[38;5;129m@no_grad\u001b[39m()\n\u001b[1;32m     31\u001b[0m \u001b[38;5;28;01mdef\u001b[39;00m \u001b[38;5;21m_group_tensors_by_device_and_dtype\u001b[39m(\n\u001b[1;32m     32\u001b[0m     tensorlistlist: TensorListList,\n\u001b[1;32m     33\u001b[0m     with_indices: \u001b[38;5;28mbool\u001b[39m \u001b[38;5;241m=\u001b[39m \u001b[38;5;28;01mFalse\u001b[39;00m,\n\u001b[1;32m     34\u001b[0m ) \u001b[38;5;241m-\u001b[39m\u001b[38;5;241m>\u001b[39m Dict[Tuple[torch\u001b[38;5;241m.\u001b[39mdevice, torch\u001b[38;5;241m.\u001b[39mdtype], Tuple[TensorListList, Indices]]:\n\u001b[1;32m     35\u001b[0m     \u001b[38;5;28;01mreturn\u001b[39;00m {\n\u001b[1;32m     36\u001b[0m         (device, \u001b[38;5;28mgetattr\u001b[39m(torch, str_dtype)): value\n\u001b[1;32m     37\u001b[0m         \u001b[38;5;28;01mfor\u001b[39;00m (device, str_dtype), value \u001b[38;5;129;01min\u001b[39;00m\n\u001b[0;32m---> 38\u001b[0m         \u001b[43mtorch\u001b[49m\u001b[38;5;241;43m.\u001b[39;49m\u001b[43m_C\u001b[49m\u001b[38;5;241;43m.\u001b[39;49m\u001b[43m_group_tensors_by_device_and_dtype\u001b[49m\u001b[43m(\u001b[49m\u001b[43mtensorlistlist\u001b[49m\u001b[43m,\u001b[49m\u001b[43m \u001b[49m\u001b[43mwith_indices\u001b[49m\u001b[43m)\u001b[49m\u001b[38;5;241m.\u001b[39mitems()\n\u001b[1;32m     39\u001b[0m     }\n",
      "\u001b[0;31mKeyboardInterrupt\u001b[0m: "
     ]
    }
   ],
   "source": [
    "NUM_EPOCHS = 1\n",
    "\n",
    "for epoch in range(1, NUM_EPOCHS + 1):\n",
    "    start_time = timer()\n",
    "    train_loss = train_epoch(transformer, optimizer)\n",
    "    end_time = timer()\n",
    "    eval_res = evaluate(transformer)\n",
    "    val_loss = eval_res['loss']\n",
    "    val_hit  = eval_res['hit_rate']\n",
    "    # if epoch % 10 == 0:\n",
    "\n",
    "print(( f\"Epoch: {epoch}, Train loss: {train_loss:.3f}, Val loss: {val_loss:.3f}, \"f\"Epoch time = {(end_time - start_time):.3f}s\"))\n",
    "pickle.dump(transformer, open(pickle_file, 'wb'))"
   ]
  },
  {
   "cell_type": "code",
   "execution_count": null,
   "id": "92250dda-8f7c-4eb5-87ea-7588df1f0001",
   "metadata": {},
   "outputs": [],
   "source": [
    "\n",
    "    for p in transformer.parameters():\n",
    "        if p.dim() > 1:\n",
    "            nn.init.xavier_uniform_(p)\n",
    "    "
   ]
  },
  {
   "cell_type": "code",
   "execution_count": null,
   "id": "0be71043-875a-41f3-8400-38dd90d9940c",
   "metadata": {},
   "outputs": [],
   "source": [
    "torch.nn.rei\n",
    "transformer."
   ]
  },
  {
   "cell_type": "markdown",
   "id": "b63d8514-8e84-480e-a836-507f86a7fb68",
   "metadata": {},
   "source": [
    "## Debugging"
   ]
  },
  {
   "cell_type": "code",
   "execution_count": 109,
   "id": "8b5dcce1-9877-43a1-ae1e-e6bcec9581f2",
   "metadata": {},
   "outputs": [
    {
     "data": {
      "text/html": [
       "<div>\n",
       "<style scoped>\n",
       "    .dataframe tbody tr th:only-of-type {\n",
       "        vertical-align: middle;\n",
       "    }\n",
       "\n",
       "    .dataframe tbody tr th {\n",
       "        vertical-align: top;\n",
       "    }\n",
       "\n",
       "    .dataframe thead th {\n",
       "        text-align: right;\n",
       "    }\n",
       "</style>\n",
       "<table border=\"1\" class=\"dataframe\">\n",
       "  <thead>\n",
       "    <tr style=\"text-align: right;\">\n",
       "      <th></th>\n",
       "      <th>seq</th>\n",
       "      <th>ann</th>\n",
       "    </tr>\n",
       "  </thead>\n",
       "  <tbody>\n",
       "    <tr>\n",
       "      <th>10471</th>\n",
       "      <td>M S R S G T A G Y D M S I I F S P Q G K L Y Q ...</td>\n",
       "      <td>GO:0008150 GO:0008152 GO:0044238 GO:0009056 GO...</td>\n",
       "    </tr>\n",
       "  </tbody>\n",
       "</table>\n",
       "</div>"
      ],
      "text/plain": [
       "                                                     seq  \\\n",
       "10471  M S R S G T A G Y D M S I I F S P Q G K L Y Q ...   \n",
       "\n",
       "                                                     ann  \n",
       "10471  GO:0008150 GO:0008152 GO:0044238 GO:0009056 GO...  "
      ]
     },
     "execution_count": 109,
     "metadata": {},
     "output_type": "execute_result"
    }
   ],
   "source": [
    "sample_data = ann_dataset.sample(1)\n",
    "sample_data"
   ]
  },
  {
   "cell_type": "code",
   "execution_count": 110,
   "id": "744a9820-4771-48fe-8bed-70a7e18e1302",
   "metadata": {
    "scrolled": true
   },
   "outputs": [
    {
     "data": {
      "text/plain": [
       "tensor([[ 2, 21, 10, 13, 10,  7, 15,  6,  7, 20, 14, 21, 10, 11, 11, 19, 10, 16,\n",
       "         18,  7, 12,  5, 20, 18, 11,  9, 20,  6, 19, 12,  6, 11, 12, 15,  7,  7,\n",
       "          5, 15, 10,  8,  7, 11, 13,  7, 12, 14, 23,  8,  8,  8,  6, 15, 18, 12,\n",
       "         12, 11, 16, 14, 12,  5, 11, 14, 16, 12, 10,  8, 15, 10,  5, 20, 12,  5,\n",
       "         15, 14, 20, 11,  7, 23,  8, 18, 15,  7, 11,  8, 16, 14, 10, 12, 10, 18,\n",
       "          6, 10, 13,  6, 11, 18,  9, 23,  6, 15, 19, 22, 22, 12, 19,  7, 20, 18,\n",
       "         11, 16, 16, 17,  8,  5,  6, 12, 13, 21,  6, 14, 11,  6, 18,  5, 10, 15,\n",
       "         18, 22,  6, 10,  6, 13, 16,  5,  7,  8,  6, 21, 11,  5, 11,  7, 11, 14,\n",
       "         14,  9,  5,  7, 16, 18,  5, 19, 12,  8, 14, 16,  6,  7,  8, 19, 15,  7,\n",
       "         20, 12,  6, 15,  6,  6,  7,  9, 12,  9, 18,  9, 10, 15, 17, 19,  5,  9,\n",
       "         12, 12, 19, 12, 10, 17, 16, 18,  5, 10, 12, 14,  9, 15, 11, 18,  8, 10,\n",
       "          5, 11,  8, 21,  6, 11, 10, 15,  5, 18, 10,  8,  5,  7,  6, 14,  5, 12,\n",
       "         10, 10, 14,  5,  9, 11,  7, 11, 23, 15, 21, 14, 17, 13, 12, 19,  8, 11,\n",
       "         21, 15, 14,  9, 14, 11, 14, 10, 18,  5, 15, 12,  5,  6,  9, 13, 14,  3]],\n",
       "       device='cuda:0')"
      ]
     },
     "execution_count": 110,
     "metadata": {},
     "output_type": "execute_result"
    }
   ],
   "source": [
    "sample_inputs = tokenizers[SRC_LANGUAGE](sample_data.iloc[0][SRC_LANGUAGE], return_tensors='pt')['input_ids'].to(DEVICE)\n",
    "sample_inputs"
   ]
  },
  {
   "cell_type": "code",
   "execution_count": 111,
   "id": "c51e9363-b2e7-4829-893d-10add438482f",
   "metadata": {},
   "outputs": [
    {
     "data": {
      "text/plain": [
       "tensor([[ 2,  5,  8, 12, 19,  7,  3]], device='cuda:0')"
      ]
     },
     "execution_count": 111,
     "metadata": {},
     "output_type": "execute_result"
    }
   ],
   "source": [
    "sample_target = torch.tensor([tokenizers[TGT_LANGUAGE].encode(sample_data.iloc[0][TGT_LANGUAGE]).ids]).to(DEVICE)\n",
    "sample_target"
   ]
  },
  {
   "cell_type": "code",
   "execution_count": 112,
   "id": "22805c5a-25a9-46d4-87e2-67f455c6389d",
   "metadata": {},
   "outputs": [
    {
     "data": {
      "text/plain": [
       "torch.Size([1, 252, 128])"
      ]
     },
     "execution_count": 112,
     "metadata": {},
     "output_type": "execute_result"
    }
   ],
   "source": [
    "transformer.encoder(sample_inputs).shape"
   ]
  },
  {
   "cell_type": "code",
   "execution_count": 113,
   "id": "99bb0a9c-1ad4-4b73-9698-c74b159c95c5",
   "metadata": {
    "scrolled": true
   },
   "outputs": [
    {
     "data": {
      "text/plain": [
       "tensor([[[4.6304e-04, 1.0384e-04, 1.7124e-04, 1.3730e-04, 2.1670e-03,\n",
       "          2.6050e-04, 9.2121e-01, 6.8794e-04, 3.3958e-04, 1.4696e-04,\n",
       "          3.4400e-04, 3.4742e-04, 2.0464e-04, 1.6986e-04, 1.6964e-04,\n",
       "          4.4861e-04, 1.3087e-04, 1.6264e-04, 5.1994e-04, 7.2182e-04,\n",
       "          4.5418e-04, 3.9014e-04, 2.0881e-04, 1.0567e-03, 9.0612e-05,\n",
       "          7.4666e-05, 1.8457e-04, 9.7812e-04, 4.6843e-04, 4.0874e-04,\n",
       "          2.1938e-04, 2.1146e-04, 3.5136e-04, 1.0568e-04, 5.7544e-05,\n",
       "          4.5717e-04, 1.7765e-04, 5.5149e-04, 9.7193e-04, 8.9509e-04,\n",
       "          1.8351e-03, 1.8839e-04, 8.7140e-04, 4.7354e-04, 7.1803e-04,\n",
       "          9.2548e-05, 2.6845e-05, 8.5035e-04, 8.7239e-04, 2.2987e-05,\n",
       "          8.8648e-05, 5.1625e-03, 8.4610e-05, 3.1900e-04, 3.3582e-04,\n",
       "          1.2109e-03, 1.1252e-04, 2.4376e-04, 1.1163e-03, 6.0205e-04,\n",
       "          1.8176e-03, 1.3498e-03, 2.7487e-04, 5.8847e-04, 8.7477e-05,\n",
       "          8.4778e-04, 5.2264e-04, 1.9907e-04, 4.2594e-03, 4.7366e-04,\n",
       "          2.9140e-04, 4.2077e-04, 3.0233e-03, 1.2863e-03, 9.0782e-05,\n",
       "          1.7449e-04, 3.0823e-04, 3.2459e-03, 2.2201e-04, 2.5062e-04,\n",
       "          3.0316e-03, 3.1929e-04, 1.1906e-03, 1.8580e-04, 4.0054e-04,\n",
       "          3.3609e-04, 9.5032e-04, 6.8631e-04, 5.3509e-05, 9.3000e-05,\n",
       "          8.9662e-04, 3.7829e-04, 1.0806e-03, 3.4996e-04, 3.2570e-04,\n",
       "          1.4308e-04, 1.5647e-03, 2.1762e-04, 1.4605e-04, 1.2120e-03,\n",
       "          2.5079e-03, 5.0152e-04, 2.5800e-04, 2.2321e-04, 5.4736e-04,\n",
       "          1.4233e-04, 2.3947e-04, 2.6288e-04, 9.4026e-04, 6.8271e-04,\n",
       "          9.4568e-04, 4.6021e-04, 1.5585e-03, 4.2280e-04, 7.7348e-04,\n",
       "          1.0555e-03, 1.0474e-03, 4.7450e-04, 1.2109e-03],\n",
       "         [4.6407e-04, 6.1600e-05, 1.5358e-04, 1.0939e-04, 2.5598e-03,\n",
       "          2.5760e-04, 9.3298e-01, 6.9501e-04, 4.1652e-04, 1.4360e-04,\n",
       "          1.3483e-04, 2.4164e-04, 1.7948e-04, 1.4624e-04, 1.1268e-04,\n",
       "          1.9730e-04, 9.2572e-05, 1.4306e-04, 7.2565e-04, 7.8142e-04,\n",
       "          3.1644e-04, 2.5407e-04, 1.4942e-04, 9.8820e-04, 1.1612e-04,\n",
       "          8.4938e-05, 1.3415e-04, 9.9661e-04, 3.0307e-04, 2.9587e-04,\n",
       "          2.5994e-04, 2.1400e-04, 2.6856e-04, 5.4645e-05, 6.3567e-05,\n",
       "          2.6315e-04, 2.1941e-04, 5.5139e-04, 6.3785e-04, 6.2013e-04,\n",
       "          1.6494e-03, 2.3904e-04, 7.6207e-04, 4.5816e-04, 4.8785e-04,\n",
       "          8.0939e-05, 4.0167e-05, 6.1068e-04, 5.2545e-04, 1.6099e-05,\n",
       "          8.4521e-05, 5.4482e-03, 6.5958e-05, 4.4501e-04, 3.2001e-04,\n",
       "          1.4019e-03, 8.5174e-05, 3.7177e-04, 9.9394e-04, 4.0376e-04,\n",
       "          2.4290e-03, 8.3687e-04, 1.7733e-04, 3.9792e-04, 5.8821e-05,\n",
       "          1.1312e-03, 5.1161e-04, 1.0006e-04, 3.2398e-03, 7.3655e-04,\n",
       "          2.4734e-04, 2.4081e-04, 1.9911e-03, 7.9534e-04, 7.9624e-05,\n",
       "          1.2736e-04, 3.2659e-04, 3.1210e-03, 1.8935e-04, 2.2734e-04,\n",
       "          2.2678e-03, 2.7945e-04, 9.8930e-04, 1.7696e-04, 3.1730e-04,\n",
       "          2.3496e-04, 6.7596e-04, 4.1463e-04, 4.8791e-05, 1.4963e-04,\n",
       "          8.0830e-04, 2.4980e-04, 9.5550e-04, 2.6289e-04, 2.2083e-04,\n",
       "          1.1452e-04, 7.6663e-04, 1.1772e-04, 1.0890e-04, 6.3212e-04,\n",
       "          1.6851e-03, 3.2529e-04, 2.8601e-04, 2.4108e-04, 6.6779e-04,\n",
       "          1.4440e-04, 9.6575e-05, 3.4040e-04, 5.7443e-04, 6.0830e-04,\n",
       "          6.9570e-04, 5.3490e-04, 1.1209e-03, 3.4875e-04, 4.3356e-04,\n",
       "          1.1042e-03, 7.9458e-04, 5.0979e-04, 8.5777e-04],\n",
       "         [3.5789e-04, 8.5686e-05, 1.2439e-04, 1.3443e-04, 2.6568e-03,\n",
       "          3.8645e-04, 9.2258e-01, 5.5430e-04, 4.3152e-04, 1.7481e-04,\n",
       "          2.0896e-04, 3.2084e-04, 2.1137e-04, 1.5097e-04, 1.3170e-04,\n",
       "          3.9627e-04, 1.1062e-04, 1.3439e-04, 5.1101e-04, 9.2824e-04,\n",
       "          4.7531e-04, 3.8282e-04, 1.4502e-04, 9.9896e-04, 1.4773e-04,\n",
       "          8.2355e-05, 1.4205e-04, 9.5917e-04, 4.1306e-04, 3.4375e-04,\n",
       "          2.9974e-04, 2.8790e-04, 3.0488e-04, 8.7992e-05, 5.6274e-05,\n",
       "          3.1712e-04, 1.3862e-04, 6.4503e-04, 8.4481e-04, 6.4194e-04,\n",
       "          1.5594e-03, 2.1503e-04, 7.7828e-04, 5.1893e-04, 7.2233e-04,\n",
       "          7.8430e-05, 4.9234e-05, 8.0100e-04, 8.7165e-04, 2.1827e-05,\n",
       "          8.8235e-05, 6.1491e-03, 8.5760e-05, 3.1713e-04, 4.7165e-04,\n",
       "          1.1807e-03, 1.2280e-04, 3.0803e-04, 1.3910e-03, 5.6485e-04,\n",
       "          1.8969e-03, 1.2222e-03, 2.0662e-04, 5.9861e-04, 8.4877e-05,\n",
       "          9.3133e-04, 4.8074e-04, 1.2777e-04, 2.7181e-03, 5.8784e-04,\n",
       "          3.8829e-04, 3.4074e-04, 2.8289e-03, 1.1321e-03, 9.5426e-05,\n",
       "          1.5363e-04, 4.2803e-04, 4.1000e-03, 2.0721e-04, 2.7523e-04,\n",
       "          2.7854e-03, 2.3258e-04, 1.5764e-03, 1.4111e-04, 4.3420e-04,\n",
       "          3.1851e-04, 8.0452e-04, 3.9356e-04, 5.8341e-05, 1.3302e-04,\n",
       "          7.6332e-04, 3.5968e-04, 9.0460e-04, 4.1241e-04, 1.9928e-04,\n",
       "          1.4446e-04, 1.6190e-03, 1.6312e-04, 1.4128e-04, 9.5263e-04,\n",
       "          2.9358e-03, 4.3735e-04, 3.2151e-04, 2.5236e-04, 5.0580e-04,\n",
       "          1.7125e-04, 1.5903e-04, 3.6285e-04, 5.8372e-04, 8.1813e-04,\n",
       "          8.3921e-04, 7.4860e-04, 1.4931e-03, 5.0122e-04, 7.0628e-04,\n",
       "          9.5181e-04, 1.0658e-03, 4.4125e-04, 7.6127e-04],\n",
       "         [5.0481e-04, 1.0086e-04, 1.5074e-04, 1.4456e-04, 2.1993e-03,\n",
       "          2.6983e-04, 9.2352e-01, 7.2844e-04, 3.0977e-04, 1.3150e-04,\n",
       "          2.2952e-04, 3.3084e-04, 1.6299e-04, 1.5202e-04, 1.8250e-04,\n",
       "          5.0369e-04, 1.1465e-04, 2.1333e-04, 5.1211e-04, 1.0533e-03,\n",
       "          4.6690e-04, 3.4721e-04, 1.5167e-04, 1.1360e-03, 1.0231e-04,\n",
       "          6.9949e-05, 1.7898e-04, 1.3997e-03, 5.6556e-04, 3.4058e-04,\n",
       "          2.1938e-04, 1.9426e-04, 2.9219e-04, 9.0757e-05, 4.6690e-05,\n",
       "          5.8183e-04, 1.7499e-04, 3.9604e-04, 9.5148e-04, 6.1553e-04,\n",
       "          1.5698e-03, 2.2586e-04, 6.7349e-04, 4.4028e-04, 8.1674e-04,\n",
       "          1.0065e-04, 2.7710e-05, 6.8103e-04, 6.1872e-04, 2.4756e-05,\n",
       "          8.8597e-05, 4.2783e-03, 8.3806e-05, 2.4990e-04, 4.0038e-04,\n",
       "          9.3837e-04, 1.3870e-04, 2.5451e-04, 1.2850e-03, 5.6992e-04,\n",
       "          1.8997e-03, 1.7913e-03, 2.3435e-04, 4.8845e-04, 7.4404e-05,\n",
       "          8.5841e-04, 4.8475e-04, 1.3788e-04, 3.3005e-03, 5.6309e-04,\n",
       "          2.9674e-04, 3.1824e-04, 2.5327e-03, 9.6671e-04, 1.0489e-04,\n",
       "          1.4996e-04, 3.4293e-04, 3.7499e-03, 2.1782e-04, 2.2123e-04,\n",
       "          3.2352e-03, 2.8054e-04, 1.4972e-03, 1.2895e-04, 4.0601e-04,\n",
       "          2.5693e-04, 9.5166e-04, 4.6233e-04, 4.5670e-05, 1.2971e-04,\n",
       "          1.0379e-03, 2.9507e-04, 9.1562e-04, 4.1707e-04, 2.0960e-04,\n",
       "          1.0804e-04, 1.2517e-03, 1.6392e-04, 1.0575e-04, 1.0993e-03,\n",
       "          2.9877e-03, 4.2708e-04, 2.6351e-04, 2.2757e-04, 4.8434e-04,\n",
       "          1.6280e-04, 1.9360e-04, 3.4117e-04, 1.1049e-03, 8.1526e-04,\n",
       "          1.2155e-03, 6.9447e-04, 1.7978e-03, 3.3728e-04, 6.6671e-04,\n",
       "          1.2161e-03, 7.7198e-04, 3.5563e-04, 9.0566e-04],\n",
       "         [4.9762e-04, 8.0382e-05, 1.5291e-04, 1.1097e-04, 1.9390e-03,\n",
       "          2.1338e-04, 9.2977e-01, 7.1273e-04, 2.1035e-04, 1.2163e-04,\n",
       "          2.4579e-04, 3.3466e-04, 1.5044e-04, 1.3262e-04, 1.3708e-04,\n",
       "          3.7910e-04, 1.0429e-04, 1.5655e-04, 4.2617e-04, 8.9294e-04,\n",
       "          4.3963e-04, 2.5999e-04, 1.3332e-04, 1.0066e-03, 1.0787e-04,\n",
       "          4.4588e-05, 1.7885e-04, 1.0202e-03, 4.3551e-04, 2.9831e-04,\n",
       "          1.5159e-04, 2.1454e-04, 2.5620e-04, 1.0228e-04, 4.7899e-05,\n",
       "          3.6734e-04, 1.5317e-04, 4.2403e-04, 8.1361e-04, 6.4266e-04,\n",
       "          1.1731e-03, 2.0623e-04, 9.1477e-04, 4.3209e-04, 6.0783e-04,\n",
       "          7.8958e-05, 3.1436e-05, 6.6595e-04, 5.7143e-04, 2.0490e-05,\n",
       "          7.3730e-05, 3.2681e-03, 9.6231e-05, 2.5201e-04, 3.7230e-04,\n",
       "          9.5806e-04, 9.5674e-05, 2.7136e-04, 1.0954e-03, 5.4785e-04,\n",
       "          1.7145e-03, 1.3739e-03, 2.1434e-04, 4.0415e-04, 6.4781e-05,\n",
       "          7.0215e-04, 5.1820e-04, 1.2547e-04, 4.5553e-03, 5.8433e-04,\n",
       "          3.0288e-04, 1.9019e-04, 2.2616e-03, 1.1659e-03, 1.0536e-04,\n",
       "          1.7447e-04, 3.7752e-04, 3.7174e-03, 1.6657e-04, 2.0527e-04,\n",
       "          2.6292e-03, 2.6219e-04, 1.2807e-03, 1.2304e-04, 3.7495e-04,\n",
       "          3.1152e-04, 8.1146e-04, 3.5545e-04, 4.8767e-05, 1.2202e-04,\n",
       "          8.5174e-04, 2.8570e-04, 9.2599e-04, 4.2383e-04, 2.7304e-04,\n",
       "          1.3267e-04, 9.6482e-04, 1.8260e-04, 9.0397e-05, 1.1271e-03,\n",
       "          3.4850e-03, 4.0743e-04, 2.5437e-04, 2.0323e-04, 3.6533e-04,\n",
       "          1.3424e-04, 1.3699e-04, 2.5748e-04, 6.9728e-04, 5.8449e-04,\n",
       "          9.5483e-04, 4.3279e-04, 1.8112e-03, 3.2937e-04, 5.8956e-04,\n",
       "          1.1932e-03, 7.8245e-04, 3.4903e-04, 9.3117e-04],\n",
       "         [7.6687e-04, 1.0599e-04, 1.8185e-04, 1.0975e-04, 2.0425e-03,\n",
       "          2.2562e-04, 9.2464e-01, 6.7874e-04, 3.1378e-04, 1.2185e-04,\n",
       "          2.4946e-04, 3.3961e-04, 1.8438e-04, 1.5403e-04, 1.6673e-04,\n",
       "          4.4479e-04, 1.1985e-04, 1.8358e-04, 5.9075e-04, 7.5063e-04,\n",
       "          4.3275e-04, 3.0733e-04, 1.6597e-04, 1.4386e-03, 1.3615e-04,\n",
       "          8.6838e-05, 2.3193e-04, 1.4748e-03, 4.5590e-04, 3.4251e-04,\n",
       "          1.9955e-04, 2.1581e-04, 3.0392e-04, 9.7090e-05, 4.6066e-05,\n",
       "          4.7579e-04, 2.2984e-04, 5.1161e-04, 8.6923e-04, 1.0982e-03,\n",
       "          1.4289e-03, 2.2489e-04, 5.5146e-04, 4.3008e-04, 7.9996e-04,\n",
       "          1.0602e-04, 2.8050e-05, 7.4814e-04, 4.8543e-04, 2.2543e-05,\n",
       "          9.6255e-05, 4.1862e-03, 1.2927e-04, 2.5749e-04, 4.6540e-04,\n",
       "          1.3769e-03, 1.0552e-04, 3.3653e-04, 1.2597e-03, 4.7903e-04,\n",
       "          2.1446e-03, 1.9349e-03, 2.0261e-04, 4.9872e-04, 7.3190e-05,\n",
       "          9.4636e-04, 5.6990e-04, 1.4605e-04, 2.9861e-03, 4.8597e-04,\n",
       "          3.0368e-04, 2.2156e-04, 2.0251e-03, 1.1943e-03, 1.0058e-04,\n",
       "          1.7672e-04, 2.9496e-04, 3.1336e-03, 1.8227e-04, 2.2675e-04,\n",
       "          3.2523e-03, 2.5825e-04, 1.0122e-03, 1.4418e-04, 3.5561e-04,\n",
       "          2.0721e-04, 8.7073e-04, 3.7032e-04, 4.9360e-05, 1.1064e-04,\n",
       "          8.3504e-04, 3.9409e-04, 1.0219e-03, 3.0647e-04, 2.5640e-04,\n",
       "          1.2780e-04, 9.1997e-04, 2.5951e-04, 1.3561e-04, 1.2363e-03,\n",
       "          2.3350e-03, 4.7740e-04, 3.0953e-04, 1.7476e-04, 4.3743e-04,\n",
       "          1.5859e-04, 1.4540e-04, 3.9527e-04, 9.1689e-04, 6.0354e-04,\n",
       "          9.9922e-04, 5.0883e-04, 2.3509e-03, 5.9216e-04, 5.9478e-04,\n",
       "          1.5238e-03, 9.4811e-04, 3.8955e-04, 1.1607e-03],\n",
       "         [5.2136e-04, 1.0344e-04, 1.6969e-04, 1.2232e-04, 1.9846e-03,\n",
       "          2.6072e-04, 9.2617e-01, 7.1971e-04, 2.5515e-04, 1.1677e-04,\n",
       "          2.7228e-04, 3.3274e-04, 1.9237e-04, 1.7488e-04, 1.3945e-04,\n",
       "          3.5734e-04, 1.2380e-04, 2.1632e-04, 4.2400e-04, 8.6506e-04,\n",
       "          3.2983e-04, 3.1164e-04, 1.6128e-04, 1.1999e-03, 1.3563e-04,\n",
       "          9.2260e-05, 1.7763e-04, 1.1719e-03, 4.0822e-04, 3.8065e-04,\n",
       "          1.6876e-04, 2.0378e-04, 3.1808e-04, 1.0493e-04, 4.8400e-05,\n",
       "          4.2517e-04, 1.9386e-04, 5.1153e-04, 7.4397e-04, 8.0759e-04,\n",
       "          1.3960e-03, 1.8519e-04, 6.6458e-04, 4.5536e-04, 6.4333e-04,\n",
       "          1.0093e-04, 3.3449e-05, 8.2191e-04, 5.9608e-04, 2.4900e-05,\n",
       "          7.8280e-05, 5.1210e-03, 9.3421e-05, 3.3107e-04, 4.3765e-04,\n",
       "          1.4257e-03, 1.1554e-04, 2.6178e-04, 1.1450e-03, 5.2095e-04,\n",
       "          2.0280e-03, 1.0684e-03, 2.1802e-04, 4.4936e-04, 7.0161e-05,\n",
       "          8.6264e-04, 5.0730e-04, 1.4337e-04, 4.0443e-03, 5.5304e-04,\n",
       "          2.1802e-04, 2.6640e-04, 2.2200e-03, 1.2638e-03, 1.0165e-04,\n",
       "          1.5246e-04, 2.8312e-04, 3.0521e-03, 2.0868e-04, 1.9856e-04,\n",
       "          3.0216e-03, 3.1799e-04, 1.2628e-03, 1.7233e-04, 3.3859e-04,\n",
       "          2.5336e-04, 5.9027e-04, 4.2578e-04, 4.5472e-05, 1.1037e-04,\n",
       "          9.1737e-04, 3.6451e-04, 8.9670e-04, 3.2614e-04, 3.2924e-04,\n",
       "          1.3582e-04, 9.4624e-04, 2.2931e-04, 1.2434e-04, 1.0793e-03,\n",
       "          2.5355e-03, 5.1586e-04, 2.5880e-04, 2.1250e-04, 5.1283e-04,\n",
       "          1.5103e-04, 1.8145e-04, 3.1502e-04, 9.8587e-04, 5.0757e-04,\n",
       "          8.3495e-04, 4.0599e-04, 1.7633e-03, 5.3710e-04, 5.7459e-04,\n",
       "          1.2194e-03, 9.5827e-04, 5.4375e-04, 1.3217e-03]]], device='cuda:0',\n",
       "       grad_fn=<SoftmaxBackward0>)"
      ]
     },
     "execution_count": 113,
     "metadata": {},
     "output_type": "execute_result"
    }
   ],
   "source": [
    "outputs = transformer(sample_inputs, sample_target)\n",
    "outputs"
   ]
  },
  {
   "cell_type": "code",
   "execution_count": 114,
   "id": "7ea37c72-a188-4f96-af8e-d48d6a8457c9",
   "metadata": {},
   "outputs": [
    {
     "ename": "RuntimeError",
     "evalue": "shape '[1, 128, 32, 4]' is invalid for input of size 131072",
     "output_type": "error",
     "traceback": [
      "\u001b[0;31m---------------------------------------------------------------------------\u001b[0m",
      "\u001b[0;31mRuntimeError\u001b[0m                              Traceback (most recent call last)",
      "Cell \u001b[0;32mIn[114], line 1\u001b[0m\n\u001b[0;32m----> 1\u001b[0m hidden_states \u001b[38;5;241m=\u001b[39m \u001b[43mtransformer\u001b[49m\u001b[38;5;241;43m.\u001b[39;49m\u001b[43mhidden_states\u001b[49m\u001b[43m(\u001b[49m\u001b[43msample_inputs\u001b[49m\u001b[43m,\u001b[49m\u001b[43m \u001b[49m\u001b[43msample_target\u001b[49m\u001b[43m)\u001b[49m\n",
      "File \u001b[0;32m/data/yisupeng/workspace/ProtTransformer/toy_transformer.py:615\u001b[0m, in \u001b[0;36mTransformer.hidden_states\u001b[0;34m(self, src, trg)\u001b[0m\n\u001b[1;32m    611\u001b[0m states \u001b[38;5;241m=\u001b[39m {}\n\u001b[1;32m    612\u001b[0m extend_states(states, \u001b[38;5;124m'\u001b[39m\u001b[38;5;124mencoder\u001b[39m\u001b[38;5;124m'\u001b[39m, \u001b[38;5;28mself\u001b[39m\u001b[38;5;241m.\u001b[39mencoder\u001b[38;5;241m.\u001b[39mhidden_states(src))\n\u001b[1;32m    614\u001b[0m extend_states(states, \u001b[38;5;124m'\u001b[39m\u001b[38;5;124mdecoder\u001b[39m\u001b[38;5;124m'\u001b[39m,\n\u001b[0;32m--> 615\u001b[0m               \u001b[38;5;28;43mself\u001b[39;49m\u001b[38;5;241;43m.\u001b[39;49m\u001b[43mdecoder\u001b[49m\u001b[38;5;241;43m.\u001b[39;49m\u001b[43mhidden_states\u001b[49m\u001b[43m(\u001b[49m\u001b[43mtrg\u001b[49m\u001b[43m,\u001b[49m\u001b[43m \u001b[49m\u001b[43mstates\u001b[49m\u001b[43m[\u001b[49m\u001b[38;5;124;43m'\u001b[39;49m\u001b[38;5;124;43mencoder\u001b[39;49m\u001b[38;5;124;43m'\u001b[39;49m\u001b[43m]\u001b[49m\u001b[43m,\u001b[49m\u001b[43m \u001b[49m\u001b[43mtrg_mask\u001b[49m\u001b[43m)\u001b[49m)\n\u001b[1;32m    616\u001b[0m states[\u001b[38;5;124m'\u001b[39m\u001b[38;5;124m'\u001b[39m] \u001b[38;5;241m=\u001b[39m states[\u001b[38;5;124m'\u001b[39m\u001b[38;5;124mdecoder\u001b[39m\u001b[38;5;124m'\u001b[39m]\n\u001b[1;32m    617\u001b[0m \u001b[38;5;28;01mreturn\u001b[39;00m states\n",
      "File \u001b[0;32m/data/yisupeng/workspace/ProtTransformer/toy_transformer.py:526\u001b[0m, in \u001b[0;36mTransformerDecoder.hidden_states\u001b[0;34m(self, x, enc_out, mask)\u001b[0m\n\u001b[1;32m    523\u001b[0m x \u001b[38;5;241m=\u001b[39m states[\u001b[38;5;124m'\u001b[39m\u001b[38;5;124mdropout\u001b[39m\u001b[38;5;124m'\u001b[39m] \u001b[38;5;241m=\u001b[39m \u001b[38;5;28mself\u001b[39m\u001b[38;5;241m.\u001b[39mdropout(x)\n\u001b[1;32m    525\u001b[0m \u001b[38;5;28;01mfor\u001b[39;00m i, layer \u001b[38;5;129;01min\u001b[39;00m \u001b[38;5;28menumerate\u001b[39m(\u001b[38;5;28mself\u001b[39m\u001b[38;5;241m.\u001b[39mlayers):\n\u001b[0;32m--> 526\u001b[0m     x \u001b[38;5;241m=\u001b[39m extend_states(states, \u001b[38;5;124mf\u001b[39m\u001b[38;5;124m'\u001b[39m\u001b[38;5;124mlayer.\u001b[39m\u001b[38;5;132;01m{\u001b[39;00mi\u001b[38;5;132;01m}\u001b[39;00m\u001b[38;5;124m'\u001b[39m, \u001b[43mlayer\u001b[49m\u001b[38;5;241;43m.\u001b[39;49m\u001b[43mhidden_states\u001b[49m\u001b[43m(\u001b[49m\u001b[43menc_out\u001b[49m\u001b[43m,\u001b[49m\u001b[43m \u001b[49m\u001b[43mx\u001b[49m\u001b[43m,\u001b[49m\u001b[43m \u001b[49m\u001b[43menc_out\u001b[49m\u001b[43m,\u001b[49m\u001b[43m \u001b[49m\u001b[43mmask\u001b[49m\u001b[43m)\u001b[49m)\n\u001b[1;32m    528\u001b[0m x \u001b[38;5;241m=\u001b[39m states[\u001b[38;5;124m'\u001b[39m\u001b[38;5;124mfc_out\u001b[39m\u001b[38;5;124m'\u001b[39m] \u001b[38;5;241m=\u001b[39m \u001b[38;5;28mself\u001b[39m\u001b[38;5;241m.\u001b[39mfc_out(x)\n\u001b[1;32m    529\u001b[0m out \u001b[38;5;241m=\u001b[39m states[\u001b[38;5;124m'\u001b[39m\u001b[38;5;124msoftmax\u001b[39m\u001b[38;5;124m'\u001b[39m] \u001b[38;5;241m=\u001b[39m F\u001b[38;5;241m.\u001b[39msoftmax(x, dim\u001b[38;5;241m=\u001b[39m\u001b[38;5;241m-\u001b[39m\u001b[38;5;241m1\u001b[39m)\n",
      "File \u001b[0;32m/data/yisupeng/workspace/ProtTransformer/toy_transformer.py:461\u001b[0m, in \u001b[0;36mDecoderBlock.hidden_states\u001b[0;34m(self, key, x, value, mask)\u001b[0m\n\u001b[1;32m    457\u001b[0m norm \u001b[38;5;241m=\u001b[39m states[\u001b[38;5;124m'\u001b[39m\u001b[38;5;124mnorm\u001b[39m\u001b[38;5;124m'\u001b[39m] \u001b[38;5;241m=\u001b[39m \u001b[38;5;28mself\u001b[39m\u001b[38;5;241m.\u001b[39mnorm(attention)\n\u001b[1;32m    458\u001b[0m query \u001b[38;5;241m=\u001b[39m states[\u001b[38;5;124m'\u001b[39m\u001b[38;5;124mdropout\u001b[39m\u001b[38;5;124m'\u001b[39m] \u001b[38;5;241m=\u001b[39m \u001b[38;5;28mself\u001b[39m\u001b[38;5;241m.\u001b[39mdropout(norm)\n\u001b[1;32m    460\u001b[0m out \u001b[38;5;241m=\u001b[39m extend_states(states, \u001b[38;5;124m'\u001b[39m\u001b[38;5;124mtransformer_block\u001b[39m\u001b[38;5;124m'\u001b[39m,\n\u001b[0;32m--> 461\u001b[0m                     \u001b[38;5;28;43mself\u001b[39;49m\u001b[38;5;241;43m.\u001b[39;49m\u001b[43mtransformer_block\u001b[49m\u001b[38;5;241;43m.\u001b[39;49m\u001b[43mhidden_states\u001b[49m\u001b[43m(\u001b[49m\u001b[43mkey\u001b[49m\u001b[43m,\u001b[49m\u001b[43m \u001b[49m\u001b[43mquery\u001b[49m\u001b[43m,\u001b[49m\u001b[43m \u001b[49m\u001b[43mvalue\u001b[49m\u001b[43m)\u001b[49m)\n\u001b[1;32m    463\u001b[0m states[\u001b[38;5;124m'\u001b[39m\u001b[38;5;124m'\u001b[39m] \u001b[38;5;241m=\u001b[39m out\n\u001b[1;32m    464\u001b[0m \u001b[38;5;28;01mreturn\u001b[39;00m states\n",
      "File \u001b[0;32m/data/yisupeng/workspace/ProtTransformer/toy_transformer.py:337\u001b[0m, in \u001b[0;36mTransformerBlock.hidden_states\u001b[0;34m(self, key, query, value)\u001b[0m\n\u001b[1;32m    326\u001b[0m \u001b[38;5;250m\u001b[39m\u001b[38;5;124;03m\"\"\"\u001b[39;00m\n\u001b[1;32m    327\u001b[0m \u001b[38;5;124;03mArgs:\u001b[39;00m\n\u001b[1;32m    328\u001b[0m \u001b[38;5;124;03m   key: key vector\u001b[39;00m\n\u001b[0;32m   (...)\u001b[0m\n\u001b[1;32m    332\u001b[0m \n\u001b[1;32m    333\u001b[0m \u001b[38;5;124;03m\"\"\"\u001b[39;00m\n\u001b[1;32m    335\u001b[0m states \u001b[38;5;241m=\u001b[39m {}\n\u001b[1;32m    336\u001b[0m extend_states(states, \u001b[38;5;124m'\u001b[39m\u001b[38;5;124mattention\u001b[39m\u001b[38;5;124m'\u001b[39m,\n\u001b[0;32m--> 337\u001b[0m               \u001b[38;5;28;43mself\u001b[39;49m\u001b[38;5;241;43m.\u001b[39;49m\u001b[43mattention\u001b[49m\u001b[38;5;241;43m.\u001b[39;49m\u001b[43mhidden_states\u001b[49m\u001b[43m(\u001b[49m\u001b[43mkey\u001b[49m\u001b[43m,\u001b[49m\u001b[43m \u001b[49m\u001b[43mquery\u001b[49m\u001b[43m,\u001b[49m\u001b[43m \u001b[49m\u001b[43mvalue\u001b[49m\u001b[43m)\u001b[49m  \u001b[38;5;66;03m# 32x10x512\u001b[39;00m\n\u001b[1;32m    338\u001b[0m               )\n\u001b[1;32m    339\u001b[0m attention_residual_out \u001b[38;5;241m=\u001b[39m states[\u001b[38;5;124m'\u001b[39m\u001b[38;5;124mattention\u001b[39m\u001b[38;5;124m'\u001b[39m] \u001b[38;5;241m+\u001b[39m query  \u001b[38;5;66;03m# 32x10x512\u001b[39;00m\n\u001b[1;32m    340\u001b[0m states[\u001b[38;5;124m'\u001b[39m\u001b[38;5;124mattention_residual\u001b[39m\u001b[38;5;124m'\u001b[39m] \u001b[38;5;241m=\u001b[39m attention_residual_out\n",
      "File \u001b[0;32m/data/yisupeng/workspace/ProtTransformer/toy_transformer.py:219\u001b[0m, in \u001b[0;36mMultiHeadAttention.hidden_states\u001b[0;34m(self, key, query, value, mask)\u001b[0m\n\u001b[1;32m    216\u001b[0m seq_length_query \u001b[38;5;241m=\u001b[39m query\u001b[38;5;241m.\u001b[39msize(\u001b[38;5;241m1\u001b[39m)\n\u001b[1;32m    218\u001b[0m \u001b[38;5;66;03m# 32x10x512\u001b[39;00m\n\u001b[0;32m--> 219\u001b[0m key \u001b[38;5;241m=\u001b[39m \u001b[43mkey\u001b[49m\u001b[38;5;241;43m.\u001b[39;49m\u001b[43mview\u001b[49m\u001b[43m(\u001b[49m\u001b[43mbatch_size\u001b[49m\u001b[43m,\u001b[49m\u001b[43m \u001b[49m\u001b[43mseq_length\u001b[49m\u001b[43m,\u001b[49m\u001b[43m \u001b[49m\u001b[38;5;28;43mself\u001b[39;49m\u001b[38;5;241;43m.\u001b[39;49m\u001b[43mn_heads\u001b[49m\u001b[43m,\u001b[49m\n\u001b[1;32m    220\u001b[0m \u001b[43m               \u001b[49m\u001b[38;5;28;43mself\u001b[39;49m\u001b[38;5;241;43m.\u001b[39;49m\u001b[43msingle_head_dim\u001b[49m\u001b[43m)\u001b[49m  \u001b[38;5;66;03m# batch_size x sequence_length x n_heads x single_head_dim = (32x10x8x64)\u001b[39;00m\n\u001b[1;32m    221\u001b[0m query \u001b[38;5;241m=\u001b[39m query\u001b[38;5;241m.\u001b[39mview(batch_size, seq_length_query, \u001b[38;5;28mself\u001b[39m\u001b[38;5;241m.\u001b[39mn_heads, \u001b[38;5;28mself\u001b[39m\u001b[38;5;241m.\u001b[39msingle_head_dim)  \u001b[38;5;66;03m# (32x10x8x64)\u001b[39;00m\n\u001b[1;32m    222\u001b[0m value \u001b[38;5;241m=\u001b[39m value\u001b[38;5;241m.\u001b[39mview(batch_size, seq_length, \u001b[38;5;28mself\u001b[39m\u001b[38;5;241m.\u001b[39mn_heads, \u001b[38;5;28mself\u001b[39m\u001b[38;5;241m.\u001b[39msingle_head_dim)  \u001b[38;5;66;03m# (32x10x8x64)\u001b[39;00m\n",
      "\u001b[0;31mRuntimeError\u001b[0m: shape '[1, 128, 32, 4]' is invalid for input of size 131072"
     ]
    }
   ],
   "source": [
    "hidden_states = transformer.hidden_states(sample_inputs, sample_target)"
   ]
  },
  {
   "cell_type": "code",
   "execution_count": null,
   "id": "499857b7-807c-425e-bd7d-dc39747c05dd",
   "metadata": {},
   "outputs": [],
   "source": [
    "hidden_states.keys()"
   ]
  },
  {
   "cell_type": "code",
   "execution_count": null,
   "id": "5a3baee3-7726-4045-9f3a-ffc63b748e6e",
   "metadata": {},
   "outputs": [],
   "source": [
    "list(transformer.decoder.fc_out.named_parameters())[0][1]"
   ]
  },
  {
   "cell_type": "code",
   "execution_count": null,
   "id": "9029e5ae-3fc8-47d5-8b7f-4d51ae152065",
   "metadata": {},
   "outputs": [],
   "source": [
    "hidden_states['decoder.fc_out'][0, 1, :]"
   ]
  },
  {
   "cell_type": "code",
   "execution_count": null,
   "id": "b108fa09-7bc4-47d8-8feb-9bbd2665abaa",
   "metadata": {
    "scrolled": true
   },
   "outputs": [],
   "source": [
    "for k, v in hidden_states.items():\n",
    "    print(k, v.shape)"
   ]
  },
  {
   "cell_type": "code",
   "execution_count": null,
   "id": "0feed889-0088-4a5a-9ba7-625e762787b9",
   "metadata": {},
   "outputs": [],
   "source": [
    "transformer.decoder.embedding_layer(sample_target[0, 3:4])"
   ]
  },
  {
   "cell_type": "code",
   "execution_count": null,
   "id": "0e2bb533-793c-4da2-b8e8-d5214e8e4a42",
   "metadata": {},
   "outputs": [],
   "source": [
    "list(transformer.decoder.embedding_layer)"
   ]
  },
  {
   "cell_type": "code",
   "execution_count": null,
   "id": "2adaa228-057e-466d-b55d-bf9ebafe4dde",
   "metadata": {},
   "outputs": [],
   "source": []
  },
  {
   "cell_type": "markdown",
   "id": "33dd5f5f-1b4b-46ed-9986-e90c9a5f05b1",
   "metadata": {},
   "source": [
    "## Evaluate"
   ]
  },
  {
   "cell_type": "code",
   "execution_count": null,
   "id": "5fd07523-dd2b-4ea9-9ae0-44660a42977c",
   "metadata": {
    "scrolled": true
   },
   "outputs": [],
   "source": [
    "evaluate(transformer)"
   ]
  },
  {
   "cell_type": "code",
   "execution_count": null,
   "id": "3abf638b-4ca6-45cf-8b43-2a30abd45fab",
   "metadata": {},
   "outputs": [],
   "source": []
  },
  {
   "cell_type": "code",
   "execution_count": null,
   "id": "b2789163-8121-49ec-a0f5-abc050d90ee2",
   "metadata": {},
   "outputs": [],
   "source": [
    "plt.plot(anm.curve_y)"
   ]
  },
  {
   "cell_type": "code",
   "execution_count": null,
   "id": "e802cd4d-ad68-41e5-a149-d81d3d9e96e1",
   "metadata": {},
   "outputs": [],
   "source": [
    "pickle.dump(transformer, open(pickle_file, 'wb'))"
   ]
  },
  {
   "cell_type": "code",
   "execution_count": null,
   "id": "82b27a05-2b96-4b36-8cfa-88fe5dda728d",
   "metadata": {},
   "outputs": [],
   "source": [
    "pickle_file"
   ]
  },
  {
   "cell_type": "code",
   "execution_count": null,
   "id": "67f68ace-6718-406a-99a7-1c1c37fd11f7",
   "metadata": {},
   "outputs": [],
   "source": [
    "torch.cuda.empty_cache()"
   ]
  },
  {
   "cell_type": "code",
   "execution_count": null,
   "id": "b0df8225-acf9-497c-b734-28af677f61a7",
   "metadata": {},
   "outputs": [],
   "source": []
  },
  {
   "cell_type": "code",
   "execution_count": null,
   "id": "fdcee2ed-4d03-4156-9de4-7b89039e9836",
   "metadata": {},
   "outputs": [],
   "source": []
  },
  {
   "cell_type": "code",
   "execution_count": null,
   "id": "fff5b2fd-5cba-46e4-9bd2-b2582ad9b4b0",
   "metadata": {},
   "outputs": [],
   "source": []
  },
  {
   "cell_type": "code",
   "execution_count": null,
   "id": "e0cf5468-b24b-4f4b-b93d-83ee38c93032",
   "metadata": {},
   "outputs": [],
   "source": []
  },
  {
   "cell_type": "code",
   "execution_count": null,
   "id": "ee8e3b3f-00c0-45d6-a60d-1147c6e05ccb",
   "metadata": {},
   "outputs": [],
   "source": []
  },
  {
   "cell_type": "code",
   "execution_count": null,
   "id": "8e769790-2b1e-4d20-aa64-5429f6baf5e4",
   "metadata": {},
   "outputs": [],
   "source": []
  }
 ],
 "metadata": {
  "kernelspec": {
   "display_name": "Python 3 (ipykernel)",
   "language": "python",
   "name": "python3"
  },
  "language_info": {
   "codemirror_mode": {
    "name": "ipython",
    "version": 3
   },
   "file_extension": ".py",
   "mimetype": "text/x-python",
   "name": "python",
   "nbconvert_exporter": "python",
   "pygments_lexer": "ipython3",
   "version": "3.10.13"
  }
 },
 "nbformat": 4,
 "nbformat_minor": 5
}
