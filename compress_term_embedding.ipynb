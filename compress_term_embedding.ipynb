{
 "cells": [
  {
   "cell_type": "code",
   "execution_count": 2,
   "id": "fdf2fae6-1a6c-4f77-9053-d313bae27a9b",
   "metadata": {
    "tags": []
   },
   "outputs": [
    {
     "name": "stdout",
     "output_type": "stream",
     "text": [
      "The autoreload extension is already loaded. To reload it, use:\n",
      "  %reload_ext autoreload\n"
     ]
    }
   ],
   "source": [
    "%load_ext autoreload\n",
    "%autoreload 2"
   ]
  },
  {
   "cell_type": "code",
   "execution_count": 3,
   "id": "d7b05621-662d-4441-ba2f-334536f17f0b",
   "metadata": {
    "tags": []
   },
   "outputs": [
    {
     "name": "stdout",
     "output_type": "stream",
     "text": [
      "2.2.1+cu118\n"
     ]
    }
   ],
   "source": [
    "from toy_transformer import Transformer\n",
    "import torch"
   ]
  },
  {
   "cell_type": "code",
   "execution_count": 4,
   "id": "777015d0-136a-4792-9226-e834827f6e2d",
   "metadata": {},
   "outputs": [
    {
     "data": {
      "text/plain": [
       "device(type='cuda')"
      ]
     },
     "execution_count": 4,
     "metadata": {},
     "output_type": "execute_result"
    }
   ],
   "source": [
    "DEVICE = torch.device('cuda' if torch.cuda.is_available() else 'cpu')\n",
    "DEVICE"
   ]
  },
  {
   "cell_type": "code",
   "execution_count": 5,
   "id": "ecfaa095-6f92-4e2b-9c39-5ef164ffac95",
   "metadata": {
    "tags": []
   },
   "outputs": [],
   "source": [
    "import pandas as pd\n",
    "import numpy as np"
   ]
  },
  {
   "cell_type": "markdown",
   "id": "ca819b19-8be3-4ae0-bdcf-dca4e9176c60",
   "metadata": {},
   "source": [
    "## Prepare data"
   ]
  },
  {
   "cell_type": "code",
   "execution_count": 6,
   "id": "d62de527-4104-424d-8ad0-fc75c9d3e8e2",
   "metadata": {},
   "outputs": [],
   "source": [
    "states_dir = './states/'"
   ]
  },
  {
   "cell_type": "code",
   "execution_count": 7,
   "id": "6b14c852-375e-4c5c-8716-4ba497b15b41",
   "metadata": {},
   "outputs": [],
   "source": [
    "import os\n",
    "os.sys.path.append('/home/yisupeng/workspace/CAFA_CODE/python/')"
   ]
  },
  {
   "cell_type": "code",
   "execution_count": 8,
   "id": "0f13649e-cf18-4861-b5f9-6c37671549f6",
   "metadata": {},
   "outputs": [],
   "source": [
    "from ontology import *"
   ]
  },
  {
   "cell_type": "code",
   "execution_count": 9,
   "id": "f2f21599-2bd6-4a27-abbc-2f8d58182eaa",
   "metadata": {},
   "outputs": [],
   "source": [
    "from gene_ontology import *"
   ]
  },
  {
   "cell_type": "code",
   "execution_count": null,
   "id": "23d6ebb9-be9a-4a1a-b225-b1f7f020ac3f",
   "metadata": {},
   "outputs": [],
   "source": []
  },
  {
   "cell_type": "code",
   "execution_count": 12,
   "id": "147a1eaa-2261-4f3b-b87b-41a9c62007d3",
   "metadata": {},
   "outputs": [],
   "source": [
    "import pickle\n",
    "# embeddings = pickle.load(open('states/term_embeddings_used_cls.pickle', 'rb'))\n",
    "embeddings = pickle.load(open('states/term_embeddings_used_llm2vec.pickle', 'rb'))\n"
   ]
  },
  {
   "cell_type": "code",
   "execution_count": 13,
   "id": "a3643ebc-0262-4768-9944-df935d8a9757",
   "metadata": {},
   "outputs": [
    {
     "data": {
      "text/plain": [
       "array([[ 1.3125    ,  0.15722656, -1.8828125 , ...,  1.234375  ,\n",
       "        -4.09375   , -0.42773438],\n",
       "       [ 1.2734375 , -2.046875  , -1.7109375 , ..., -0.9453125 ,\n",
       "        -0.37109375, -0.30078125],\n",
       "       [ 0.76953125, -0.9921875 , -0.43359375, ..., -0.26171875,\n",
       "        -1.09375   , -0.56640625],\n",
       "       ...,\n",
       "       [-0.20800781, -3.21875   , -1.265625  , ...,  4.125     ,\n",
       "        -2.671875  , -0.80859375],\n",
       "       [ 1.2890625 , -2.3125    , -2.09375   , ...,  1.96875   ,\n",
       "        -3.546875  ,  2.734375  ],\n",
       "       [ 0.30273438, -1.1171875 , -1.5234375 , ...,  3.546875  ,\n",
       "        -2.65625   ,  1.515625  ]], dtype=float32)"
      ]
     },
     "execution_count": 13,
     "metadata": {},
     "output_type": "execute_result"
    }
   ],
   "source": [
    "embeddings"
   ]
  },
  {
   "cell_type": "code",
   "execution_count": 15,
   "id": "6d525221-b8b2-4299-8d6f-71b36dc0e79e",
   "metadata": {},
   "outputs": [
    {
     "data": {
      "text/plain": [
       "1.8935516"
      ]
     },
     "execution_count": 15,
     "metadata": {},
     "output_type": "execute_result"
    }
   ],
   "source": [
    "embeddings[:, 3].var()"
   ]
  },
  {
   "cell_type": "code",
   "execution_count": 16,
   "id": "7842a605-1ab0-4754-89f1-e459d2a60d9c",
   "metadata": {},
   "outputs": [
    {
     "data": {
      "text/plain": [
       "4096"
      ]
     },
     "execution_count": 16,
     "metadata": {},
     "output_type": "execute_result"
    }
   ],
   "source": [
    "sigma = embeddings.var(0)\n",
    "len(sigma)"
   ]
  },
  {
   "cell_type": "code",
   "execution_count": 17,
   "id": "52a8bb6f-f1fe-45c3-a4c6-8098fe0957cd",
   "metadata": {},
   "outputs": [],
   "source": [
    "import matplotlib.pyplot as plt"
   ]
  },
  {
   "cell_type": "code",
   "execution_count": 18,
   "id": "af83b66f-8542-4c80-a911-48812f4e6f4b",
   "metadata": {},
   "outputs": [
    {
     "data": {
      "text/plain": [
       "<BarContainer object of 4096 artists>"
      ]
     },
     "execution_count": 18,
     "metadata": {},
     "output_type": "execute_result"
    },
    {
     "data": {
      "image/png": "[encoded data removed]",
      "text/plain": [
       "<Figure size 640x480 with 1 Axes>"
      ]
     },
     "metadata": {},
     "output_type": "display_data"
    }
   ],
   "source": [
    "plt.bar(range(len(sigma)), sigma, width=1)"
   ]
  },
  {
   "cell_type": "code",
   "execution_count": 19,
   "id": "ea76a816-8e71-4633-8b46-76a987a57e34",
   "metadata": {},
   "outputs": [
    {
     "data": {
      "text/plain": [
       "array([-7.725803  , -4.7223554 , -4.1152196 , ..., -0.21030499,\n",
       "       -0.19164018, -0.11866493], dtype=float32)"
      ]
     },
     "execution_count": 19,
     "metadata": {},
     "output_type": "execute_result"
    }
   ],
   "source": [
    "np.sort(-sigma)"
   ]
  },
  {
   "cell_type": "code",
   "execution_count": 20,
   "id": "cdbafc9f-1ba2-4c24-96c3-660dba6c268d",
   "metadata": {},
   "outputs": [
    {
     "data": {
      "text/plain": [
       "[<matplotlib.lines.Line2D at 0x7f42c4afbc40>]"
      ]
     },
     "execution_count": 20,
     "metadata": {},
     "output_type": "execute_result"
    },
    {
     "data": {
      "image/png": "[encoded data removed]",
      "text/plain": [
       "<Figure size 640x480 with 1 Axes>"
      ]
     },
     "metadata": {},
     "output_type": "display_data"
    }
   ],
   "source": [
    "plt.plot(-np.sort(-sigma))"
   ]
  },
  {
   "cell_type": "code",
   "execution_count": 21,
   "id": "c20b2c55-8c08-466f-bb1b-348b6441a402",
   "metadata": {},
   "outputs": [
    {
     "data": {
      "text/plain": [
       "0"
      ]
     },
     "execution_count": 21,
     "metadata": {},
     "output_type": "execute_result"
    }
   ],
   "source": [
    "(sigma < 1e-4).sum()"
   ]
  },
  {
   "cell_type": "code",
   "execution_count": 22,
   "id": "a91e07a3-985c-4779-80f7-dd4132621afc",
   "metadata": {},
   "outputs": [
    {
     "data": {
      "text/plain": [
       "array([2977,  289, 1753, ..., 3008, 2265, 1384])"
      ]
     },
     "execution_count": 22,
     "metadata": {},
     "output_type": "execute_result"
    }
   ],
   "source": [
    "sort_idx = np.argsort(-sigma)\n",
    "sort_idx"
   ]
  },
  {
   "cell_type": "code",
   "execution_count": 23,
   "id": "4cb43c43-92b4-4369-884b-095da4d472a2",
   "metadata": {},
   "outputs": [],
   "source": [
    "from sklearn.preprocessing import StandardScaler"
   ]
  },
  {
   "cell_type": "code",
   "execution_count": 24,
   "id": "93c468cd-6d33-4d42-8146-de0a0f2a9d5c",
   "metadata": {},
   "outputs": [
    {
     "data": {
      "text/plain": [
       "array([[ 0.3385216 ,  1.3935174 , -0.05259192, ...,  0.27853578,\n",
       "        -1.4046283 , -0.5712362 ],\n",
       "       [ 0.30780056, -0.2092022 ,  0.09460177, ..., -1.3253914 ,\n",
       "         1.3107411 , -0.45214224],\n",
       "       [-0.08850077,  0.55771726,  1.1885185 , ..., -0.8223676 ,\n",
       "         0.7836232 , -0.70132345],\n",
       "       ...,\n",
       "       [-0.8572946 , -1.061335  ,  0.47596723, ...,  2.4056077 ,\n",
       "        -0.3674882 , -0.9285181 ],\n",
       "       [ 0.32008898, -0.4023523 , -0.23323873, ...,  0.81892705,\n",
       "        -1.0057282 ,  2.3951197 ],\n",
       "       [-0.45561713,  0.46682307,  0.2551767 , ...,  1.9801933 ,\n",
       "        -0.35609108,  1.2518177 ]], dtype=float32)"
      ]
     },
     "execution_count": 24,
     "metadata": {},
     "output_type": "execute_result"
    }
   ],
   "source": [
    "embeddings_normalized = StandardScaler().fit_transform(embeddings)\n",
    "embeddings_normalized"
   ]
  },
  {
   "cell_type": "code",
   "execution_count": 25,
   "id": "62db0263-fcdd-414a-94b3-93278511a7c3",
   "metadata": {},
   "outputs": [],
   "source": [
    "from sklearn.decomposition import PCA\n",
    "pca = PCA(2)\n",
    "pca.fit(embeddings)\n",
    "pcomps = pca.transform(embeddings)"
   ]
  },
  {
   "cell_type": "code",
   "execution_count": 26,
   "id": "138a03e2-3a7c-4703-8900-fde34f716a85",
   "metadata": {},
   "outputs": [
    {
     "data": {
      "text/plain": [
       "array([[ 0.00310004,  0.01106175, -0.00619722, ..., -0.00651823,\n",
       "        -0.01314098, -0.00263359],\n",
       "       [ 0.01168156,  0.01153618,  0.01278525, ...,  0.01640881,\n",
       "        -0.03342469, -0.01912658]], dtype=float32)"
      ]
     },
     "execution_count": 26,
     "metadata": {},
     "output_type": "execute_result"
    }
   ],
   "source": [
    "pca.components_"
   ]
  },
  {
   "cell_type": "code",
   "execution_count": 27,
   "id": "20143b96-1cf3-4ada-a269-4c2656d41fa5",
   "metadata": {},
   "outputs": [],
   "source": [
    "import seaborn as sns"
   ]
  },
  {
   "cell_type": "code",
   "execution_count": 28,
   "id": "790593dc-bc8b-4486-bb75-ad71d48a35b5",
   "metadata": {},
   "outputs": [
    {
     "data": {
      "text/plain": [
       "array([[  4.4544125,  -9.716947 ],\n",
       "       [-14.237558 ,  -3.1152115],\n",
       "       [ -8.639624 ,  14.570765 ],\n",
       "       ...,\n",
       "       [ -6.9502964,  19.703196 ],\n",
       "       [  2.601483 ,   2.0946198],\n",
       "       [  4.0687523,  22.777369 ]], dtype=float32)"
      ]
     },
     "execution_count": 28,
     "metadata": {},
     "output_type": "execute_result"
    }
   ],
   "source": [
    "pcomps"
   ]
  },
  {
   "cell_type": "code",
   "execution_count": 29,
   "id": "0e8d249a-5f9e-4dc5-b62e-030a7f41f772",
   "metadata": {},
   "outputs": [
    {
     "data": {
      "text/plain": [
       "<matplotlib.collections.PathCollection at 0x7f42c16796c0>"
      ]
     },
     "execution_count": 29,
     "metadata": {},
     "output_type": "execute_result"
    },
    {
     "data": {
      "image/png": "[encoded data removed]",
      "text/plain": [
       "<Figure size 640x480 with 1 Axes>"
      ]
     },
     "metadata": {},
     "output_type": "display_data"
    }
   ],
   "source": [
    "plt.scatter(pcomps[:, 0], pcomps[:, 1])"
   ]
  },
  {
   "cell_type": "code",
   "execution_count": null,
   "id": "6c0191d8-7a74-44cb-bea8-91f0ea227160",
   "metadata": {},
   "outputs": [],
   "source": [
    "compressed"
   ]
  },
  {
   "cell_type": "code",
   "execution_count": 32,
   "id": "3e31cd68-1fc2-427c-a1aa-b39dfeb70aad",
   "metadata": {},
   "outputs": [
    {
     "data": {
      "text/plain": [
       "(554, 4096)"
      ]
     },
     "execution_count": 32,
     "metadata": {},
     "output_type": "execute_result"
    }
   ],
   "source": [
    "embeddings.shape"
   ]
  },
  {
   "cell_type": "code",
   "execution_count": null,
   "id": "8bf09fb0-8b29-4252-bf89-6b8ce8706e12",
   "metadata": {},
   "outputs": [],
   "source": []
  },
  {
   "cell_type": "code",
   "execution_count": null,
   "id": "09234b47-3d99-4e93-96ee-bbacd64c8b42",
   "metadata": {},
   "outputs": [],
   "source": []
  }
 ],
 "metadata": {
  "kernelspec": {
   "display_name": "Python 3 (ipykernel)",
   "language": "python",
   "name": "python3"
  },
  "language_info": {
   "codemirror_mode": {
    "name": "ipython",
    "version": 3
   },
   "file_extension": ".py",
   "mimetype": "text/x-python",
   "name": "python",
   "nbconvert_exporter": "python",
   "pygments_lexer": "ipython3",
   "version": "3.10.13"
  }
 },
 "nbformat": 4,
 "nbformat_minor": 5
}
